{
 "cells": [
  {
   "cell_type": "code",
   "execution_count": 1,
   "id": "3607e21b",
   "metadata": {},
   "outputs": [],
   "source": [
    "from InstanceClass import *"
   ]
  },
  {
   "cell_type": "code",
   "execution_count": 2,
   "id": "21e86514",
   "metadata": {},
   "outputs": [],
   "source": [
    "import gurobipy as gp\n",
    "from gurobipy import GRB\n",
    "import numpy as np"
   ]
  },
  {
   "cell_type": "code",
   "execution_count": 3,
   "id": "4ebc2c42",
   "metadata": {},
   "outputs": [],
   "source": [
    "instance = Instance(path=\"toy_instance.json\")\n",
    "instance.build_instance()"
   ]
  },
  {
   "cell_type": "code",
   "execution_count": 4,
   "id": "6eeb8403",
   "metadata": {},
   "outputs": [
    {
     "data": {
      "text/plain": [
       "{'NP': 5,\n",
       " 'NC': 3,\n",
       " 'NA': 3,\n",
       " 'H': 5,\n",
       " 'GAIN': [20, 15, 15, 20, 10],\n",
       " 'PENALTIES': array([[0., 0., 0., 3., 6.],\n",
       "        [0., 0., 0., 3., 6.],\n",
       "        [0., 0., 0., 0., 3.],\n",
       "        [0., 0., 0., 3., 6.],\n",
       "        [0., 0., 0., 0., 0.]]),\n",
       " 'STAFF_QUALIFICATIONS': array([[1., 1., 1.],\n",
       "        [1., 1., 0.],\n",
       "        [0., 0., 1.]]),\n",
       " 'COST_PROJECT': array([[1., 1., 1.],\n",
       "        [1., 2., 0.],\n",
       "        [1., 0., 2.],\n",
       "        [0., 2., 1.],\n",
       "        [0., 0., 2.]]),\n",
       " 'CONGES': array([[0., 0., 0., 0., 0.],\n",
       "        [1., 0., 0., 0., 0.],\n",
       "        [0., 1., 0., 0., 0.]])}"
      ]
     },
     "execution_count": 4,
     "metadata": {},
     "output_type": "execute_result"
    }
   ],
   "source": [
    "instance.variables"
   ]
  },
  {
   "cell_type": "markdown",
   "id": "d023f624",
   "metadata": {},
   "source": [
    "creation of 𝐴 = {𝑎_{𝑖,𝑗,𝑘,l}} : la matrice des affections des collaborateurs de taille 𝑛𝑐 ∗ ℎ  ∗ 𝑛𝑝 ∗ 𝑛"
   ]
  },
  {
   "cell_type": "markdown",
   "id": "cf38fcd4",
   "metadata": {},
   "source": [
    "On en extrait une matrice 𝐴𝑝 = {𝑎𝑝𝑗,𝑘} indiquant si à l’instant j le projet vient d’être\n",
    "rendu \n"
   ]
  },
  {
   "cell_type": "code",
   "execution_count": 19,
   "id": "0bbdf4cf",
   "metadata": {},
   "outputs": [
    {
     "name": "stdout",
     "output_type": "stream",
     "text": [
      "Help on built-in function max_ in module gurobipy:\n",
      "\n",
      "max_(...)\n",
      "    Return expression for maximum\n",
      "\n"
     ]
    }
   ],
   "source": [
    "help(gp.max_)"
   ]
  },
  {
   "cell_type": "code",
   "execution_count": 20,
   "id": "55bab922",
   "metadata": {},
   "outputs": [
    {
     "name": "stdout",
     "output_type": "stream",
     "text": [
      "Help on built-in function min_ in module gurobipy:\n",
      "\n",
      "min_(...)\n",
      "    Return expression for minimum\n",
      "\n"
     ]
    }
   ],
   "source": [
    "help(gp.min_)"
   ]
  },
  {
   "cell_type": "code",
   "execution_count": 6,
   "id": "740d5012",
   "metadata": {},
   "outputs": [],
   "source": [
    "def solution_creation(variables):\n",
    "    shape=(variables[\"NC\"],variables[\"H\"],variables[\"NP\"],variables[\"NA\"])\n",
    "    return shape\n",
    "\n",
    "def calcul_work(Affectation):\n",
    "    rep = [np.sum([Affectation[i][j] for i in range(3)],axis=0) for j in range(np.shape(Affectation)[1])]\n",
    "    return np.array(rep)\n",
    "\n",
    "def calcul_temporel_work(work,horizon):\n",
    "    rep = [[gp.quicksum(work_project[0:(i+1)]) for i in range(horizon)] for work_project in work]\n",
    "    return np.array(rep)\n",
    "\n",
    "def calcul_work_final(work):\n",
    "    rep=gp.quicksum(work)  \n",
    "    return rep\n"
   ]
  },
  {
   "cell_type": "code",
   "execution_count": 25,
   "id": "1e6ca89e",
   "metadata": {},
   "outputs": [],
   "source": [
    "shape = solution_creation(instance.variables)\n",
    "COST_PROJECT = instance.variables[\"COST_PROJECT\"]\n",
    "STAFF_QUALIFICATIONS = instance.variables[\"STAFF_QUALIFICATIONS\"]\n",
    "CONGES = instance.variables[\"CONGES\"]\n",
    "I = instance.variables[\"NC\"]\n",
    "J = instance.variables[\"H\"]\n",
    "L = instance.variables[\"NP\"]\n",
    "K = instance.variables[\"NA\"]\n",
    "GAIN = instance.variables[\"GAIN\"]\n",
    "\n",
    "model = gp.Model(\"matrix1\")\n",
    "\n",
    "# Create variables\n",
    "Affectation = model.addMVar(shape=(I,J,L,K), vtype=GRB.BINARY, name=\"Affectation\")\n",
    "Done_Project = model.addMVar(shape=L, vtype=GRB.BINARY, name=\"Done_Project\")"
   ]
  },
  {
   "cell_type": "code",
   "execution_count": 30,
   "id": "551770e4",
   "metadata": {},
   "outputs": [
    {
     "data": {
      "text/plain": [
       "<MLinExpr (5, 3)>\n",
       "array([[ <gurobi.Var *Awaiting Model Update*> + <gurobi.Var *Awaiting Model Update*> + <gurobi.Var *Awaiting Model Update*> + <gurobi.Var *Awaiting Model Update*> + <gurobi.Var *Awaiting Model Update*>,\n",
       "         <gurobi.Var *Awaiting Model Update*> + <gurobi.Var *Awaiting Model Update*> + <gurobi.Var *Awaiting Model Update*> + <gurobi.Var *Awaiting Model Update*> + <gurobi.Var *Awaiting Model Update*>,\n",
       "         <gurobi.Var *Awaiting Model Update*> + <gurobi.Var *Awaiting Model Update*> + <gurobi.Var *Awaiting Model Update*> + <gurobi.Var *Awaiting Model Update*> + <gurobi.Var *Awaiting Model Update*>],\n",
       "       [ <gurobi.Var *Awaiting Model Update*> + <gurobi.Var *Awaiting Model Update*> + <gurobi.Var *Awaiting Model Update*> + <gurobi.Var *Awaiting Model Update*> + <gurobi.Var *Awaiting Model Update*>,\n",
       "         <gurobi.Var *Awaiting Model Update*> + <gurobi.Var *Awaiting Model Update*> + <gurobi.Var *Awaiting Model Update*> + <gurobi.Var *Awaiting Model Update*> + <gurobi.Var *Awaiting Model Update*>,\n",
       "         <gurobi.Var *Awaiting Model Update*> + <gurobi.Var *Awaiting Model Update*> + <gurobi.Var *Awaiting Model Update*> + <gurobi.Var *Awaiting Model Update*> + <gurobi.Var *Awaiting Model Update*>],\n",
       "       [ <gurobi.Var *Awaiting Model Update*> + <gurobi.Var *Awaiting Model Update*> + <gurobi.Var *Awaiting Model Update*> + <gurobi.Var *Awaiting Model Update*> + <gurobi.Var *Awaiting Model Update*>,\n",
       "         <gurobi.Var *Awaiting Model Update*> + <gurobi.Var *Awaiting Model Update*> + <gurobi.Var *Awaiting Model Update*> + <gurobi.Var *Awaiting Model Update*> + <gurobi.Var *Awaiting Model Update*>,\n",
       "         <gurobi.Var *Awaiting Model Update*> + <gurobi.Var *Awaiting Model Update*> + <gurobi.Var *Awaiting Model Update*> + <gurobi.Var *Awaiting Model Update*> + <gurobi.Var *Awaiting Model Update*>],\n",
       "       [ <gurobi.Var *Awaiting Model Update*> + <gurobi.Var *Awaiting Model Update*> + <gurobi.Var *Awaiting Model Update*> + <gurobi.Var *Awaiting Model Update*> + <gurobi.Var *Awaiting Model Update*>,\n",
       "         <gurobi.Var *Awaiting Model Update*> + <gurobi.Var *Awaiting Model Update*> + <gurobi.Var *Awaiting Model Update*> + <gurobi.Var *Awaiting Model Update*> + <gurobi.Var *Awaiting Model Update*>,\n",
       "         <gurobi.Var *Awaiting Model Update*> + <gurobi.Var *Awaiting Model Update*> + <gurobi.Var *Awaiting Model Update*> + <gurobi.Var *Awaiting Model Update*> + <gurobi.Var *Awaiting Model Update*>],\n",
       "       [ <gurobi.Var *Awaiting Model Update*> + <gurobi.Var *Awaiting Model Update*> + <gurobi.Var *Awaiting Model Update*> + <gurobi.Var *Awaiting Model Update*> + <gurobi.Var *Awaiting Model Update*>,\n",
       "         <gurobi.Var *Awaiting Model Update*> + <gurobi.Var *Awaiting Model Update*> + <gurobi.Var *Awaiting Model Update*> + <gurobi.Var *Awaiting Model Update*> + <gurobi.Var *Awaiting Model Update*>,\n",
       "         <gurobi.Var *Awaiting Model Update*> + <gurobi.Var *Awaiting Model Update*> + <gurobi.Var *Awaiting Model Update*> + <gurobi.Var *Awaiting Model Update*> + <gurobi.Var *Awaiting Model Update*>]])"
      ]
     },
     "execution_count": 30,
     "metadata": {},
     "output_type": "execute_result"
    }
   ],
   "source": [
    "Q1 = gp.quicksum(Affectation[0])\n",
    "Q1"
   ]
  },
  {
   "cell_type": "code",
   "execution_count": 110,
   "id": "427e44b6",
   "metadata": {},
   "outputs": [],
   "source": [
    "def nb_projet(coll):\n",
    "    q1 = [Affectation[coll][i][0][j] for i in range(5) for j in range(3)]\n",
    "    summun = gp.max_(q1)\n",
    "    for p in range(1,5):\n",
    "        q1 = [Affectation[coll][i][p][j] for i in range(5) for j in range(3)]\n",
    "        summun = summun + gp.max_(q1)\n",
    "    return summun"
   ]
  },
  {
   "cell_type": "code",
   "execution_count": 111,
   "id": "50246aa6",
   "metadata": {},
   "outputs": [],
   "source": [
    "q1 = [[Affectation[0][i][p][j] for i in range(5) for j in range(3)] for p in range(5)]\n",
    "summun = gp.max_(q1)"
   ]
  },
  {
   "cell_type": "code",
   "execution_count": 112,
   "id": "a4809d45",
   "metadata": {},
   "outputs": [
    {
     "data": {
      "text/plain": [
       "()"
      ]
     },
     "execution_count": 112,
     "metadata": {},
     "output_type": "execute_result"
    }
   ],
   "source": [
    "np.shape(summun)"
   ]
  },
  {
   "cell_type": "code",
   "execution_count": 104,
   "id": "e2cb4da8",
   "metadata": {},
   "outputs": [
    {
     "ename": "ValueError",
     "evalue": "matmul: Input operand 0 does not have enough dimensions (has 0, gufunc core with signature (n?,k),(k,m?)->(n?,m?) requires 1)",
     "output_type": "error",
     "traceback": [
      "\u001b[1;31m---------------------------------------------------------------------------\u001b[0m",
      "\u001b[1;31mValueError\u001b[0m                                Traceback (most recent call last)",
      "\u001b[1;32m<ipython-input-104-032e085edd24>\u001b[0m in \u001b[0;36m<module>\u001b[1;34m\u001b[0m\n\u001b[1;32m----> 1\u001b[1;33m \u001b[0msummun\u001b[0m \u001b[1;33m@\u001b[0m \u001b[0mnp\u001b[0m\u001b[1;33m.\u001b[0m\u001b[0marray\u001b[0m\u001b[1;33m(\u001b[0m\u001b[1;33m[\u001b[0m\u001b[1;36m1\u001b[0m\u001b[1;33m,\u001b[0m\u001b[1;36m1\u001b[0m\u001b[1;33m,\u001b[0m\u001b[1;36m1\u001b[0m\u001b[1;33m,\u001b[0m\u001b[1;36m1\u001b[0m\u001b[1;33m,\u001b[0m\u001b[1;36m1\u001b[0m\u001b[1;33m]\u001b[0m\u001b[1;33m)\u001b[0m\u001b[1;33m\u001b[0m\u001b[1;33m\u001b[0m\u001b[0m\n\u001b[0m\u001b[0;32m      2\u001b[0m \u001b[1;33m\u001b[0m\u001b[0m\n\u001b[0;32m      3\u001b[0m \u001b[1;33m\u001b[0m\u001b[0m\n",
      "\u001b[1;31mValueError\u001b[0m: matmul: Input operand 0 does not have enough dimensions (has 0, gufunc core with signature (n?,k),(k,m?)->(n?,m?) requires 1)"
     ]
    }
   ],
   "source": [
    "summun @ np.array([1,1,1,1,1])\n",
    "\n",
    "\n"
   ]
  },
  {
   "cell_type": "code",
   "execution_count": 93,
   "id": "ad71c649",
   "metadata": {},
   "outputs": [
    {
     "ename": "TypeError",
     "evalue": "__init__() takes exactly 3 positional arguments (2 given)",
     "output_type": "error",
     "traceback": [
      "\u001b[1;31m---------------------------------------------------------------------------\u001b[0m",
      "\u001b[1;31mTypeError\u001b[0m                                 Traceback (most recent call last)",
      "\u001b[1;32m<ipython-input-93-6cc415e75e84>\u001b[0m in \u001b[0;36m<module>\u001b[1;34m\u001b[0m\n\u001b[1;32m----> 1\u001b[1;33m \u001b[0mnb_projet\u001b[0m\u001b[1;33m(\u001b[0m\u001b[1;36m0\u001b[0m\u001b[1;33m)\u001b[0m\u001b[1;33m\u001b[0m\u001b[1;33m\u001b[0m\u001b[0m\n\u001b[0m",
      "\u001b[1;32m<ipython-input-92-228972123229>\u001b[0m in \u001b[0;36mnb_projet\u001b[1;34m(coll)\u001b[0m\n\u001b[0;32m      4\u001b[0m     \u001b[1;32mfor\u001b[0m \u001b[0mp\u001b[0m \u001b[1;32min\u001b[0m \u001b[0mrange\u001b[0m\u001b[1;33m(\u001b[0m\u001b[1;36m1\u001b[0m\u001b[1;33m,\u001b[0m\u001b[1;36m5\u001b[0m\u001b[1;33m)\u001b[0m\u001b[1;33m:\u001b[0m\u001b[1;33m\u001b[0m\u001b[1;33m\u001b[0m\u001b[0m\n\u001b[0;32m      5\u001b[0m         \u001b[0mq1\u001b[0m \u001b[1;33m=\u001b[0m \u001b[1;33m[\u001b[0m\u001b[0mAffectation\u001b[0m\u001b[1;33m[\u001b[0m\u001b[0mcoll\u001b[0m\u001b[1;33m]\u001b[0m\u001b[1;33m[\u001b[0m\u001b[0mi\u001b[0m\u001b[1;33m]\u001b[0m\u001b[1;33m[\u001b[0m\u001b[0mp\u001b[0m\u001b[1;33m]\u001b[0m\u001b[1;33m[\u001b[0m\u001b[0mj\u001b[0m\u001b[1;33m]\u001b[0m \u001b[1;32mfor\u001b[0m \u001b[0mi\u001b[0m \u001b[1;32min\u001b[0m \u001b[0mrange\u001b[0m\u001b[1;33m(\u001b[0m\u001b[1;36m5\u001b[0m\u001b[1;33m)\u001b[0m \u001b[1;32mfor\u001b[0m \u001b[0mj\u001b[0m \u001b[1;32min\u001b[0m \u001b[0mrange\u001b[0m\u001b[1;33m(\u001b[0m\u001b[1;36m3\u001b[0m\u001b[1;33m)\u001b[0m\u001b[1;33m]\u001b[0m\u001b[1;33m\u001b[0m\u001b[1;33m\u001b[0m\u001b[0m\n\u001b[1;32m----> 6\u001b[1;33m         \u001b[0msummun\u001b[0m \u001b[1;33m=\u001b[0m \u001b[0msummun\u001b[0m \u001b[1;33m+\u001b[0m \u001b[0mgp\u001b[0m\u001b[1;33m.\u001b[0m\u001b[0mVar\u001b[0m\u001b[1;33m(\u001b[0m\u001b[0mgp\u001b[0m\u001b[1;33m.\u001b[0m\u001b[0mmax_\u001b[0m\u001b[1;33m(\u001b[0m\u001b[0mq1\u001b[0m\u001b[1;33m)\u001b[0m\u001b[1;33m)\u001b[0m\u001b[1;33m\u001b[0m\u001b[1;33m\u001b[0m\u001b[0m\n\u001b[0m\u001b[0;32m      7\u001b[0m     \u001b[1;32mreturn\u001b[0m \u001b[0msummun\u001b[0m\u001b[1;33m\u001b[0m\u001b[1;33m\u001b[0m\u001b[0m\n",
      "\u001b[1;32msrc\\gurobipy\\var.pxi\u001b[0m in \u001b[0;36mgurobipy.Var.__init__\u001b[1;34m()\u001b[0m\n",
      "\u001b[1;31mTypeError\u001b[0m: __init__() takes exactly 3 positional arguments (2 given)"
     ]
    }
   ],
   "source": [
    "nb_projet(0)"
   ]
  },
  {
   "cell_type": "code",
   "execution_count": 87,
   "id": "72c1dbc8",
   "metadata": {},
   "outputs": [
    {
     "ename": "TypeError",
     "evalue": "unsupported operand type(s) for +=: 'gurobipy.LinExpr' and 'GenExprMax'",
     "output_type": "error",
     "traceback": [
      "\u001b[1;31m---------------------------------------------------------------------------\u001b[0m",
      "\u001b[1;31mTypeError\u001b[0m                                 Traceback (most recent call last)",
      "\u001b[1;32m<ipython-input-87-91bab3c854d5>\u001b[0m in \u001b[0;36m<module>\u001b[1;34m\u001b[0m\n\u001b[1;32m----> 1\u001b[1;33m \u001b[0mgp\u001b[0m\u001b[1;33m.\u001b[0m\u001b[0mquicksum\u001b[0m\u001b[1;33m(\u001b[0m\u001b[0mnb_projet\u001b[0m\u001b[1;33m(\u001b[0m\u001b[1;36m0\u001b[0m\u001b[1;33m)\u001b[0m\u001b[1;33m)\u001b[0m\u001b[1;33m\u001b[0m\u001b[1;33m\u001b[0m\u001b[0m\n\u001b[0m",
      "\u001b[1;32msrc\\gurobipy\\gurobi.pxi\u001b[0m in \u001b[0;36mgurobipy.quicksum\u001b[1;34m()\u001b[0m\n",
      "\u001b[1;31mTypeError\u001b[0m: unsupported operand type(s) for +=: 'gurobipy.LinExpr' and 'GenExprMax'"
     ]
    }
   ],
   "source": [
    "gp.quicksum(nb_projet(0))"
   ]
  },
  {
   "cell_type": "code",
   "execution_count": 61,
   "id": "e7a5e158",
   "metadata": {},
   "outputs": [],
   "source": [
    "q1 = [Affectation[0][i][0][j] for i in range(5) for j in range(3)]"
   ]
  },
  {
   "cell_type": "code",
   "execution_count": 60,
   "id": "70bffb7a",
   "metadata": {},
   "outputs": [
    {
     "data": {
      "text/plain": [
       "<gurobi.GenExprMax: ([<MVar ()>\n",
       "array(<gurobi.Var *Awaiting Model Update*>), <MVar ()>\n",
       "array(<gurobi.Var *Awaiting Model Update*>), <MVar ()>\n",
       "array(<gurobi.Var *Awaiting Model Update*>), <MVar ()>\n",
       "array(<gurobi.Var *Awaiting Model Update*>), <MVar ()>\n",
       "array(<gurobi.Var *Awaiting Model Update*>), <MVar ()>\n",
       "array(<gurobi.Var *Awaiting Model Update*>), <MVar ()>\n",
       "array(<gurobi.Var *Awaiting Model Update*>), <MVar ()>\n",
       "array(<gurobi.Var *Awaiting Model Update*>), <MVar ()>\n",
       "array(<gurobi.Var *Awaiting Model Update*>), <MVar ()>\n",
       "array(<gurobi.Var *Awaiting Model Update*>), <MVar ()>\n",
       "array(<gurobi.Var *Awaiting Model Update*>), <MVar ()>\n",
       "array(<gurobi.Var *Awaiting Model Update*>), <MVar ()>\n",
       "array(<gurobi.Var *Awaiting Model Update*>), <MVar ()>\n",
       "array(<gurobi.Var *Awaiting Model Update*>), <MVar ()>\n",
       "array(<gurobi.Var *Awaiting Model Update*>)]), constant=None>"
      ]
     },
     "execution_count": 60,
     "metadata": {},
     "output_type": "execute_result"
    }
   ],
   "source": [
    "gp.max_(q1)"
   ]
  },
  {
   "cell_type": "code",
   "execution_count": 55,
   "id": "f11671c6",
   "metadata": {},
   "outputs": [
    {
     "ename": "AttributeError",
     "evalue": "'GenExprMax' object has no attribute 'item'",
     "output_type": "error",
     "traceback": [
      "\u001b[1;31m---------------------------------------------------------------------------\u001b[0m",
      "\u001b[1;31mAttributeError\u001b[0m                            Traceback (most recent call last)",
      "\u001b[1;32m<ipython-input-55-463d01a5c68d>\u001b[0m in \u001b[0;36m<module>\u001b[1;34m\u001b[0m\n\u001b[0;32m      1\u001b[0m \u001b[0mQ2\u001b[0m \u001b[1;33m=\u001b[0m \u001b[1;33m[\u001b[0m\u001b[0mgp\u001b[0m\u001b[1;33m.\u001b[0m\u001b[0mquicksum\u001b[0m\u001b[1;33m(\u001b[0m\u001b[0mq\u001b[0m\u001b[1;33m)\u001b[0m \u001b[1;32mfor\u001b[0m \u001b[0mq\u001b[0m \u001b[1;32min\u001b[0m \u001b[0mQ1\u001b[0m\u001b[1;33m]\u001b[0m\u001b[1;33m\u001b[0m\u001b[1;33m\u001b[0m\u001b[0m\n\u001b[1;32m----> 2\u001b[1;33m \u001b[0mQ2\u001b[0m \u001b[1;33m=\u001b[0m \u001b[1;33m[\u001b[0m\u001b[0mq\u001b[0m\u001b[1;33m/\u001b[0m\u001b[0mmax\u001b[0m\u001b[1;33m(\u001b[0m\u001b[0mgp\u001b[0m\u001b[1;33m.\u001b[0m\u001b[0mmax_\u001b[0m\u001b[1;33m(\u001b[0m\u001b[0mQ2\u001b[0m\u001b[1;33m)\u001b[0m\u001b[1;33m.\u001b[0m\u001b[0mitem\u001b[0m\u001b[1;33m(\u001b[0m\u001b[1;33m)\u001b[0m\u001b[1;33m,\u001b[0m\u001b[1;36m1\u001b[0m\u001b[1;33m)\u001b[0m \u001b[1;32mfor\u001b[0m \u001b[0mq\u001b[0m \u001b[1;32min\u001b[0m \u001b[0mQ2\u001b[0m\u001b[1;33m]\u001b[0m\u001b[1;33m\u001b[0m\u001b[1;33m\u001b[0m\u001b[0m\n\u001b[0m",
      "\u001b[1;32m<ipython-input-55-463d01a5c68d>\u001b[0m in \u001b[0;36m<listcomp>\u001b[1;34m(.0)\u001b[0m\n\u001b[0;32m      1\u001b[0m \u001b[0mQ2\u001b[0m \u001b[1;33m=\u001b[0m \u001b[1;33m[\u001b[0m\u001b[0mgp\u001b[0m\u001b[1;33m.\u001b[0m\u001b[0mquicksum\u001b[0m\u001b[1;33m(\u001b[0m\u001b[0mq\u001b[0m\u001b[1;33m)\u001b[0m \u001b[1;32mfor\u001b[0m \u001b[0mq\u001b[0m \u001b[1;32min\u001b[0m \u001b[0mQ1\u001b[0m\u001b[1;33m]\u001b[0m\u001b[1;33m\u001b[0m\u001b[1;33m\u001b[0m\u001b[0m\n\u001b[1;32m----> 2\u001b[1;33m \u001b[0mQ2\u001b[0m \u001b[1;33m=\u001b[0m \u001b[1;33m[\u001b[0m\u001b[0mq\u001b[0m\u001b[1;33m/\u001b[0m\u001b[0mmax\u001b[0m\u001b[1;33m(\u001b[0m\u001b[0mgp\u001b[0m\u001b[1;33m.\u001b[0m\u001b[0mmax_\u001b[0m\u001b[1;33m(\u001b[0m\u001b[0mQ2\u001b[0m\u001b[1;33m)\u001b[0m\u001b[1;33m.\u001b[0m\u001b[0mitem\u001b[0m\u001b[1;33m(\u001b[0m\u001b[1;33m)\u001b[0m\u001b[1;33m,\u001b[0m\u001b[1;36m1\u001b[0m\u001b[1;33m)\u001b[0m \u001b[1;32mfor\u001b[0m \u001b[0mq\u001b[0m \u001b[1;32min\u001b[0m \u001b[0mQ2\u001b[0m\u001b[1;33m]\u001b[0m\u001b[1;33m\u001b[0m\u001b[1;33m\u001b[0m\u001b[0m\n\u001b[0m",
      "\u001b[1;31mAttributeError\u001b[0m: 'GenExprMax' object has no attribute 'item'"
     ]
    }
   ],
   "source": [
    "Q2 = [gp.quicksum(q) for q in Q1]\n",
    "Q2 = [q/max(gp.max_(Q2).item(),1) for q in Q2]\n"
   ]
  },
  {
   "cell_type": "code",
   "execution_count": 21,
   "id": "cafe2eb1",
   "metadata": {},
   "outputs": [
    {
     "name": "stdout",
     "output_type": "stream",
     "text": [
      "Gurobi Optimizer version 10.0.0 build v10.0.0rc2 (win64)\n",
      "\n",
      "CPU model: Intel(R) Core(TM) i7-8550U CPU @ 1.80GHz, instruction set [SSE2|AVX|AVX2]\n",
      "Thread count: 4 physical cores, 8 logical processors, using up to 8 threads\n",
      "\n",
      "Optimize a model with 395 rows, 230 columns and 2715 nonzeros\n",
      "Model fingerprint: 0x8e5e7eaf\n",
      "Variable types: 0 continuous, 230 integer (230 binary)\n",
      "Coefficient statistics:\n",
      "  Matrix range     [1e+00, 2e+00]\n",
      "  Objective range  [1e+01, 2e+01]\n",
      "  Bounds range     [1e+00, 1e+00]\n",
      "  RHS range        [1e+00, 1e+00]\n",
      "Found heuristic solution: objective -0.0000000\n",
      "Presolve removed 372 rows and 135 columns\n",
      "Presolve time: 0.01s\n",
      "Presolved: 23 rows, 95 columns, 190 nonzeros\n",
      "Variable types: 0 continuous, 95 integer (95 binary)\n",
      "\n",
      "Root relaxation: objective 7.500000e+01, 40 iterations, 0.00 seconds (0.00 work units)\n",
      "\n",
      "    Nodes    |    Current Node    |     Objective Bounds      |     Work\n",
      " Expl Unexpl |  Obj  Depth IntInf | Incumbent    BestBd   Gap | It/Node Time\n",
      "\n",
      "     0     0   75.00000    0    1   -0.00000   75.00000      -     -    0s\n",
      "H    0     0                      70.0000000   75.00000  7.14%     -    0s\n",
      "     0     0   75.00000    0    1   70.00000   75.00000  7.14%     -    0s\n",
      "\n",
      "Explored 1 nodes (40 simplex iterations) in 0.10 seconds (0.00 work units)\n",
      "Thread count was 8 (of 8 available processors)\n",
      "\n",
      "Solution count 2: 70 -0 \n",
      "\n",
      "Optimal solution found (tolerance 1.00e-04)\n",
      "Best objective 7.000000000000e+01, best bound 7.000000000000e+01, gap 0.0000%\n"
     ]
    }
   ],
   "source": [
    "\n",
    "\n",
    "final_work = calcul_work_final(calcul_work(Affectation))\n",
    "temp_work = calcul_temporel_work(calcul_work(Affectation),instance.variables[\"H\"])\n",
    "\n",
    "model.setObjective(Done_Project @ np.transpose(GAIN), GRB.MAXIMIZE)\n",
    "\n",
    "model.addConstrs((Affectation[i,j,l,k] <= STAFF_QUALIFICATIONS[i,k] for i in range(I) for j in range(J) for l in range(L) for k in range(K)), name=\"Qualifications_Constraint\")\n",
    "model.addConstrs((gp.quicksum(Affectation[i][j] @ np.transpose(np.array([1,1,1]))) <= 1 for i in range(I) for j in range(J) for l in range(L)), name=\"Quantity_worked_Constraint\") \n",
    "model.addConstrs((gp.quicksum(Affectation[i][j] @ np.transpose(np.array([1,1,1]))) <= 1-CONGES[i][j] for i in range(I) for j in range(J) for l in range(L)), name=\"Day_off_Constraint\") \n",
    "\n",
    "model.addConstrs((final_work[i] >= COST_PROJECT[i]*Done_Project[i] for i in range(L)), name=\"Done\") \n",
    "model.addConstrs((Done_Project[i] <= 1 for i in range(L)), name=\"Only_Done_One_Time\") \n",
    "\n",
    "model.optimize()"
   ]
  },
  {
   "cell_type": "code",
   "execution_count": 22,
   "id": "1f49f6c7",
   "metadata": {},
   "outputs": [
    {
     "data": {
      "text/plain": [
       "<MLinExpr (5, 3)>\n",
       "array([[ Affectation[0,0,0,0] + Affectation[1,0,0,0] + Affectation[2,0,0,0] + Affectation[0,1,0,0] + Affectation[1,1,0,0] + Affectation[2,1,0,0] + Affectation[0,2,0,0] + Affectation[1,2,0,0] + Affectation[2,2,0,0] + Affectation[0,3,0,0] + Affectation[1,3,0,0] + Affectation[2,3,0,0] + Affectation[0,4,0,0] + Affectation[1,4,0,0] + Affectation[2,4,0,0],\n",
       "         Affectation[0,0,0,1] + Affectation[1,0,0,1] + Affectation[2,0,0,1] + Affectation[0,1,0,1] + Affectation[1,1,0,1] + Affectation[2,1,0,1] + Affectation[0,2,0,1] + Affectation[1,2,0,1] + Affectation[2,2,0,1] + Affectation[0,3,0,1] + Affectation[1,3,0,1] + Affectation[2,3,0,1] + Affectation[0,4,0,1] + Affectation[1,4,0,1] + Affectation[2,4,0,1],\n",
       "         Affectation[0,0,0,2] + Affectation[1,0,0,2] + Affectation[2,0,0,2] + Affectation[0,1,0,2] + Affectation[1,1,0,2] + Affectation[2,1,0,2] + Affectation[0,2,0,2] + Affectation[1,2,0,2] + Affectation[2,2,0,2] + Affectation[0,3,0,2] + Affectation[1,3,0,2] + Affectation[2,3,0,2] + Affectation[0,4,0,2] + Affectation[1,4,0,2] + Affectation[2,4,0,2]],\n",
       "       [ Affectation[0,0,1,0] + Affectation[1,0,1,0] + Affectation[2,0,1,0] + Affectation[0,1,1,0] + Affectation[1,1,1,0] + Affectation[2,1,1,0] + Affectation[0,2,1,0] + Affectation[1,2,1,0] + Affectation[2,2,1,0] + Affectation[0,3,1,0] + Affectation[1,3,1,0] + Affectation[2,3,1,0] + Affectation[0,4,1,0] + Affectation[1,4,1,0] + Affectation[2,4,1,0],\n",
       "         Affectation[0,0,1,1] + Affectation[1,0,1,1] + Affectation[2,0,1,1] + Affectation[0,1,1,1] + Affectation[1,1,1,1] + Affectation[2,1,1,1] + Affectation[0,2,1,1] + Affectation[1,2,1,1] + Affectation[2,2,1,1] + Affectation[0,3,1,1] + Affectation[1,3,1,1] + Affectation[2,3,1,1] + Affectation[0,4,1,1] + Affectation[1,4,1,1] + Affectation[2,4,1,1],\n",
       "         Affectation[0,0,1,2] + Affectation[1,0,1,2] + Affectation[2,0,1,2] + Affectation[0,1,1,2] + Affectation[1,1,1,2] + Affectation[2,1,1,2] + Affectation[0,2,1,2] + Affectation[1,2,1,2] + Affectation[2,2,1,2] + Affectation[0,3,1,2] + Affectation[1,3,1,2] + Affectation[2,3,1,2] + Affectation[0,4,1,2] + Affectation[1,4,1,2] + Affectation[2,4,1,2]],\n",
       "       [ Affectation[0,0,2,0] + Affectation[1,0,2,0] + Affectation[2,0,2,0] + Affectation[0,1,2,0] + Affectation[1,1,2,0] + Affectation[2,1,2,0] + Affectation[0,2,2,0] + Affectation[1,2,2,0] + Affectation[2,2,2,0] + Affectation[0,3,2,0] + Affectation[1,3,2,0] + Affectation[2,3,2,0] + Affectation[0,4,2,0] + Affectation[1,4,2,0] + Affectation[2,4,2,0],\n",
       "         Affectation[0,0,2,1] + Affectation[1,0,2,1] + Affectation[2,0,2,1] + Affectation[0,1,2,1] + Affectation[1,1,2,1] + Affectation[2,1,2,1] + Affectation[0,2,2,1] + Affectation[1,2,2,1] + Affectation[2,2,2,1] + Affectation[0,3,2,1] + Affectation[1,3,2,1] + Affectation[2,3,2,1] + Affectation[0,4,2,1] + Affectation[1,4,2,1] + Affectation[2,4,2,1],\n",
       "         Affectation[0,0,2,2] + Affectation[1,0,2,2] + Affectation[2,0,2,2] + Affectation[0,1,2,2] + Affectation[1,1,2,2] + Affectation[2,1,2,2] + Affectation[0,2,2,2] + Affectation[1,2,2,2] + Affectation[2,2,2,2] + Affectation[0,3,2,2] + Affectation[1,3,2,2] + Affectation[2,3,2,2] + Affectation[0,4,2,2] + Affectation[1,4,2,2] + Affectation[2,4,2,2]],\n",
       "       [ Affectation[0,0,3,0] + Affectation[1,0,3,0] + Affectation[2,0,3,0] + Affectation[0,1,3,0] + Affectation[1,1,3,0] + Affectation[2,1,3,0] + Affectation[0,2,3,0] + Affectation[1,2,3,0] + Affectation[2,2,3,0] + Affectation[0,3,3,0] + Affectation[1,3,3,0] + Affectation[2,3,3,0] + Affectation[0,4,3,0] + Affectation[1,4,3,0] + Affectation[2,4,3,0],\n",
       "         Affectation[0,0,3,1] + Affectation[1,0,3,1] + Affectation[2,0,3,1] + Affectation[0,1,3,1] + Affectation[1,1,3,1] + Affectation[2,1,3,1] + Affectation[0,2,3,1] + Affectation[1,2,3,1] + Affectation[2,2,3,1] + Affectation[0,3,3,1] + Affectation[1,3,3,1] + Affectation[2,3,3,1] + Affectation[0,4,3,1] + Affectation[1,4,3,1] + Affectation[2,4,3,1],\n",
       "         Affectation[0,0,3,2] + Affectation[1,0,3,2] + Affectation[2,0,3,2] + Affectation[0,1,3,2] + Affectation[1,1,3,2] + Affectation[2,1,3,2] + Affectation[0,2,3,2] + Affectation[1,2,3,2] + Affectation[2,2,3,2] + Affectation[0,3,3,2] + Affectation[1,3,3,2] + Affectation[2,3,3,2] + Affectation[0,4,3,2] + Affectation[1,4,3,2] + Affectation[2,4,3,2]],\n",
       "       [ Affectation[0,0,4,0] + Affectation[1,0,4,0] + Affectation[2,0,4,0] + Affectation[0,1,4,0] + Affectation[1,1,4,0] + Affectation[2,1,4,0] + Affectation[0,2,4,0] + Affectation[1,2,4,0] + Affectation[2,2,4,0] + Affectation[0,3,4,0] + Affectation[1,3,4,0] + Affectation[2,3,4,0] + Affectation[0,4,4,0] + Affectation[1,4,4,0] + Affectation[2,4,4,0],\n",
       "         Affectation[0,0,4,1] + Affectation[1,0,4,1] + Affectation[2,0,4,1] + Affectation[0,1,4,1] + Affectation[1,1,4,1] + Affectation[2,1,4,1] + Affectation[0,2,4,1] + Affectation[1,2,4,1] + Affectation[2,2,4,1] + Affectation[0,3,4,1] + Affectation[1,3,4,1] + Affectation[2,3,4,1] + Affectation[0,4,4,1] + Affectation[1,4,4,1] + Affectation[2,4,4,1],\n",
       "         Affectation[0,0,4,2] + Affectation[1,0,4,2] + Affectation[2,0,4,2] + Affectation[0,1,4,2] + Affectation[1,1,4,2] + Affectation[2,1,4,2] + Affectation[0,2,4,2] + Affectation[1,2,4,2] + Affectation[2,2,4,2] + Affectation[0,3,4,2] + Affectation[1,3,4,2] + Affectation[2,3,4,2] + Affectation[0,4,4,2] + Affectation[1,4,4,2] + Affectation[2,4,4,2]]])"
      ]
     },
     "execution_count": 22,
     "metadata": {},
     "output_type": "execute_result"
    }
   ],
   "source": [
    "final_work"
   ]
  },
  {
   "cell_type": "code",
   "execution_count": 24,
   "id": "4fce1810",
   "metadata": {},
   "outputs": [
    {
     "data": {
      "text/plain": [
       "array([<MLinExpr (3,)>\n",
       "       array([ Affectation[0,0,0,0] + Affectation[1,0,0,0] + Affectation[2,0,0,0],\n",
       "               Affectation[0,0,0,1] + Affectation[1,0,0,1] + Affectation[2,0,0,1],\n",
       "               Affectation[0,0,0,2] + Affectation[1,0,0,2] + Affectation[2,0,0,2]]),\n",
       "       <MLinExpr (3,)>\n",
       "       array([ Affectation[0,0,0,0] + Affectation[1,0,0,0] + Affectation[2,0,0,0] + Affectation[0,0,1,0] + Affectation[1,0,1,0] + Affectation[2,0,1,0],\n",
       "               Affectation[0,0,0,1] + Affectation[1,0,0,1] + Affectation[2,0,0,1] + Affectation[0,0,1,1] + Affectation[1,0,1,1] + Affectation[2,0,1,1],\n",
       "               Affectation[0,0,0,2] + Affectation[1,0,0,2] + Affectation[2,0,0,2] + Affectation[0,0,1,2] + Affectation[1,0,1,2] + Affectation[2,0,1,2]]),\n",
       "       <MLinExpr (3,)>\n",
       "       array([ Affectation[0,0,0,0] + Affectation[1,0,0,0] + Affectation[2,0,0,0] + Affectation[0,0,1,0] + Affectation[1,0,1,0] + Affectation[2,0,1,0] + Affectation[0,0,2,0] + Affectation[1,0,2,0] + Affectation[2,0,2,0],\n",
       "               Affectation[0,0,0,1] + Affectation[1,0,0,1] + Affectation[2,0,0,1] + Affectation[0,0,1,1] + Affectation[1,0,1,1] + Affectation[2,0,1,1] + Affectation[0,0,2,1] + Affectation[1,0,2,1] + Affectation[2,0,2,1],\n",
       "               Affectation[0,0,0,2] + Affectation[1,0,0,2] + Affectation[2,0,0,2] + Affectation[0,0,1,2] + Affectation[1,0,1,2] + Affectation[2,0,1,2] + Affectation[0,0,2,2] + Affectation[1,0,2,2] + Affectation[2,0,2,2]]),\n",
       "       <MLinExpr (3,)>\n",
       "       array([ Affectation[0,0,0,0] + Affectation[1,0,0,0] + Affectation[2,0,0,0] + Affectation[0,0,1,0] + Affectation[1,0,1,0] + Affectation[2,0,1,0] + Affectation[0,0,2,0] + Affectation[1,0,2,0] + Affectation[2,0,2,0] + Affectation[0,0,3,0] + Affectation[1,0,3,0] + Affectation[2,0,3,0],\n",
       "               Affectation[0,0,0,1] + Affectation[1,0,0,1] + Affectation[2,0,0,1] + Affectation[0,0,1,1] + Affectation[1,0,1,1] + Affectation[2,0,1,1] + Affectation[0,0,2,1] + Affectation[1,0,2,1] + Affectation[2,0,2,1] + Affectation[0,0,3,1] + Affectation[1,0,3,1] + Affectation[2,0,3,1],\n",
       "               Affectation[0,0,0,2] + Affectation[1,0,0,2] + Affectation[2,0,0,2] + Affectation[0,0,1,2] + Affectation[1,0,1,2] + Affectation[2,0,1,2] + Affectation[0,0,2,2] + Affectation[1,0,2,2] + Affectation[2,0,2,2] + Affectation[0,0,3,2] + Affectation[1,0,3,2] + Affectation[2,0,3,2]]),\n",
       "       <MLinExpr (3,)>\n",
       "       array([ Affectation[0,0,0,0] + Affectation[1,0,0,0] + Affectation[2,0,0,0] + Affectation[0,0,1,0] + Affectation[1,0,1,0] + Affectation[2,0,1,0] + Affectation[0,0,2,0] + Affectation[1,0,2,0] + Affectation[2,0,2,0] + Affectation[0,0,3,0] + Affectation[1,0,3,0] + Affectation[2,0,3,0] + Affectation[0,0,4,0] + Affectation[1,0,4,0] + Affectation[2,0,4,0],\n",
       "               Affectation[0,0,0,1] + Affectation[1,0,0,1] + Affectation[2,0,0,1] + Affectation[0,0,1,1] + Affectation[1,0,1,1] + Affectation[2,0,1,1] + Affectation[0,0,2,1] + Affectation[1,0,2,1] + Affectation[2,0,2,1] + Affectation[0,0,3,1] + Affectation[1,0,3,1] + Affectation[2,0,3,1] + Affectation[0,0,4,1] + Affectation[1,0,4,1] + Affectation[2,0,4,1],\n",
       "               Affectation[0,0,0,2] + Affectation[1,0,0,2] + Affectation[2,0,0,2] + Affectation[0,0,1,2] + Affectation[1,0,1,2] + Affectation[2,0,1,2] + Affectation[0,0,2,2] + Affectation[1,0,2,2] + Affectation[2,0,2,2] + Affectation[0,0,3,2] + Affectation[1,0,3,2] + Affectation[2,0,3,2] + Affectation[0,0,4,2] + Affectation[1,0,4,2] + Affectation[2,0,4,2]])],\n",
       "      dtype=object)"
      ]
     },
     "execution_count": 24,
     "metadata": {},
     "output_type": "execute_result"
    }
   ],
   "source": [
    "temp_work[0]"
   ]
  },
  {
   "cell_type": "code",
   "execution_count": 8,
   "id": "46a7e4bd",
   "metadata": {},
   "outputs": [
    {
     "data": {
      "text/plain": [
       "<MLinExpr ()>\n",
       "array( Affectation[0,0,0,0] + Affectation[0,0,0,1] + Affectation[0,0,0,2] + Affectation[0,0,1,0] + Affectation[0,0,1,1] + Affectation[0,0,1,2] + Affectation[0,0,2,0] + Affectation[0,0,2,1] + Affectation[0,0,2,2] + Affectation[0,0,3,0] + Affectation[0,0,3,1] + Affectation[0,0,3,2] + Affectation[0,0,4,0] + Affectation[0,0,4,1] + Affectation[0,0,4,2])"
      ]
     },
     "execution_count": 8,
     "metadata": {},
     "output_type": "execute_result"
    }
   ],
   "source": [
    "gp.quicksum(Affectation[0][0] @ np.transpose(np.array([1,1,1])))"
   ]
  },
  {
   "cell_type": "code",
   "execution_count": 9,
   "id": "4946baf6",
   "metadata": {},
   "outputs": [
    {
     "data": {
      "text/plain": [
       "<MVar (5, 3)>\n",
       "array([[<gurobi.Var Affectation[0,0,0,0] (value -0.0)>,\n",
       "        <gurobi.Var Affectation[0,0,0,1] (value -0.0)>,\n",
       "        <gurobi.Var Affectation[0,0,0,2] (value -0.0)>],\n",
       "       [<gurobi.Var Affectation[0,0,1,0] (value -0.0)>,\n",
       "        <gurobi.Var Affectation[0,0,1,1] (value -0.0)>,\n",
       "        <gurobi.Var Affectation[0,0,1,2] (value 0.0)>],\n",
       "       [<gurobi.Var Affectation[0,0,2,0] (value -0.0)>,\n",
       "        <gurobi.Var Affectation[0,0,2,1] (value 0.0)>,\n",
       "        <gurobi.Var Affectation[0,0,2,2] (value 0.0)>],\n",
       "       [<gurobi.Var Affectation[0,0,3,0] (value 0.0)>,\n",
       "        <gurobi.Var Affectation[0,0,3,1] (value 1.0)>,\n",
       "        <gurobi.Var Affectation[0,0,3,2] (value -0.0)>],\n",
       "       [<gurobi.Var Affectation[0,0,4,0] (value 0.0)>,\n",
       "        <gurobi.Var Affectation[0,0,4,1] (value 0.0)>,\n",
       "        <gurobi.Var Affectation[0,0,4,2] (value -0.0)>]])"
      ]
     },
     "execution_count": 9,
     "metadata": {},
     "output_type": "execute_result"
    }
   ],
   "source": [
    "Affectation[0][0]"
   ]
  },
  {
   "cell_type": "code",
   "execution_count": 10,
   "id": "f44e33f5",
   "metadata": {},
   "outputs": [],
   "source": [
    "i = 2"
   ]
  },
  {
   "cell_type": "code",
   "execution_count": 11,
   "id": "3e468faa",
   "metadata": {},
   "outputs": [
    {
     "data": {
      "text/plain": [
       "<MLinExpr (3,)  >\n",
       "array([ Done_Project[2],  0.0 Done_Project[2],  2.0 Done_Project[2]])"
      ]
     },
     "execution_count": 11,
     "metadata": {},
     "output_type": "execute_result"
    }
   ],
   "source": [
    "COST_PROJECT[i]*Done_Project[i]"
   ]
  },
  {
   "cell_type": "code",
   "execution_count": 12,
   "id": "ddc5f761",
   "metadata": {},
   "outputs": [
    {
     "data": {
      "text/plain": [
       "<MLinExpr (3,)  >\n",
       "array([ Done_Project[2],  0.0 Done_Project[2],  2.0 Done_Project[2]])"
      ]
     },
     "execution_count": 12,
     "metadata": {},
     "output_type": "execute_result"
    }
   ],
   "source": [
    "COST_PROJECT[i]*Done_Project[i]"
   ]
  },
  {
   "cell_type": "code",
   "execution_count": 13,
   "id": "d6a8e997",
   "metadata": {},
   "outputs": [
    {
     "name": "stdout",
     "output_type": "stream",
     "text": [
      "Gurobi Optimizer version 10.0.0 build v10.0.0rc2 (win64)\n",
      "\n",
      "CPU model: Intel(R) Core(TM) i7-8550U CPU @ 1.80GHz, instruction set [SSE2|AVX|AVX2]\n",
      "Thread count: 4 physical cores, 8 logical processors, using up to 8 threads\n",
      "\n",
      "Optimize a model with 395 rows, 230 columns and 2715 nonzeros\n",
      "Model fingerprint: 0x8e5e7eaf\n",
      "Variable types: 0 continuous, 230 integer (230 binary)\n",
      "Coefficient statistics:\n",
      "  Matrix range     [1e+00, 2e+00]\n",
      "  Objective range  [1e+01, 2e+01]\n",
      "  Bounds range     [1e+00, 1e+00]\n",
      "  RHS range        [1e+00, 1e+00]\n",
      "Presolved: 23 rows, 95 columns, 190 nonzeros\n",
      "\n",
      "Continuing optimization...\n",
      "\n",
      "\n",
      "Explored 1 nodes (40 simplex iterations) in 0.03 seconds (0.00 work units)\n",
      "Thread count was 8 (of 8 available processors)\n",
      "\n",
      "Solution count 2: 70 -0 \n",
      "\n",
      "Optimal solution found (tolerance 1.00e-04)\n",
      "Best objective 7.000000000000e+01, best bound 7.000000000000e+01, gap 0.0000%\n"
     ]
    }
   ],
   "source": [
    "model.optimize()"
   ]
  },
  {
   "cell_type": "code",
   "execution_count": 14,
   "id": "b1b8a661",
   "metadata": {},
   "outputs": [
    {
     "data": {
      "text/plain": [
       "<MVar (5, 5, 3)>\n",
       "array([[[<gurobi.Var Affectation[1,0,0,0] (value 0.0)>,\n",
       "         <gurobi.Var Affectation[1,0,0,1] (value 0.0)>,\n",
       "         <gurobi.Var Affectation[1,0,0,2] (value 0.0)>],\n",
       "        [<gurobi.Var Affectation[1,0,1,0] (value 0.0)>,\n",
       "         <gurobi.Var Affectation[1,0,1,1] (value 0.0)>,\n",
       "         <gurobi.Var Affectation[1,0,1,2] (value 0.0)>],\n",
       "        [<gurobi.Var Affectation[1,0,2,0] (value 0.0)>,\n",
       "         <gurobi.Var Affectation[1,0,2,1] (value 0.0)>,\n",
       "         <gurobi.Var Affectation[1,0,2,2] (value 0.0)>],\n",
       "        [<gurobi.Var Affectation[1,0,3,0] (value 0.0)>,\n",
       "         <gurobi.Var Affectation[1,0,3,1] (value 0.0)>,\n",
       "         <gurobi.Var Affectation[1,0,3,2] (value 0.0)>],\n",
       "        [<gurobi.Var Affectation[1,0,4,0] (value 0.0)>,\n",
       "         <gurobi.Var Affectation[1,0,4,1] (value 0.0)>,\n",
       "         <gurobi.Var Affectation[1,0,4,2] (value 0.0)>]],\n",
       "\n",
       "       [[<gurobi.Var Affectation[1,1,0,0] (value -0.0)>,\n",
       "         <gurobi.Var Affectation[1,1,0,1] (value 1.0)>,\n",
       "         <gurobi.Var Affectation[1,1,0,2] (value 0.0)>],\n",
       "        [<gurobi.Var Affectation[1,1,1,0] (value -0.0)>,\n",
       "         <gurobi.Var Affectation[1,1,1,1] (value -0.0)>,\n",
       "         <gurobi.Var Affectation[1,1,1,2] (value 0.0)>],\n",
       "        [<gurobi.Var Affectation[1,1,2,0] (value 0.0)>,\n",
       "         <gurobi.Var Affectation[1,1,2,1] (value 0.0)>,\n",
       "         <gurobi.Var Affectation[1,1,2,2] (value 0.0)>],\n",
       "        [<gurobi.Var Affectation[1,1,3,0] (value 0.0)>,\n",
       "         <gurobi.Var Affectation[1,1,3,1] (value -0.0)>,\n",
       "         <gurobi.Var Affectation[1,1,3,2] (value 0.0)>],\n",
       "        [<gurobi.Var Affectation[1,1,4,0] (value 0.0)>,\n",
       "         <gurobi.Var Affectation[1,1,4,1] (value 0.0)>,\n",
       "         <gurobi.Var Affectation[1,1,4,2] (value 0.0)>]],\n",
       "\n",
       "       [[<gurobi.Var Affectation[1,2,0,0] (value 0.0)>,\n",
       "         <gurobi.Var Affectation[1,2,0,1] (value -0.0)>,\n",
       "         <gurobi.Var Affectation[1,2,0,2] (value 0.0)>],\n",
       "        [<gurobi.Var Affectation[1,2,1,0] (value 1.0)>,\n",
       "         <gurobi.Var Affectation[1,2,1,1] (value -0.0)>,\n",
       "         <gurobi.Var Affectation[1,2,1,2] (value 0.0)>],\n",
       "        [<gurobi.Var Affectation[1,2,2,0] (value -0.0)>,\n",
       "         <gurobi.Var Affectation[1,2,2,1] (value 0.0)>,\n",
       "         <gurobi.Var Affectation[1,2,2,2] (value 0.0)>],\n",
       "        [<gurobi.Var Affectation[1,2,3,0] (value 0.0)>,\n",
       "         <gurobi.Var Affectation[1,2,3,1] (value -0.0)>,\n",
       "         <gurobi.Var Affectation[1,2,3,2] (value 0.0)>],\n",
       "        [<gurobi.Var Affectation[1,2,4,0] (value 0.0)>,\n",
       "         <gurobi.Var Affectation[1,2,4,1] (value 0.0)>,\n",
       "         <gurobi.Var Affectation[1,2,4,2] (value 0.0)>]],\n",
       "\n",
       "       [[<gurobi.Var Affectation[1,3,0,0] (value 1.0)>,\n",
       "         <gurobi.Var Affectation[1,3,0,1] (value -0.0)>,\n",
       "         <gurobi.Var Affectation[1,3,0,2] (value 0.0)>],\n",
       "        [<gurobi.Var Affectation[1,3,1,0] (value -0.0)>,\n",
       "         <gurobi.Var Affectation[1,3,1,1] (value 0.0)>,\n",
       "         <gurobi.Var Affectation[1,3,1,2] (value 0.0)>],\n",
       "        [<gurobi.Var Affectation[1,3,2,0] (value -0.0)>,\n",
       "         <gurobi.Var Affectation[1,3,2,1] (value 0.0)>,\n",
       "         <gurobi.Var Affectation[1,3,2,2] (value 0.0)>],\n",
       "        [<gurobi.Var Affectation[1,3,3,0] (value 0.0)>,\n",
       "         <gurobi.Var Affectation[1,3,3,1] (value -0.0)>,\n",
       "         <gurobi.Var Affectation[1,3,3,2] (value 0.0)>],\n",
       "        [<gurobi.Var Affectation[1,3,4,0] (value 0.0)>,\n",
       "         <gurobi.Var Affectation[1,3,4,1] (value 0.0)>,\n",
       "         <gurobi.Var Affectation[1,3,4,2] (value 0.0)>]],\n",
       "\n",
       "       [[<gurobi.Var Affectation[1,4,0,0] (value -0.0)>,\n",
       "         <gurobi.Var Affectation[1,4,0,1] (value -0.0)>,\n",
       "         <gurobi.Var Affectation[1,4,0,2] (value 0.0)>],\n",
       "        [<gurobi.Var Affectation[1,4,1,0] (value -0.0)>,\n",
       "         <gurobi.Var Affectation[1,4,1,1] (value 1.0)>,\n",
       "         <gurobi.Var Affectation[1,4,1,2] (value 0.0)>],\n",
       "        [<gurobi.Var Affectation[1,4,2,0] (value -0.0)>,\n",
       "         <gurobi.Var Affectation[1,4,2,1] (value 0.0)>,\n",
       "         <gurobi.Var Affectation[1,4,2,2] (value 0.0)>],\n",
       "        [<gurobi.Var Affectation[1,4,3,0] (value 0.0)>,\n",
       "         <gurobi.Var Affectation[1,4,3,1] (value -0.0)>,\n",
       "         <gurobi.Var Affectation[1,4,3,2] (value 0.0)>],\n",
       "        [<gurobi.Var Affectation[1,4,4,0] (value 0.0)>,\n",
       "         <gurobi.Var Affectation[1,4,4,1] (value 0.0)>,\n",
       "         <gurobi.Var Affectation[1,4,4,2] (value 0.0)>]]])"
      ]
     },
     "execution_count": 14,
     "metadata": {},
     "output_type": "execute_result"
    }
   ],
   "source": [
    "Affectation[1]"
   ]
  },
  {
   "cell_type": "code",
   "execution_count": 15,
   "id": "abcd9fd8",
   "metadata": {},
   "outputs": [
    {
     "name": "stdout",
     "output_type": "stream",
     "text": [
      "Affectation[0,0,0,0] -0\n",
      "Affectation[0,0,0,1] -0\n",
      "Affectation[0,0,0,2] -0\n",
      "Affectation[0,0,1,0] -0\n",
      "Affectation[0,0,1,1] -0\n",
      "Affectation[0,0,1,2] 0\n",
      "Affectation[0,0,2,0] -0\n",
      "Affectation[0,0,2,1] 0\n",
      "Affectation[0,0,2,2] 0\n",
      "Affectation[0,0,3,0] 0\n",
      "Affectation[0,0,3,1] 1\n",
      "Affectation[0,0,3,2] -0\n",
      "Affectation[0,0,4,0] 0\n",
      "Affectation[0,0,4,1] 0\n",
      "Affectation[0,0,4,2] -0\n",
      "Affectation[0,1,0,0] -0\n",
      "Affectation[0,1,0,1] -0\n",
      "Affectation[0,1,0,2] -0\n",
      "Affectation[0,1,1,0] -0\n",
      "Affectation[0,1,1,1] -0\n",
      "Affectation[0,1,1,2] 0\n",
      "Affectation[0,1,2,0] -0\n",
      "Affectation[0,1,2,1] 0\n",
      "Affectation[0,1,2,2] 0\n",
      "Affectation[0,1,3,0] 0\n",
      "Affectation[0,1,3,1] 1\n",
      "Affectation[0,1,3,2] -0\n",
      "Affectation[0,1,4,0] 0\n",
      "Affectation[0,1,4,1] 0\n",
      "Affectation[0,1,4,2] -0\n",
      "Affectation[0,2,0,0] -0\n",
      "Affectation[0,2,0,1] -0\n",
      "Affectation[0,2,0,2] -0\n",
      "Affectation[0,2,1,0] -0\n",
      "Affectation[0,2,1,1] 1\n",
      "Affectation[0,2,1,2] 0\n",
      "Affectation[0,2,2,0] -0\n",
      "Affectation[0,2,2,1] 0\n",
      "Affectation[0,2,2,2] -0\n",
      "Affectation[0,2,3,0] 0\n",
      "Affectation[0,2,3,1] 0\n",
      "Affectation[0,2,3,2] -0\n",
      "Affectation[0,2,4,0] 0\n",
      "Affectation[0,2,4,1] 0\n",
      "Affectation[0,2,4,2] -0\n",
      "Affectation[0,3,0,0] -0\n",
      "Affectation[0,3,0,1] -0\n",
      "Affectation[0,3,0,2] -0\n",
      "Affectation[0,3,1,0] -0\n",
      "Affectation[0,3,1,1] 0\n",
      "Affectation[0,3,1,2] 0\n",
      "Affectation[0,3,2,0] -0\n",
      "Affectation[0,3,2,1] 0\n",
      "Affectation[0,3,2,2] 1\n",
      "Affectation[0,3,3,0] 0\n",
      "Affectation[0,3,3,1] -0\n",
      "Affectation[0,3,3,2] -0\n",
      "Affectation[0,3,4,0] 0\n",
      "Affectation[0,3,4,1] 0\n",
      "Affectation[0,3,4,2] -0\n",
      "Affectation[0,4,0,0] -0\n",
      "Affectation[0,4,0,1] -0\n",
      "Affectation[0,4,0,2] -0\n",
      "Affectation[0,4,1,0] -0\n",
      "Affectation[0,4,1,1] -0\n",
      "Affectation[0,4,1,2] 0\n",
      "Affectation[0,4,2,0] 1\n",
      "Affectation[0,4,2,1] 0\n",
      "Affectation[0,4,2,2] -0\n",
      "Affectation[0,4,3,0] 0\n",
      "Affectation[0,4,3,1] -0\n",
      "Affectation[0,4,3,2] 0\n",
      "Affectation[0,4,4,0] 0\n",
      "Affectation[0,4,4,1] 0\n",
      "Affectation[0,4,4,2] 0\n",
      "Affectation[1,0,0,0] 0\n",
      "Affectation[1,0,0,1] 0\n",
      "Affectation[1,0,0,2] 0\n",
      "Affectation[1,0,1,0] 0\n",
      "Affectation[1,0,1,1] 0\n",
      "Affectation[1,0,1,2] 0\n",
      "Affectation[1,0,2,0] 0\n",
      "Affectation[1,0,2,1] 0\n",
      "Affectation[1,0,2,2] 0\n",
      "Affectation[1,0,3,0] 0\n",
      "Affectation[1,0,3,1] 0\n",
      "Affectation[1,0,3,2] 0\n",
      "Affectation[1,0,4,0] 0\n",
      "Affectation[1,0,4,1] 0\n",
      "Affectation[1,0,4,2] 0\n",
      "Affectation[1,1,0,0] -0\n",
      "Affectation[1,1,0,1] 1\n",
      "Affectation[1,1,0,2] 0\n",
      "Affectation[1,1,1,0] -0\n",
      "Affectation[1,1,1,1] -0\n",
      "Affectation[1,1,1,2] 0\n",
      "Affectation[1,1,2,0] 0\n",
      "Affectation[1,1,2,1] 0\n",
      "Affectation[1,1,2,2] 0\n",
      "Affectation[1,1,3,0] 0\n",
      "Affectation[1,1,3,1] -0\n",
      "Affectation[1,1,3,2] 0\n",
      "Affectation[1,1,4,0] 0\n",
      "Affectation[1,1,4,1] 0\n",
      "Affectation[1,1,4,2] 0\n",
      "Affectation[1,2,0,0] 0\n",
      "Affectation[1,2,0,1] -0\n",
      "Affectation[1,2,0,2] 0\n",
      "Affectation[1,2,1,0] 1\n",
      "Affectation[1,2,1,1] -0\n",
      "Affectation[1,2,1,2] 0\n",
      "Affectation[1,2,2,0] -0\n",
      "Affectation[1,2,2,1] 0\n",
      "Affectation[1,2,2,2] 0\n",
      "Affectation[1,2,3,0] 0\n",
      "Affectation[1,2,3,1] -0\n",
      "Affectation[1,2,3,2] 0\n",
      "Affectation[1,2,4,0] 0\n",
      "Affectation[1,2,4,1] 0\n",
      "Affectation[1,2,4,2] 0\n",
      "Affectation[1,3,0,0] 1\n",
      "Affectation[1,3,0,1] -0\n",
      "Affectation[1,3,0,2] 0\n",
      "Affectation[1,3,1,0] -0\n",
      "Affectation[1,3,1,1] 0\n",
      "Affectation[1,3,1,2] 0\n",
      "Affectation[1,3,2,0] -0\n",
      "Affectation[1,3,2,1] 0\n",
      "Affectation[1,3,2,2] 0\n",
      "Affectation[1,3,3,0] 0\n",
      "Affectation[1,3,3,1] -0\n",
      "Affectation[1,3,3,2] 0\n",
      "Affectation[1,3,4,0] 0\n",
      "Affectation[1,3,4,1] 0\n",
      "Affectation[1,3,4,2] 0\n",
      "Affectation[1,4,0,0] -0\n",
      "Affectation[1,4,0,1] -0\n",
      "Affectation[1,4,0,2] 0\n",
      "Affectation[1,4,1,0] -0\n",
      "Affectation[1,4,1,1] 1\n",
      "Affectation[1,4,1,2] 0\n",
      "Affectation[1,4,2,0] -0\n",
      "Affectation[1,4,2,1] 0\n",
      "Affectation[1,4,2,2] 0\n",
      "Affectation[1,4,3,0] 0\n",
      "Affectation[1,4,3,1] -0\n",
      "Affectation[1,4,3,2] 0\n",
      "Affectation[1,4,4,0] 0\n",
      "Affectation[1,4,4,1] 0\n",
      "Affectation[1,4,4,2] 0\n",
      "Affectation[2,0,0,0] 0\n",
      "Affectation[2,0,0,1] 0\n",
      "Affectation[2,0,0,2] -0\n",
      "Affectation[2,0,1,0] 0\n",
      "Affectation[2,0,1,1] 0\n",
      "Affectation[2,0,1,2] 0\n",
      "Affectation[2,0,2,0] 0\n",
      "Affectation[2,0,2,1] 0\n",
      "Affectation[2,0,2,2] -0\n",
      "Affectation[2,0,3,0] 0\n",
      "Affectation[2,0,3,1] 0\n",
      "Affectation[2,0,3,2] 0\n",
      "Affectation[2,0,4,0] 0\n",
      "Affectation[2,0,4,1] 0\n",
      "Affectation[2,0,4,2] 1\n",
      "Affectation[2,1,0,0] 0\n",
      "Affectation[2,1,0,1] 0\n",
      "Affectation[2,1,0,2] 0\n",
      "Affectation[2,1,1,0] 0\n",
      "Affectation[2,1,1,1] 0\n",
      "Affectation[2,1,1,2] 0\n",
      "Affectation[2,1,2,0] 0\n",
      "Affectation[2,1,2,1] 0\n",
      "Affectation[2,1,2,2] 0\n",
      "Affectation[2,1,3,0] 0\n",
      "Affectation[2,1,3,1] 0\n",
      "Affectation[2,1,3,2] 0\n",
      "Affectation[2,1,4,0] 0\n",
      "Affectation[2,1,4,1] 0\n",
      "Affectation[2,1,4,2] 0\n",
      "Affectation[2,2,0,0] 0\n",
      "Affectation[2,2,0,1] 0\n",
      "Affectation[2,2,0,2] 1\n",
      "Affectation[2,2,1,0] 0\n",
      "Affectation[2,2,1,1] 0\n",
      "Affectation[2,2,1,2] 0\n",
      "Affectation[2,2,2,0] 0\n",
      "Affectation[2,2,2,1] 0\n",
      "Affectation[2,2,2,2] 0\n",
      "Affectation[2,2,3,0] 0\n",
      "Affectation[2,2,3,1] 0\n",
      "Affectation[2,2,3,2] -0\n",
      "Affectation[2,2,4,0] 0\n",
      "Affectation[2,2,4,1] 0\n",
      "Affectation[2,2,4,2] -0\n",
      "Affectation[2,3,0,0] 0\n",
      "Affectation[2,3,0,1] 0\n",
      "Affectation[2,3,0,2] -0\n",
      "Affectation[2,3,1,0] 0\n",
      "Affectation[2,3,1,1] 0\n",
      "Affectation[2,3,1,2] 0\n",
      "Affectation[2,3,2,0] 0\n",
      "Affectation[2,3,2,1] 0\n",
      "Affectation[2,3,2,2] 1\n",
      "Affectation[2,3,3,0] 0\n",
      "Affectation[2,3,3,1] 0\n",
      "Affectation[2,3,3,2] -0\n",
      "Affectation[2,3,4,0] 0\n",
      "Affectation[2,3,4,1] 0\n",
      "Affectation[2,3,4,2] 0\n",
      "Affectation[2,4,0,0] 0\n",
      "Affectation[2,4,0,1] 0\n",
      "Affectation[2,4,0,2] -0\n",
      "Affectation[2,4,1,0] 0\n",
      "Affectation[2,4,1,1] 0\n",
      "Affectation[2,4,1,2] 0\n",
      "Affectation[2,4,2,0] 0\n",
      "Affectation[2,4,2,1] 0\n",
      "Affectation[2,4,2,2] -0\n",
      "Affectation[2,4,3,0] 0\n",
      "Affectation[2,4,3,1] 0\n",
      "Affectation[2,4,3,2] 1\n",
      "Affectation[2,4,4,0] 0\n",
      "Affectation[2,4,4,1] 0\n",
      "Affectation[2,4,4,2] 0\n",
      "Done_Project[0] 1\n",
      "Done_Project[1] 1\n",
      "Done_Project[2] 1\n",
      "Done_Project[3] 1\n",
      "Done_Project[4] 0\n",
      "Obj: 70\n"
     ]
    }
   ],
   "source": [
    "for v in model.getVars():\n",
    "    print('%s %g' % (v.VarName, v.X))\n",
    "\n",
    "print('Obj: %g' % model.ObjVal)"
   ]
  }
 ],
 "metadata": {
  "kernelspec": {
   "display_name": "Python 3",
   "language": "python",
   "name": "python3"
  },
  "language_info": {
   "codemirror_mode": {
    "name": "ipython",
    "version": 3
   },
   "file_extension": ".py",
   "mimetype": "text/x-python",
   "name": "python",
   "nbconvert_exporter": "python",
   "pygments_lexer": "ipython3",
   "version": "3.8.8"
  }
 },
 "nbformat": 4,
 "nbformat_minor": 5
}
