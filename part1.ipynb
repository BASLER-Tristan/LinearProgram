{
 "cells": [
  {
   "cell_type": "markdown",
   "id": "e6dff554",
   "metadata": {},
   "source": [
    "## Systèmes de décision\n",
    "### Projet - optimisation d'un emploi du temps\n",
    "#### Partie 1 : modélisation, implémentation avec Gurobi, résolution et affichage de la surface de Pareto\n",
    "<br>\n",
    "<br>"
   ]
  },
  {
   "cell_type": "markdown",
   "id": "1b2fd1b1",
   "metadata": {},
   "source": [
    "<i>Sommaire :</i>\n",
    "<br>\n",
    "<br>\n",
    "[1 - Chargement des données](#sect1)\n",
    "<br>\n",
    "<br>\n",
    "[2 - Définition des constantes](#sect2)\n",
    "<br>\n",
    "<br>\n",
    "[3 - Instanciation du modèle et des variables](#sect3)\n",
    "<br>\n",
    "<br>\n",
    "[4 - Définition des fonctions objectifs](#sect4)\n",
    "<br>\n",
    "<br>\n",
    "[5 - Définition des contraintes](#sect5)\n",
    "<br>\n",
    "<br>\n",
    "[6 - Optimisation et vérification du respect des contraintes](#sect6)\n",
    "<br>\n",
    "<br>\n",
    "[7 - Affichage des résultats et conclusion de la partie 1](#sect7)\n",
    "<br>\n",
    "<br>\n",
    "<br>"
   ]
  },
  {
   "cell_type": "markdown",
   "id": "039515a3",
   "metadata": {},
   "source": [
    "### 1 - Chargement des données\n",
    "<a id=\"sect1\"> </a>"
   ]
  },
  {
   "cell_type": "code",
   "execution_count": 21,
   "id": "c13e1304",
   "metadata": {},
   "outputs": [],
   "source": [
    "import gurobipy as gp # solver\n",
    "from gurobipy import GRB\n",
    "import numpy as np"
   ]
  },
  {
   "cell_type": "code",
   "execution_count": 13,
   "id": "59dd0fd3",
   "metadata": {},
   "outputs": [],
   "source": [
    "from InstanceClass import Instance # custom class built to load and encode .json files (instances)"
   ]
  },
  {
   "cell_type": "code",
   "execution_count": 15,
   "id": "3fa85ee8",
   "metadata": {},
   "outputs": [],
   "source": [
    "instance = Instance(path=\"data/toy_instance.json\")\n",
    "instance.build_instance()"
   ]
  },
  {
   "cell_type": "code",
   "execution_count": 16,
   "id": "d9017d62",
   "metadata": {},
   "outputs": [
    {
     "data": {
      "text/plain": [
       "{'NP': 5,\n",
       " 'NC': 3,\n",
       " 'NA': 3,\n",
       " 'H': 5,\n",
       " 'GAIN': [20, 15, 15, 20, 10],\n",
       " 'PENALTIES': array([[0., 0., 0., 3., 6.],\n",
       "        [0., 0., 0., 3., 6.],\n",
       "        [0., 0., 0., 0., 3.],\n",
       "        [0., 0., 0., 3., 6.],\n",
       "        [0., 0., 0., 0., 0.]]),\n",
       " 'STAFF_QUALIFICATIONS': array([[1., 1., 1.],\n",
       "        [1., 1., 0.],\n",
       "        [0., 0., 1.]]),\n",
       " 'COST_PROJECT': array([[1., 1., 1.],\n",
       "        [1., 2., 0.],\n",
       "        [1., 0., 2.],\n",
       "        [0., 2., 1.],\n",
       "        [0., 0., 2.]]),\n",
       " 'CONGES': array([[0., 0., 0., 0., 0.],\n",
       "        [1., 0., 0., 0., 0.],\n",
       "        [0., 1., 0., 0., 0.]])}"
      ]
     },
     "execution_count": 16,
     "metadata": {},
     "output_type": "execute_result"
    }
   ],
   "source": [
    "instance.variables # check that everything works as expected"
   ]
  },
  {
   "cell_type": "markdown",
   "id": "6a123939",
   "metadata": {},
   "source": [
    "Quelques précisions sur la convention de nommage (également détaillée dans le compte-rendu) : \n",
    "<br>\n",
    "<br>\n",
    "$n_p$ : le nombre de projets de l'instance\n",
    "<br>\n",
    "$n_c$ : le nombre de collaborateurs de l'instance\n",
    "<br>\n",
    "$n_a$ :  le nombre de compétences présentes dans l'instance\n",
    "<br>\n",
    "$h$ :  l'horizon de temps du problème (en jours), début au jour 1\n",
    "<br>\n",
    "<br>\n",
    "<br>"
   ]
  },
  {
   "cell_type": "markdown",
   "id": "815ee4bd",
   "metadata": {},
   "source": [
    "### 2 - Définition des constantes\n",
    "<a id=\"sect2\"> </a>\n",
    "<br>\n",
    "<br>\n",
    "Nous pouvons définir certaines constantes du problème directement à partir de l'encodage de l'instance visible ci-dessus. Par convention, les constantes sont nommées en majuscule."
   ]
  },
  {
   "cell_type": "code",
   "execution_count": 17,
   "id": "0459b94b",
   "metadata": {},
   "outputs": [],
   "source": [
    "GAIN = instance.variables[\"GAIN\"]\n",
    "PENALTIES = instance.variables[\"PENALTIES\"] # note : les lignes représentent les projets et les colonnes le temps en jours, les valeurs représentent ainsi la pénalité totale\n",
    "COST_PROJECT = instance.variables[\"COST_PROJECT\"] # cette variable représente le coût en compétences des projets\n",
    "STAFF_QUALIFICATIONS = instance.variables[\"STAFF_QUALIFICATIONS\"]\n",
    "CONGES = instance.variables[\"CONGES\"]\n",
    "I = instance.variables[\"NC\"]\n",
    "J = instance.variables[\"H\"]\n",
    "L = instance.variables[\"NP\"]\n",
    "K = instance.variables[\"NA\"]"
   ]
  },
  {
   "cell_type": "markdown",
   "id": "df455477",
   "metadata": {},
   "source": [
    "<br>\n",
    "On aura donc :\n",
    "<br>\n",
    "<i>i</i> : indice de sommation sur les collaborateurs\n",
    "<br>\n",
    "<i>j</i> : indice de sommation sur le temps\n",
    "<br>\n",
    "<i>k</i> : indice de sommation sur les compétences\n",
    "<br>\n",
    "<i>l</i> : indice de sommation sur les projets\n",
    "<br>\n",
    "<br>\n",
    "Certaines quantités constantes du problème se dérivent à partir des quantités précédentes.\n",
    "<br>\n",
    "<br>"
   ]
  },
  {
   "cell_type": "code",
   "execution_count": 23,
   "id": "a060a6f8",
   "metadata": {},
   "outputs": [],
   "source": [
    "BENEFICES = np.array(\n",
    "    [\n",
    "        GAIN[time_step] - PENALTIES[time_step] for time_step in range(L)\n",
    "    ]\n",
    ") # bénéfice net que pourrait donner le projet i s'il était rendu au temps j (matrice)"
   ]
  },
  {
   "cell_type": "code",
   "execution_count": 24,
   "id": "d3237c0e",
   "metadata": {},
   "outputs": [],
   "source": [
    "MAX_COST = np.max(COST_PROJECT) # coût maximal en compétence du projet i"
   ]
  },
  {
   "cell_type": "code",
   "execution_count": 25,
   "id": "7b69737b",
   "metadata": {},
   "outputs": [
    {
     "name": "stdout",
     "output_type": "stream",
     "text": [
      "Les collaborateurs sont numérotés de 1 à 3\n",
      "Les jours sont numérotés de 1 à 5\n",
      "Les compétences sont numérotés de 1 à 3\n",
      "Les projets sont numérotés de 1 à 5\n"
     ]
    }
   ],
   "source": [
    "print(\n",
    "    \"Les collaborateurs sont numérotés de 1 à {}\".format(I)\n",
    ")\n",
    "print(\n",
    "    \"Les jours sont numérotés de 1 à {}\".format(J)\n",
    ")\n",
    "print(\n",
    "    \"Les compétences sont numérotés de 1 à {}\".format(K)\n",
    ")\n",
    "print(\n",
    "    \"Les projets sont numérotés de 1 à {}\".format(L)\n",
    ")"
   ]
  },
  {
   "cell_type": "code",
   "execution_count": 68,
   "id": "25d02522",
   "metadata": {},
   "outputs": [],
   "source": [
    "times = np.arange(J) + 1"
   ]
  },
  {
   "cell_type": "markdown",
   "id": "20dbf931",
   "metadata": {},
   "source": [
    "<br>\n",
    "<br>"
   ]
  },
  {
   "cell_type": "markdown",
   "id": "78395dda",
   "metadata": {},
   "source": [
    "### 3 - Instanciation du modèle et des variables\n",
    "<a id=\"sect3\"> </a>"
   ]
  },
  {
   "cell_type": "markdown",
   "id": "97976ad1",
   "metadata": {},
   "source": [
    "Nous allons maintenant définir un tenseur des affectations qui contiendra 4 dimensions. Le tenseur sera noté $A$.\n",
    "<br>\n",
    "<br>\n",
    "L'élément de tenseur $a_{i, j, k, l}$ vaudra 1 si et seulement si le collaborateur <i>i</i> travail le jour <i>j</i> selon la compétence <i>k</i> le projet <i>l</i> (et vaudra 0 sinon).\n",
    "<br>\n",
    "<br>\n",
    "Certaines fonctions de sommation sur ce tenseur nous serons ensuite utiles pour exprimer les fonctions objectifs et contraintes.\n",
    "<br>\n",
    "<br>"
   ]
  },
  {
   "cell_type": "code",
   "execution_count": 27,
   "id": "476ab324",
   "metadata": {},
   "outputs": [],
   "source": [
    "def calcul_work(Affectation):\n",
    "    \"\"\"\n",
    "    Entrée(s) :\n",
    "        Affectation (type) : tenseur des affectations des collaborateurs par compétence, sur les projets et dans le temps\n",
    "        \n",
    "    Sortie(s) :\n",
    "        work (numpy.array) : matrice contenant le travail des collaborateurs dans le temps selon les compétences (en lignes) et les projets (en colonnes)\n",
    "    \"\"\"\n",
    "    work = [\n",
    "        np.sum([Affectation[i][j] for i in range(3)] , axis=0) for j in range(np.shape(Affectation)[1])\n",
    "    ]\n",
    "    return np.array(work)"
   ]
  },
  {
   "cell_type": "code",
   "execution_count": 38,
   "id": "18c1eaec",
   "metadata": {},
   "outputs": [],
   "source": [
    "def calcul_temporel_work(work):\n",
    "    \"\"\"\n",
    "    Entrée(s) :\n",
    "        work (numpy.array) : matrice contenant le travail total des collaborateurs dans le temps selon les compétences (en lignes) et les projets (en colonnes)\n",
    "        \n",
    "    Sortie(s) :\n",
    "        work_over_time (numpy.array) : vecteur contenant le travail total des collaborateurs selon le temps et les compétences, par projets (en lignes)\n",
    "    \"\"\"\n",
    "    work_over_time = [\n",
    "        [gp.quicksum(work[0:i])[j] for i in range(1, J+1)] for j in range(L)\n",
    "    ]\n",
    "    return np.array(work_over_time)"
   ]
  },
  {
   "cell_type": "code",
   "execution_count": 29,
   "id": "11a1e8ac",
   "metadata": {},
   "outputs": [],
   "source": [
    "def calcul_work_final(work):\n",
    "    \"\"\"\n",
    "    Entrée(s) :\n",
    "        work (type) : tenseur des affectations des collaborateurs par compétence, sur les projets et dans le temps\n",
    "        \n",
    "    Sortie(s) :\n",
    "        work_per_project (numpy.array) :\n",
    "    \"\"\"\n",
    "    work_per_project = gp.quicksum(work)  \n",
    "    return work_per_project"
   ]
  },
  {
   "cell_type": "markdown",
   "id": "61cbad99",
   "metadata": {},
   "source": [
    "<br>\n",
    "Nous pouvons désormais instancier le modèle et définir le tenseur $A$.\n",
    "<br>\n",
    "<br>\n",
    "Note : la taille du tenseur $A$ est donc $n_c . h  . n_a. n_p$\n",
    "<br>\n",
    "<br>"
   ]
  },
  {
   "cell_type": "code",
   "execution_count": 26,
   "id": "a9726f74",
   "metadata": {},
   "outputs": [
    {
     "name": "stdout",
     "output_type": "stream",
     "text": [
      "Set parameter Username\n",
      "Academic license - for non-commercial use only - expires 2023-12-29\n"
     ]
    }
   ],
   "source": [
    "model = gp.Model(\"model-part1\")"
   ]
  },
  {
   "cell_type": "code",
   "execution_count": 30,
   "id": "d16caaba",
   "metadata": {},
   "outputs": [],
   "source": [
    "Affectation = model.addMVar(\n",
    "    shape=(I,J,L,K),\n",
    "    vtype=GRB.BINARY,\n",
    "    name=\"Affectation\"\n",
    ")"
   ]
  },
  {
   "cell_type": "markdown",
   "id": "3ae3530d",
   "metadata": {},
   "source": [
    "<br>\n",
    "<br>\n",
    "Nous définissons ensuite une matrice $E$ qui contient les projets (en lignes) et les jours (en colonnes).\n",
    "<br>\n",
    "<br>\n",
    "L'élément de matrice $e_{i, j}$ vaut 1 si et seulement si le projet <i>i</i> est terminé le jour <i>j</i> (c'est-à-dire que tous les apports de travail par compétences ont été validés au jour <i>j</i>). Pour tous les jours pour lesquels le projet <i>i</i> n'est pas encore terminé ou pas encore commencé, $e_{i, j}$ vaut 0. Pour tous les jours ultérieurs au jour de terminaison du projet <i>i</i> (si pertinent), $e_{i, j}$ vaut 0 également.\n",
    "<br>\n",
    "<br>"
   ]
  },
  {
   "cell_type": "code",
   "execution_count": 31,
   "id": "e0636056",
   "metadata": {},
   "outputs": [],
   "source": [
    "Done_Project = model.addMVar(\n",
    "    shape=(L, J),\n",
    "    vtype=GRB.BINARY,\n",
    "    name=\"Done_Project\"\n",
    ")"
   ]
  },
  {
   "cell_type": "markdown",
   "id": "510987f4",
   "metadata": {},
   "source": [
    "<br>\n",
    "<br>\n",
    "On peut définir la matrice $S$ analogue à $E$ mais qui contient les jours de début des projets, selon la même logique.\n",
    "<br>\n",
    "<br>"
   ]
  },
  {
   "cell_type": "code",
   "execution_count": 32,
   "id": "d753f38a",
   "metadata": {},
   "outputs": [],
   "source": [
    "Begin_Project = model.addMVar(\n",
    "    shape=(L, J),\n",
    "    vtype=GRB.BINARY,\n",
    "    name=\"Begin_Project\"\n",
    ") "
   ]
  },
  {
   "cell_type": "markdown",
   "id": "bc931724",
   "metadata": {},
   "source": [
    "<br>\n",
    "<br>"
   ]
  },
  {
   "cell_type": "markdown",
   "id": "17f67d6c",
   "metadata": {},
   "source": [
    "### 4 - Définition des fonctions objectifs\n",
    "<a id=\"sect4\"> </a>"
   ]
  },
  {
   "cell_type": "markdown",
   "id": "35f68ef7",
   "metadata": {},
   "source": [
    "Pour simplifier la définition des fonctions objectifs (et anticiper le calcul prochain de la surface de Pareto du problème), on définit une fonction <i>set_objectives</i> qui va nous servir à intégrer, à volonté, certaines fonctions objectifs au problème.\n",
    "<br>\n",
    "<br>\n",
    "<i>Remarque</i> : on souhaite à terme intégrer toutes les fonctions objectifs au problème, bien entendu !\n",
    "<br>\n",
    "<br>"
   ]
  },
  {
   "cell_type": "code",
   "execution_count": 56,
   "id": "e3b7478f",
   "metadata": {},
   "outputs": [],
   "source": [
    "def set_objectives(\n",
    "    model,\n",
    "    include_gain_obj: bool,\n",
    "    include_nb_proj_obj: bool,\n",
    "    include_proj_time_obj: bool\n",
    "):\n",
    "    \"\"\"\n",
    "        Entrée(s) :\n",
    "            model:\n",
    "            include_gain_obj: bool,\n",
    "            include_nb_proj_obj: bool,\n",
    "            include_proj_time_obj: bool\n",
    "        \n",
    "        Sortie(s) :\n",
    "            \n",
    "    \"\"\"\n",
    "    z_fo1 = gp.quicksum(gp.quicksum(Done_Project*BENEFICES))\n",
    "    z_fo2 = model.addVar(vtype=GRB.INTEGER, name=\"Max_Projet\")\n",
    "    z_fo3 = model.addVar(vtype=GRB.INTEGER, name=\"Duree_Max_Projet\")\n",
    "    \n",
    "    if include_gain_obj:\n",
    "        model.setObjective(\n",
    "            z_fo1,\n",
    "            GRB.MAXIMIZE\n",
    "        )\n",
    "        \n",
    "    if include_nb_proj_obj:\n",
    "        model.setObjective(\n",
    "            z_fo2,\n",
    "            GRB.MINIMIZE\n",
    "        )\n",
    "\n",
    "    if include_proj_time_obj:\n",
    "        model.setObjective(\n",
    "           z_fo3,\n",
    "           GRB.MINIMIZE\n",
    "       )\n",
    "    return z_fo1, z_fo2, z_fo3"
   ]
  },
  {
   "cell_type": "code",
   "execution_count": 57,
   "id": "5c1637bb",
   "metadata": {},
   "outputs": [],
   "source": [
    " z_fo1, z_fo2, z_fo3 = set_objectives(\n",
    "    model, \n",
    "    True,\n",
    "    False,\n",
    "    False\n",
    ")"
   ]
  },
  {
   "cell_type": "markdown",
   "id": "0c69f232",
   "metadata": {},
   "source": [
    "<br>\n",
    "<br>"
   ]
  },
  {
   "cell_type": "markdown",
   "id": "868d9bc5",
   "metadata": {},
   "source": [
    "### 5 - Définition des contraintes\n",
    "<a id=\"sect5\"> </a>"
   ]
  },
  {
   "cell_type": "markdown",
   "id": "ad95d1f0",
   "metadata": {},
   "source": [
    "<br>\n",
    "<br>\n",
    "Avant de passer à la définition des contraintes du problème, nous allons instancier deux quantités annexes, les \"travaux partiels\", définis à partir des fonctions déclarées au début de la section <a>3 - Instanciation du modèle et des variables</a>.\n",
    "<br>\n",
    "<br>"
   ]
  },
  {
   "cell_type": "code",
   "execution_count": 67,
   "id": "827812b8",
   "metadata": {},
   "outputs": [],
   "source": [
    "final_work = calcul_work_final(calcul_work(Affectation)) # utile pour vérifier qu'un projet est terminé\n",
    "temp_work = calcul_temporel_work(calcul_work(Affectation))\n",
    "# somme cumulée dans le temps du travail effectué par projet et par compétence"
   ]
  },
  {
   "cell_type": "markdown",
   "id": "df6334fc",
   "metadata": {},
   "source": [
    "<br>\n",
    "<br>\n",
    "On va d'abord définir les contraintes \"de base\" du problème.\n",
    "<br>\n",
    "<br>"
   ]
  },
  {
   "cell_type": "code",
   "execution_count": 73,
   "id": "cf3d00ed",
   "metadata": {},
   "outputs": [],
   "source": [
    "def base_constraints():\n",
    "    \"\"\"\n",
    "    Desc.\n",
    "    \"\"\"\n",
    "    model.addConstrs(\n",
    "        (Affectation[i,j,l,k] <= STAFF_QUALIFICATIONS[i,k] for i in range(I) for j in range(J) for l in range(L) for k in range(K)),\n",
    "        name=\"Qualifications_Constraint\"\n",
    "    )\n",
    "    model.addConstrs(\n",
    "        (gp.quicksum(Affectation[i][j] @ np.transpose(np.array([1]*K))) <= 1-CONGES[i][j] for i in range(I) for j in range(J) for l in range(L)),\n",
    "        name=\"Day_off_Constraint\"\n",
    "    ) \n",
    "    model.addConstrs(\n",
    "        (temp_work[i][j] >= COST_PROJECT[i]*Done_Project[i][j] for i in range(L) for j in range(J)),\n",
    "        name=\"Done\"\n",
    "    ) \n",
    "    model.addConstrs(\n",
    "        (gp.quicksum(Done_Project[i]) <= 1 for i in range(L)),\n",
    "        name=\"Only_Done_One_Time\"\n",
    "    ) \n",
    "    model.addConstrs(\n",
    "        (gp.quicksum(Begin_Project[i])<= 1 for i in range(L)),\n",
    "        name=\"Only_Begin_One_Time\"\n",
    "    ) \n",
    "    model.addConstrs(\n",
    "        (gp.quicksum(Begin_Project[i]) == gp.quicksum(Done_Project[i]) for i in range(L)),\n",
    "        name=\"Begin_Done\"\n",
    "    ) \n",
    "    model.addConstrs(\n",
    "        (gp.quicksum((Done_Project[i]-Begin_Project[i])*u)+1<=z_fo3 for i in range(L)),\n",
    "        name=\"Duration\"\n",
    "    ) \n",
    "    model.addConstrs(\n",
    "        (temp_work[i][j][k]/MAX_COST <= gp.quicksum(Begin_Project[i][0:(j+1)]) for i in range(L) for j in range(J) for k in range(K)),\n",
    "        name=\"Cant_begin_without_work\"\n",
    "    ) \n"
   ]
  },
  {
   "cell_type": "code",
   "execution_count": 74,
   "id": "90b10805",
   "metadata": {},
   "outputs": [],
   "source": [
    "base_constraints()"
   ]
  },
  {
   "cell_type": "markdown",
   "id": "7e991a3e",
   "metadata": {},
   "source": [
    "<br>\n",
    "<br>\n",
    "On va ensuite définir les contraintes additionnelles provenant de la linéarisation des fonctions objectifs initiales.\n",
    "<br>\n",
    "<br>"
   ]
  },
  {
   "cell_type": "code",
   "execution_count": 75,
   "id": "37c58ee1",
   "metadata": {},
   "outputs": [],
   "source": [
    "def fo2_constraints(epsilon: float = 0.0001):\n",
    "    \"\"\"\n",
    "    Desc.\n",
    "    \"\"\"\n",
    "    delta = model.addMVar(\n",
    "        shape=(L, I),\n",
    "        vtype=GRB.INTEGER,\n",
    "        name=\"deltaFromC2\")\n",
    "    \n",
    "    model.addConstrs(\n",
    "        (gp.quicksum(delta)[i] <= z_fo2 for i in range(I)),\n",
    "        name=\"C2.1\"\n",
    "    ) \n",
    "    model.addConstrs(\n",
    "        ((J*(1-delta[l][i]))<=gp.quicksum(gp.quicksum(Affectation[i])[l]) for i in range(I) for l in range(L)),\n",
    "        name=\"C2.2\"\n",
    "    )\n",
    "    model.addConstrs(\n",
    "        (gp.quicksum(gp.quicksum(Affectation[i])[l])+epsilon<=(J*delta[l][i]) for i in range(I) for l in range(L)),\n",
    "        name=\"C2.3\"\n",
    "    ) "
   ]
  },
  {
   "cell_type": "code",
   "execution_count": 76,
   "id": "73b0dc85",
   "metadata": {},
   "outputs": [],
   "source": [
    "fo2_constraints()"
   ]
  },
  {
   "cell_type": "markdown",
   "id": "2dc5f6cb",
   "metadata": {},
   "source": [
    "### 6 - Optimisation et vérification du respect des contraintes\n",
    "<a id=\"sect6\"> </a>"
   ]
  },
  {
   "cell_type": "code",
   "execution_count": 77,
   "id": "7a3f0393",
   "metadata": {},
   "outputs": [
    {
     "name": "stdout",
     "output_type": "stream",
     "text": [
      "Gurobi Optimizer version 10.0.0 build v10.0.0rc2 (win64)\n",
      "\n",
      "CPU model: Intel(R) Core(TM) i3-6006U CPU @ 2.00GHz, instruction set [SSE2|AVX|AVX2]\n",
      "Thread count: 2 physical cores, 4 logical processors, using up to 4 threads\n",
      "\n",
      "Optimize a model with 2189 rows, 352 columns and 14129 nonzeros\n",
      "Model fingerprint: 0x76109fee\n",
      "Variable types: 0 continuous, 352 integer (275 binary)\n",
      "Coefficient statistics:\n",
      "  Matrix range     [5e-01, 5e+00]\n",
      "  Objective range  [9e+00, 2e+01]\n",
      "  Bounds range     [1e+00, 1e+00]\n",
      "  RHS range        [1e-04, 5e+00]\n",
      "Found heuristic solution: objective -0.0000000\n",
      "Presolve removed 2116 rows and 236 columns\n",
      "Presolve time: 0.07s\n",
      "Presolved: 73 rows, 116 columns, 512 nonzeros\n",
      "Variable types: 0 continuous, 116 integer (116 binary)\n",
      "\n",
      "Root relaxation: objective 8.000000e+01, 49 iterations, 0.01 seconds (0.00 work units)\n",
      "\n",
      "    Nodes    |    Current Node    |     Objective Bounds      |     Work\n",
      " Expl Unexpl |  Obj  Depth IntInf | Incumbent    BestBd   Gap | It/Node Time\n",
      "\n",
      "     0     0   80.00000    0   15   -0.00000   80.00000      -     -    0s\n",
      "H    0     0                      60.0000000   80.00000  33.3%     -    0s\n",
      "     0     0   79.25000    0   15   60.00000   79.25000  32.1%     -    0s\n",
      "H    0     0                      65.0000000   79.25000  21.9%     -    0s\n",
      "     0     0   77.00000    0   14   65.00000   77.00000  18.5%     -    0s\n",
      "     0     0   77.00000    0   29   65.00000   77.00000  18.5%     -    0s\n",
      "     0     0   77.00000    0   29   65.00000   77.00000  18.5%     -    0s\n",
      "     0     0   77.00000    0   17   65.00000   77.00000  18.5%     -    0s\n",
      "     0     0   77.00000    0   17   65.00000   77.00000  18.5%     -    0s\n",
      "     0     0   77.00000    0   12   65.00000   77.00000  18.5%     -    0s\n",
      "     0     0   77.00000    0   17   65.00000   77.00000  18.5%     -    0s\n",
      "     0     0   77.00000    0   19   65.00000   77.00000  18.5%     -    0s\n",
      "     0     0   77.00000    0   19   65.00000   77.00000  18.5%     -    0s\n",
      "     0     2   77.00000    0   19   65.00000   77.00000  18.5%     -    0s\n",
      "\n",
      "Cutting planes:\n",
      "  Gomory: 5\n",
      "  Cover: 11\n",
      "  MIR: 17\n",
      "  Zero half: 3\n",
      "\n",
      "Explored 572 nodes (4448 simplex iterations) in 0.63 seconds (0.07 work units)\n",
      "Thread count was 4 (of 4 available processors)\n",
      "\n",
      "Solution count 3: 65 60 -0 \n",
      "\n",
      "Optimal solution found (tolerance 1.00e-04)\n",
      "Best objective 6.500000000000e+01, best bound 6.500000000000e+01, gap 0.0000%\n"
     ]
    }
   ],
   "source": [
    "model.optimize()"
   ]
  },
  {
   "cell_type": "markdown",
   "id": "7d5dd3d9",
   "metadata": {},
   "source": [
    "#### Vérification des contraintes\n",
    "<br>\n",
    "<br>"
   ]
  },
  {
   "cell_type": "code",
   "execution_count": 78,
   "id": "0943288f",
   "metadata": {},
   "outputs": [],
   "source": [
    "Affectation_solution = Affectation.X\n",
    "Done_Project_solution = Done_Project.X\n",
    "Begin_Project_solution = Begin_Project.X\n",
    "NB_Project_solution = z_fo2.X\n",
    "Duration_solution = z_fo3.X"
   ]
  },
  {
   "cell_type": "code",
   "execution_count": 79,
   "id": "30e59294",
   "metadata": {},
   "outputs": [],
   "source": [
    "cumul_work = np.cumsum(np.sum(Affectation_solution,axis=0),axis=0)"
   ]
  },
  {
   "cell_type": "code",
   "execution_count": 80,
   "id": "f19950dd",
   "metadata": {},
   "outputs": [],
   "source": [
    "# Qualifications\n",
    "for i in range(I):\n",
    "    for j in range(J):\n",
    "        for l in range(L):\n",
    "            for k in range(K):\n",
    "                assert Affectation_solution[i,j,l,k] <= STAFF_QUALIFICATIONS[i,k] "
   ]
  },
  {
   "cell_type": "code",
   "execution_count": 81,
   "id": "53feca7e",
   "metadata": {},
   "outputs": [],
   "source": [
    "# One day One work\n",
    "for i in range(I):\n",
    "    for j in range(J):\n",
    "        assert np.sum(Affectation_solution[i][j])<= 1- CONGES[i][j]"
   ]
  },
  {
   "cell_type": "code",
   "execution_count": 82,
   "id": "1bc58c48",
   "metadata": {},
   "outputs": [],
   "source": [
    "# Project Done one time\n",
    "assert (np.sum(Done_Project_solution,axis=1)<=1).all()"
   ]
  },
  {
   "cell_type": "code",
   "execution_count": 83,
   "id": "a73b0c4c",
   "metadata": {},
   "outputs": [],
   "source": [
    "# Assert Project done\n",
    "for l in range(L):\n",
    "    if np.sum(Done_Project_solution[l])==1:\n",
    "        assert(\n",
    "                (cumul_work[\n",
    "                    np.where(Done_Project_solution[l] == 1)[0][0]\n",
    "                ][l] >= COST_PROJECT[l]).all()\n",
    "            )"
   ]
  },
  {
   "cell_type": "code",
   "execution_count": 84,
   "id": "73f54f88",
   "metadata": {},
   "outputs": [],
   "source": [
    "# Project Done & Begin\n",
    "assert((\n",
    "np.sum(Done_Project_solution,axis=1)==np.sum(Begin_Project_solution,axis=1)\n",
    ").all())"
   ]
  },
  {
   "cell_type": "code",
   "execution_count": 85,
   "id": "eb415bb8",
   "metadata": {},
   "outputs": [],
   "source": [
    "# Project are begin before\n",
    "assert((\n",
    "Done_Project_solution<=np.cumsum(Begin_Project_solution,axis=1)\n",
    ").all())"
   ]
  },
  {
   "cell_type": "code",
   "execution_count": 86,
   "id": "a9bfe4c3",
   "metadata": {},
   "outputs": [],
   "source": [
    "# Assert Duration Project\n",
    "for l in range(L):\n",
    "    if np.sum(Done_Project_solution[l])==1:\n",
    "        assert(\n",
    "            (np.where(Done_Project_solution[l] == 1)[0][0] - np.where(Begin_Project_solution[l] == 1)[0][0])+1 <= Duration_solution\n",
    "            )"
   ]
  },
  {
   "cell_type": "code",
   "execution_count": 87,
   "id": "868abd7b",
   "metadata": {},
   "outputs": [],
   "source": [
    "# Assert Nb project worked\n",
    "for i in range(i):\n",
    "    assert np.sum(np.sum(np.sum(Affectation_solution,axis=1)[i],axis=1)>=1)<=NB_Project_solution"
   ]
  },
  {
   "cell_type": "code",
   "execution_count": 88,
   "id": "0dc70789",
   "metadata": {},
   "outputs": [],
   "source": [
    "# Working imply Beginned\n",
    "for l in range(L):\n",
    "    if np.sum(Done_Project_solution[l])==1:\n",
    "        assert np.where(np.sum(cumul_work,axis=2).transpose()[l]>=1)[0][0] >= np.where(Begin_Project_solution[l]>=1)[0][0]"
   ]
  },
  {
   "cell_type": "markdown",
   "id": "25ab7c2d",
   "metadata": {},
   "source": [
    "<br>"
   ]
  },
  {
   "cell_type": "markdown",
   "id": "dca2c274",
   "metadata": {},
   "source": [
    "### 7 - Affichage des résultats et conclusion de la partie 1\n",
    "<a id=\"sect7\"> </a>"
   ]
  },
  {
   "cell_type": "markdown",
   "id": "d6d17b07",
   "metadata": {},
   "source": [
    "Chargement des résultats de l'optimisation.\n",
    "<br>"
   ]
  },
  {
   "cell_type": "code",
   "execution_count": 22,
   "id": "22aa9626",
   "metadata": {},
   "outputs": [
    {
     "name": "stdout",
     "output_type": "stream",
     "text": [
      "The project Job1 is selected in the solution and done during the day 26 and beginned during the day 1.\n",
      "The project Job2 is selected in the solution and done during the day 22 and beginned during the day 1.\n",
      "The project Job3 is selected in the solution and done during the day 15 and beginned during the day 1.\n",
      "The project Job4 is selected in the solution and done during the day 17 and beginned during the day 1.\n",
      "The project Job5 is selected in the solution and done during the day 14 and beginned during the day 1.\n",
      "The project Job6 is selected in the solution and done during the day 33 and beginned during the day 1.\n",
      "The project Job7 isn't selected in the solution.\n",
      "The project Job8 isn't selected in the solution.\n",
      "The project Job9 isn't selected in the solution.\n",
      "The project Job10 isn't selected in the solution.\n",
      "The project Job11 isn't selected in the solution.\n",
      "The project Job12 is selected in the solution and done during the day 29 and beginned during the day 1.\n",
      "The project Job13 isn't selected in the solution.\n",
      "The project Job14 isn't selected in the solution.\n",
      "The project Job15 isn't selected in the solution.\n",
      "The project Job16 isn't selected in the solution.\n",
      "The project Job17 isn't selected in the solution.\n",
      "The project Job18 isn't selected in the solution.\n",
      "The project Job19 isn't selected in the solution.\n",
      "The project Job20 isn't selected in the solution.\n",
      "The project Job21 isn't selected in the solution.\n",
      "The project Job22 isn't selected in the solution.\n",
      "The project Job23 isn't selected in the solution.\n",
      "The project Job24 isn't selected in the solution.\n",
      "The project Job25 isn't selected in the solution.\n",
      "\n",
      "The gain is 253.0.\n",
      "The maximum of project for a worker is 25.0.\n",
      "The maximum of duration of a project is 33.0.\n"
     ]
    }
   ],
   "source": [
    "instance.load_solution(model,Affectation,Done_Project,Begin_Project,z_fo2,z_fo3)\n",
    "instance.save_solution(path=\"medium_instance/\")\n",
    "instance.print_kpi()"
   ]
  },
  {
   "cell_type": "markdown",
   "id": "5a026c42",
   "metadata": {},
   "source": [
    "#### Résultat de l'optimisation de la fonction objectif 1 (gain total) sur le jeu \"Toy\"\n",
    "<br>\n",
    "<br>\n",
    "FO1 (maximisation du gain total) : 0.1875 (1 - 65/80)\n",
    "<br>\n",
    "Attention ! On a ici calculé $1 - val_{opt}(FO1)$. Une valeur de 0 voudrait dire que 100% des gains possibles ont été obtenus, pénalités déduites.\n",
    "<br>\n",
    "<br>\n",
    "FO2 (minimisation du nombre de projets abordés par le collaborateur affecté sur le plus grand nombre de projets) : 0.60 (3/5)\n",
    "<br>\n",
    "Une valeur de 0 voudrait dire que le collaborateur le plus occupé a participé à tous les projets.\n",
    "<br>\n",
    "<br>\n",
    "FO3 (minimisation du temps du projet qui a pris le plus de temps) : 0.60 (3/5)\n",
    "<br>\n",
    "Une valeur de 0 voudrait dire que le projet ayant duré le plus longtemps a duré $h$ jours.\n",
    "<br>\n",
    "<br>"
   ]
  },
  {
   "cell_type": "markdown",
   "id": "80461fa9",
   "metadata": {},
   "source": [
    "#### Résultat de l'optimisation de la fonction objectif 1 (gain total) sur le jeu \"Medium\"\n",
    "<br>\n",
    "<br>\n",
    "FO1 (maximisation du gain total) : 0.345 (176/510)\n",
    "<br>\n",
    "<br>\n",
    "FO2 (minimisation du nombre de projets abordés par le collaborateur affecté sur le plus grand nombre de projets) : 0.4 (6/15)\n",
    "<br>\n",
    "<br>\n",
    "FO3 (minimisation du temps du projet qui a pris le plus de temps) : 0.41 (9/22)\n",
    "<br>\n",
    "<br>"
   ]
  },
  {
   "cell_type": "markdown",
   "id": "e26eab4f",
   "metadata": {},
   "source": [
    "#### Résultat de l'optimisation de la fonction objectif 1 (gain total) sur le jeu \"Large\"\n",
    "<br>\n",
    "<br>\n",
    "FO1 (maximisation du gain total) : 0.248 (253/1020)\n",
    "<br>\n",
    "<br>\n",
    "FO2 (minimisation du nombre de projets abordés par le collaborateur affecté sur le plus grand nombre de projets) : 0.32 (8/25)\n",
    "<br>\n",
    "<br>\n",
    "FO3 (minimisation du temps du projet qui a pris le plus de temps) : 0.334 (12/36) \n",
    "<br>\n",
    "<br>"
   ]
  },
  {
   "cell_type": "markdown",
   "id": "3fad68a6",
   "metadata": {},
   "source": [
    "#### Affichage de la surface de Pareto pour le jeu \"Toy\"\n",
    "<br>\n",
    "<br>\n",
    "Selon l'axe 1 (FO1), l'optimal est trouvé pour une valeur de 0.1875 et correspond au couple (FO2, FO3) = (0.60, 0.60).\n",
    "<br>\n",
    "Selon l'axe 2 (FO2), l'optimal est trouvé pour une valeur de 0 et correspond au couple (FO1, FO3) = (1, 0). Pas du tout de travail (trivial).\n",
    "<br>\n",
    "Selon l'axe 3 (FO3), l'optimal est trouvé pour une valeur de 0 et correspond au couple (FO1, FO2) = (1, 0). Pas du tout de travail (trivial).\n",
    "<br>\n",
    "<br>\n",
    "Nous en concluons que les coordonnées de la grande diagonale du cube de Pareto sont :\n",
    "<br>\n",
    "<br>"
   ]
  },
  {
   "cell_type": "code",
   "execution_count": 89,
   "id": "253a48de",
   "metadata": {},
   "outputs": [],
   "source": [
    "p1 = (\n",
    "    1.0,\n",
    "    0.6,\n",
    "    0.6\n",
    ")\n",
    "p2 = (\n",
    "    0.1875,\n",
    "    0.0,\n",
    "    0.0\n",
    ")"
   ]
  },
  {
   "cell_type": "code",
   "execution_count": 92,
   "id": "32651544",
   "metadata": {},
   "outputs": [],
   "source": [
    "# imports pour l'affichage\n",
    "import plotly.graph_objects as go\n",
    "import numpy as np"
   ]
  },
  {
   "cell_type": "code",
   "execution_count": 91,
   "id": "49961803",
   "metadata": {},
   "outputs": [
    {
     "name": "stdout",
     "output_type": "stream",
     "text": [
      "Defaulting to user installation because normal site-packages is not writeable\n",
      "Collecting plotly\n",
      "  Downloading plotly-5.13.0-py2.py3-none-any.whl (15.2 MB)\n",
      "     ---------------------------------------- 15.2/15.2 MB 3.8 MB/s eta 0:00:00\n",
      "Collecting tenacity>=6.2.0\n",
      "  Downloading tenacity-8.1.0-py3-none-any.whl (23 kB)\n",
      "Installing collected packages: tenacity, plotly\n",
      "Successfully installed plotly-5.13.0 tenacity-8.1.0\n"
     ]
    }
   ],
   "source": [
    "!pip install plotly"
   ]
  },
  {
   "cell_type": "code",
   "execution_count": 100,
   "id": "016bc940",
   "metadata": {},
   "outputs": [
    {
     "data": {
      "application/vnd.plotly.v1+json": {
       "config": {
        "plotlyServerURL": "https://plot.ly"
       },
       "data": [
        {
         "i": [
          7,
          0,
          0,
          0,
          4,
          4,
          6,
          6,
          4,
          0,
          3,
          2
         ],
         "j": [
          3,
          4,
          1,
          2,
          5,
          6,
          5,
          2,
          0,
          1,
          6,
          3
         ],
         "k": [
          0,
          7,
          2,
          3,
          6,
          7,
          1,
          1,
          5,
          5,
          7,
          6
         ],
         "name": "y",
         "opacity": 0.5,
         "type": "mesh3d",
         "x": [
          1,
          1,
          0.1875,
          0.1875,
          1,
          1,
          0.1875,
          0.1875
         ],
         "y": [
          0.6,
          0,
          0,
          0.6,
          0.6,
          0,
          0,
          0.6
         ],
         "z": [
          0.6,
          0.6,
          0.6,
          0.6,
          0,
          0,
          0,
          0
         ]
        }
       ],
       "layout": {
        "margin": {
         "b": 10,
         "l": 10,
         "r": 20,
         "t": 10
        },
        "scene": {
         "xaxis": {
          "nticks": 10,
          "range": [
           0,
           1
          ],
          "title": {
           "text": "1 - Gain"
          }
         },
         "yaxis": {
          "nticks": 10,
          "range": [
           0,
           1
          ],
          "title": {
           "text": "# projets du collab. le + occupé"
          }
         },
         "zaxis": {
          "nticks": 10,
          "range": [
           0,
           1
          ],
          "title": {
           "text": "Durée du projet le plus long"
          }
         }
        },
        "template": {
         "data": {
          "bar": [
           {
            "error_x": {
             "color": "#2a3f5f"
            },
            "error_y": {
             "color": "#2a3f5f"
            },
            "marker": {
             "line": {
              "color": "#E5ECF6",
              "width": 0.5
             },
             "pattern": {
              "fillmode": "overlay",
              "size": 10,
              "solidity": 0.2
             }
            },
            "type": "bar"
           }
          ],
          "barpolar": [
           {
            "marker": {
             "line": {
              "color": "#E5ECF6",
              "width": 0.5
             },
             "pattern": {
              "fillmode": "overlay",
              "size": 10,
              "solidity": 0.2
             }
            },
            "type": "barpolar"
           }
          ],
          "carpet": [
           {
            "aaxis": {
             "endlinecolor": "#2a3f5f",
             "gridcolor": "white",
             "linecolor": "white",
             "minorgridcolor": "white",
             "startlinecolor": "#2a3f5f"
            },
            "baxis": {
             "endlinecolor": "#2a3f5f",
             "gridcolor": "white",
             "linecolor": "white",
             "minorgridcolor": "white",
             "startlinecolor": "#2a3f5f"
            },
            "type": "carpet"
           }
          ],
          "choropleth": [
           {
            "colorbar": {
             "outlinewidth": 0,
             "ticks": ""
            },
            "type": "choropleth"
           }
          ],
          "contour": [
           {
            "colorbar": {
             "outlinewidth": 0,
             "ticks": ""
            },
            "colorscale": [
             [
              0,
              "#0d0887"
             ],
             [
              0.1111111111111111,
              "#46039f"
             ],
             [
              0.2222222222222222,
              "#7201a8"
             ],
             [
              0.3333333333333333,
              "#9c179e"
             ],
             [
              0.4444444444444444,
              "#bd3786"
             ],
             [
              0.5555555555555556,
              "#d8576b"
             ],
             [
              0.6666666666666666,
              "#ed7953"
             ],
             [
              0.7777777777777778,
              "#fb9f3a"
             ],
             [
              0.8888888888888888,
              "#fdca26"
             ],
             [
              1,
              "#f0f921"
             ]
            ],
            "type": "contour"
           }
          ],
          "contourcarpet": [
           {
            "colorbar": {
             "outlinewidth": 0,
             "ticks": ""
            },
            "type": "contourcarpet"
           }
          ],
          "heatmap": [
           {
            "colorbar": {
             "outlinewidth": 0,
             "ticks": ""
            },
            "colorscale": [
             [
              0,
              "#0d0887"
             ],
             [
              0.1111111111111111,
              "#46039f"
             ],
             [
              0.2222222222222222,
              "#7201a8"
             ],
             [
              0.3333333333333333,
              "#9c179e"
             ],
             [
              0.4444444444444444,
              "#bd3786"
             ],
             [
              0.5555555555555556,
              "#d8576b"
             ],
             [
              0.6666666666666666,
              "#ed7953"
             ],
             [
              0.7777777777777778,
              "#fb9f3a"
             ],
             [
              0.8888888888888888,
              "#fdca26"
             ],
             [
              1,
              "#f0f921"
             ]
            ],
            "type": "heatmap"
           }
          ],
          "heatmapgl": [
           {
            "colorbar": {
             "outlinewidth": 0,
             "ticks": ""
            },
            "colorscale": [
             [
              0,
              "#0d0887"
             ],
             [
              0.1111111111111111,
              "#46039f"
             ],
             [
              0.2222222222222222,
              "#7201a8"
             ],
             [
              0.3333333333333333,
              "#9c179e"
             ],
             [
              0.4444444444444444,
              "#bd3786"
             ],
             [
              0.5555555555555556,
              "#d8576b"
             ],
             [
              0.6666666666666666,
              "#ed7953"
             ],
             [
              0.7777777777777778,
              "#fb9f3a"
             ],
             [
              0.8888888888888888,
              "#fdca26"
             ],
             [
              1,
              "#f0f921"
             ]
            ],
            "type": "heatmapgl"
           }
          ],
          "histogram": [
           {
            "marker": {
             "pattern": {
              "fillmode": "overlay",
              "size": 10,
              "solidity": 0.2
             }
            },
            "type": "histogram"
           }
          ],
          "histogram2d": [
           {
            "colorbar": {
             "outlinewidth": 0,
             "ticks": ""
            },
            "colorscale": [
             [
              0,
              "#0d0887"
             ],
             [
              0.1111111111111111,
              "#46039f"
             ],
             [
              0.2222222222222222,
              "#7201a8"
             ],
             [
              0.3333333333333333,
              "#9c179e"
             ],
             [
              0.4444444444444444,
              "#bd3786"
             ],
             [
              0.5555555555555556,
              "#d8576b"
             ],
             [
              0.6666666666666666,
              "#ed7953"
             ],
             [
              0.7777777777777778,
              "#fb9f3a"
             ],
             [
              0.8888888888888888,
              "#fdca26"
             ],
             [
              1,
              "#f0f921"
             ]
            ],
            "type": "histogram2d"
           }
          ],
          "histogram2dcontour": [
           {
            "colorbar": {
             "outlinewidth": 0,
             "ticks": ""
            },
            "colorscale": [
             [
              0,
              "#0d0887"
             ],
             [
              0.1111111111111111,
              "#46039f"
             ],
             [
              0.2222222222222222,
              "#7201a8"
             ],
             [
              0.3333333333333333,
              "#9c179e"
             ],
             [
              0.4444444444444444,
              "#bd3786"
             ],
             [
              0.5555555555555556,
              "#d8576b"
             ],
             [
              0.6666666666666666,
              "#ed7953"
             ],
             [
              0.7777777777777778,
              "#fb9f3a"
             ],
             [
              0.8888888888888888,
              "#fdca26"
             ],
             [
              1,
              "#f0f921"
             ]
            ],
            "type": "histogram2dcontour"
           }
          ],
          "mesh3d": [
           {
            "colorbar": {
             "outlinewidth": 0,
             "ticks": ""
            },
            "type": "mesh3d"
           }
          ],
          "parcoords": [
           {
            "line": {
             "colorbar": {
              "outlinewidth": 0,
              "ticks": ""
             }
            },
            "type": "parcoords"
           }
          ],
          "pie": [
           {
            "automargin": true,
            "type": "pie"
           }
          ],
          "scatter": [
           {
            "fillpattern": {
             "fillmode": "overlay",
             "size": 10,
             "solidity": 0.2
            },
            "type": "scatter"
           }
          ],
          "scatter3d": [
           {
            "line": {
             "colorbar": {
              "outlinewidth": 0,
              "ticks": ""
             }
            },
            "marker": {
             "colorbar": {
              "outlinewidth": 0,
              "ticks": ""
             }
            },
            "type": "scatter3d"
           }
          ],
          "scattercarpet": [
           {
            "marker": {
             "colorbar": {
              "outlinewidth": 0,
              "ticks": ""
             }
            },
            "type": "scattercarpet"
           }
          ],
          "scattergeo": [
           {
            "marker": {
             "colorbar": {
              "outlinewidth": 0,
              "ticks": ""
             }
            },
            "type": "scattergeo"
           }
          ],
          "scattergl": [
           {
            "marker": {
             "colorbar": {
              "outlinewidth": 0,
              "ticks": ""
             }
            },
            "type": "scattergl"
           }
          ],
          "scattermapbox": [
           {
            "marker": {
             "colorbar": {
              "outlinewidth": 0,
              "ticks": ""
             }
            },
            "type": "scattermapbox"
           }
          ],
          "scatterpolar": [
           {
            "marker": {
             "colorbar": {
              "outlinewidth": 0,
              "ticks": ""
             }
            },
            "type": "scatterpolar"
           }
          ],
          "scatterpolargl": [
           {
            "marker": {
             "colorbar": {
              "outlinewidth": 0,
              "ticks": ""
             }
            },
            "type": "scatterpolargl"
           }
          ],
          "scatterternary": [
           {
            "marker": {
             "colorbar": {
              "outlinewidth": 0,
              "ticks": ""
             }
            },
            "type": "scatterternary"
           }
          ],
          "surface": [
           {
            "colorbar": {
             "outlinewidth": 0,
             "ticks": ""
            },
            "colorscale": [
             [
              0,
              "#0d0887"
             ],
             [
              0.1111111111111111,
              "#46039f"
             ],
             [
              0.2222222222222222,
              "#7201a8"
             ],
             [
              0.3333333333333333,
              "#9c179e"
             ],
             [
              0.4444444444444444,
              "#bd3786"
             ],
             [
              0.5555555555555556,
              "#d8576b"
             ],
             [
              0.6666666666666666,
              "#ed7953"
             ],
             [
              0.7777777777777778,
              "#fb9f3a"
             ],
             [
              0.8888888888888888,
              "#fdca26"
             ],
             [
              1,
              "#f0f921"
             ]
            ],
            "type": "surface"
           }
          ],
          "table": [
           {
            "cells": {
             "fill": {
              "color": "#EBF0F8"
             },
             "line": {
              "color": "white"
             }
            },
            "header": {
             "fill": {
              "color": "#C8D4E3"
             },
             "line": {
              "color": "white"
             }
            },
            "type": "table"
           }
          ]
         },
         "layout": {
          "annotationdefaults": {
           "arrowcolor": "#2a3f5f",
           "arrowhead": 0,
           "arrowwidth": 1
          },
          "autotypenumbers": "strict",
          "coloraxis": {
           "colorbar": {
            "outlinewidth": 0,
            "ticks": ""
           }
          },
          "colorscale": {
           "diverging": [
            [
             0,
             "#8e0152"
            ],
            [
             0.1,
             "#c51b7d"
            ],
            [
             0.2,
             "#de77ae"
            ],
            [
             0.3,
             "#f1b6da"
            ],
            [
             0.4,
             "#fde0ef"
            ],
            [
             0.5,
             "#f7f7f7"
            ],
            [
             0.6,
             "#e6f5d0"
            ],
            [
             0.7,
             "#b8e186"
            ],
            [
             0.8,
             "#7fbc41"
            ],
            [
             0.9,
             "#4d9221"
            ],
            [
             1,
             "#276419"
            ]
           ],
           "sequential": [
            [
             0,
             "#0d0887"
            ],
            [
             0.1111111111111111,
             "#46039f"
            ],
            [
             0.2222222222222222,
             "#7201a8"
            ],
            [
             0.3333333333333333,
             "#9c179e"
            ],
            [
             0.4444444444444444,
             "#bd3786"
            ],
            [
             0.5555555555555556,
             "#d8576b"
            ],
            [
             0.6666666666666666,
             "#ed7953"
            ],
            [
             0.7777777777777778,
             "#fb9f3a"
            ],
            [
             0.8888888888888888,
             "#fdca26"
            ],
            [
             1,
             "#f0f921"
            ]
           ],
           "sequentialminus": [
            [
             0,
             "#0d0887"
            ],
            [
             0.1111111111111111,
             "#46039f"
            ],
            [
             0.2222222222222222,
             "#7201a8"
            ],
            [
             0.3333333333333333,
             "#9c179e"
            ],
            [
             0.4444444444444444,
             "#bd3786"
            ],
            [
             0.5555555555555556,
             "#d8576b"
            ],
            [
             0.6666666666666666,
             "#ed7953"
            ],
            [
             0.7777777777777778,
             "#fb9f3a"
            ],
            [
             0.8888888888888888,
             "#fdca26"
            ],
            [
             1,
             "#f0f921"
            ]
           ]
          },
          "colorway": [
           "#636efa",
           "#EF553B",
           "#00cc96",
           "#ab63fa",
           "#FFA15A",
           "#19d3f3",
           "#FF6692",
           "#B6E880",
           "#FF97FF",
           "#FECB52"
          ],
          "font": {
           "color": "#2a3f5f"
          },
          "geo": {
           "bgcolor": "white",
           "lakecolor": "white",
           "landcolor": "#E5ECF6",
           "showlakes": true,
           "showland": true,
           "subunitcolor": "white"
          },
          "hoverlabel": {
           "align": "left"
          },
          "hovermode": "closest",
          "mapbox": {
           "style": "light"
          },
          "paper_bgcolor": "white",
          "plot_bgcolor": "#E5ECF6",
          "polar": {
           "angularaxis": {
            "gridcolor": "white",
            "linecolor": "white",
            "ticks": ""
           },
           "bgcolor": "#E5ECF6",
           "radialaxis": {
            "gridcolor": "white",
            "linecolor": "white",
            "ticks": ""
           }
          },
          "scene": {
           "xaxis": {
            "backgroundcolor": "#E5ECF6",
            "gridcolor": "white",
            "gridwidth": 2,
            "linecolor": "white",
            "showbackground": true,
            "ticks": "",
            "zerolinecolor": "white"
           },
           "yaxis": {
            "backgroundcolor": "#E5ECF6",
            "gridcolor": "white",
            "gridwidth": 2,
            "linecolor": "white",
            "showbackground": true,
            "ticks": "",
            "zerolinecolor": "white"
           },
           "zaxis": {
            "backgroundcolor": "#E5ECF6",
            "gridcolor": "white",
            "gridwidth": 2,
            "linecolor": "white",
            "showbackground": true,
            "ticks": "",
            "zerolinecolor": "white"
           }
          },
          "shapedefaults": {
           "line": {
            "color": "#2a3f5f"
           }
          },
          "ternary": {
           "aaxis": {
            "gridcolor": "white",
            "linecolor": "white",
            "ticks": ""
           },
           "baxis": {
            "gridcolor": "white",
            "linecolor": "white",
            "ticks": ""
           },
           "bgcolor": "#E5ECF6",
           "caxis": {
            "gridcolor": "white",
            "linecolor": "white",
            "ticks": ""
           }
          },
          "title": {
           "x": 0.05
          },
          "xaxis": {
           "automargin": true,
           "gridcolor": "white",
           "linecolor": "white",
           "ticks": "",
           "title": {
            "standoff": 15
           },
           "zerolinecolor": "white",
           "zerolinewidth": 2
          },
          "yaxis": {
           "automargin": true,
           "gridcolor": "white",
           "linecolor": "white",
           "ticks": "",
           "title": {
            "standoff": 15
           },
           "zerolinecolor": "white",
           "zerolinewidth": 2
          }
         }
        },
        "title": {
         "text": "Cube de Pareto (axes normalisé sur [0, 1])"
        },
        "width": 700
       }
      },
      "text/html": [
       "<div>                            <div id=\"8d1cf98f-0f01-4c95-95fe-d4ed7ecf35b4\" class=\"plotly-graph-div\" style=\"height:525px; width:700px;\"></div>            <script type=\"text/javascript\">                require([\"plotly\"], function(Plotly) {                    window.PLOTLYENV=window.PLOTLYENV || {};                                    if (document.getElementById(\"8d1cf98f-0f01-4c95-95fe-d4ed7ecf35b4\")) {                    Plotly.newPlot(                        \"8d1cf98f-0f01-4c95-95fe-d4ed7ecf35b4\",                        [{\"i\":[7,0,0,0,4,4,6,6,4,0,3,2],\"j\":[3,4,1,2,5,6,5,2,0,1,6,3],\"k\":[0,7,2,3,6,7,1,1,5,5,7,6],\"name\":\"y\",\"opacity\":0.5,\"x\":[1.0,1.0,0.1875,0.1875,1.0,1.0,0.1875,0.1875],\"y\":[0.6,0.0,0.0,0.6,0.6,0.0,0.0,0.6],\"z\":[0.6,0.6,0.6,0.6,0.0,0.0,0.0,0.0],\"type\":\"mesh3d\"}],                        {\"template\":{\"data\":{\"histogram2dcontour\":[{\"type\":\"histogram2dcontour\",\"colorbar\":{\"outlinewidth\":0,\"ticks\":\"\"},\"colorscale\":[[0.0,\"#0d0887\"],[0.1111111111111111,\"#46039f\"],[0.2222222222222222,\"#7201a8\"],[0.3333333333333333,\"#9c179e\"],[0.4444444444444444,\"#bd3786\"],[0.5555555555555556,\"#d8576b\"],[0.6666666666666666,\"#ed7953\"],[0.7777777777777778,\"#fb9f3a\"],[0.8888888888888888,\"#fdca26\"],[1.0,\"#f0f921\"]]}],\"choropleth\":[{\"type\":\"choropleth\",\"colorbar\":{\"outlinewidth\":0,\"ticks\":\"\"}}],\"histogram2d\":[{\"type\":\"histogram2d\",\"colorbar\":{\"outlinewidth\":0,\"ticks\":\"\"},\"colorscale\":[[0.0,\"#0d0887\"],[0.1111111111111111,\"#46039f\"],[0.2222222222222222,\"#7201a8\"],[0.3333333333333333,\"#9c179e\"],[0.4444444444444444,\"#bd3786\"],[0.5555555555555556,\"#d8576b\"],[0.6666666666666666,\"#ed7953\"],[0.7777777777777778,\"#fb9f3a\"],[0.8888888888888888,\"#fdca26\"],[1.0,\"#f0f921\"]]}],\"heatmap\":[{\"type\":\"heatmap\",\"colorbar\":{\"outlinewidth\":0,\"ticks\":\"\"},\"colorscale\":[[0.0,\"#0d0887\"],[0.1111111111111111,\"#46039f\"],[0.2222222222222222,\"#7201a8\"],[0.3333333333333333,\"#9c179e\"],[0.4444444444444444,\"#bd3786\"],[0.5555555555555556,\"#d8576b\"],[0.6666666666666666,\"#ed7953\"],[0.7777777777777778,\"#fb9f3a\"],[0.8888888888888888,\"#fdca26\"],[1.0,\"#f0f921\"]]}],\"heatmapgl\":[{\"type\":\"heatmapgl\",\"colorbar\":{\"outlinewidth\":0,\"ticks\":\"\"},\"colorscale\":[[0.0,\"#0d0887\"],[0.1111111111111111,\"#46039f\"],[0.2222222222222222,\"#7201a8\"],[0.3333333333333333,\"#9c179e\"],[0.4444444444444444,\"#bd3786\"],[0.5555555555555556,\"#d8576b\"],[0.6666666666666666,\"#ed7953\"],[0.7777777777777778,\"#fb9f3a\"],[0.8888888888888888,\"#fdca26\"],[1.0,\"#f0f921\"]]}],\"contourcarpet\":[{\"type\":\"contourcarpet\",\"colorbar\":{\"outlinewidth\":0,\"ticks\":\"\"}}],\"contour\":[{\"type\":\"contour\",\"colorbar\":{\"outlinewidth\":0,\"ticks\":\"\"},\"colorscale\":[[0.0,\"#0d0887\"],[0.1111111111111111,\"#46039f\"],[0.2222222222222222,\"#7201a8\"],[0.3333333333333333,\"#9c179e\"],[0.4444444444444444,\"#bd3786\"],[0.5555555555555556,\"#d8576b\"],[0.6666666666666666,\"#ed7953\"],[0.7777777777777778,\"#fb9f3a\"],[0.8888888888888888,\"#fdca26\"],[1.0,\"#f0f921\"]]}],\"surface\":[{\"type\":\"surface\",\"colorbar\":{\"outlinewidth\":0,\"ticks\":\"\"},\"colorscale\":[[0.0,\"#0d0887\"],[0.1111111111111111,\"#46039f\"],[0.2222222222222222,\"#7201a8\"],[0.3333333333333333,\"#9c179e\"],[0.4444444444444444,\"#bd3786\"],[0.5555555555555556,\"#d8576b\"],[0.6666666666666666,\"#ed7953\"],[0.7777777777777778,\"#fb9f3a\"],[0.8888888888888888,\"#fdca26\"],[1.0,\"#f0f921\"]]}],\"mesh3d\":[{\"type\":\"mesh3d\",\"colorbar\":{\"outlinewidth\":0,\"ticks\":\"\"}}],\"scatter\":[{\"fillpattern\":{\"fillmode\":\"overlay\",\"size\":10,\"solidity\":0.2},\"type\":\"scatter\"}],\"parcoords\":[{\"type\":\"parcoords\",\"line\":{\"colorbar\":{\"outlinewidth\":0,\"ticks\":\"\"}}}],\"scatterpolargl\":[{\"type\":\"scatterpolargl\",\"marker\":{\"colorbar\":{\"outlinewidth\":0,\"ticks\":\"\"}}}],\"bar\":[{\"error_x\":{\"color\":\"#2a3f5f\"},\"error_y\":{\"color\":\"#2a3f5f\"},\"marker\":{\"line\":{\"color\":\"#E5ECF6\",\"width\":0.5},\"pattern\":{\"fillmode\":\"overlay\",\"size\":10,\"solidity\":0.2}},\"type\":\"bar\"}],\"scattergeo\":[{\"type\":\"scattergeo\",\"marker\":{\"colorbar\":{\"outlinewidth\":0,\"ticks\":\"\"}}}],\"scatterpolar\":[{\"type\":\"scatterpolar\",\"marker\":{\"colorbar\":{\"outlinewidth\":0,\"ticks\":\"\"}}}],\"histogram\":[{\"marker\":{\"pattern\":{\"fillmode\":\"overlay\",\"size\":10,\"solidity\":0.2}},\"type\":\"histogram\"}],\"scattergl\":[{\"type\":\"scattergl\",\"marker\":{\"colorbar\":{\"outlinewidth\":0,\"ticks\":\"\"}}}],\"scatter3d\":[{\"type\":\"scatter3d\",\"line\":{\"colorbar\":{\"outlinewidth\":0,\"ticks\":\"\"}},\"marker\":{\"colorbar\":{\"outlinewidth\":0,\"ticks\":\"\"}}}],\"scattermapbox\":[{\"type\":\"scattermapbox\",\"marker\":{\"colorbar\":{\"outlinewidth\":0,\"ticks\":\"\"}}}],\"scatterternary\":[{\"type\":\"scatterternary\",\"marker\":{\"colorbar\":{\"outlinewidth\":0,\"ticks\":\"\"}}}],\"scattercarpet\":[{\"type\":\"scattercarpet\",\"marker\":{\"colorbar\":{\"outlinewidth\":0,\"ticks\":\"\"}}}],\"carpet\":[{\"aaxis\":{\"endlinecolor\":\"#2a3f5f\",\"gridcolor\":\"white\",\"linecolor\":\"white\",\"minorgridcolor\":\"white\",\"startlinecolor\":\"#2a3f5f\"},\"baxis\":{\"endlinecolor\":\"#2a3f5f\",\"gridcolor\":\"white\",\"linecolor\":\"white\",\"minorgridcolor\":\"white\",\"startlinecolor\":\"#2a3f5f\"},\"type\":\"carpet\"}],\"table\":[{\"cells\":{\"fill\":{\"color\":\"#EBF0F8\"},\"line\":{\"color\":\"white\"}},\"header\":{\"fill\":{\"color\":\"#C8D4E3\"},\"line\":{\"color\":\"white\"}},\"type\":\"table\"}],\"barpolar\":[{\"marker\":{\"line\":{\"color\":\"#E5ECF6\",\"width\":0.5},\"pattern\":{\"fillmode\":\"overlay\",\"size\":10,\"solidity\":0.2}},\"type\":\"barpolar\"}],\"pie\":[{\"automargin\":true,\"type\":\"pie\"}]},\"layout\":{\"autotypenumbers\":\"strict\",\"colorway\":[\"#636efa\",\"#EF553B\",\"#00cc96\",\"#ab63fa\",\"#FFA15A\",\"#19d3f3\",\"#FF6692\",\"#B6E880\",\"#FF97FF\",\"#FECB52\"],\"font\":{\"color\":\"#2a3f5f\"},\"hovermode\":\"closest\",\"hoverlabel\":{\"align\":\"left\"},\"paper_bgcolor\":\"white\",\"plot_bgcolor\":\"#E5ECF6\",\"polar\":{\"bgcolor\":\"#E5ECF6\",\"angularaxis\":{\"gridcolor\":\"white\",\"linecolor\":\"white\",\"ticks\":\"\"},\"radialaxis\":{\"gridcolor\":\"white\",\"linecolor\":\"white\",\"ticks\":\"\"}},\"ternary\":{\"bgcolor\":\"#E5ECF6\",\"aaxis\":{\"gridcolor\":\"white\",\"linecolor\":\"white\",\"ticks\":\"\"},\"baxis\":{\"gridcolor\":\"white\",\"linecolor\":\"white\",\"ticks\":\"\"},\"caxis\":{\"gridcolor\":\"white\",\"linecolor\":\"white\",\"ticks\":\"\"}},\"coloraxis\":{\"colorbar\":{\"outlinewidth\":0,\"ticks\":\"\"}},\"colorscale\":{\"sequential\":[[0.0,\"#0d0887\"],[0.1111111111111111,\"#46039f\"],[0.2222222222222222,\"#7201a8\"],[0.3333333333333333,\"#9c179e\"],[0.4444444444444444,\"#bd3786\"],[0.5555555555555556,\"#d8576b\"],[0.6666666666666666,\"#ed7953\"],[0.7777777777777778,\"#fb9f3a\"],[0.8888888888888888,\"#fdca26\"],[1.0,\"#f0f921\"]],\"sequentialminus\":[[0.0,\"#0d0887\"],[0.1111111111111111,\"#46039f\"],[0.2222222222222222,\"#7201a8\"],[0.3333333333333333,\"#9c179e\"],[0.4444444444444444,\"#bd3786\"],[0.5555555555555556,\"#d8576b\"],[0.6666666666666666,\"#ed7953\"],[0.7777777777777778,\"#fb9f3a\"],[0.8888888888888888,\"#fdca26\"],[1.0,\"#f0f921\"]],\"diverging\":[[0,\"#8e0152\"],[0.1,\"#c51b7d\"],[0.2,\"#de77ae\"],[0.3,\"#f1b6da\"],[0.4,\"#fde0ef\"],[0.5,\"#f7f7f7\"],[0.6,\"#e6f5d0\"],[0.7,\"#b8e186\"],[0.8,\"#7fbc41\"],[0.9,\"#4d9221\"],[1,\"#276419\"]]},\"xaxis\":{\"gridcolor\":\"white\",\"linecolor\":\"white\",\"ticks\":\"\",\"title\":{\"standoff\":15},\"zerolinecolor\":\"white\",\"automargin\":true,\"zerolinewidth\":2},\"yaxis\":{\"gridcolor\":\"white\",\"linecolor\":\"white\",\"ticks\":\"\",\"title\":{\"standoff\":15},\"zerolinecolor\":\"white\",\"automargin\":true,\"zerolinewidth\":2},\"scene\":{\"xaxis\":{\"backgroundcolor\":\"#E5ECF6\",\"gridcolor\":\"white\",\"linecolor\":\"white\",\"showbackground\":true,\"ticks\":\"\",\"zerolinecolor\":\"white\",\"gridwidth\":2},\"yaxis\":{\"backgroundcolor\":\"#E5ECF6\",\"gridcolor\":\"white\",\"linecolor\":\"white\",\"showbackground\":true,\"ticks\":\"\",\"zerolinecolor\":\"white\",\"gridwidth\":2},\"zaxis\":{\"backgroundcolor\":\"#E5ECF6\",\"gridcolor\":\"white\",\"linecolor\":\"white\",\"showbackground\":true,\"ticks\":\"\",\"zerolinecolor\":\"white\",\"gridwidth\":2}},\"shapedefaults\":{\"line\":{\"color\":\"#2a3f5f\"}},\"annotationdefaults\":{\"arrowcolor\":\"#2a3f5f\",\"arrowhead\":0,\"arrowwidth\":1},\"geo\":{\"bgcolor\":\"white\",\"landcolor\":\"#E5ECF6\",\"subunitcolor\":\"white\",\"showland\":true,\"showlakes\":true,\"lakecolor\":\"white\"},\"title\":{\"x\":0.05},\"mapbox\":{\"style\":\"light\"}}},\"scene\":{\"xaxis\":{\"nticks\":10,\"range\":[0,1],\"title\":{\"text\":\"1 - Gain\"}},\"yaxis\":{\"nticks\":10,\"range\":[0,1],\"title\":{\"text\":\"# projets du collab. le + occup\\u00e9\"}},\"zaxis\":{\"nticks\":10,\"range\":[0,1],\"title\":{\"text\":\"Dur\\u00e9e du projet le plus long\"}}},\"margin\":{\"r\":20,\"l\":10,\"b\":10,\"t\":10},\"width\":700,\"title\":{\"text\":\"Cube de Pareto (axes normalis\\u00e9 sur [0, 1])\"}},                        {\"responsive\": true}                    ).then(function(){\n",
       "                            \n",
       "var gd = document.getElementById('8d1cf98f-0f01-4c95-95fe-d4ed7ecf35b4');\n",
       "var x = new MutationObserver(function (mutations, observer) {{\n",
       "        var display = window.getComputedStyle(gd).display;\n",
       "        if (!display || display === 'none') {{\n",
       "            console.log([gd, 'removed!']);\n",
       "            Plotly.purge(gd);\n",
       "            observer.disconnect();\n",
       "        }}\n",
       "}});\n",
       "\n",
       "// Listen for the removal of the full notebook cells\n",
       "var notebookContainer = gd.closest('#notebook-container');\n",
       "if (notebookContainer) {{\n",
       "    x.observe(notebookContainer, {childList: true});\n",
       "}}\n",
       "\n",
       "// Listen for the clearing of the current output cell\n",
       "var outputEl = gd.closest('.output');\n",
       "if (outputEl) {{\n",
       "    x.observe(outputEl, {childList: true});\n",
       "}}\n",
       "\n",
       "                        })                };                });            </script>        </div>"
      ]
     },
     "metadata": {},
     "output_type": "display_data"
    }
   ],
   "source": [
    "fig = go.Figure(data=[\n",
    "    go.Mesh3d(\n",
    "        # 8 vertices of a cube\n",
    "        x=[p1[0], p1[0], p2[0], p2[0], p1[0], p1[0], p2[0], p2[0]],\n",
    "        y=[p1[1], p2[1], p2[1], p1[1], p1[1], p2[1], p2[1], p1[1]],\n",
    "        z=[p1[2], p1[2], p1[2], p1[2], p2[2], p2[2], p2[2], p2[2]],\n",
    "\n",
    "        # i, j and k give the vertices of triangles\n",
    "        i = [7, 0, 0, 0, 4, 4, 6, 6, 4, 0, 3, 2],\n",
    "        j = [3, 4, 1, 2, 5, 6, 5, 2, 0, 1, 6, 3],\n",
    "        k = [0, 7, 2, 3, 6, 7, 1, 1, 5, 5, 7, 6],\n",
    "        name='y',\n",
    "        opacity=0.50\n",
    "    )\n",
    "])\n",
    "fig.update_layout(\n",
    "    scene = dict(\n",
    "                xaxis = dict(nticks=10, range=[0,1],),\n",
    "                yaxis = dict(nticks=10, range=[0,1],),\n",
    "                zaxis = dict(nticks=10, range=[0,1],),\n",
    "                xaxis_title='1 - Gain',\n",
    "                yaxis_title='# projets du collab. le + occupé',\n",
    "                zaxis_title='Durée du projet le plus long',\n",
    "    ),\n",
    "    width=700,\n",
    "    margin=dict(r=20, l=10, b=10, t=10))\n",
    "fig.update_layout(title_text=\"Cube de Pareto (axes normalisé sur [0, 1])\")\n",
    "fig.show()"
   ]
  },
  {
   "cell_type": "code",
   "execution_count": null,
   "id": "b7a3da8b",
   "metadata": {},
   "outputs": [],
   "source": []
  }
 ],
 "metadata": {
  "kernelspec": {
   "display_name": "Python 3 (ipykernel)",
   "language": "python",
   "name": "python3"
  },
  "language_info": {
   "codemirror_mode": {
    "name": "ipython",
    "version": 3
   },
   "file_extension": ".py",
   "mimetype": "text/x-python",
   "name": "python",
   "nbconvert_exporter": "python",
   "pygments_lexer": "ipython3",
   "version": "3.10.4"
  },
  "vscode": {
   "interpreter": {
    "hash": "26de051ba29f2982a8de78e945f0abaf191376122a1563185a90213a26c5da77"
   }
  }
 },
 "nbformat": 4,
 "nbformat_minor": 5
}
