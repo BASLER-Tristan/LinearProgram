{
 "cells": [
  {
   "cell_type": "markdown",
   "id": "e6dff554",
   "metadata": {},
   "source": [
    "## Systèmes de décision\n",
    "### Projet - optimisation d'un emploi du temps\n",
    "#### Partie 1 : modélisation, implémentation avec Gurobi, résolution et affichage de la surface de Pareto\n",
    "<br>\n",
    "<br>"
   ]
  },
  {
   "attachments": {},
   "cell_type": "markdown",
   "id": "1b2fd1b1",
   "metadata": {},
   "source": [
    "<i>Sommaire :</i>\n",
    "<br>\n",
    "<br>\n",
    "[1 - Chargement des données](#sect1)\n",
    "<br>\n",
    "<br>\n",
    "[2 - Définition des constantes](#sect2)\n",
    "<br>\n",
    "<br>\n",
    "[3 - Instanciation du modèle et des variables](#sect3)\n",
    "<br>\n",
    "<br>\n",
    "[4 - Définition des fonctions objectifs](#sect4)\n",
    "<br>\n",
    "<br>\n",
    "[5 - Définition des contraintes](#sect5)\n",
    "<br>\n",
    "<br>\n",
    "[6 - Optimisation et vérification du respect des contraintes](#sect6)\n",
    "<br>\n",
    "<br>\n",
    "[7 - Calcul du \"cube\" de Pareto puis de la surface de Pareto](#sect7)\n",
    "<br>\n",
    "<br>\n",
    "<br>"
   ]
  },
  {
   "cell_type": "markdown",
   "id": "039515a3",
   "metadata": {},
   "source": [
    "### 1 - Chargement des données\n",
    "<a id=\"sect1\"> </a>"
   ]
  },
  {
   "cell_type": "code",
   "execution_count": 1,
   "id": "c13e1304",
   "metadata": {},
   "outputs": [],
   "source": [
    "import gurobipy as gp # solver\n",
    "from gurobipy import GRB\n",
    "import numpy as np\n",
    "from tqdm import tqdm\n",
    "import plotly.graph_objects as go # import pour l'affichage, si problème, possible de supprimer cet import"
   ]
  },
  {
   "cell_type": "code",
   "execution_count": 2,
   "id": "59dd0fd3",
   "metadata": {},
   "outputs": [],
   "source": [
    "from InstanceClass import Instance # custom class built to load and encode .json files (instances)"
   ]
  },
  {
   "cell_type": "code",
   "execution_count": 3,
   "id": "3fa85ee8",
   "metadata": {},
   "outputs": [],
   "source": [
    "instance = Instance(path=\"data/toy_instance.json\")\n",
    "instance.build_instance()"
   ]
  },
  {
   "cell_type": "code",
   "execution_count": 4,
   "id": "d9017d62",
   "metadata": {},
   "outputs": [
    {
     "data": {
      "text/plain": [
       "{'NP': 5,\n",
       " 'NC': 3,\n",
       " 'NA': 3,\n",
       " 'H': 5,\n",
       " 'GAIN': [20, 15, 15, 20, 10],\n",
       " 'PENALTIES': array([[0., 0., 0., 3., 6.],\n",
       "        [0., 0., 0., 3., 6.],\n",
       "        [0., 0., 0., 0., 3.],\n",
       "        [0., 0., 0., 3., 6.],\n",
       "        [0., 0., 0., 0., 0.]]),\n",
       " 'STAFF_QUALIFICATIONS': array([[1., 1., 1.],\n",
       "        [1., 1., 0.],\n",
       "        [0., 0., 1.]]),\n",
       " 'COST_PROJECT': array([[1., 1., 1.],\n",
       "        [1., 2., 0.],\n",
       "        [1., 0., 2.],\n",
       "        [0., 2., 1.],\n",
       "        [0., 0., 2.]]),\n",
       " 'CONGES': array([[0., 0., 0., 0., 0.],\n",
       "        [1., 0., 0., 0., 0.],\n",
       "        [0., 1., 0., 0., 0.]])}"
      ]
     },
     "execution_count": 4,
     "metadata": {},
     "output_type": "execute_result"
    }
   ],
   "source": [
    "instance.variables # check that everything works as expected"
   ]
  },
  {
   "cell_type": "markdown",
   "id": "6a123939",
   "metadata": {},
   "source": [
    "Quelques précisions sur la convention de nommage (également détaillée dans le compte-rendu) : \n",
    "<br>\n",
    "<br>\n",
    "$n_p$ : le nombre de projets de l'instance\n",
    "<br>\n",
    "$n_c$ : le nombre de collaborateurs de l'instance\n",
    "<br>\n",
    "$n_a$ :  le nombre de compétences présentes dans l'instance\n",
    "<br>\n",
    "$h$ :  l'horizon de temps du problème (en jours), début au jour 1\n",
    "<br>\n",
    "<br>\n",
    "<br>"
   ]
  },
  {
   "cell_type": "markdown",
   "id": "815ee4bd",
   "metadata": {},
   "source": [
    "### 2 - Définition des constantes\n",
    "<a id=\"sect2\"> </a>\n",
    "<br>\n",
    "<br>\n",
    "Nous pouvons définir certaines constantes du problème directement à partir de l'encodage de l'instance visible ci-dessus. Par convention, les constantes sont nommées en majuscule."
   ]
  },
  {
   "cell_type": "code",
   "execution_count": 5,
   "id": "0459b94b",
   "metadata": {},
   "outputs": [],
   "source": [
    "GAIN = instance.variables[\"GAIN\"]\n",
    "PENALTIES = instance.variables[\"PENALTIES\"]\n",
    "# note : les lignes représentent les projets et les colonnes le temps en jours, les valeurs représentent ainsi la pénalité totale\n",
    "COST_PROJECT = instance.variables[\"COST_PROJECT\"] # cette variable représente le coût en compétences des projets\n",
    "STAFF_QUALIFICATIONS = instance.variables[\"STAFF_QUALIFICATIONS\"]\n",
    "CONGES = instance.variables[\"CONGES\"]\n",
    "# bornes d'itération\n",
    "I = instance.variables[\"NC\"]\n",
    "J = instance.variables[\"H\"]\n",
    "L = instance.variables[\"NP\"]\n",
    "K = instance.variables[\"NA\"]"
   ]
  },
  {
   "cell_type": "markdown",
   "id": "df455477",
   "metadata": {},
   "source": [
    "<br>\n",
    "On aura donc :\n",
    "<br>\n",
    "<i>i</i> : indice de sommation sur les collaborateurs\n",
    "<br>\n",
    "<i>j</i> : indice de sommation sur le temps\n",
    "<br>\n",
    "<i>k</i> : indice de sommation sur les compétences\n",
    "<br>\n",
    "<i>l</i> : indice de sommation sur les projets\n",
    "<br>\n",
    "<br>\n",
    "Certaines quantités constantes du problème se dérivent à partir des quantités précédentes.\n",
    "<br>\n",
    "<br>"
   ]
  },
  {
   "cell_type": "code",
   "execution_count": 6,
   "id": "a060a6f8",
   "metadata": {},
   "outputs": [],
   "source": [
    "BENEFICES = np.array(\n",
    "    [\n",
    "        GAIN[time_step] - PENALTIES[time_step] for time_step in range(L)\n",
    "    ]\n",
    ") # bénéfice net que pourrait donner le projet i s'il était rendu au temps j (matrice)"
   ]
  },
  {
   "cell_type": "code",
   "execution_count": 7,
   "id": "d3237c0e",
   "metadata": {},
   "outputs": [],
   "source": [
    "MAX_COST = np.max(COST_PROJECT) # coût maximal en compétence du projet i"
   ]
  },
  {
   "cell_type": "code",
   "execution_count": 8,
   "id": "7b69737b",
   "metadata": {},
   "outputs": [
    {
     "name": "stdout",
     "output_type": "stream",
     "text": [
      "Les collaborateurs sont numérotés de 1 à 3\n",
      "Les jours sont numérotés de 1 à 5\n",
      "Les compétences sont numérotés de 1 à 3\n",
      "Les projets sont numérotés de 1 à 5\n"
     ]
    }
   ],
   "source": [
    "print(\n",
    "    \"Les collaborateurs sont numérotés de 1 à {}\".format(I)\n",
    ")\n",
    "print(\n",
    "    \"Les jours sont numérotés de 1 à {}\".format(J)\n",
    ")\n",
    "print(\n",
    "    \"Les compétences sont numérotés de 1 à {}\".format(K)\n",
    ")\n",
    "print(\n",
    "    \"Les projets sont numérotés de 1 à {}\".format(L)\n",
    ")"
   ]
  },
  {
   "cell_type": "code",
   "execution_count": 9,
   "id": "25d02522",
   "metadata": {},
   "outputs": [],
   "source": [
    "times = np.arange(J) + 1"
   ]
  },
  {
   "cell_type": "markdown",
   "id": "20dbf931",
   "metadata": {},
   "source": [
    "<br>\n",
    "<br>"
   ]
  },
  {
   "cell_type": "markdown",
   "id": "78395dda",
   "metadata": {},
   "source": [
    "### 3 - Instanciation du modèle et des variables\n",
    "<a id=\"sect3\"> </a>"
   ]
  },
  {
   "cell_type": "markdown",
   "id": "97976ad1",
   "metadata": {},
   "source": [
    "Nous allons maintenant définir un tenseur des affectations qui contiendra 4 dimensions. Le tenseur sera noté $A$.\n",
    "<br>\n",
    "<br>\n",
    "L'élément de tenseur $a_{i, j, k, l}$ vaudra 1 si et seulement si le collaborateur <i>i</i> travail le jour <i>j</i> selon la compétence <i>k</i> le projet <i>l</i> (et vaudra 0 sinon).\n",
    "<br>\n",
    "<br>\n",
    "Certaines fonctions de sommation sur ce tenseur nous serons ensuite utiles pour exprimer les fonctions objectifs et contraintes.\n",
    "<br>\n",
    "<br>"
   ]
  },
  {
   "cell_type": "code",
   "execution_count": 10,
   "id": "476ab324",
   "metadata": {},
   "outputs": [],
   "source": [
    "def calcul_work(Affectation):\n",
    "    \"\"\"\n",
    "    Entrée(s) :\n",
    "        Affectation (type) : tenseur des affectations des collaborateurs par compétence, sur les projets et dans le temps\n",
    "        \n",
    "    Sortie(s) :\n",
    "        work (numpy.array) : matrice contenant le travail des collaborateurs dans le temps selon les compétences (en lignes) et les projets (en colonnes)\n",
    "    \"\"\"\n",
    "    work = [\n",
    "        np.sum([Affectation[i][j] for i in range(3)] , axis=0) for j in range(np.shape(Affectation)[1])\n",
    "    ]\n",
    "    return np.array(work)"
   ]
  },
  {
   "cell_type": "code",
   "execution_count": 11,
   "id": "18c1eaec",
   "metadata": {},
   "outputs": [],
   "source": [
    "def calcul_temporel_work(work):\n",
    "    \"\"\"\n",
    "    Entrée(s) :\n",
    "        work (numpy.array) : matrice contenant le travail total des collaborateurs dans le temps selon les compétences (en lignes) et les projets (en colonnes)\n",
    "        \n",
    "    Sortie(s) :\n",
    "        work_over_time (numpy.array) : vecteur contenant le travail total des collaborateurs selon le temps et les compétences, par projets (en lignes)\n",
    "    \"\"\"\n",
    "    work_over_time = [\n",
    "        [gp.quicksum(work[0:i])[j] for i in range(1, J+1)] for j in range(L)\n",
    "    ]\n",
    "    return np.array(work_over_time)"
   ]
  },
  {
   "cell_type": "code",
   "execution_count": 12,
   "id": "11a1e8ac",
   "metadata": {},
   "outputs": [],
   "source": [
    "def calcul_work_final(work):\n",
    "    \"\"\"\n",
    "    Entrée(s) :\n",
    "        work (type) : tenseur des affectations des collaborateurs par compétence, sur les projets et dans le temps\n",
    "        \n",
    "    Sortie(s) :\n",
    "        work_per_project (numpy.array) : vecteur contenant le travail total des collaborateurs par projets (en lignes)\n",
    "    \"\"\"\n",
    "    work_per_project = gp.quicksum(work)  \n",
    "    return work_per_project"
   ]
  },
  {
   "cell_type": "code",
   "execution_count": 13,
   "id": "3a3990c7",
   "metadata": {},
   "outputs": [],
   "source": [
    "def compute_gain(Done_Project_solution):\n",
    "    \"\"\"\n",
    "    Entrée(s) :\n",
    "        Done_Project_solution (numpy.ndarray) : tenseur des affectations des collaborateurs par compétence, sur les projets et dans le temps\n",
    "        \n",
    "    Sortie(s) :\n",
    "        gain (float) : vecteur des bénéfices nets relatifs à chaque projet (projets en lignes)\n",
    "    \"\"\"\n",
    "    gain = 0\n",
    "    for i in range(Done_Project_solution.shape[0]):\n",
    "        gain += Done_Project_solution[i, :] @ BENEFICES[i, :]\n",
    "    return gain"
   ]
  },
  {
   "attachments": {},
   "cell_type": "markdown",
   "id": "61cbad99",
   "metadata": {},
   "source": [
    "Nous pouvons désormais instancier le modèle et définir le tenseur $A$.\n",
    "<br>\n",
    "<br>\n",
    "Note : la taille du tenseur $A$ est donc $n_c . h  . n_a. n_p$\n",
    "<br>\n",
    "<br>"
   ]
  },
  {
   "cell_type": "code",
   "execution_count": 14,
   "id": "a9726f74",
   "metadata": {},
   "outputs": [
    {
     "name": "stdout",
     "output_type": "stream",
     "text": [
      "Set parameter Username\n",
      "Academic license - for non-commercial use only - expires 2023-12-29\n"
     ]
    }
   ],
   "source": [
    "model = gp.Model(\"model-part1\")"
   ]
  },
  {
   "cell_type": "code",
   "execution_count": 15,
   "id": "d16caaba",
   "metadata": {},
   "outputs": [],
   "source": [
    "Affectation = model.addMVar(\n",
    "    shape=(I,J,L,K),\n",
    "    vtype=GRB.BINARY,\n",
    "    name=\"Affectation\"\n",
    ")"
   ]
  },
  {
   "attachments": {},
   "cell_type": "markdown",
   "id": "3ae3530d",
   "metadata": {},
   "source": [
    "Nous définissons ensuite une matrice $E$ qui contient les projets (en lignes) et les jours (en colonnes).\n",
    "<br>\n",
    "<br>\n",
    "L'élément de matrice $e_{i, j}$ vaut 1 si et seulement si le projet <i>i</i> est terminé le jour <i>j</i> (c'est-à-dire que tous les apports de travail par compétences ont été validés au jour <i>j</i>). Pour tous les jours pour lesquels le projet <i>i</i> n'est pas encore terminé ou pas encore commencé, $e_{i, j}$ vaut 0. Pour tous les jours ultérieurs au jour de terminaison du projet <i>i</i> (si pertinent), $e_{i, j}$ vaut 0 également.\n",
    "<br>\n",
    "<br>"
   ]
  },
  {
   "cell_type": "code",
   "execution_count": 19,
   "id": "9b46a9d8",
   "metadata": {},
   "outputs": [],
   "source": [
    "Done_Project = model.addMVar(\n",
    "    shape=(L, J),\n",
    "    vtype=GRB.BINARY,\n",
    "    name=\"Done_Project\"\n",
    ")"
   ]
  },
  {
   "attachments": {},
   "cell_type": "markdown",
   "id": "c486c93d",
   "metadata": {},
   "source": [
    "On peut définir la matrice $S$ analogue à $E$ mais qui contient les jours de début des projets, selon la même logique.\n",
    "<br>\n",
    "<br>"
   ]
  },
  {
   "cell_type": "code",
   "execution_count": 18,
   "id": "96317843",
   "metadata": {},
   "outputs": [],
   "source": [
    "Begin_Project = model.addMVar(\n",
    "    shape=(L, J),\n",
    "    vtype=GRB.BINARY,\n",
    "    name=\"Begin_Project\"\n",
    ") "
   ]
  },
  {
   "cell_type": "markdown",
   "id": "bc931724",
   "metadata": {},
   "source": [
    "<br>\n",
    "<br>"
   ]
  },
  {
   "cell_type": "markdown",
   "id": "17f67d6c",
   "metadata": {},
   "source": [
    "### 4 - Définition des fonctions objectifs\n",
    "<a id=\"sect4\"> </a>"
   ]
  },
  {
   "cell_type": "markdown",
   "id": "35f68ef7",
   "metadata": {},
   "source": [
    "Pour simplifier la définition des fonctions objectifs (et anticiper le calcul prochain de la surface de Pareto du problème), on définit une fonction <i>set_objectives</i> qui va nous servir à intégrer, à volonté, certaines fonctions objectifs au problème.\n",
    "<br>\n",
    "<br>\n",
    "<i>Remarque</i> : on souhaite à terme intégrer toutes les fonctions objectifs au problème, bien entendu !\n",
    "<br>\n",
    "<br>"
   ]
  },
  {
   "cell_type": "code",
   "execution_count": 20,
   "id": "e3b7478f",
   "metadata": {},
   "outputs": [],
   "source": [
    "def set_objectives(\n",
    "    model,\n",
    "    Done_Project,\n",
    "    include_gain_obj: bool,\n",
    "    include_nb_proj_obj: bool,\n",
    "    include_proj_time_obj: bool\n",
    "):\n",
    "    \"\"\"\n",
    "        Entrée(s) :\n",
    "            model,\n",
    "            include_gain_obj (bool): True si on inclut l'optimisation du gain dans le problème,\n",
    "            include_nb_proj_obj (bool): True si on inclut l'optimisation du nombre de projets max. du collab. le plus chargé dans le problème\n",
    "            include_proj_time_obj (bool): True si on inclut l'optimisation du temps du projet le plus long dans le problème\n",
    "        \n",
    "        Sortie(s) :\n",
    "         z_fo1, z_fo2, z_fo3: soit une variable Gurobi soit une constante réelle selon les choix faits en entrée\n",
    "            \n",
    "    \"\"\"\n",
    "    z_fo1 = gp.quicksum(gp.quicksum(Done_Project*BENEFICES))\n",
    "    \n",
    "    if include_gain_obj:\n",
    "        model.setObjective(\n",
    "            z_fo1,\n",
    "            GRB.MAXIMIZE\n",
    "        )\n",
    "        \n",
    "    if include_nb_proj_obj:\n",
    "        z_fo2 = model.addVar(vtype=GRB.INTEGER, name=\"Max_Projet\")\n",
    "        model.setObjective(\n",
    "            z_fo2,\n",
    "            GRB.MINIMIZE\n",
    "        )\n",
    "    else:\n",
    "        z_fo2 = 5 # default fixed value\n",
    "\n",
    "    if include_proj_time_obj:\n",
    "        z_fo3 = model.addVar(vtype=GRB.INTEGER, name=\"Duree_Max_Projet\")\n",
    "        model.setObjective(\n",
    "           z_fo3,\n",
    "           GRB.MINIMIZE\n",
    "       )\n",
    "    else:\n",
    "        z_fo3 = 5 # default fixed value\n",
    "        \n",
    "    return z_fo1, z_fo2, z_fo3"
   ]
  },
  {
   "cell_type": "code",
   "execution_count": 21,
   "id": "f2893511",
   "metadata": {},
   "outputs": [],
   "source": [
    "def set_gain_objectives(\n",
    "    model,\n",
    "    Done_Project\n",
    "):\n",
    "    \"\"\"\n",
    "       Même principe que la fonction set_objectives précédente, mais ici seulement pour fixer l'optimisation du gain.\n",
    "       Cette fonction sera utile lors de l'obtention de la surface de Pareto (FO2 et FO3 fixées).     \n",
    "    \"\"\"\n",
    "    z_fo1 = gp.quicksum(gp.quicksum(Done_Project*BENEFICES))\n",
    "    model.setObjective(z_fo1, GRB.MAXIMIZE)\n",
    "\n",
    "    return z_fo1"
   ]
  },
  {
   "cell_type": "code",
   "execution_count": 22,
   "id": "5c1637bb",
   "metadata": {},
   "outputs": [],
   "source": [
    "z_fo1, z_fo2, z_fo3 = set_objectives(\n",
    "    model, \n",
    "    Done_Project,\n",
    "    True,\n",
    "    False,\n",
    "    False\n",
    ")"
   ]
  },
  {
   "cell_type": "markdown",
   "id": "0c69f232",
   "metadata": {},
   "source": [
    "<br>\n",
    "<br>"
   ]
  },
  {
   "cell_type": "markdown",
   "id": "868d9bc5",
   "metadata": {},
   "source": [
    "### 5 - Définition des contraintes\n",
    "<a id=\"sect5\"> </a>"
   ]
  },
  {
   "attachments": {},
   "cell_type": "markdown",
   "id": "ad95d1f0",
   "metadata": {},
   "source": [
    "Avant de passer à la définition des contraintes du problème, nous allons instancier deux quantités annexes, les \"travaux partiels\", définis à partir des fonctions déclarées au début de la section <a>3 - Instanciation du modèle et des variables</a>.\n",
    "<br>\n",
    "<br>"
   ]
  },
  {
   "cell_type": "code",
   "execution_count": 23,
   "id": "827812b8",
   "metadata": {},
   "outputs": [],
   "source": [
    "final_work = calcul_work_final(calcul_work(Affectation)) # utile pour vérifier qu'un projet est terminé\n",
    "# somme cumulée dans le temps du travail effectué par projet et par compétence\n",
    "temp_work = calcul_temporel_work(calcul_work(Affectation))"
   ]
  },
  {
   "cell_type": "markdown",
   "id": "df6334fc",
   "metadata": {},
   "source": [
    "<br>\n",
    "<br>\n",
    "On va d'abord définir les contraintes \"de base\" du problème.\n",
    "<br>\n",
    "<br>"
   ]
  },
  {
   "cell_type": "code",
   "execution_count": 24,
   "id": "cf3d00ed",
   "metadata": {},
   "outputs": [],
   "source": [
    "def base_constraints(model, Affectation, temp_work, Begin_Project, Done_Project, z_fo1, z_fo2, z_fo3):\n",
    "    \"\"\"\n",
    "    Implémentation des contraintes \"de base\" du problème (pas de notion d'objectif encore).\n",
    "    \"\"\"\n",
    "    u = np.arange(J) + 1\n",
    "    B0 = model.addConstrs(\n",
    "        (Affectation[i,j,l,k] <= STAFF_QUALIFICATIONS[i,k] for i in range(I) for j in range(J) for l in range(L) for k in range(K)),\n",
    "        name=\"Qualifications_Constraint\"\n",
    "    )\n",
    "    B1 = model.addConstrs(\n",
    "        (gp.quicksum(Affectation[i][j] @ np.transpose(np.array([1]*K))) <= 1-CONGES[i][j] for i in range(I) for j in range(J) for l in range(L)),\n",
    "        name=\"Day_off_Constraint\"\n",
    "    ) \n",
    "    B2 = model.addConstrs(\n",
    "        (temp_work[i][j] >= COST_PROJECT[i]*Done_Project[i][j] for i in range(L) for j in range(J)),\n",
    "        name=\"Done\"\n",
    "    ) \n",
    "    B3 = model.addConstrs(\n",
    "        (gp.quicksum(Done_Project[i]) <= 1 for i in range(L)),\n",
    "        name=\"Only_Done_One_Time\"\n",
    "    ) \n",
    "    B4 = model.addConstrs(\n",
    "        (gp.quicksum(Begin_Project[i])<= 1 for i in range(L)),\n",
    "        name=\"Only_Begin_One_Time\"\n",
    "    ) \n",
    "    B5 = model.addConstrs(\n",
    "        (gp.quicksum(Begin_Project[i]) == gp.quicksum(Done_Project[i]) for i in range(L)),\n",
    "        name=\"Begin_Done\"\n",
    "    )\n",
    "    B6 = model.addConstrs(\n",
    "        (temp_work[i][j][k]/MAX_COST <= gp.quicksum(Begin_Project[i][0:(j+1)]) for i in range(L) for j in range(J) for k in range(K)),\n",
    "        name=\"Cant_begin_without_work\"\n",
    "    ) \n",
    "    # number of projects done\n",
    "    B7 = model.addConstr(\n",
    "        (gp.quicksum(gp.quicksum(Done_Project)) <= z_fo2),\n",
    "        name=\"Number_of_done_projects\"\n",
    "    )\n",
    "    # time taken for the longest project (here, taken as a constraint for all projects)\n",
    "    B8 = model.addConstrs(\n",
    "        ((Done_Project[i]@times - Begin_Project[i]@times) <= z_fo3 for i in range(L)),\n",
    "        name=\"Time_taken_for_projects\"\n",
    "    )\n"
   ]
  },
  {
   "cell_type": "code",
   "execution_count": 25,
   "id": "90b10805",
   "metadata": {},
   "outputs": [],
   "source": [
    "base_constraints(model, Affectation, temp_work, Begin_Project, Done_Project, z_fo1, z_fo2, z_fo3)"
   ]
  },
  {
   "cell_type": "markdown",
   "id": "7e991a3e",
   "metadata": {},
   "source": [
    "<br>\n",
    "<br>\n",
    "On va ensuite définir les contraintes additionnelles provenant de la linéarisation des fonctions objectifs initiales.\n",
    "<br>\n",
    "<br>"
   ]
  },
  {
   "cell_type": "code",
   "execution_count": 26,
   "id": "37c58ee1",
   "metadata": {},
   "outputs": [],
   "source": [
    "def fo2_constraints(model, Affectation, epsilon: float = 0.0001):\n",
    "    \"\"\"\n",
    "    Implémentation des contraintes relatives à la fonction-objectif 2.\n",
    "    \"\"\"\n",
    "    delta = model.addMVar(\n",
    "        shape=(L, I),\n",
    "        vtype=GRB.INTEGER,\n",
    "        name=\"deltaFromC2\")\n",
    "    \n",
    "    C21 = model.addConstrs(\n",
    "        (gp.quicksum(delta)[i] <= z_fo2 for i in range(I)),\n",
    "        name=\"C2.1\"\n",
    "    ) \n",
    "    C22 = model.addConstrs(\n",
    "        ((J*(1-delta[l][i]))<=gp.quicksum(gp.quicksum(Affectation[i])[l]) for i in range(I) for l in range(L)),\n",
    "        name=\"C2.2\"\n",
    "    )\n",
    "    C23 = model.addConstrs(\n",
    "        (gp.quicksum(gp.quicksum(Affectation[i])[l])+epsilon<=(J*delta[l][i]) for i in range(I) for l in range(L)),\n",
    "        name=\"C2.3\"\n",
    "    )"
   ]
  },
  {
   "cell_type": "code",
   "execution_count": 27,
   "id": "73b0dc85",
   "metadata": {},
   "outputs": [],
   "source": [
    "# fo2_constraints(model, Affectation) # nous allons travailler à z_fo2 constant (pas d'optimisation)"
   ]
  },
  {
   "cell_type": "code",
   "execution_count": 28,
   "id": "0b70490b",
   "metadata": {},
   "outputs": [],
   "source": [
    "def fo3_constraints(model, Done_Project, Begin_Project):\n",
    "    \"\"\"\n",
    "    Implémentation des contraintes relatives à la fonction-objectif 3.\n",
    "    \"\"\"\n",
    "    C31 = model.addConstrs(\n",
    "        (gp.quicksum((Done_Project[i]-Begin_Project[i])*times)+1 <= z_fo3 for i in range(L)),\n",
    "        name=\"Duration\"\n",
    "    ) "
   ]
  },
  {
   "cell_type": "code",
   "execution_count": 29,
   "id": "9c16422b",
   "metadata": {},
   "outputs": [],
   "source": [
    "# fo3_constraints(model, Done_Project, Begin_Project) # nous allons travailler à z_fo3 constant (pas d'optimisation)"
   ]
  },
  {
   "cell_type": "markdown",
   "id": "2dc5f6cb",
   "metadata": {},
   "source": [
    "### 6 - Optimisation et vérification du respect des contraintes\n",
    "<a id=\"sect6\"> </a>"
   ]
  },
  {
   "cell_type": "code",
   "execution_count": 30,
   "id": "7a3f0393",
   "metadata": {},
   "outputs": [
    {
     "name": "stdout",
     "output_type": "stream",
     "text": [
      "Gurobi Optimizer version 10.0.0 build v10.0.0rc2 (win64)\n",
      "\n",
      "CPU model: Intel(R) Core(TM) i3-6006U CPU @ 2.00GHz, instruction set [SSE2|AVX|AVX2]\n",
      "Thread count: 2 physical cores, 4 logical processors, using up to 4 threads\n",
      "\n",
      "Optimize a model with 471 rows, 325 columns and 3150 nonzeros\n",
      "Model fingerprint: 0x73d66cab\n",
      "Variable types: 0 continuous, 325 integer (325 binary)\n",
      "Coefficient statistics:\n",
      "  Matrix range     [5e-01, 5e+00]\n",
      "  Objective range  [9e+00, 2e+01]\n",
      "  Bounds range     [1e+00, 1e+00]\n",
      "  RHS range        [1e+00, 5e+00]\n",
      "Found heuristic solution: objective -0.0000000\n",
      "Presolve removed 395 rows and 209 columns\n",
      "Presolve time: 0.02s\n",
      "Presolved: 76 rows, 116 columns, 518 nonzeros\n",
      "Variable types: 0 continuous, 116 integer (116 binary)\n",
      "\n",
      "Root relaxation: objective 8.000000e+01, 44 iterations, 0.02 seconds (0.00 work units)\n",
      "\n",
      "    Nodes    |    Current Node    |     Objective Bounds      |     Work\n",
      " Expl Unexpl |  Obj  Depth IntInf | Incumbent    BestBd   Gap | It/Node Time\n",
      "\n",
      "     0     0   80.00000    0   14   -0.00000   80.00000      -     -    0s\n",
      "H    0     0                      60.0000000   80.00000  33.3%     -    0s\n",
      "     0     0   80.00000    0   15   60.00000   80.00000  33.3%     -    0s\n",
      "H    0     0                      64.0000000   80.00000  25.0%     -    0s\n",
      "     0     0   77.80000    0   14   64.00000   77.80000  21.6%     -    0s\n",
      "H    0     0                      65.0000000   77.80000  19.7%     -    0s\n",
      "     0     0   77.00000    0   20   65.00000   77.00000  18.5%     -    0s\n",
      "     0     0   76.00000    0   28   65.00000   76.00000  16.9%     -    0s\n",
      "     0     0   76.00000    0   34   65.00000   76.00000  16.9%     -    0s\n",
      "     0     0   76.00000    0   41   65.00000   76.00000  16.9%     -    0s\n",
      "     0     0   75.97647    0   27   65.00000   75.97647  16.9%     -    0s\n",
      "     0     0   75.97647    0   33   65.00000   75.97647  16.9%     -    0s\n",
      "     0     0   75.96721    0   36   65.00000   75.96721  16.9%     -    0s\n",
      "     0     0   75.96721    0   36   65.00000   75.96721  16.9%     -    0s\n",
      "     0     0   75.96721    0   36   65.00000   75.96721  16.9%     -    0s\n",
      "     0     0   75.96721    0   26   65.00000   75.96721  16.9%     -    0s\n",
      "     0     2   75.96721    0   26   65.00000   75.96721  16.9%     -    0s\n",
      "\n",
      "Cutting planes:\n",
      "  Gomory: 2\n",
      "  Cover: 5\n",
      "  MIR: 14\n",
      "  Zero half: 7\n",
      "\n",
      "Explored 227 nodes (2416 simplex iterations) in 0.58 seconds (0.05 work units)\n",
      "Thread count was 4 (of 4 available processors)\n",
      "\n",
      "Solution count 4: 65 64 60 -0 \n",
      "\n",
      "Optimal solution found (tolerance 1.00e-04)\n",
      "Best objective 6.500000000000e+01, best bound 6.500000000000e+01, gap 0.0000%\n"
     ]
    }
   ],
   "source": [
    "model.optimize()"
   ]
  },
  {
   "attachments": {},
   "cell_type": "markdown",
   "id": "7d5dd3d9",
   "metadata": {},
   "source": [
    "#### Vérification des contraintes"
   ]
  },
  {
   "cell_type": "code",
   "execution_count": 60,
   "id": "0943288f",
   "metadata": {},
   "outputs": [],
   "source": [
    "if model.Status == GRB.OPTIMAL:\n",
    "    Affectation_solution = Affectation.X\n",
    "    Done_Project_solution = Done_Project.X\n",
    "    Begin_Project_solution = Begin_Project.X\n",
    "    NB_Project_solution = np.max(np.sum(np.sum(np.sum(Affectation_solution, axis=1), axis=2), axis=1)) # z_fo2\n",
    "    Duration_solution = 1 + np.max([(Done_Project_solution[i]@times - Begin_Project_solution[i]@times) for i in range(J)]) # z_fo3"
   ]
  },
  {
   "cell_type": "code",
   "execution_count": 61,
   "id": "ff042549",
   "metadata": {},
   "outputs": [
    {
     "name": "stdout",
     "output_type": "stream",
     "text": [
      "Le collaborateur qui a travaillé sur le plus de projets a travaillé sur 4.0 projets différents.\n"
     ]
    }
   ],
   "source": [
    "print(\"Le collaborateur qui a travaillé sur le plus de projets a travaillé sur {} projets différents.\".format(NB_Project_solution))"
   ]
  },
  {
   "cell_type": "code",
   "execution_count": 62,
   "id": "17cc485d",
   "metadata": {},
   "outputs": [
    {
     "name": "stdout",
     "output_type": "stream",
     "text": [
      "Le projet qui a duré le plus de temps a duré 5.0 jours.\n"
     ]
    }
   ],
   "source": [
    "print(\"Le projet qui a duré le plus de temps a duré {} jours.\".format(Duration_solution))"
   ]
  },
  {
   "cell_type": "code",
   "execution_count": 50,
   "id": "30e59294",
   "metadata": {},
   "outputs": [],
   "source": [
    "cumul_work = np.cumsum(np.sum(Affectation_solution,axis=0),axis=0)"
   ]
  },
  {
   "cell_type": "code",
   "execution_count": 51,
   "id": "f19950dd",
   "metadata": {},
   "outputs": [],
   "source": [
    "# Qualifications\n",
    "for i in range(I):\n",
    "    for j in range(J):\n",
    "        for l in range(L):\n",
    "            for k in range(K):\n",
    "                assert Affectation_solution[i,j,l,k] <= STAFF_QUALIFICATIONS[i,k] "
   ]
  },
  {
   "cell_type": "code",
   "execution_count": 52,
   "id": "53feca7e",
   "metadata": {},
   "outputs": [],
   "source": [
    "# One day One work\n",
    "for i in range(I):\n",
    "    for j in range(J):\n",
    "        assert np.sum(Affectation_solution[i][j])<= 1- CONGES[i][j]"
   ]
  },
  {
   "cell_type": "code",
   "execution_count": 53,
   "id": "1bc58c48",
   "metadata": {},
   "outputs": [],
   "source": [
    "# Project Done one time\n",
    "assert (np.sum(Done_Project_solution,axis=1)<=1).all()"
   ]
  },
  {
   "cell_type": "code",
   "execution_count": 54,
   "id": "a73b0c4c",
   "metadata": {},
   "outputs": [],
   "source": [
    "# Assert Project done\n",
    "for l in range(L):\n",
    "    if np.sum(Done_Project_solution[l])==1:\n",
    "        assert(\n",
    "                (cumul_work[\n",
    "                    np.where(Done_Project_solution[l] == 1)[0][0]\n",
    "                ][l] >= COST_PROJECT[l]).all()\n",
    "            )"
   ]
  },
  {
   "cell_type": "code",
   "execution_count": 55,
   "id": "73f54f88",
   "metadata": {},
   "outputs": [],
   "source": [
    "# Project Done & Begin\n",
    "assert((\n",
    "np.sum(Done_Project_solution,axis=1)==np.sum(Begin_Project_solution,axis=1)\n",
    ").all())"
   ]
  },
  {
   "cell_type": "code",
   "execution_count": 56,
   "id": "eb415bb8",
   "metadata": {},
   "outputs": [],
   "source": [
    "# Project are begin before\n",
    "assert((\n",
    "Done_Project_solution<=np.cumsum(Begin_Project_solution,axis=1)\n",
    ").all())"
   ]
  },
  {
   "cell_type": "code",
   "execution_count": 63,
   "id": "a9bfe4c3",
   "metadata": {},
   "outputs": [],
   "source": [
    "# Assert Duration Project\n",
    "for l in range(L):\n",
    "    if np.sum(Done_Project_solution[l]) == 1: # si le projet a été choisi\n",
    "        assert(\n",
    "            (np.where(Done_Project_solution[l] == 1)[0][0] - np.where(Begin_Project_solution[l] == 1)[0][0]) +1 <= Duration_solution\n",
    "            )"
   ]
  },
  {
   "cell_type": "code",
   "execution_count": 58,
   "id": "868abd7b",
   "metadata": {},
   "outputs": [],
   "source": [
    "# Assert Nb project worked\n",
    "for i in range(i):\n",
    "    assert np.sum(np.sum(np.sum(Affectation_solution,axis=1)[i],axis=1)>=1)<=NB_Project_solution"
   ]
  },
  {
   "cell_type": "code",
   "execution_count": 59,
   "id": "0dc70789",
   "metadata": {},
   "outputs": [],
   "source": [
    "# Working imply Beginned\n",
    "for l in range(L):\n",
    "    if np.sum(Done_Project_solution[l])==1:\n",
    "        assert np.where(np.sum(cumul_work,axis=2).transpose()[l]>=1)[0][0] >= np.where(Begin_Project_solution[l]>=1)[0][0]"
   ]
  },
  {
   "attachments": {},
   "cell_type": "markdown",
   "id": "e413dfdf",
   "metadata": {},
   "source": [
    "It's all good! Maintenant, nous allons répéter l'opération précédente (construction du modèle puis optimisation) pour avoir la surface de Pareto."
   ]
  },
  {
   "cell_type": "markdown",
   "id": "25ab7c2d",
   "metadata": {},
   "source": [
    "<br>"
   ]
  },
  {
   "attachments": {},
   "cell_type": "markdown",
   "id": "dca2c274",
   "metadata": {},
   "source": [
    "### 7 - Calcul du \"cube\" de Pareto puis de la surface de Pareto\n",
    "<a id=\"sect7\"> </a>"
   ]
  },
  {
   "cell_type": "markdown",
   "id": "d6d17b07",
   "metadata": {},
   "source": [
    "Chargement des résultats de l'optimisation.\n",
    "<br>"
   ]
  },
  {
   "cell_type": "code",
   "execution_count": 64,
   "id": "22aa9626",
   "metadata": {},
   "outputs": [
    {
     "ename": "AttributeError",
     "evalue": "'int' object has no attribute 'X'",
     "output_type": "error",
     "traceback": [
      "\u001b[1;31m---------------------------------------------------------------------------\u001b[0m",
      "\u001b[1;31mAttributeError\u001b[0m                            Traceback (most recent call last)",
      "\u001b[1;32mc:\\Users\\cleme\\Documents\\CentraleSupélec\\Systèmes de décision\\Projet\\sdp\\part1.ipynb Cell 68\u001b[0m in \u001b[0;36m<cell line: 1>\u001b[1;34m()\u001b[0m\n\u001b[1;32m----> <a href='vscode-notebook-cell:/c%3A/Users/cleme/Documents/CentraleSup%C3%A9lec/Syst%C3%A8mes%20de%20d%C3%A9cision/Projet/sdp/part1.ipynb#Y121sZmlsZQ%3D%3D?line=0'>1</a>\u001b[0m instance\u001b[39m.\u001b[39;49mload_solution(model, Affectation, Done_Project, Begin_Project, z_fo2, z_fo3)\n\u001b[0;32m      <a href='vscode-notebook-cell:/c%3A/Users/cleme/Documents/CentraleSup%C3%A9lec/Syst%C3%A8mes%20de%20d%C3%A9cision/Projet/sdp/part1.ipynb#Y121sZmlsZQ%3D%3D?line=1'>2</a>\u001b[0m instance\u001b[39m.\u001b[39msave_solution(path\u001b[39m=\u001b[39m\u001b[39m\"\u001b[39m\u001b[39mtoy_instance/\u001b[39m\u001b[39m\"\u001b[39m)\n\u001b[0;32m      <a href='vscode-notebook-cell:/c%3A/Users/cleme/Documents/CentraleSup%C3%A9lec/Syst%C3%A8mes%20de%20d%C3%A9cision/Projet/sdp/part1.ipynb#Y121sZmlsZQ%3D%3D?line=2'>3</a>\u001b[0m instance\u001b[39m.\u001b[39mprint_kpi()\n",
      "File \u001b[1;32mc:\\Users\\cleme\\Documents\\CentraleSupélec\\Systèmes de décision\\Projet\\sdp\\InstanceClass.py:340\u001b[0m, in \u001b[0;36mInstance.load_solution\u001b[1;34m(self, model, Affectation, Done_Project, Begin_Project, z_fo2, z_fo3)\u001b[0m\n\u001b[0;32m    338\u001b[0m \u001b[39mself\u001b[39m\u001b[39m.\u001b[39mDone_Project_solution \u001b[39m=\u001b[39m Done_Project\u001b[39m.\u001b[39mX\n\u001b[0;32m    339\u001b[0m \u001b[39mself\u001b[39m\u001b[39m.\u001b[39mBegin_Project_solution \u001b[39m=\u001b[39m Begin_Project\u001b[39m.\u001b[39mX\n\u001b[1;32m--> 340\u001b[0m \u001b[39mself\u001b[39m\u001b[39m.\u001b[39mNB_Project_solution \u001b[39m=\u001b[39m z_fo2\u001b[39m.\u001b[39;49mX\n\u001b[0;32m    341\u001b[0m \u001b[39mself\u001b[39m\u001b[39m.\u001b[39mDuration_solution \u001b[39m=\u001b[39m z_fo3\u001b[39m.\u001b[39mX\n",
      "\u001b[1;31mAttributeError\u001b[0m: 'int' object has no attribute 'X'"
     ]
    }
   ],
   "source": [
    "instance.load_solution(model, Affectation, Done_Project, Begin_Project, z_fo2, z_fo3)\n",
    "instance.save_solution(path=\"toy_instance/\")\n",
    "instance.print_kpi()"
   ]
  },
  {
   "attachments": {},
   "cell_type": "markdown",
   "id": "5a026c42",
   "metadata": {},
   "source": [
    "#### Cube de Pareto pour le jeu \"Toy\"\n",
    "<br>\n",
    "On va chercher à optimiser la fonction-objectif \"Gain\" sur le jeu \"Toy\"."
   ]
  },
  {
   "attachments": {},
   "cell_type": "markdown",
   "id": "1d9d1c74",
   "metadata": {},
   "source": [
    "Une optimisation libre selon FO2 et FO3 donne un gain optimal de 65 unités. Normalisé, ce gain optimal vaut donc :\n",
    "<br>\n",
    "<br>\n",
    "$1 - 65/80 = 0.1875$\n",
    "<br>\n",
    "<br>\n",
    "Attention ! On a ici calculé :\n",
    "<br>\n",
    "<br>\n",
    "$1 - val_{opt}$(FO1)\n",
    "<br>\n",
    "<br>\n",
    "Une valeur de 0 voudrait dire que 100% des gains possibles ont été obtenus, pénalités déduites.\n",
    "<br>\n",
    "Pour ce gain optimal, le nombre de projets abordés par le collaborateur affecté sur le plus grand nombre de projets est 3, soit une valeur normalisée de :\n",
    "<br>\n",
    "<br>\n",
    "$3/5 = 0.60$\n",
    "<br>\n",
    "<br>\n",
    "Une valeur de 0 voudrait dire que le collaborateur le plus occupé a participé à tous les projets.\n",
    "<br>\n",
    "<br>\n",
    "Enfin, pour ce gain optimal, le temps pris par le projet qui a pris le plus de temps est 3, soit une valeur normalisée de 0.60 également.\n",
    "<br>\n",
    "Une valeur de 0 voudrait dire que le projet ayant duré le plus longtemps a duré $h$ jours.\n",
    "<br>\n",
    "<br>"
   ]
  },
  {
   "attachments": {},
   "cell_type": "markdown",
   "id": "80461fa9",
   "metadata": {},
   "source": [
    "#### Résultat de l'optimisation de la fonction objectif 1 (gain total) sur le jeu \"Medium\"\n"
   ]
  },
  {
   "attachments": {},
   "cell_type": "markdown",
   "id": "0ebdf924",
   "metadata": {},
   "source": [
    "On procède de la même manière sur le jeu \"Medium\". On trouve un gain optimal de :\n",
    "<br>\n",
    "<br>\n",
    "$1 - 176/510 = 0.655$\n",
    "<br>\n",
    "<br>\n",
    "Et des valeurs correspondent pour FO2 et FO3 à respectivement :\n",
    "<br>\n",
    "<br>\n",
    "FO2 $= 6/15 = 0.40$\n",
    "<br>\n",
    "<br>\n",
    "FO3 $= 9/22 = 0.41$"
   ]
  },
  {
   "attachments": {},
   "cell_type": "markdown",
   "id": "9cce3a82",
   "metadata": {},
   "source": [
    "#### Résultat de l'optimisation de la fonction objectif 1 (gain total) sur le jeu \"Large\"\n"
   ]
  },
  {
   "attachments": {},
   "cell_type": "markdown",
   "id": "e26eab4f",
   "metadata": {},
   "source": [
    "Enfin, le triplet pour le jeu \"Large\" est le suivant : $(253/1020 = 0.25, 8/25 = 0.32, 12/36 = 0.33)$."
   ]
  },
  {
   "attachments": {},
   "cell_type": "markdown",
   "id": "43647f2f",
   "metadata": {},
   "source": [
    "#### Affichage du cube de Pareto pour le jeu \"Toy\"\n"
   ]
  },
  {
   "attachments": {},
   "cell_type": "markdown",
   "id": "3fad68a6",
   "metadata": {},
   "source": [
    "Nous allons désormais afficher le cube de Pareto pour l'instance \"Toy\", mais on pourrait procéder de même pour les deux autres instances.\n",
    "<br>\n",
    "Selon l'axe 1 (FO1), l'optimal est trouvé pour une valeur de $0.1875$ et correspond au couple (FO2, FO3) = $(0.60, 0.60)$.\n",
    "<br>\n",
    "Selon l'axe 2 (FO2), l'optimal est trouvé pour une valeur de $0$ et correspond au couple (FO1, FO3) = $(1, 0)$. Pas du tout de travail (trivial).\n",
    "<br>\n",
    "Selon l'axe 3 (FO3), l'optimal est trouvé pour une valeur de $0$ et correspond au couple (FO1, FO2) = $(1, 0)$. Pas du tout de travail (trivial).\n",
    "<br>\n",
    "Nous en concluons que les coordonnées de la grande diagonale du cube de Pareto sont :"
   ]
  },
  {
   "cell_type": "code",
   "execution_count": 65,
   "id": "253a48de",
   "metadata": {},
   "outputs": [],
   "source": [
    "p1 = (\n",
    "    1.0,\n",
    "    0.6,\n",
    "    0.6\n",
    ")\n",
    "p2 = (\n",
    "    0.1875,\n",
    "    0.0,\n",
    "    0.0\n",
    ")"
   ]
  },
  {
   "cell_type": "code",
   "execution_count": 66,
   "id": "016bc940",
   "metadata": {},
   "outputs": [
    {
     "data": {
      "application/vnd.plotly.v1+json": {
       "config": {
        "plotlyServerURL": "https://plot.ly"
       },
       "data": [
        {
         "i": [
          7,
          0,
          0,
          0,
          4,
          4,
          6,
          6,
          4,
          0,
          3,
          2
         ],
         "j": [
          3,
          4,
          1,
          2,
          5,
          6,
          5,
          2,
          0,
          1,
          6,
          3
         ],
         "k": [
          0,
          7,
          2,
          3,
          6,
          7,
          1,
          1,
          5,
          5,
          7,
          6
         ],
         "name": "y",
         "opacity": 0.5,
         "type": "mesh3d",
         "x": [
          1,
          1,
          0.1875,
          0.1875,
          1,
          1,
          0.1875,
          0.1875
         ],
         "y": [
          0.6,
          0,
          0,
          0.6,
          0.6,
          0,
          0,
          0.6
         ],
         "z": [
          0.6,
          0.6,
          0.6,
          0.6,
          0,
          0,
          0,
          0
         ]
        }
       ],
       "layout": {
        "margin": {
         "b": 10,
         "l": 10,
         "r": 20,
         "t": 10
        },
        "scene": {
         "xaxis": {
          "nticks": 10,
          "range": [
           0,
           1
          ],
          "title": {
           "text": "1 - Gain"
          }
         },
         "yaxis": {
          "nticks": 10,
          "range": [
           0,
           1
          ],
          "title": {
           "text": "# projets du collab. le + occupé"
          }
         },
         "zaxis": {
          "nticks": 10,
          "range": [
           0,
           1
          ],
          "title": {
           "text": "Durée du projet le plus long"
          }
         }
        },
        "template": {
         "data": {
          "bar": [
           {
            "error_x": {
             "color": "#2a3f5f"
            },
            "error_y": {
             "color": "#2a3f5f"
            },
            "marker": {
             "line": {
              "color": "#E5ECF6",
              "width": 0.5
             },
             "pattern": {
              "fillmode": "overlay",
              "size": 10,
              "solidity": 0.2
             }
            },
            "type": "bar"
           }
          ],
          "barpolar": [
           {
            "marker": {
             "line": {
              "color": "#E5ECF6",
              "width": 0.5
             },
             "pattern": {
              "fillmode": "overlay",
              "size": 10,
              "solidity": 0.2
             }
            },
            "type": "barpolar"
           }
          ],
          "carpet": [
           {
            "aaxis": {
             "endlinecolor": "#2a3f5f",
             "gridcolor": "white",
             "linecolor": "white",
             "minorgridcolor": "white",
             "startlinecolor": "#2a3f5f"
            },
            "baxis": {
             "endlinecolor": "#2a3f5f",
             "gridcolor": "white",
             "linecolor": "white",
             "minorgridcolor": "white",
             "startlinecolor": "#2a3f5f"
            },
            "type": "carpet"
           }
          ],
          "choropleth": [
           {
            "colorbar": {
             "outlinewidth": 0,
             "ticks": ""
            },
            "type": "choropleth"
           }
          ],
          "contour": [
           {
            "colorbar": {
             "outlinewidth": 0,
             "ticks": ""
            },
            "colorscale": [
             [
              0,
              "#0d0887"
             ],
             [
              0.1111111111111111,
              "#46039f"
             ],
             [
              0.2222222222222222,
              "#7201a8"
             ],
             [
              0.3333333333333333,
              "#9c179e"
             ],
             [
              0.4444444444444444,
              "#bd3786"
             ],
             [
              0.5555555555555556,
              "#d8576b"
             ],
             [
              0.6666666666666666,
              "#ed7953"
             ],
             [
              0.7777777777777778,
              "#fb9f3a"
             ],
             [
              0.8888888888888888,
              "#fdca26"
             ],
             [
              1,
              "#f0f921"
             ]
            ],
            "type": "contour"
           }
          ],
          "contourcarpet": [
           {
            "colorbar": {
             "outlinewidth": 0,
             "ticks": ""
            },
            "type": "contourcarpet"
           }
          ],
          "heatmap": [
           {
            "colorbar": {
             "outlinewidth": 0,
             "ticks": ""
            },
            "colorscale": [
             [
              0,
              "#0d0887"
             ],
             [
              0.1111111111111111,
              "#46039f"
             ],
             [
              0.2222222222222222,
              "#7201a8"
             ],
             [
              0.3333333333333333,
              "#9c179e"
             ],
             [
              0.4444444444444444,
              "#bd3786"
             ],
             [
              0.5555555555555556,
              "#d8576b"
             ],
             [
              0.6666666666666666,
              "#ed7953"
             ],
             [
              0.7777777777777778,
              "#fb9f3a"
             ],
             [
              0.8888888888888888,
              "#fdca26"
             ],
             [
              1,
              "#f0f921"
             ]
            ],
            "type": "heatmap"
           }
          ],
          "heatmapgl": [
           {
            "colorbar": {
             "outlinewidth": 0,
             "ticks": ""
            },
            "colorscale": [
             [
              0,
              "#0d0887"
             ],
             [
              0.1111111111111111,
              "#46039f"
             ],
             [
              0.2222222222222222,
              "#7201a8"
             ],
             [
              0.3333333333333333,
              "#9c179e"
             ],
             [
              0.4444444444444444,
              "#bd3786"
             ],
             [
              0.5555555555555556,
              "#d8576b"
             ],
             [
              0.6666666666666666,
              "#ed7953"
             ],
             [
              0.7777777777777778,
              "#fb9f3a"
             ],
             [
              0.8888888888888888,
              "#fdca26"
             ],
             [
              1,
              "#f0f921"
             ]
            ],
            "type": "heatmapgl"
           }
          ],
          "histogram": [
           {
            "marker": {
             "pattern": {
              "fillmode": "overlay",
              "size": 10,
              "solidity": 0.2
             }
            },
            "type": "histogram"
           }
          ],
          "histogram2d": [
           {
            "colorbar": {
             "outlinewidth": 0,
             "ticks": ""
            },
            "colorscale": [
             [
              0,
              "#0d0887"
             ],
             [
              0.1111111111111111,
              "#46039f"
             ],
             [
              0.2222222222222222,
              "#7201a8"
             ],
             [
              0.3333333333333333,
              "#9c179e"
             ],
             [
              0.4444444444444444,
              "#bd3786"
             ],
             [
              0.5555555555555556,
              "#d8576b"
             ],
             [
              0.6666666666666666,
              "#ed7953"
             ],
             [
              0.7777777777777778,
              "#fb9f3a"
             ],
             [
              0.8888888888888888,
              "#fdca26"
             ],
             [
              1,
              "#f0f921"
             ]
            ],
            "type": "histogram2d"
           }
          ],
          "histogram2dcontour": [
           {
            "colorbar": {
             "outlinewidth": 0,
             "ticks": ""
            },
            "colorscale": [
             [
              0,
              "#0d0887"
             ],
             [
              0.1111111111111111,
              "#46039f"
             ],
             [
              0.2222222222222222,
              "#7201a8"
             ],
             [
              0.3333333333333333,
              "#9c179e"
             ],
             [
              0.4444444444444444,
              "#bd3786"
             ],
             [
              0.5555555555555556,
              "#d8576b"
             ],
             [
              0.6666666666666666,
              "#ed7953"
             ],
             [
              0.7777777777777778,
              "#fb9f3a"
             ],
             [
              0.8888888888888888,
              "#fdca26"
             ],
             [
              1,
              "#f0f921"
             ]
            ],
            "type": "histogram2dcontour"
           }
          ],
          "mesh3d": [
           {
            "colorbar": {
             "outlinewidth": 0,
             "ticks": ""
            },
            "type": "mesh3d"
           }
          ],
          "parcoords": [
           {
            "line": {
             "colorbar": {
              "outlinewidth": 0,
              "ticks": ""
             }
            },
            "type": "parcoords"
           }
          ],
          "pie": [
           {
            "automargin": true,
            "type": "pie"
           }
          ],
          "scatter": [
           {
            "fillpattern": {
             "fillmode": "overlay",
             "size": 10,
             "solidity": 0.2
            },
            "type": "scatter"
           }
          ],
          "scatter3d": [
           {
            "line": {
             "colorbar": {
              "outlinewidth": 0,
              "ticks": ""
             }
            },
            "marker": {
             "colorbar": {
              "outlinewidth": 0,
              "ticks": ""
             }
            },
            "type": "scatter3d"
           }
          ],
          "scattercarpet": [
           {
            "marker": {
             "colorbar": {
              "outlinewidth": 0,
              "ticks": ""
             }
            },
            "type": "scattercarpet"
           }
          ],
          "scattergeo": [
           {
            "marker": {
             "colorbar": {
              "outlinewidth": 0,
              "ticks": ""
             }
            },
            "type": "scattergeo"
           }
          ],
          "scattergl": [
           {
            "marker": {
             "colorbar": {
              "outlinewidth": 0,
              "ticks": ""
             }
            },
            "type": "scattergl"
           }
          ],
          "scattermapbox": [
           {
            "marker": {
             "colorbar": {
              "outlinewidth": 0,
              "ticks": ""
             }
            },
            "type": "scattermapbox"
           }
          ],
          "scatterpolar": [
           {
            "marker": {
             "colorbar": {
              "outlinewidth": 0,
              "ticks": ""
             }
            },
            "type": "scatterpolar"
           }
          ],
          "scatterpolargl": [
           {
            "marker": {
             "colorbar": {
              "outlinewidth": 0,
              "ticks": ""
             }
            },
            "type": "scatterpolargl"
           }
          ],
          "scatterternary": [
           {
            "marker": {
             "colorbar": {
              "outlinewidth": 0,
              "ticks": ""
             }
            },
            "type": "scatterternary"
           }
          ],
          "surface": [
           {
            "colorbar": {
             "outlinewidth": 0,
             "ticks": ""
            },
            "colorscale": [
             [
              0,
              "#0d0887"
             ],
             [
              0.1111111111111111,
              "#46039f"
             ],
             [
              0.2222222222222222,
              "#7201a8"
             ],
             [
              0.3333333333333333,
              "#9c179e"
             ],
             [
              0.4444444444444444,
              "#bd3786"
             ],
             [
              0.5555555555555556,
              "#d8576b"
             ],
             [
              0.6666666666666666,
              "#ed7953"
             ],
             [
              0.7777777777777778,
              "#fb9f3a"
             ],
             [
              0.8888888888888888,
              "#fdca26"
             ],
             [
              1,
              "#f0f921"
             ]
            ],
            "type": "surface"
           }
          ],
          "table": [
           {
            "cells": {
             "fill": {
              "color": "#EBF0F8"
             },
             "line": {
              "color": "white"
             }
            },
            "header": {
             "fill": {
              "color": "#C8D4E3"
             },
             "line": {
              "color": "white"
             }
            },
            "type": "table"
           }
          ]
         },
         "layout": {
          "annotationdefaults": {
           "arrowcolor": "#2a3f5f",
           "arrowhead": 0,
           "arrowwidth": 1
          },
          "autotypenumbers": "strict",
          "coloraxis": {
           "colorbar": {
            "outlinewidth": 0,
            "ticks": ""
           }
          },
          "colorscale": {
           "diverging": [
            [
             0,
             "#8e0152"
            ],
            [
             0.1,
             "#c51b7d"
            ],
            [
             0.2,
             "#de77ae"
            ],
            [
             0.3,
             "#f1b6da"
            ],
            [
             0.4,
             "#fde0ef"
            ],
            [
             0.5,
             "#f7f7f7"
            ],
            [
             0.6,
             "#e6f5d0"
            ],
            [
             0.7,
             "#b8e186"
            ],
            [
             0.8,
             "#7fbc41"
            ],
            [
             0.9,
             "#4d9221"
            ],
            [
             1,
             "#276419"
            ]
           ],
           "sequential": [
            [
             0,
             "#0d0887"
            ],
            [
             0.1111111111111111,
             "#46039f"
            ],
            [
             0.2222222222222222,
             "#7201a8"
            ],
            [
             0.3333333333333333,
             "#9c179e"
            ],
            [
             0.4444444444444444,
             "#bd3786"
            ],
            [
             0.5555555555555556,
             "#d8576b"
            ],
            [
             0.6666666666666666,
             "#ed7953"
            ],
            [
             0.7777777777777778,
             "#fb9f3a"
            ],
            [
             0.8888888888888888,
             "#fdca26"
            ],
            [
             1,
             "#f0f921"
            ]
           ],
           "sequentialminus": [
            [
             0,
             "#0d0887"
            ],
            [
             0.1111111111111111,
             "#46039f"
            ],
            [
             0.2222222222222222,
             "#7201a8"
            ],
            [
             0.3333333333333333,
             "#9c179e"
            ],
            [
             0.4444444444444444,
             "#bd3786"
            ],
            [
             0.5555555555555556,
             "#d8576b"
            ],
            [
             0.6666666666666666,
             "#ed7953"
            ],
            [
             0.7777777777777778,
             "#fb9f3a"
            ],
            [
             0.8888888888888888,
             "#fdca26"
            ],
            [
             1,
             "#f0f921"
            ]
           ]
          },
          "colorway": [
           "#636efa",
           "#EF553B",
           "#00cc96",
           "#ab63fa",
           "#FFA15A",
           "#19d3f3",
           "#FF6692",
           "#B6E880",
           "#FF97FF",
           "#FECB52"
          ],
          "font": {
           "color": "#2a3f5f"
          },
          "geo": {
           "bgcolor": "white",
           "lakecolor": "white",
           "landcolor": "#E5ECF6",
           "showlakes": true,
           "showland": true,
           "subunitcolor": "white"
          },
          "hoverlabel": {
           "align": "left"
          },
          "hovermode": "closest",
          "mapbox": {
           "style": "light"
          },
          "paper_bgcolor": "white",
          "plot_bgcolor": "#E5ECF6",
          "polar": {
           "angularaxis": {
            "gridcolor": "white",
            "linecolor": "white",
            "ticks": ""
           },
           "bgcolor": "#E5ECF6",
           "radialaxis": {
            "gridcolor": "white",
            "linecolor": "white",
            "ticks": ""
           }
          },
          "scene": {
           "xaxis": {
            "backgroundcolor": "#E5ECF6",
            "gridcolor": "white",
            "gridwidth": 2,
            "linecolor": "white",
            "showbackground": true,
            "ticks": "",
            "zerolinecolor": "white"
           },
           "yaxis": {
            "backgroundcolor": "#E5ECF6",
            "gridcolor": "white",
            "gridwidth": 2,
            "linecolor": "white",
            "showbackground": true,
            "ticks": "",
            "zerolinecolor": "white"
           },
           "zaxis": {
            "backgroundcolor": "#E5ECF6",
            "gridcolor": "white",
            "gridwidth": 2,
            "linecolor": "white",
            "showbackground": true,
            "ticks": "",
            "zerolinecolor": "white"
           }
          },
          "shapedefaults": {
           "line": {
            "color": "#2a3f5f"
           }
          },
          "ternary": {
           "aaxis": {
            "gridcolor": "white",
            "linecolor": "white",
            "ticks": ""
           },
           "baxis": {
            "gridcolor": "white",
            "linecolor": "white",
            "ticks": ""
           },
           "bgcolor": "#E5ECF6",
           "caxis": {
            "gridcolor": "white",
            "linecolor": "white",
            "ticks": ""
           }
          },
          "title": {
           "x": 0.05
          },
          "xaxis": {
           "automargin": true,
           "gridcolor": "white",
           "linecolor": "white",
           "ticks": "",
           "title": {
            "standoff": 15
           },
           "zerolinecolor": "white",
           "zerolinewidth": 2
          },
          "yaxis": {
           "automargin": true,
           "gridcolor": "white",
           "linecolor": "white",
           "ticks": "",
           "title": {
            "standoff": 15
           },
           "zerolinecolor": "white",
           "zerolinewidth": 2
          }
         }
        },
        "title": {
         "text": "Cube de Pareto (axes normalisés sur [0, 1])"
        },
        "width": 700
       }
      }
     },
     "metadata": {},
     "output_type": "display_data"
    }
   ],
   "source": [
    "fig = go.Figure(data=[\n",
    "    go.Mesh3d(\n",
    "        # 8 vertices of a cube\n",
    "        x=[p1[0], p1[0], p2[0], p2[0], p1[0], p1[0], p2[0], p2[0]],\n",
    "        y=[p1[1], p2[1], p2[1], p1[1], p1[1], p2[1], p2[1], p1[1]],\n",
    "        z=[p1[2], p1[2], p1[2], p1[2], p2[2], p2[2], p2[2], p2[2]],\n",
    "\n",
    "        i = [7, 0, 0, 0, 4, 4, 6, 6, 4, 0, 3, 2],\n",
    "        j = [3, 4, 1, 2, 5, 6, 5, 2, 0, 1, 6, 3],\n",
    "        k = [0, 7, 2, 3, 6, 7, 1, 1, 5, 5, 7, 6],\n",
    "        name='y',\n",
    "        opacity=0.50\n",
    "    )\n",
    "])\n",
    "fig.update_layout(\n",
    "    scene = dict(\n",
    "                xaxis = dict(nticks=10, range=[0,1],),\n",
    "                yaxis = dict(nticks=10, range=[0,1],),\n",
    "                zaxis = dict(nticks=10, range=[0,1],),\n",
    "                xaxis_title='1 - Gain',\n",
    "                yaxis_title='# projets du collab. le + occupé',\n",
    "                zaxis_title='Durée du projet le plus long',\n",
    "    ),\n",
    "    width=700,\n",
    "    margin=dict(r=20, l=10, b=10, t=10))\n",
    "fig.update_layout(title_text=\"Cube de Pareto (axes normalisés sur [0, 1])\")\n",
    "fig.show()"
   ]
  },
  {
   "attachments": {},
   "cell_type": "markdown",
   "id": "eaff9c49",
   "metadata": {},
   "source": [
    "### Obtention de la surface de Pareto"
   ]
  },
  {
   "attachments": {},
   "cell_type": "markdown",
   "id": "c40d47b9",
   "metadata": {},
   "source": [
    "Il nous faut maintenant la surface de Pareto. Elle est incluse dans le cube de Pareto affiché ci-dessus. Pour échantillonner la surface de Pareto, nous allons procéder par la méthode $\\epsilon$-constraint vue en cours. Elle va nous permettre d'explorer la surface de Pareto en identifiant itérativement les points qui s'y trouvent."
   ]
  },
  {
   "attachments": {},
   "cell_type": "markdown",
   "id": "1948c2fd",
   "metadata": {},
   "source": [
    "Pour obtenir la surface de Pareto, on va travailler à $z_{fo_2}$ et $z_{fo_3}$ fixés puis chercher à optimiser le gain. En modifiant itérativement les bornes respectives de $z_{fo_2}$ et $z_{fo_3}$, nous allons obtenir les points de la surface de Pareto du problème. Cette surface est en deux dimensions car notre problème contient en tout 3 fonctions-objectif.\n",
    "<br>\n",
    "<br>"
   ]
  },
  {
   "cell_type": "code",
   "execution_count": 67,
   "id": "42f15d34",
   "metadata": {},
   "outputs": [],
   "source": [
    "def build_model(z_fo2, z_fo3):\n",
    "    \"\"\"\n",
    "    Construire le modèle d'optimisation du gain à z_fo2 et z_fo3 fixées (et dont les valeurs sont passées en argument).\n",
    "    \"\"\"\n",
    "    model = gp.Model(\"model\")\n",
    "    model.setParam('OutputFlag', 0) # pas de sortie\n",
    "\n",
    "    # définition des variables\n",
    "    Affectation = model.addMVar(\n",
    "        shape=(I,J,L,K),\n",
    "        vtype=GRB.BINARY,\n",
    "        name=\"Affectation\"\n",
    "    )\n",
    "    Begin_Project = model.addMVar(\n",
    "        shape=(L, J),\n",
    "        vtype=GRB.BINARY,\n",
    "        name=\"Begin_Project\"\n",
    "    )\n",
    "    Done_Project = model.addMVar(\n",
    "        shape=(L, J),\n",
    "        vtype=GRB.BINARY,\n",
    "        name=\"Done_Project\"\n",
    "    )\n",
    "\n",
    "    # définition de la fonction-objectif (unique ici)\n",
    "    z_fo1 = set_gain_objectives(\n",
    "        model, \n",
    "        Done_Project\n",
    "    )\n",
    "\n",
    "    # définition des variables secondaires (elles dépendent des variables définies précédemment)\n",
    "    final_work = calcul_work_final(calcul_work(Affectation))\n",
    "    temp_work = calcul_temporel_work(calcul_work(Affectation))\n",
    "\n",
    "    # définition des contraintes\n",
    "    base_constraints(model, Affectation, temp_work, Begin_Project, Done_Project, z_fo1, z_fo2, z_fo3)\n",
    "    # note importante : les contraintes relatives aux fonctions-objectif 2 et 3 ne sont pas incluses ici car seul l'objectif 1 prévaut\n",
    "    # fo2_constraints(model, Affectation)\n",
    "    # fo3_constraints(model, Done_Project, Begin_Project)\n",
    "    \n",
    "    return model, Affectation, temp_work, Begin_Project, Done_Project, z_fo1"
   ]
  },
  {
   "cell_type": "code",
   "execution_count": 70,
   "id": "b7a3da8b",
   "metadata": {},
   "outputs": [],
   "source": [
    "ranges_fo3 = [J - k for k in range(0, J, 1)] # STEP à modifier pour mettre plus de points d'échantillonage si besoin\n",
    "ranges_fo2 = [L - k for k in range(0, L, 1)]"
   ]
  },
  {
   "cell_type": "code",
   "execution_count": 71,
   "id": "72cf0f34",
   "metadata": {},
   "outputs": [
    {
     "data": {
      "text/plain": [
       "([5, 4, 3, 2, 1], [5, 4, 3, 2, 1])"
      ]
     },
     "execution_count": 71,
     "metadata": {},
     "output_type": "execute_result"
    }
   ],
   "source": [
    "ranges_fo3, ranges_fo2"
   ]
  },
  {
   "cell_type": "code",
   "execution_count": 72,
   "id": "c7ccaede",
   "metadata": {},
   "outputs": [
    {
     "name": "stderr",
     "output_type": "stream",
     "text": [
      "  0%|          | 0/5 [00:00<?, ?it/s]"
     ]
    },
    {
     "name": "stdout",
     "output_type": "stream",
     "text": [
      "Solving the problem for z_fo2 = 5, z_fo3 = 5\n"
     ]
    },
    {
     "name": "stderr",
     "output_type": "stream",
     "text": [
      " 40%|████      | 2/5 [00:01<00:02,  1.19it/s]"
     ]
    },
    {
     "name": "stdout",
     "output_type": "stream",
     "text": [
      "Solving the problem for z_fo2 = 4, z_fo3 = 5\n"
     ]
    },
    {
     "name": "stderr",
     "output_type": "stream",
     "text": [
      " 60%|██████    | 3/5 [00:02<00:01,  1.47it/s]"
     ]
    },
    {
     "name": "stdout",
     "output_type": "stream",
     "text": [
      "Solving the problem for z_fo2 = 3, z_fo3 = 5\n"
     ]
    },
    {
     "name": "stderr",
     "output_type": "stream",
     "text": [
      " 80%|████████  | 4/5 [00:02<00:00,  1.48it/s]"
     ]
    },
    {
     "name": "stdout",
     "output_type": "stream",
     "text": [
      "Solving the problem for z_fo2 = 2, z_fo3 = 5\n"
     ]
    },
    {
     "name": "stderr",
     "output_type": "stream",
     "text": [
      "100%|██████████| 5/5 [00:03<00:00,  1.34it/s]\n"
     ]
    },
    {
     "name": "stdout",
     "output_type": "stream",
     "text": [
      "Solving the problem for z_fo2 = 1, z_fo3 = 5\n"
     ]
    },
    {
     "name": "stderr",
     "output_type": "stream",
     "text": [
      "  0%|          | 0/5 [00:00<?, ?it/s]"
     ]
    },
    {
     "name": "stdout",
     "output_type": "stream",
     "text": [
      "Solving the problem for z_fo2 = 5, z_fo3 = 4\n"
     ]
    },
    {
     "name": "stderr",
     "output_type": "stream",
     "text": [
      " 40%|████      | 2/5 [00:01<00:02,  1.30it/s]"
     ]
    },
    {
     "name": "stdout",
     "output_type": "stream",
     "text": [
      "Solving the problem for z_fo2 = 4, z_fo3 = 4\n"
     ]
    },
    {
     "name": "stderr",
     "output_type": "stream",
     "text": [
      " 60%|██████    | 3/5 [00:02<00:01,  1.40it/s]"
     ]
    },
    {
     "name": "stdout",
     "output_type": "stream",
     "text": [
      "Solving the problem for z_fo2 = 3, z_fo3 = 4\n"
     ]
    },
    {
     "name": "stderr",
     "output_type": "stream",
     "text": [
      " 80%|████████  | 4/5 [00:02<00:00,  1.44it/s]"
     ]
    },
    {
     "name": "stdout",
     "output_type": "stream",
     "text": [
      "Solving the problem for z_fo2 = 2, z_fo3 = 4\n"
     ]
    },
    {
     "name": "stderr",
     "output_type": "stream",
     "text": [
      "100%|██████████| 5/5 [00:03<00:00,  1.47it/s]\n"
     ]
    },
    {
     "name": "stdout",
     "output_type": "stream",
     "text": [
      "Solving the problem for z_fo2 = 1, z_fo3 = 4\n"
     ]
    },
    {
     "name": "stderr",
     "output_type": "stream",
     "text": [
      "  0%|          | 0/5 [00:00<?, ?it/s]"
     ]
    },
    {
     "name": "stdout",
     "output_type": "stream",
     "text": [
      "Solving the problem for z_fo2 = 5, z_fo3 = 3\n"
     ]
    },
    {
     "name": "stderr",
     "output_type": "stream",
     "text": [
      " 40%|████      | 2/5 [00:01<00:01,  1.52it/s]"
     ]
    },
    {
     "name": "stdout",
     "output_type": "stream",
     "text": [
      "Solving the problem for z_fo2 = 4, z_fo3 = 3\n"
     ]
    },
    {
     "name": "stderr",
     "output_type": "stream",
     "text": [
      " 60%|██████    | 3/5 [00:01<00:01,  1.68it/s]"
     ]
    },
    {
     "name": "stdout",
     "output_type": "stream",
     "text": [
      "Solving the problem for z_fo2 = 3, z_fo3 = 3\n"
     ]
    },
    {
     "name": "stderr",
     "output_type": "stream",
     "text": [
      " 80%|████████  | 4/5 [00:02<00:00,  1.74it/s]"
     ]
    },
    {
     "name": "stdout",
     "output_type": "stream",
     "text": [
      "Solving the problem for z_fo2 = 2, z_fo3 = 3\n"
     ]
    },
    {
     "name": "stderr",
     "output_type": "stream",
     "text": [
      "100%|██████████| 5/5 [00:02<00:00,  1.70it/s]\n"
     ]
    },
    {
     "name": "stdout",
     "output_type": "stream",
     "text": [
      "Solving the problem for z_fo2 = 1, z_fo3 = 3\n"
     ]
    },
    {
     "name": "stderr",
     "output_type": "stream",
     "text": [
      "  0%|          | 0/5 [00:00<?, ?it/s]"
     ]
    },
    {
     "name": "stdout",
     "output_type": "stream",
     "text": [
      "Solving the problem for z_fo2 = 5, z_fo3 = 2\n"
     ]
    },
    {
     "name": "stderr",
     "output_type": "stream",
     "text": [
      " 40%|████      | 2/5 [00:01<00:02,  1.47it/s]"
     ]
    },
    {
     "name": "stdout",
     "output_type": "stream",
     "text": [
      "Solving the problem for z_fo2 = 4, z_fo3 = 2\n"
     ]
    },
    {
     "name": "stderr",
     "output_type": "stream",
     "text": [
      " 60%|██████    | 3/5 [00:01<00:01,  1.67it/s]"
     ]
    },
    {
     "name": "stdout",
     "output_type": "stream",
     "text": [
      "Solving the problem for z_fo2 = 3, z_fo3 = 2\n"
     ]
    },
    {
     "name": "stderr",
     "output_type": "stream",
     "text": [
      " 80%|████████  | 4/5 [00:02<00:00,  1.61it/s]"
     ]
    },
    {
     "name": "stdout",
     "output_type": "stream",
     "text": [
      "Solving the problem for z_fo2 = 2, z_fo3 = 2\n"
     ]
    },
    {
     "name": "stderr",
     "output_type": "stream",
     "text": [
      "100%|██████████| 5/5 [00:03<00:00,  1.66it/s]\n"
     ]
    },
    {
     "name": "stdout",
     "output_type": "stream",
     "text": [
      "Solving the problem for z_fo2 = 1, z_fo3 = 2\n"
     ]
    },
    {
     "name": "stderr",
     "output_type": "stream",
     "text": [
      "  0%|          | 0/5 [00:00<?, ?it/s]"
     ]
    },
    {
     "name": "stdout",
     "output_type": "stream",
     "text": [
      "Solving the problem for z_fo2 = 5, z_fo3 = 1\n"
     ]
    },
    {
     "name": "stderr",
     "output_type": "stream",
     "text": [
      " 40%|████      | 2/5 [00:01<00:02,  1.48it/s]"
     ]
    },
    {
     "name": "stdout",
     "output_type": "stream",
     "text": [
      "Solving the problem for z_fo2 = 4, z_fo3 = 1\n"
     ]
    },
    {
     "name": "stderr",
     "output_type": "stream",
     "text": [
      " 60%|██████    | 3/5 [00:01<00:01,  1.69it/s]"
     ]
    },
    {
     "name": "stdout",
     "output_type": "stream",
     "text": [
      "Solving the problem for z_fo2 = 3, z_fo3 = 1\n"
     ]
    },
    {
     "name": "stderr",
     "output_type": "stream",
     "text": [
      " 80%|████████  | 4/5 [00:02<00:00,  1.76it/s]"
     ]
    },
    {
     "name": "stdout",
     "output_type": "stream",
     "text": [
      "Solving the problem for z_fo2 = 2, z_fo3 = 1\n"
     ]
    },
    {
     "name": "stderr",
     "output_type": "stream",
     "text": [
      "100%|██████████| 5/5 [00:02<00:00,  1.68it/s]"
     ]
    },
    {
     "name": "stdout",
     "output_type": "stream",
     "text": [
      "Solving the problem for z_fo2 = 1, z_fo3 = 1\n"
     ]
    },
    {
     "name": "stderr",
     "output_type": "stream",
     "text": [
      "\n"
     ]
    }
   ],
   "source": [
    "PARETO_POINTS = {}\n",
    "for z_fo3 in ranges_fo3:\n",
    "    PARETO_POINTS[z_fo3] = []\n",
    "    for z_fo2 in tqdm(ranges_fo3):\n",
    "        model, Affectation, temp_work, Begin_Project, Done_Project, z_fo1 = build_model(z_fo2, z_fo3)\n",
    "        print(\"Solving the problem for z_fo2 = {}, z_fo3 = {}\".format(z_fo2, z_fo3))\n",
    "        model.optimize()\n",
    "        Done_Project_solution = Done_Project.X\n",
    "        gain = compute_gain(Done_Project_solution)\n",
    "        PARETO_POINTS[z_fo3].append([gain, z_fo2])"
   ]
  },
  {
   "cell_type": "code",
   "execution_count": 73,
   "id": "68bd3579",
   "metadata": {},
   "outputs": [
    {
     "data": {
      "text/plain": [
       "{5: [[65.0, 5], [65.0, 4], [55.0, 3], [40.0, 2], [20.0, 1]],\n",
       " 4: [[65.0, 5], [65.0, 4], [55.0, 3], [40.0, 2], [20.0, 1]],\n",
       " 3: [[65.0, 5], [65.0, 4], [55.0, 3], [40.0, 2], [20.0, 1]],\n",
       " 2: [[65.0, 5], [65.0, 4], [55.0, 3], [40.0, 2], [20.0, 1]],\n",
       " 1: [[65.0, 5], [65.0, 4], [55.0, 3], [40.0, 2], [20.0, 1]]}"
      ]
     },
     "execution_count": 73,
     "metadata": {},
     "output_type": "execute_result"
    }
   ],
   "source": [
    "# FOR TOY PROBLEM\n",
    "PARETO_POINTS"
   ]
  },
  {
   "cell_type": "code",
   "execution_count": null,
   "id": "972ec601",
   "metadata": {},
   "outputs": [],
   "source": [
    "# FOR MEDIUM PROBLEM\n",
    "PARETO_POINTS"
   ]
  },
  {
   "cell_type": "code",
   "execution_count": null,
   "id": "46552383",
   "metadata": {},
   "outputs": [],
   "source": [
    "# FOR LARGE PROBLEM\n",
    "PARETO_POINTS"
   ]
  }
 ],
 "metadata": {
  "kernelspec": {
   "display_name": "Python 3 (ipykernel)",
   "language": "python",
   "name": "python3"
  },
  "language_info": {
   "codemirror_mode": {
    "name": "ipython",
    "version": 3
   },
   "file_extension": ".py",
   "mimetype": "text/x-python",
   "name": "python",
   "nbconvert_exporter": "python",
   "pygments_lexer": "ipython3",
   "version": "3.10.4"
  },
  "vscode": {
   "interpreter": {
    "hash": "26de051ba29f2982a8de78e945f0abaf191376122a1563185a90213a26c5da77"
   }
  }
 },
 "nbformat": 4,
 "nbformat_minor": 5
}
