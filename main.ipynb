{
   "cells": [
      {
         "attachments": {},
         "cell_type": "markdown",
         "id": "e6dff554",
         "metadata": {},
         "source": [
            "## Notebook principal\n",
            "<br>\n",
            "Implémentation du modèle (fonctions objectifs, contraintes et résolution/optimisation)."
         ]
      },
      {
         "attachments": {},
         "cell_type": "markdown",
         "id": "039515a3",
         "metadata": {},
         "source": [
            "### Importations"
         ]
      },
      {
         "cell_type": "code",
         "execution_count": 1,
         "id": "59dd0fd3",
         "metadata": {},
         "outputs": [],
         "source": [
            "import gurobipy as gp # solver\n",
            "from gurobipy import GRB\n",
            "import numpy as np"
         ]
      },
      {
         "cell_type": "code",
         "execution_count": 2,
         "id": "c13e1304",
         "metadata": {},
         "outputs": [],
         "source": [
            "from InstanceClass import Instance # custom class built to load and encode .json files (instances)"
         ]
      },
      {
         "attachments": {},
         "cell_type": "markdown",
         "id": "02819be1",
         "metadata": {},
         "source": [
            "### Loading the data"
         ]
      },
      {
         "cell_type": "code",
         "execution_count": 3,
         "id": "3fa85ee8",
         "metadata": {},
         "outputs": [],
         "source": [
            "try:\n",
            "    instance = Instance(path=\"toy_instance.json\")\n",
            "    instance.build_instance()\n",
            "except FileNotFoundError:\n",
            "    instance = Instance(path=\"data/toy_instance.json\")\n",
            "    instance.build_instance()"
         ]
      },
      {
         "cell_type": "code",
         "execution_count": 4,
         "id": "d9017d62",
         "metadata": {},
         "outputs": [
            {
               "data": {
                  "text/plain": [
                     "{'NP': 5,\n",
                     " 'NC': 3,\n",
                     " 'NA': 3,\n",
                     " 'H': 5,\n",
                     " 'GAIN': [20, 15, 15, 20, 10],\n",
                     " 'PENALTIES': array([[0., 0., 0., 3., 6.],\n",
                     "        [0., 0., 0., 3., 6.],\n",
                     "        [0., 0., 0., 0., 3.],\n",
                     "        [0., 0., 0., 3., 6.],\n",
                     "        [0., 0., 0., 0., 0.]]),\n",
                     " 'STAFF_QUALIFICATIONS': array([[1., 1., 1.],\n",
                     "        [1., 1., 0.],\n",
                     "        [0., 0., 1.]]),\n",
                     " 'COST_PROJECT': array([[1., 1., 1.],\n",
                     "        [1., 2., 0.],\n",
                     "        [1., 0., 2.],\n",
                     "        [0., 2., 1.],\n",
                     "        [0., 0., 2.]]),\n",
                     " 'CONGES': array([[0., 0., 0., 0., 0.],\n",
                     "        [1., 0., 0., 0., 0.],\n",
                     "        [0., 1., 0., 0., 0.]])}"
                  ]
               },
               "execution_count": 6,
               "metadata": {},
               "output_type": "execute_result"
            }
         ],
         "source": [
            "instance.variables # check that everything works as expected"
         ]
      },
      {
         "attachments": {},
         "cell_type": "markdown",
         "id": "cb528e64",
         "metadata": {},
         "source": [
            "### Création de la matrice des affectations\n",
            "<br>\n",
            "On définit la matrice A des affections des collaborateurs sur les projets (de taille n_c ∗ h  ∗ n_p ∗ n): \n",
            "<br>\n",
            "$\n",
            "𝐴 = {𝑎_{𝑖,𝑗,𝑘,l}}\n",
            "$\n",
            "<br>\n"
         ]
      },
      {
         "cell_type": "markdown",
         "id": "bd6795e5",
         "metadata": {},
         "source": [
            "On en extrait une matrice 𝐴𝑝 = {𝑎𝑝𝑗,𝑘} indiquant si à l’instant j le projet vient d’être\n",
            "rendu \n"
         ]
      },
      {
         "cell_type": "code",
         "execution_count": 5,
         "id": "b741ff0b",
         "metadata": {},
         "outputs": [],
         "source": [
            "I=3\n",
            "J=5\n",
            "L=5\n",
            "K=3"
         ]
      },
      {
         "cell_type": "code",
         "execution_count": 6,
         "id": "882adb78",
         "metadata": {},
         "outputs": [],
         "source": [
            "def solution_creation(variables):\n",
            "    shape=(variables[\"NC\"],variables[\"H\"],variables[\"NP\"],variables[\"NA\"])\n",
            "    return shape\n",
            "\n",
            "def calcul_work(Affectation):\n",
            "    rep = [np.sum([Affectation[i][j] for i in range(3)],axis=0) for j in range(np.shape(Affectation)[1])]\n",
            "    return np.array(rep)\n",
            "\n",
            "def calcul_temporel_work(work,horizon):\n",
            "    rep = [[gp.quicksum(work_project[0:(i+1)]) for i in range(horizon)] for work_project in work]\n",
            "    return np.array(rep)\n",
            "\n",
            "def calcul_work_final(work):\n",
            "    rep=gp.quicksum(work)  \n",
            "    return rep\n",
            "\n",
            "def calcul_Ap(rep,cost_projet):\n",
            "    X = [[(rep[i][j] >= cost_projet[i]) for j in range(len(rep))] for i in range(len(cost_projet))]\n",
            "    return np.array(X)"
         ]
      },
      {
         "cell_type": "code",
         "execution_count": 10,
         "id": "0459b94b",
         "metadata": {},
         "outputs": [],
         "source": [
            "# données propres au problème que l'on va modéliser\n",
            "shape = solution_creation(instance.variables)\n",
            "COST_PROJECT = instance.variables[\"COST_PROJECT\"]\n",
            "STAFF_QUALIFICATIONS = instance.variables[\"STAFF_QUALIFICATIONS\"]\n",
            "CONGES = instance.variables[\"CONGES\"]\n",
            "I = instance.variables[\"NC\"]\n",
            "J = instance.variables[\"H\"]\n",
            "L = instance.variables[\"NP\"]\n",
            "K = instance.variables[\"NA\"]\n",
            "GAIN = instance.variables[\"GAIN\"]"
         ]
      },
      {
         "attachments": {},
         "cell_type": "markdown",
         "id": "0b53ae05",
         "metadata": {},
         "source": [
            "### Instanciation du modèle"
         ]
      },
      {
         "cell_type": "code",
         "execution_count": 11,
         "id": "a9726f74",
         "metadata": {},
         "outputs": [
            {
               "name": "stdout",
               "output_type": "stream",
               "text": [
                  "Set parameter Username\n",
                  "Academic license - for non-commercial use only - expires 2023-12-29\n"
               ]
            }
         ],
         "source": [
            "model = gp.Model(\"matrix1\") # instanciation du modèle"
         ]
      },
      {
         "attachments": {},
         "cell_type": "markdown",
         "id": "2d798594",
         "metadata": {},
         "source": [
            "### Définition des variables"
         ]
      },
      {
         "cell_type": "code",
         "execution_count": 14,
         "id": "e0636056",
         "metadata": {},
         "outputs": [],
         "source": [
            "# Create variables\n",
            "Affectation = model.addMVar(shape=(I,J,L,K), vtype=GRB.BINARY, name=\"Affectation\") # matrice personnes/jours/projet/compétence (tous les projets)\n",
            "Done_Project = model.addMVar(shape=L, vtype=GRB.BINARY, name=\"Done_Project\") # matrice projets/temps (tous les projets)\n",
            "Ap = calcul_Ap(calcul_work(Affectation),COST_PROJECT) # pas utilisé pour le moment\n",
            "final_work = calcul_work_final(calcul_work(Affectation)) # somme des travaux menés par projet (sert à vérifier qu'un projet est complété)\n",
            "# dimension de final_work : matrice projets/compétences (somme sur les employés par compétence et par projet, au temps final)\n",
            "temp_work = calcul_temporel_work(calcul_work(Affectation),instance.variables[\"H\"]) # somme cumulée dans le temps du travail effectué par projet et \n",
            "# par compétence (on veut l'utiliser plutôt que final_work à terme) ; temp_work[-1] = finl_work"
         ]
      },
      {
         "attachments": {},
         "cell_type": "markdown",
         "id": "17f67d6c",
         "metadata": {},
         "source": [
            "### Définition des fonctions objectifs\n",
            "<br>\n",
            "Note : il manque les fonctions objectifs 2 et 3 ainsi que le multi-objectifs"
         ]
      },
      {
         "cell_type": "code",
         "execution_count": 18,
         "id": "c607ec0f",
         "metadata": {},
         "outputs": [],
         "source": [
            "model.setObjective(Done_Project @ np.transpose(GAIN), GRB.MAXIMIZE) # partie 1 (avant le -) de la FO 1"
         ]
      },
      {
         "attachments": {},
         "cell_type": "markdown",
         "id": "54daa969",
         "metadata": {},
         "source": [
            "a[0, 0, 0, 0] : vaut 1 si l'employé 0 a travaillé au temps 0 sur le projet 0 selon la compétence 0\n",
            "a[0, 0, 0, i] sum(i) : vaut 1 si l'employé 0 a travaillé au temps 0 sur le projet 0\n",
            "a[0, 0, j, i] sum(i, j) : vaut 1 si l'employé 0 a travaillé au temps 0 sur un projet quelconque\n",
            "a[0, ?, ?, ?] : employé 0 et je veux savoir sur combien de projet il a travaillé"
         ]
      },
      {
         "cell_type": "code",
         "execution_count": 30,
         "id": "382131a8",
         "metadata": {},
         "outputs": [
            {
               "data": {
                  "text/plain": [
                     "[<MLinExpr ()>\n",
                     " array( Affectation[0,0,0,0] + Affectation[0,1,0,0] + Affectation[0,2,0,0] + Affectation[0,3,0,0] + Affectation[0,4,0,0] + Affectation[0,0,0,1] + Affectation[0,1,0,1] + Affectation[0,2,0,1] + Affectation[0,3,0,1] + Affectation[0,4,0,1] + Affectation[0,0,0,2] + Affectation[0,1,0,2] + Affectation[0,2,0,2] + Affectation[0,3,0,2] + Affectation[0,4,0,2]),\n",
                     " <MLinExpr ()>\n",
                     " array( Affectation[0,0,1,0] + Affectation[0,1,1,0] + Affectation[0,2,1,0] + Affectation[0,3,1,0] + Affectation[0,4,1,0] + Affectation[0,0,1,1] + Affectation[0,1,1,1] + Affectation[0,2,1,1] + Affectation[0,3,1,1] + Affectation[0,4,1,1] + Affectation[0,0,1,2] + Affectation[0,1,1,2] + Affectation[0,2,1,2] + Affectation[0,3,1,2] + Affectation[0,4,1,2]),\n",
                     " <MLinExpr ()>\n",
                     " array( Affectation[0,0,2,0] + Affectation[0,1,2,0] + Affectation[0,2,2,0] + Affectation[0,3,2,0] + Affectation[0,4,2,0] + Affectation[0,0,2,1] + Affectation[0,1,2,1] + Affectation[0,2,2,1] + Affectation[0,3,2,1] + Affectation[0,4,2,1] + Affectation[0,0,2,2] + Affectation[0,1,2,2] + Affectation[0,2,2,2] + Affectation[0,3,2,2] + Affectation[0,4,2,2]),\n",
                     " <MLinExpr ()>\n",
                     " array( Affectation[0,0,3,0] + Affectation[0,1,3,0] + Affectation[0,2,3,0] + Affectation[0,3,3,0] + Affectation[0,4,3,0] + Affectation[0,0,3,1] + Affectation[0,1,3,1] + Affectation[0,2,3,1] + Affectation[0,3,3,1] + Affectation[0,4,3,1] + Affectation[0,0,3,2] + Affectation[0,1,3,2] + Affectation[0,2,3,2] + Affectation[0,3,3,2] + Affectation[0,4,3,2]),\n",
                     " <MLinExpr ()>\n",
                     " array( Affectation[0,0,4,0] + Affectation[0,1,4,0] + Affectation[0,2,4,0] + Affectation[0,3,4,0] + Affectation[0,4,4,0] + Affectation[0,0,4,1] + Affectation[0,1,4,1] + Affectation[0,2,4,1] + Affectation[0,3,4,1] + Affectation[0,4,4,1] + Affectation[0,0,4,2] + Affectation[0,1,4,2] + Affectation[0,2,4,2] + Affectation[0,3,4,2] + Affectation[0,4,4,2])]"
                  ]
               },
               "execution_count": 30,
               "metadata": {},
               "output_type": "execute_result"
            }
         ],
         "source": [
            "Q1 = gp.quicksum(Affectation[0])\n",
            "Q2 = [gp.quicksum(q) for q in Q1]\n",
            "Q2"
         ]
      },
      {
         "cell_type": "code",
         "execution_count": null,
         "id": "656eb38f",
         "metadata": {},
         "outputs": [],
         "source": [
            "for i in range(staff):\n",
            "    Q0 = a[i].quicksum(axis=0) # on somme sur le temps\n",
            "    Q1 = Q0/Q0.quicksum(axis=0)\n",
            "    N = quicksum(Q1, axis=)\n",
            "model.setObjective()\n"
         ]
      },
      {
         "cell_type": "code",
         "execution_count": null,
         "id": "c3bcef65",
         "metadata": {},
         "outputs": [],
         "source": [
            "model.setObjective()"
         ]
      },
      {
         "attachments": {},
         "cell_type": "markdown",
         "id": "2f50d28b",
         "metadata": {},
         "source": [
            "### Définition des contraintes\n",
            "<br>\n",
            "Note : toutes les contraintes sont faites en v.1"
         ]
      },
      {
         "cell_type": "code",
         "execution_count": 19,
         "id": "7f3d5ff7",
         "metadata": {},
         "outputs": [
            {
               "data": {
                  "text/plain": [
                     "{0: <MConstr () *awaiting model update*>,\n",
                     " 1: <MConstr () *awaiting model update*>,\n",
                     " 2: <MConstr () *awaiting model update*>,\n",
                     " 3: <MConstr () *awaiting model update*>,\n",
                     " 4: <MConstr () *awaiting model update*>}"
                  ]
               },
               "execution_count": 19,
               "metadata": {},
               "output_type": "execute_result"
            }
         ],
         "source": [
            "model.addConstrs((Affectation[i,j,l,k] <= STAFF_QUALIFICATIONS[i,k] for i in range(I) for j in range(J) for l in range(L) for k in range(K)), name=\"Qualifications_Constraint\")\n",
            "model.addConstrs((gp.quicksum(Affectation[i][j] @ np.transpose(np.array([1,1,1]))) <= 1 for i in range(I) for j in range(J) for l in range(L)), name=\"Quantity_worked_Constraint\") \n",
            "model.addConstrs((gp.quicksum(Affectation[i][j] @ np.transpose(np.array([1,1,1]))) <= 1-CONGES[i][j] for i in range(I) for j in range(J) for l in range(L)), name=\"Day_off_Constraint\") \n",
            "model.addConstrs((final_work[i] >= COST_PROJECT[i]*Done_Project[i] for i in range(L)), name=\"Done\") \n",
            "model.addConstrs((Done_Project[i] <= 1 for i in range(L)), name=\"Only_Done_One_Time\") "
         ]
      },
      {
         "attachments": {},
         "cell_type": "markdown",
         "id": "0abbe031",
         "metadata": {},
         "source": [
            "### Optimisation du modèle"
         ]
      },
      {
         "cell_type": "code",
         "execution_count": 16,
         "id": "7a3f0393",
         "metadata": {},
         "outputs": [
            {
               "name": "stdout",
               "output_type": "stream",
               "text": [
                  "Set parameter Username\n",
                  "Academic license - for non-commercial use only - expires 2023-12-29\n",
                  "Gurobi Optimizer version 10.0.0 build v10.0.0rc2 (win64)\n",
                  "\n",
                  "CPU model: Intel(R) Core(TM) i3-6006U CPU @ 2.00GHz, instruction set [SSE2|AVX|AVX2]\n",
                  "Thread count: 2 physical cores, 4 logical processors, using up to 4 threads\n",
                  "\n",
                  "Optimize a model with 790 rows, 460 columns and 5430 nonzeros\n",
                  "Model fingerprint: 0x40feb962\n",
                  "Variable types: 0 continuous, 460 integer (460 binary)\n",
                  "Coefficient statistics:\n",
                  "  Matrix range     [1e+00, 2e+00]\n",
                  "  Objective range  [1e+01, 2e+01]\n",
                  "  Bounds range     [1e+00, 1e+00]\n",
                  "  RHS range        [1e+00, 1e+00]\n",
                  "Found heuristic solution: objective -0.0000000\n",
                  "Presolve removed 372 rows and 135 columns\n",
                  "Presolve time: 0.00s\n",
                  "Presolved: 23 rows, 95 columns, 190 nonzeros\n",
                  "Variable types: 0 continuous, 95 integer (95 binary)\n",
                  "\n",
                  "Root relaxation: infeasible, 31 iterations, 0.00 seconds (0.00 work units)\n",
                  "\n",
                  "    Nodes    |    Current Node    |     Objective Bounds      |     Work\n",
                  " Expl Unexpl |  Obj  Depth IntInf | Incumbent    BestBd   Gap | It/Node Time\n",
                  "\n",
                  "     0     0 infeasible    0        70.00000   70.00000  0.00%     -    0s\n",
                  "\n",
                  "Explored 1 nodes (40 simplex iterations) in 0.06 seconds (0.00 work units)\n",
                  "Thread count was 8 (of 8 available processors)\n",
                  "\n",
                  "Solution count 2: 70 65 \n",
                  "\n",
                  "Optimal solution found (tolerance 1.00e-04)\n",
                  "Best objective 7.000000000000e+01, best bound 7.000000000000e+01, gap 0.0000%\n"
               ]
            }
         ],
         "source": [
            "shape = solution_creation(instance.variables)\n",
            "COST_PROJECT = instance.variables[\"COST_PROJECT\"]\n",
            "STAFF_QUALIFICATIONS = instance.variables[\"STAFF_QUALIFICATIONS\"]\n",
            "CONGES = instance.variables[\"CONGES\"]\n",
            "I = instance.variables[\"NC\"]\n",
            "J = instance.variables[\"H\"]\n",
            "L = instance.variables[\"NP\"]\n",
            "K = instance.variables[\"NA\"]\n",
            "GAIN = instance.variables[\"GAIN\"]\n",
            "\n",
            "model = gp.Model(\"matrix1\")\n",
            "\n",
            "# Create variables\n",
            "Affectation = model.addMVar(shape=(I,J,L,K), vtype=GRB.BINARY, name=\"Affectation\")\n",
            "Done_Project = model.addMVar(shape=L, vtype=GRB.BINARY, name=\"Done_Project\")\n",
            "Ap = calcul_Ap(calcul_work(Affectation),COST_PROJECT)\n",
            "final_work = calcul_work_final(calcul_work(Affectation))\n",
            "temp_work = calcul_temporel_work(calcul_work(Affectation),instance.variables[\"H\"])\n",
            "\n",
            "model.setObjective(Done_Project @ np.transpose(GAIN), GRB.MAXIMIZE)\n",
            "\n",
            "model.addConstrs((Affectation[i,j,l,k] <= STAFF_QUALIFICATIONS[i,k] for i in range(I) for j in range(J) for l in range(L) for k in range(K)), name=\"Qualifications_Constraint\")\n",
            "model.addConstrs((gp.quicksum(Affectation[i][j] @ np.transpose(np.array([1,1,1]))) <= 1 for i in range(I) for j in range(J) for l in range(L)), name=\"Quantity_worked_Constraint\") \n",
            "model.addConstrs((gp.quicksum(Affectation[i][j] @ np.transpose(np.array([1,1,1]))) <= 1-CONGES[i][j] for i in range(I) for j in range(J) for l in range(L)), name=\"Day_off_Constraint\") \n",
            "model.addConstrs((final_work[i] >= COST_PROJECT[i]*Done_Project[i] for i in range(L)), name=\"Done\") \n",
            "model.addConstrs((Done_Project[i] <= 1 for i in range(L)), name=\"Only_Done_One_Time\") \n",
            "model.optimize()"
         ]
      },
      {
         "cell_type": "code",
         "execution_count": 8,
         "id": "934427b7",
         "metadata": {},
         "outputs": [
            {
               "data": {
                  "text/plain": [
                     "<MLinExpr ()>\n",
                     "array( Affectation[0,0,0,0] + Affectation[0,0,0,1] + Affectation[0,0,0,2] + Affectation[0,0,1,0] + Affectation[0,0,1,1] + Affectation[0,0,1,2] + Affectation[0,0,2,0] + Affectation[0,0,2,1] + Affectation[0,0,2,2] + Affectation[0,0,3,0] + Affectation[0,0,3,1] + Affectation[0,0,3,2] + Affectation[0,0,4,0] + Affectation[0,0,4,1] + Affectation[0,0,4,2])"
                  ]
               },
               "execution_count": 8,
               "metadata": {},
               "output_type": "execute_result"
            }
         ],
         "source": [
            "gp.quicksum(Affectation[0][0] @ np.transpose(np.array([1,1,1])))"
         ]
      },
      {
         "cell_type": "code",
         "execution_count": 9,
         "id": "e45ca3cd",
         "metadata": {},
         "outputs": [
            {
               "data": {
                  "text/plain": [
                     "<MVar (5, 3)>\n",
                     "array([[<gurobi.Var Affectation[0,0,0,0] (value -0.0)>,\n",
                     "        <gurobi.Var Affectation[0,0,0,1] (value -0.0)>,\n",
                     "        <gurobi.Var Affectation[0,0,0,2] (value -0.0)>],\n",
                     "       [<gurobi.Var Affectation[0,0,1,0] (value -0.0)>,\n",
                     "        <gurobi.Var Affectation[0,0,1,1] (value -0.0)>,\n",
                     "        <gurobi.Var Affectation[0,0,1,2] (value 0.0)>],\n",
                     "       [<gurobi.Var Affectation[0,0,2,0] (value -0.0)>,\n",
                     "        <gurobi.Var Affectation[0,0,2,1] (value 0.0)>,\n",
                     "        <gurobi.Var Affectation[0,0,2,2] (value 0.0)>],\n",
                     "       [<gurobi.Var Affectation[0,0,3,0] (value 0.0)>,\n",
                     "        <gurobi.Var Affectation[0,0,3,1] (value 1.0)>,\n",
                     "        <gurobi.Var Affectation[0,0,3,2] (value -0.0)>],\n",
                     "       [<gurobi.Var Affectation[0,0,4,0] (value 0.0)>,\n",
                     "        <gurobi.Var Affectation[0,0,4,1] (value 0.0)>,\n",
                     "        <gurobi.Var Affectation[0,0,4,2] (value -0.0)>]])"
                  ]
               },
               "execution_count": 9,
               "metadata": {},
               "output_type": "execute_result"
            }
         ],
         "source": [
            "Affectation[0][0]"
         ]
      },
      {
         "cell_type": "code",
         "execution_count": 10,
         "id": "4f1aa123",
         "metadata": {},
         "outputs": [],
         "source": [
            "i = 2"
         ]
      },
      {
         "cell_type": "code",
         "execution_count": 11,
         "id": "fe3307e1",
         "metadata": {},
         "outputs": [
            {
               "data": {
                  "text/plain": [
                     "<MLinExpr (3,)  >\n",
                     "array([ Done_Project[2],  0.0 Done_Project[2],  2.0 Done_Project[2]])"
                  ]
               },
               "execution_count": 11,
               "metadata": {},
               "output_type": "execute_result"
            }
         ],
         "source": [
            "COST_PROJECT[i]*Done_Project[i]"
         ]
      },
      {
         "cell_type": "code",
         "execution_count": 12,
         "id": "46cca010",
         "metadata": {},
         "outputs": [
            {
               "data": {
                  "text/plain": [
                     "<MLinExpr (3,)  >\n",
                     "array([ Done_Project[2],  0.0 Done_Project[2],  2.0 Done_Project[2]])"
                  ]
               },
               "execution_count": 12,
               "metadata": {},
               "output_type": "execute_result"
            }
         ],
         "source": [
            "COST_PROJECT[i]*Done_Project[i]"
         ]
      },
      {
         "cell_type": "code",
         "execution_count": 13,
         "id": "1a14d8e7",
         "metadata": {},
         "outputs": [
            {
               "name": "stdout",
               "output_type": "stream",
               "text": [
                  "Gurobi Optimizer version 10.0.0 build v10.0.0rc2 (win64)\n",
                  "\n",
                  "CPU model: Intel(R) Core(TM) i7-8550U CPU @ 1.80GHz, instruction set [SSE2|AVX|AVX2]\n",
                  "Thread count: 4 physical cores, 8 logical processors, using up to 8 threads\n",
                  "\n",
                  "Optimize a model with 395 rows, 230 columns and 2715 nonzeros\n",
                  "Model fingerprint: 0x8e5e7eaf\n",
                  "Variable types: 0 continuous, 230 integer (230 binary)\n",
                  "Coefficient statistics:\n",
                  "  Matrix range     [1e+00, 2e+00]\n",
                  "  Objective range  [1e+01, 2e+01]\n",
                  "  Bounds range     [1e+00, 1e+00]\n",
                  "  RHS range        [1e+00, 1e+00]\n",
                  "Presolved: 23 rows, 95 columns, 190 nonzeros\n",
                  "\n",
                  "Continuing optimization...\n",
                  "\n",
                  "\n",
                  "Explored 1 nodes (40 simplex iterations) in 0.03 seconds (0.00 work units)\n",
                  "Thread count was 8 (of 8 available processors)\n",
                  "\n",
                  "Solution count 2: 70 -0 \n",
                  "\n",
                  "Optimal solution found (tolerance 1.00e-04)\n",
                  "Best objective 7.000000000000e+01, best bound 7.000000000000e+01, gap 0.0000%\n"
               ]
            }
         ],
         "source": [
            "model.optimize()"
         ]
      },
      {
         "cell_type": "code",
         "execution_count": 14,
         "id": "321c0ceb",
         "metadata": {},
         "outputs": [
            {
               "data": {
                  "text/plain": [
                     "<MVar (5, 5, 3)>\n",
                     "array([[[<gurobi.Var Affectation[1,0,0,0] (value 0.0)>,\n",
                     "         <gurobi.Var Affectation[1,0,0,1] (value 0.0)>,\n",
                     "         <gurobi.Var Affectation[1,0,0,2] (value 0.0)>],\n",
                     "        [<gurobi.Var Affectation[1,0,1,0] (value 0.0)>,\n",
                     "         <gurobi.Var Affectation[1,0,1,1] (value 0.0)>,\n",
                     "         <gurobi.Var Affectation[1,0,1,2] (value 0.0)>],\n",
                     "        [<gurobi.Var Affectation[1,0,2,0] (value 0.0)>,\n",
                     "         <gurobi.Var Affectation[1,0,2,1] (value 0.0)>,\n",
                     "         <gurobi.Var Affectation[1,0,2,2] (value 0.0)>],\n",
                     "        [<gurobi.Var Affectation[1,0,3,0] (value 0.0)>,\n",
                     "         <gurobi.Var Affectation[1,0,3,1] (value 0.0)>,\n",
                     "         <gurobi.Var Affectation[1,0,3,2] (value 0.0)>],\n",
                     "        [<gurobi.Var Affectation[1,0,4,0] (value 0.0)>,\n",
                     "         <gurobi.Var Affectation[1,0,4,1] (value 0.0)>,\n",
                     "         <gurobi.Var Affectation[1,0,4,2] (value 0.0)>]],\n",
                     "\n",
                     "       [[<gurobi.Var Affectation[1,1,0,0] (value -0.0)>,\n",
                     "         <gurobi.Var Affectation[1,1,0,1] (value 1.0)>,\n",
                     "         <gurobi.Var Affectation[1,1,0,2] (value 0.0)>],\n",
                     "        [<gurobi.Var Affectation[1,1,1,0] (value -0.0)>,\n",
                     "         <gurobi.Var Affectation[1,1,1,1] (value -0.0)>,\n",
                     "         <gurobi.Var Affectation[1,1,1,2] (value 0.0)>],\n",
                     "        [<gurobi.Var Affectation[1,1,2,0] (value 0.0)>,\n",
                     "         <gurobi.Var Affectation[1,1,2,1] (value 0.0)>,\n",
                     "         <gurobi.Var Affectation[1,1,2,2] (value 0.0)>],\n",
                     "        [<gurobi.Var Affectation[1,1,3,0] (value 0.0)>,\n",
                     "         <gurobi.Var Affectation[1,1,3,1] (value -0.0)>,\n",
                     "         <gurobi.Var Affectation[1,1,3,2] (value 0.0)>],\n",
                     "        [<gurobi.Var Affectation[1,1,4,0] (value 0.0)>,\n",
                     "         <gurobi.Var Affectation[1,1,4,1] (value 0.0)>,\n",
                     "         <gurobi.Var Affectation[1,1,4,2] (value 0.0)>]],\n",
                     "\n",
                     "       [[<gurobi.Var Affectation[1,2,0,0] (value 0.0)>,\n",
                     "         <gurobi.Var Affectation[1,2,0,1] (value -0.0)>,\n",
                     "         <gurobi.Var Affectation[1,2,0,2] (value 0.0)>],\n",
                     "        [<gurobi.Var Affectation[1,2,1,0] (value 1.0)>,\n",
                     "         <gurobi.Var Affectation[1,2,1,1] (value -0.0)>,\n",
                     "         <gurobi.Var Affectation[1,2,1,2] (value 0.0)>],\n",
                     "        [<gurobi.Var Affectation[1,2,2,0] (value -0.0)>,\n",
                     "         <gurobi.Var Affectation[1,2,2,1] (value 0.0)>,\n",
                     "         <gurobi.Var Affectation[1,2,2,2] (value 0.0)>],\n",
                     "        [<gurobi.Var Affectation[1,2,3,0] (value 0.0)>,\n",
                     "         <gurobi.Var Affectation[1,2,3,1] (value -0.0)>,\n",
                     "         <gurobi.Var Affectation[1,2,3,2] (value 0.0)>],\n",
                     "        [<gurobi.Var Affectation[1,2,4,0] (value 0.0)>,\n",
                     "         <gurobi.Var Affectation[1,2,4,1] (value 0.0)>,\n",
                     "         <gurobi.Var Affectation[1,2,4,2] (value 0.0)>]],\n",
                     "\n",
                     "       [[<gurobi.Var Affectation[1,3,0,0] (value 1.0)>,\n",
                     "         <gurobi.Var Affectation[1,3,0,1] (value -0.0)>,\n",
                     "         <gurobi.Var Affectation[1,3,0,2] (value 0.0)>],\n",
                     "        [<gurobi.Var Affectation[1,3,1,0] (value -0.0)>,\n",
                     "         <gurobi.Var Affectation[1,3,1,1] (value 0.0)>,\n",
                     "         <gurobi.Var Affectation[1,3,1,2] (value 0.0)>],\n",
                     "        [<gurobi.Var Affectation[1,3,2,0] (value -0.0)>,\n",
                     "         <gurobi.Var Affectation[1,3,2,1] (value 0.0)>,\n",
                     "         <gurobi.Var Affectation[1,3,2,2] (value 0.0)>],\n",
                     "        [<gurobi.Var Affectation[1,3,3,0] (value 0.0)>,\n",
                     "         <gurobi.Var Affectation[1,3,3,1] (value -0.0)>,\n",
                     "         <gurobi.Var Affectation[1,3,3,2] (value 0.0)>],\n",
                     "        [<gurobi.Var Affectation[1,3,4,0] (value 0.0)>,\n",
                     "         <gurobi.Var Affectation[1,3,4,1] (value 0.0)>,\n",
                     "         <gurobi.Var Affectation[1,3,4,2] (value 0.0)>]],\n",
                     "\n",
                     "       [[<gurobi.Var Affectation[1,4,0,0] (value -0.0)>,\n",
                     "         <gurobi.Var Affectation[1,4,0,1] (value -0.0)>,\n",
                     "         <gurobi.Var Affectation[1,4,0,2] (value 0.0)>],\n",
                     "        [<gurobi.Var Affectation[1,4,1,0] (value -0.0)>,\n",
                     "         <gurobi.Var Affectation[1,4,1,1] (value 1.0)>,\n",
                     "         <gurobi.Var Affectation[1,4,1,2] (value 0.0)>],\n",
                     "        [<gurobi.Var Affectation[1,4,2,0] (value -0.0)>,\n",
                     "         <gurobi.Var Affectation[1,4,2,1] (value 0.0)>,\n",
                     "         <gurobi.Var Affectation[1,4,2,2] (value 0.0)>],\n",
                     "        [<gurobi.Var Affectation[1,4,3,0] (value 0.0)>,\n",
                     "         <gurobi.Var Affectation[1,4,3,1] (value -0.0)>,\n",
                     "         <gurobi.Var Affectation[1,4,3,2] (value 0.0)>],\n",
                     "        [<gurobi.Var Affectation[1,4,4,0] (value 0.0)>,\n",
                     "         <gurobi.Var Affectation[1,4,4,1] (value 0.0)>,\n",
                     "         <gurobi.Var Affectation[1,4,4,2] (value 0.0)>]]])"
                  ]
               },
               "execution_count": 14,
               "metadata": {},
               "output_type": "execute_result"
            }
         ],
         "source": [
            "Affectation[1]"
         ]
      },
      {
         "cell_type": "code",
         "execution_count": 15,
         "id": "c08ebcd5",
         "metadata": {},
         "outputs": [
            {
               "name": "stdout",
               "output_type": "stream",
               "text": [
                  "Affectation[0,0,0,0] -0\n",
                  "Affectation[0,0,0,1] -0\n",
                  "Affectation[0,0,0,2] -0\n",
                  "Affectation[0,0,1,0] -0\n",
                  "Affectation[0,0,1,1] -0\n",
                  "Affectation[0,0,1,2] 0\n",
                  "Affectation[0,0,2,0] -0\n",
                  "Affectation[0,0,2,1] 0\n",
                  "Affectation[0,0,2,2] 0\n",
                  "Affectation[0,0,3,0] 0\n",
                  "Affectation[0,0,3,1] 1\n",
                  "Affectation[0,0,3,2] -0\n",
                  "Affectation[0,0,4,0] 0\n",
                  "Affectation[0,0,4,1] 0\n",
                  "Affectation[0,0,4,2] -0\n",
                  "Affectation[0,1,0,0] -0\n",
                  "Affectation[0,1,0,1] -0\n",
                  "Affectation[0,1,0,2] -0\n",
                  "Affectation[0,1,1,0] -0\n",
                  "Affectation[0,1,1,1] -0\n",
                  "Affectation[0,1,1,2] 0\n",
                  "Affectation[0,1,2,0] -0\n",
                  "Affectation[0,1,2,1] 0\n",
                  "Affectation[0,1,2,2] 0\n",
                  "Affectation[0,1,3,0] 0\n",
                  "Affectation[0,1,3,1] 1\n",
                  "Affectation[0,1,3,2] -0\n",
                  "Affectation[0,1,4,0] 0\n",
                  "Affectation[0,1,4,1] 0\n",
                  "Affectation[0,1,4,2] -0\n",
                  "Affectation[0,2,0,0] -0\n",
                  "Affectation[0,2,0,1] -0\n",
                  "Affectation[0,2,0,2] -0\n",
                  "Affectation[0,2,1,0] -0\n",
                  "Affectation[0,2,1,1] 1\n",
                  "Affectation[0,2,1,2] 0\n",
                  "Affectation[0,2,2,0] -0\n",
                  "Affectation[0,2,2,1] 0\n",
                  "Affectation[0,2,2,2] -0\n",
                  "Affectation[0,2,3,0] 0\n",
                  "Affectation[0,2,3,1] 0\n",
                  "Affectation[0,2,3,2] -0\n",
                  "Affectation[0,2,4,0] 0\n",
                  "Affectation[0,2,4,1] 0\n",
                  "Affectation[0,2,4,2] -0\n",
                  "Affectation[0,3,0,0] -0\n",
                  "Affectation[0,3,0,1] -0\n",
                  "Affectation[0,3,0,2] -0\n",
                  "Affectation[0,3,1,0] -0\n",
                  "Affectation[0,3,1,1] 0\n",
                  "Affectation[0,3,1,2] 0\n",
                  "Affectation[0,3,2,0] -0\n",
                  "Affectation[0,3,2,1] 0\n",
                  "Affectation[0,3,2,2] 1\n",
                  "Affectation[0,3,3,0] 0\n",
                  "Affectation[0,3,3,1] -0\n",
                  "Affectation[0,3,3,2] -0\n",
                  "Affectation[0,3,4,0] 0\n",
                  "Affectation[0,3,4,1] 0\n",
                  "Affectation[0,3,4,2] -0\n",
                  "Affectation[0,4,0,0] -0\n",
                  "Affectation[0,4,0,1] -0\n",
                  "Affectation[0,4,0,2] -0\n",
                  "Affectation[0,4,1,0] -0\n",
                  "Affectation[0,4,1,1] -0\n",
                  "Affectation[0,4,1,2] 0\n",
                  "Affectation[0,4,2,0] 1\n",
                  "Affectation[0,4,2,1] 0\n",
                  "Affectation[0,4,2,2] -0\n",
                  "Affectation[0,4,3,0] 0\n",
                  "Affectation[0,4,3,1] -0\n",
                  "Affectation[0,4,3,2] 0\n",
                  "Affectation[0,4,4,0] 0\n",
                  "Affectation[0,4,4,1] 0\n",
                  "Affectation[0,4,4,2] 0\n",
                  "Affectation[1,0,0,0] 0\n",
                  "Affectation[1,0,0,1] 0\n",
                  "Affectation[1,0,0,2] 0\n",
                  "Affectation[1,0,1,0] 0\n",
                  "Affectation[1,0,1,1] 0\n",
                  "Affectation[1,0,1,2] 0\n",
                  "Affectation[1,0,2,0] 0\n",
                  "Affectation[1,0,2,1] 0\n",
                  "Affectation[1,0,2,2] 0\n",
                  "Affectation[1,0,3,0] 0\n",
                  "Affectation[1,0,3,1] 0\n",
                  "Affectation[1,0,3,2] 0\n",
                  "Affectation[1,0,4,0] 0\n",
                  "Affectation[1,0,4,1] 0\n",
                  "Affectation[1,0,4,2] 0\n",
                  "Affectation[1,1,0,0] -0\n",
                  "Affectation[1,1,0,1] 1\n",
                  "Affectation[1,1,0,2] 0\n",
                  "Affectation[1,1,1,0] -0\n",
                  "Affectation[1,1,1,1] -0\n",
                  "Affectation[1,1,1,2] 0\n",
                  "Affectation[1,1,2,0] 0\n",
                  "Affectation[1,1,2,1] 0\n",
                  "Affectation[1,1,2,2] 0\n",
                  "Affectation[1,1,3,0] 0\n",
                  "Affectation[1,1,3,1] -0\n",
                  "Affectation[1,1,3,2] 0\n",
                  "Affectation[1,1,4,0] 0\n",
                  "Affectation[1,1,4,1] 0\n",
                  "Affectation[1,1,4,2] 0\n",
                  "Affectation[1,2,0,0] 0\n",
                  "Affectation[1,2,0,1] -0\n",
                  "Affectation[1,2,0,2] 0\n",
                  "Affectation[1,2,1,0] 1\n",
                  "Affectation[1,2,1,1] -0\n",
                  "Affectation[1,2,1,2] 0\n",
                  "Affectation[1,2,2,0] -0\n",
                  "Affectation[1,2,2,1] 0\n",
                  "Affectation[1,2,2,2] 0\n",
                  "Affectation[1,2,3,0] 0\n",
                  "Affectation[1,2,3,1] -0\n",
                  "Affectation[1,2,3,2] 0\n",
                  "Affectation[1,2,4,0] 0\n",
                  "Affectation[1,2,4,1] 0\n",
                  "Affectation[1,2,4,2] 0\n",
                  "Affectation[1,3,0,0] 1\n",
                  "Affectation[1,3,0,1] -0\n",
                  "Affectation[1,3,0,2] 0\n",
                  "Affectation[1,3,1,0] -0\n",
                  "Affectation[1,3,1,1] 0\n",
                  "Affectation[1,3,1,2] 0\n",
                  "Affectation[1,3,2,0] -0\n",
                  "Affectation[1,3,2,1] 0\n",
                  "Affectation[1,3,2,2] 0\n",
                  "Affectation[1,3,3,0] 0\n",
                  "Affectation[1,3,3,1] -0\n",
                  "Affectation[1,3,3,2] 0\n",
                  "Affectation[1,3,4,0] 0\n",
                  "Affectation[1,3,4,1] 0\n",
                  "Affectation[1,3,4,2] 0\n",
                  "Affectation[1,4,0,0] -0\n",
                  "Affectation[1,4,0,1] -0\n",
                  "Affectation[1,4,0,2] 0\n",
                  "Affectation[1,4,1,0] -0\n",
                  "Affectation[1,4,1,1] 1\n",
                  "Affectation[1,4,1,2] 0\n",
                  "Affectation[1,4,2,0] -0\n",
                  "Affectation[1,4,2,1] 0\n",
                  "Affectation[1,4,2,2] 0\n",
                  "Affectation[1,4,3,0] 0\n",
                  "Affectation[1,4,3,1] -0\n",
                  "Affectation[1,4,3,2] 0\n",
                  "Affectation[1,4,4,0] 0\n",
                  "Affectation[1,4,4,1] 0\n",
                  "Affectation[1,4,4,2] 0\n",
                  "Affectation[2,0,0,0] 0\n",
                  "Affectation[2,0,0,1] 0\n",
                  "Affectation[2,0,0,2] -0\n",
                  "Affectation[2,0,1,0] 0\n",
                  "Affectation[2,0,1,1] 0\n",
                  "Affectation[2,0,1,2] 0\n",
                  "Affectation[2,0,2,0] 0\n",
                  "Affectation[2,0,2,1] 0\n",
                  "Affectation[2,0,2,2] -0\n",
                  "Affectation[2,0,3,0] 0\n",
                  "Affectation[2,0,3,1] 0\n",
                  "Affectation[2,0,3,2] 0\n",
                  "Affectation[2,0,4,0] 0\n",
                  "Affectation[2,0,4,1] 0\n",
                  "Affectation[2,0,4,2] 1\n",
                  "Affectation[2,1,0,0] 0\n",
                  "Affectation[2,1,0,1] 0\n",
                  "Affectation[2,1,0,2] 0\n",
                  "Affectation[2,1,1,0] 0\n",
                  "Affectation[2,1,1,1] 0\n",
                  "Affectation[2,1,1,2] 0\n",
                  "Affectation[2,1,2,0] 0\n",
                  "Affectation[2,1,2,1] 0\n",
                  "Affectation[2,1,2,2] 0\n",
                  "Affectation[2,1,3,0] 0\n",
                  "Affectation[2,1,3,1] 0\n",
                  "Affectation[2,1,3,2] 0\n",
                  "Affectation[2,1,4,0] 0\n",
                  "Affectation[2,1,4,1] 0\n",
                  "Affectation[2,1,4,2] 0\n",
                  "Affectation[2,2,0,0] 0\n",
                  "Affectation[2,2,0,1] 0\n",
                  "Affectation[2,2,0,2] 1\n",
                  "Affectation[2,2,1,0] 0\n",
                  "Affectation[2,2,1,1] 0\n",
                  "Affectation[2,2,1,2] 0\n",
                  "Affectation[2,2,2,0] 0\n",
                  "Affectation[2,2,2,1] 0\n",
                  "Affectation[2,2,2,2] 0\n",
                  "Affectation[2,2,3,0] 0\n",
                  "Affectation[2,2,3,1] 0\n",
                  "Affectation[2,2,3,2] -0\n",
                  "Affectation[2,2,4,0] 0\n",
                  "Affectation[2,2,4,1] 0\n",
                  "Affectation[2,2,4,2] -0\n",
                  "Affectation[2,3,0,0] 0\n",
                  "Affectation[2,3,0,1] 0\n",
                  "Affectation[2,3,0,2] -0\n",
                  "Affectation[2,3,1,0] 0\n",
                  "Affectation[2,3,1,1] 0\n",
                  "Affectation[2,3,1,2] 0\n",
                  "Affectation[2,3,2,0] 0\n",
                  "Affectation[2,3,2,1] 0\n",
                  "Affectation[2,3,2,2] 1\n",
                  "Affectation[2,3,3,0] 0\n",
                  "Affectation[2,3,3,1] 0\n",
                  "Affectation[2,3,3,2] -0\n",
                  "Affectation[2,3,4,0] 0\n",
                  "Affectation[2,3,4,1] 0\n",
                  "Affectation[2,3,4,2] 0\n",
                  "Affectation[2,4,0,0] 0\n",
                  "Affectation[2,4,0,1] 0\n",
                  "Affectation[2,4,0,2] -0\n",
                  "Affectation[2,4,1,0] 0\n",
                  "Affectation[2,4,1,1] 0\n",
                  "Affectation[2,4,1,2] 0\n",
                  "Affectation[2,4,2,0] 0\n",
                  "Affectation[2,4,2,1] 0\n",
                  "Affectation[2,4,2,2] -0\n",
                  "Affectation[2,4,3,0] 0\n",
                  "Affectation[2,4,3,1] 0\n",
                  "Affectation[2,4,3,2] 1\n",
                  "Affectation[2,4,4,0] 0\n",
                  "Affectation[2,4,4,1] 0\n",
                  "Affectation[2,4,4,2] 0\n",
                  "Done_Project[0] 1\n",
                  "Done_Project[1] 1\n",
                  "Done_Project[2] 1\n",
                  "Done_Project[3] 1\n",
                  "Done_Project[4] 0\n",
                  "Obj: 70\n"
               ]
            }
         ],
         "source": [
            "for v in model.getVars():\n",
            "    print('%s %g' % (v.VarName, v.X))\n",
            "\n",
            "print('Obj: %g' % model.ObjVal)"
         ]
      }
   ],
   "metadata": {
      "kernelspec": {
         "display_name": "Python 3",
         "language": "python",
         "name": "python3"
      },
      "language_info": {
         "codemirror_mode": {
            "name": "ipython",
            "version": 3
         },
         "file_extension": ".py",
         "mimetype": "text/x-python",
         "name": "python",
         "nbconvert_exporter": "python",
         "pygments_lexer": "ipython3",
         "version": "3.10.4 (tags/v3.10.4:9d38120, Mar 23 2022, 23:13:41) [MSC v.1929 64 bit (AMD64)]"
      },
      "vscode": {
         "interpreter": {
            "hash": "26de051ba29f2982a8de78e945f0abaf191376122a1563185a90213a26c5da77"
         }
      }
   },
   "nbformat": 4,
   "nbformat_minor": 5
}
