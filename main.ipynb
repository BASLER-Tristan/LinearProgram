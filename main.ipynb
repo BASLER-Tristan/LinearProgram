{
 "cells": [
  {
   "attachments": {},
   "cell_type": "markdown",
   "id": "e6dff554",
   "metadata": {},
   "source": [
    "## Notebook principal\n",
    "<br>\n",
    "Implémentation du modèle (fonctions objectifs, contraintes et résolution/optimisation)."
   ]
  },
  {
   "attachments": {},
   "cell_type": "markdown",
   "id": "039515a3",
   "metadata": {},
   "source": [
    "### Importations"
   ]
  },
  {
   "cell_type": "code",
   "execution_count": 1,
   "id": "c13e1304",
   "metadata": {},
   "outputs": [],
   "source": [
    "import gurobipy as gp # solver\n",
    "from gurobipy import GRB\n",
    "import numpy as np"
   ]
  },
  {
   "cell_type": "code",
   "execution_count": 2,
   "id": "59dd0fd3",
   "metadata": {},
   "outputs": [],
   "source": [
    "from InstanceClass import Instance # custom class built to load and encode .json files (instances)"
   ]
  },
  {
   "attachments": {},
   "cell_type": "markdown",
   "id": "02819be1",
   "metadata": {},
   "source": [
    "### Loading the data"
   ]
  },
  {
   "cell_type": "code",
   "execution_count": 3,
   "id": "3fa85ee8",
   "metadata": {},
   "outputs": [
    {
     "ename": "FileNotFoundError",
     "evalue": "[Errno 2] No such file or directory: 'toy_instance.json'",
     "output_type": "error",
     "traceback": [
      "\u001b[1;31m---------------------------------------------------------------------------\u001b[0m",
      "\u001b[1;31mFileNotFoundError\u001b[0m                         Traceback (most recent call last)",
      "\u001b[1;32mc:\\Users\\cleme\\Documents\\CentraleSupélec\\Systèmes de décision\\Projet\\sdp\\main.ipynb Cell 6\u001b[0m in \u001b[0;36m<cell line: 6>\u001b[1;34m()\u001b[0m\n\u001b[0;32m      <a href='vscode-notebook-cell:/c%3A/Users/cleme/Documents/CentraleSup%C3%A9lec/Syst%C3%A8mes%20de%20d%C3%A9cision/Projet/sdp/main.ipynb#W2sZmlsZQ%3D%3D?line=2'>3</a>\u001b[0m \u001b[39mexcept\u001b[39;00m \u001b[39mFileNotFoundError\u001b[39;00m:\n\u001b[0;32m      <a href='vscode-notebook-cell:/c%3A/Users/cleme/Documents/CentraleSup%C3%A9lec/Syst%C3%A8mes%20de%20d%C3%A9cision/Projet/sdp/main.ipynb#W2sZmlsZQ%3D%3D?line=3'>4</a>\u001b[0m     instance \u001b[39m=\u001b[39m Instance(path\u001b[39m=\u001b[39m\u001b[39m\"\u001b[39m\u001b[39mdata/toy_instance.json\u001b[39m\u001b[39m\"\u001b[39m)\n\u001b[1;32m----> <a href='vscode-notebook-cell:/c%3A/Users/cleme/Documents/CentraleSup%C3%A9lec/Syst%C3%A8mes%20de%20d%C3%A9cision/Projet/sdp/main.ipynb#W2sZmlsZQ%3D%3D?line=5'>6</a>\u001b[0m instance\u001b[39m.\u001b[39;49mbuild_instance()\n",
      "File \u001b[1;32mc:\\Users\\cleme\\Documents\\CentraleSupélec\\Systèmes de décision\\Projet\\sdp\\InstanceClass.py:310\u001b[0m, in \u001b[0;36mInstance.build_instance\u001b[1;34m(self)\u001b[0m\n\u001b[0;32m    308\u001b[0m \u001b[39mdef\u001b[39;00m \u001b[39mbuild_instance\u001b[39m(\u001b[39mself\u001b[39m):\n\u001b[0;32m    309\u001b[0m     \u001b[39mif\u001b[39;00m \u001b[39mnot\u001b[39;00m (\u001b[39mself\u001b[39m\u001b[39m.\u001b[39mdata):\n\u001b[1;32m--> 310\u001b[0m         \u001b[39mself\u001b[39;49m\u001b[39m.\u001b[39;49mload_files()\n\u001b[0;32m    311\u001b[0m     data \u001b[39m=\u001b[39m \u001b[39mself\u001b[39m\u001b[39m.\u001b[39mdata\n\u001b[0;32m    312\u001b[0m     init(data)\n",
      "File \u001b[1;32mc:\\Users\\cleme\\Documents\\CentraleSupélec\\Systèmes de décision\\Projet\\sdp\\InstanceClass.py:305\u001b[0m, in \u001b[0;36mInstance.load_files\u001b[1;34m(self, path)\u001b[0m\n\u001b[0;32m    303\u001b[0m \u001b[39melse\u001b[39;00m:\n\u001b[0;32m    304\u001b[0m     \u001b[39massert\u001b[39;00m \u001b[39mself\u001b[39m\u001b[39m.\u001b[39mpath, \u001b[39m\"\u001b[39m\u001b[39mNo path given.\u001b[39m\u001b[39m\"\u001b[39m\n\u001b[1;32m--> 305\u001b[0m     file \u001b[39m=\u001b[39m \u001b[39mopen\u001b[39;49m(\u001b[39mself\u001b[39;49m\u001b[39m.\u001b[39;49mpath)\n\u001b[0;32m    306\u001b[0m     \u001b[39mself\u001b[39m\u001b[39m.\u001b[39mdata \u001b[39m=\u001b[39m json\u001b[39m.\u001b[39mload(file)\n",
      "\u001b[1;31mFileNotFoundError\u001b[0m: [Errno 2] No such file or directory: 'toy_instance.json'"
     ]
    }
   ],
   "source": [
    "try:\n",
    "    instance = Instance(path=\"toy_instance.json\")\n",
    "except FileNotFoundError:\n",
    "    instance = Instance(path=\"data/toy_instance.json\")\n",
    "    \n",
    "instance.build_instance()"
   ]
  },
  {
   "cell_type": "code",
   "execution_count": 4,
   "id": "d9017d62",
   "metadata": {},
   "outputs": [
    {
     "data": {
      "text/plain": [
       "{'NP': 5,\n",
       " 'NC': 3,\n",
       " 'NA': 3,\n",
       " 'H': 5,\n",
       " 'GAIN': [20, 15, 15, 20, 10],\n",
       " 'PENALTIES': array([[0., 0., 0., 3., 6.],\n",
       "        [0., 0., 0., 3., 6.],\n",
       "        [0., 0., 0., 0., 3.],\n",
       "        [0., 0., 0., 3., 6.],\n",
       "        [0., 0., 0., 0., 0.]]),\n",
       " 'STAFF_QUALIFICATIONS': array([[1., 1., 1.],\n",
       "        [1., 1., 0.],\n",
       "        [0., 0., 1.]]),\n",
       " 'COST_PROJECT': array([[1., 1., 1.],\n",
       "        [1., 2., 0.],\n",
       "        [1., 0., 2.],\n",
       "        [0., 2., 1.],\n",
       "        [0., 0., 2.]]),\n",
       " 'CONGES': array([[0., 0., 0., 0., 0.],\n",
       "        [1., 0., 0., 0., 0.],\n",
       "        [0., 1., 0., 0., 0.]])}"
      ]
     },
     "execution_count": 4,
     "metadata": {},
     "output_type": "execute_result"
    }
   ],
   "source": [
    "instance.variables # check that everything works as expected"
   ]
  },
  {
   "cell_type": "markdown",
   "id": "cb528e64",
   "metadata": {},
   "source": [
    "creation of 𝐴 = {𝑎_{𝑖,𝑗,𝑘,l}} : la matrice des affections des collaborateurs de taille 𝑛𝑐 ∗ ℎ  ∗ 𝑛𝑝 ∗ 𝑛"
   ]
  },
  {
   "cell_type": "markdown",
   "id": "bd6795e5",
   "metadata": {},
   "source": [
    "On en extrait une matrice 𝐴𝑝 = {𝑎𝑝𝑗,𝑘} indiquant si à l’instant j le projet vient d’être\n",
    "rendu \n"
   ]
  },
  {
   "cell_type": "code",
   "execution_count": 5,
   "id": "b741ff0b",
   "metadata": {},
   "outputs": [],
   "source": [
    "I=3\n",
    "J=5\n",
    "L=5\n",
    "K=3"
   ]
  },
  {
   "cell_type": "code",
   "execution_count": 6,
   "id": "882adb78",
   "metadata": {},
   "outputs": [],
   "source": [
    "def solution_creation(variables):\n",
    "    shape=(variables[\"NC\"],variables[\"H\"],variables[\"NP\"],variables[\"NA\"])\n",
    "    return shape\n",
    "\n",
    "def calcul_work(Affectation):\n",
    "    rep = [np.sum([Affectation[i][j] for i in range(3)],axis=0) for j in range(np.shape(Affectation)[1])]\n",
    "    return np.array(rep)\n",
    "\n",
    "def calcul_temporel_work(work,horizon):\n",
    "    rep = [[gp.quicksum(work_project[0:(i+1)]) for i in range(horizon)] for work_project in work]\n",
    "    return np.array(rep)\n",
    "\n",
    "def calcul_work_final(work):\n",
    "    rep=gp.quicksum(work)  \n",
    "    return rep\n",
    "\n",
    "def calcul_Ap(rep,cost_projet):\n",
    "    X = [[(rep[i][j] >= cost_projet[i]) for j in range(len(rep))] for i in range(len(cost_projet))]\n",
    "    return np.array(X)"
   ]
  },
  {
   "cell_type": "code",
   "execution_count": 7,
   "id": "7f3d5ff7",
   "metadata": {},
   "outputs": [
    {
     "name": "stdout",
     "output_type": "stream",
     "text": [
      "Set parameter Username\n",
      "Academic license - for non-commercial use only - expires 2023-12-29\n",
      "Gurobi Optimizer version 10.0.0 build v10.0.0rc2 (win64)\n",
      "\n",
      "CPU model: Intel(R) Core(TM) i7-8550U CPU @ 1.80GHz, instruction set [SSE2|AVX|AVX2]\n",
      "Thread count: 4 physical cores, 8 logical processors, using up to 8 threads\n",
      "\n",
      "Optimize a model with 395 rows, 230 columns and 2715 nonzeros\n",
      "Model fingerprint: 0x8e5e7eaf\n",
      "Variable types: 0 continuous, 230 integer (230 binary)\n",
      "Coefficient statistics:\n",
      "  Matrix range     [1e+00, 2e+00]\n",
      "  Objective range  [1e+01, 2e+01]\n",
      "  Bounds range     [1e+00, 1e+00]\n",
      "  RHS range        [1e+00, 1e+00]\n",
      "Found heuristic solution: objective -0.0000000\n",
      "Presolve removed 372 rows and 135 columns\n",
      "Presolve time: 0.00s\n",
      "Presolved: 23 rows, 95 columns, 190 nonzeros\n",
      "Variable types: 0 continuous, 95 integer (95 binary)\n",
      "\n",
      "Root relaxation: objective 7.500000e+01, 40 iterations, 0.00 seconds (0.00 work units)\n",
      "\n",
      "    Nodes    |    Current Node    |     Objective Bounds      |     Work\n",
      " Expl Unexpl |  Obj  Depth IntInf | Incumbent    BestBd   Gap | It/Node Time\n",
      "\n",
      "     0     0   75.00000    0    1   -0.00000   75.00000      -     -    0s\n",
      "H    0     0                      70.0000000   75.00000  7.14%     -    0s\n",
      "     0     0   75.00000    0    1   70.00000   75.00000  7.14%     -    0s\n",
      "\n",
      "Explored 1 nodes (40 simplex iterations) in 0.06 seconds (0.00 work units)\n",
      "Thread count was 8 (of 8 available processors)\n",
      "\n",
      "Solution count 2: 70 -0 \n",
      "\n",
      "Optimal solution found (tolerance 1.00e-04)\n",
      "Best objective 7.000000000000e+01, best bound 7.000000000000e+01, gap 0.0000%\n"
     ]
    }
   ],
   "source": [
    "shape = solution_creation(instance.variables)\n",
    "COST_PROJECT = instance.variables[\"COST_PROJECT\"]\n",
    "STAFF_QUALIFICATIONS = instance.variables[\"STAFF_QUALIFICATIONS\"]\n",
    "CONGES = instance.variables[\"CONGES\"]\n",
    "I = instance.variables[\"NC\"]\n",
    "J = instance.variables[\"H\"]\n",
    "L = instance.variables[\"NP\"]\n",
    "K = instance.variables[\"NA\"]\n",
    "GAIN = instance.variables[\"GAIN\"]\n",
    "\n",
    "model = gp.Model(\"matrix1\")\n",
    "\n",
    "# Create variables\n",
    "Affectation = model.addMVar(shape=(I,J,L,K), vtype=GRB.BINARY, name=\"Affectation\")\n",
    "Done_Project = model.addMVar(shape=L, vtype=GRB.BINARY, name=\"Done_Project\")\n",
    "Ap = calcul_Ap(calcul_work(Affectation),COST_PROJECT)\n",
    "final_work = calcul_work_final(calcul_work(Affectation))\n",
    "temp_work = calcul_temporel_work(calcul_work(Affectation),instance.variables[\"H\"])\n",
    "\n",
    "model.setObjective(Done_Project @ np.transpose(GAIN), GRB.MAXIMIZE)\n",
    "\n",
    "model.addConstrs((Affectation[i,j,l,k] <= STAFF_QUALIFICATIONS[i,k] for i in range(I) for j in range(J) for l in range(L) for k in range(K)), name=\"Qualifications_Constraint\")\n",
    "model.addConstrs((gp.quicksum(Affectation[i][j] @ np.transpose(np.array([1,1,1]))) <= 1 for i in range(I) for j in range(J) for l in range(L)), name=\"Quantity_worked_Constraint\") \n",
    "model.addConstrs((gp.quicksum(Affectation[i][j] @ np.transpose(np.array([1,1,1]))) <= 1-CONGES[i][j] for i in range(I) for j in range(J) for l in range(L)), name=\"Day_off_Constraint\") \n",
    "model.addConstrs((final_work[i] >= COST_PROJECT[i]*Done_Project[i] for i in range(L)), name=\"Done\") \n",
    "model.addConstrs((Done_Project[i] <= 1 for i in range(L)), name=\"Only_Done_One_Time\") \n",
    "model.optimize()"
   ]
  },
  {
   "cell_type": "code",
   "execution_count": 8,
   "id": "934427b7",
   "metadata": {},
   "outputs": [
    {
     "data": {
      "text/plain": [
       "<MLinExpr ()>\n",
       "array( Affectation[0,0,0,0] + Affectation[0,0,0,1] + Affectation[0,0,0,2] + Affectation[0,0,1,0] + Affectation[0,0,1,1] + Affectation[0,0,1,2] + Affectation[0,0,2,0] + Affectation[0,0,2,1] + Affectation[0,0,2,2] + Affectation[0,0,3,0] + Affectation[0,0,3,1] + Affectation[0,0,3,2] + Affectation[0,0,4,0] + Affectation[0,0,4,1] + Affectation[0,0,4,2])"
      ]
     },
     "execution_count": 8,
     "metadata": {},
     "output_type": "execute_result"
    }
   ],
   "source": [
    "gp.quicksum(Affectation[0][0] @ np.transpose(np.array([1,1,1])))"
   ]
  },
  {
   "cell_type": "code",
   "execution_count": 9,
   "id": "e45ca3cd",
   "metadata": {},
   "outputs": [
    {
     "data": {
      "text/plain": [
       "<MVar (5, 3)>\n",
       "array([[<gurobi.Var Affectation[0,0,0,0] (value -0.0)>,\n",
       "        <gurobi.Var Affectation[0,0,0,1] (value -0.0)>,\n",
       "        <gurobi.Var Affectation[0,0,0,2] (value -0.0)>],\n",
       "       [<gurobi.Var Affectation[0,0,1,0] (value -0.0)>,\n",
       "        <gurobi.Var Affectation[0,0,1,1] (value -0.0)>,\n",
       "        <gurobi.Var Affectation[0,0,1,2] (value 0.0)>],\n",
       "       [<gurobi.Var Affectation[0,0,2,0] (value -0.0)>,\n",
       "        <gurobi.Var Affectation[0,0,2,1] (value 0.0)>,\n",
       "        <gurobi.Var Affectation[0,0,2,2] (value 0.0)>],\n",
       "       [<gurobi.Var Affectation[0,0,3,0] (value 0.0)>,\n",
       "        <gurobi.Var Affectation[0,0,3,1] (value 1.0)>,\n",
       "        <gurobi.Var Affectation[0,0,3,2] (value -0.0)>],\n",
       "       [<gurobi.Var Affectation[0,0,4,0] (value 0.0)>,\n",
       "        <gurobi.Var Affectation[0,0,4,1] (value 0.0)>,\n",
       "        <gurobi.Var Affectation[0,0,4,2] (value -0.0)>]])"
      ]
     },
     "execution_count": 9,
     "metadata": {},
     "output_type": "execute_result"
    }
   ],
   "source": [
    "Affectation[0][0]"
   ]
  },
  {
   "cell_type": "code",
   "execution_count": 10,
   "id": "4f1aa123",
   "metadata": {},
   "outputs": [],
   "source": [
    "i = 2"
   ]
  },
  {
   "cell_type": "code",
   "execution_count": 11,
   "id": "fe3307e1",
   "metadata": {},
   "outputs": [
    {
     "data": {
      "text/plain": [
       "<MLinExpr (3,)  >\n",
       "array([ Done_Project[2],  0.0 Done_Project[2],  2.0 Done_Project[2]])"
      ]
     },
     "execution_count": 11,
     "metadata": {},
     "output_type": "execute_result"
    }
   ],
   "source": [
    "COST_PROJECT[i]*Done_Project[i]"
   ]
  },
  {
   "cell_type": "code",
   "execution_count": 12,
   "id": "46cca010",
   "metadata": {},
   "outputs": [
    {
     "data": {
      "text/plain": [
       "<MLinExpr (3,)  >\n",
       "array([ Done_Project[2],  0.0 Done_Project[2],  2.0 Done_Project[2]])"
      ]
     },
     "execution_count": 12,
     "metadata": {},
     "output_type": "execute_result"
    }
   ],
   "source": [
    "COST_PROJECT[i]*Done_Project[i]"
   ]
  },
  {
   "cell_type": "code",
   "execution_count": 13,
   "id": "1a14d8e7",
   "metadata": {},
   "outputs": [
    {
     "name": "stdout",
     "output_type": "stream",
     "text": [
      "Gurobi Optimizer version 10.0.0 build v10.0.0rc2 (win64)\n",
      "\n",
      "CPU model: Intel(R) Core(TM) i7-8550U CPU @ 1.80GHz, instruction set [SSE2|AVX|AVX2]\n",
      "Thread count: 4 physical cores, 8 logical processors, using up to 8 threads\n",
      "\n",
      "Optimize a model with 395 rows, 230 columns and 2715 nonzeros\n",
      "Model fingerprint: 0x8e5e7eaf\n",
      "Variable types: 0 continuous, 230 integer (230 binary)\n",
      "Coefficient statistics:\n",
      "  Matrix range     [1e+00, 2e+00]\n",
      "  Objective range  [1e+01, 2e+01]\n",
      "  Bounds range     [1e+00, 1e+00]\n",
      "  RHS range        [1e+00, 1e+00]\n",
      "Presolved: 23 rows, 95 columns, 190 nonzeros\n",
      "\n",
      "Continuing optimization...\n",
      "\n",
      "\n",
      "Explored 1 nodes (40 simplex iterations) in 0.03 seconds (0.00 work units)\n",
      "Thread count was 8 (of 8 available processors)\n",
      "\n",
      "Solution count 2: 70 -0 \n",
      "\n",
      "Optimal solution found (tolerance 1.00e-04)\n",
      "Best objective 7.000000000000e+01, best bound 7.000000000000e+01, gap 0.0000%\n"
     ]
    }
   ],
   "source": [
    "model.optimize()"
   ]
  },
  {
   "cell_type": "code",
   "execution_count": 14,
   "id": "321c0ceb",
   "metadata": {},
   "outputs": [
    {
     "data": {
      "text/plain": [
       "<MVar (5, 5, 3)>\n",
       "array([[[<gurobi.Var Affectation[1,0,0,0] (value 0.0)>,\n",
       "         <gurobi.Var Affectation[1,0,0,1] (value 0.0)>,\n",
       "         <gurobi.Var Affectation[1,0,0,2] (value 0.0)>],\n",
       "        [<gurobi.Var Affectation[1,0,1,0] (value 0.0)>,\n",
       "         <gurobi.Var Affectation[1,0,1,1] (value 0.0)>,\n",
       "         <gurobi.Var Affectation[1,0,1,2] (value 0.0)>],\n",
       "        [<gurobi.Var Affectation[1,0,2,0] (value 0.0)>,\n",
       "         <gurobi.Var Affectation[1,0,2,1] (value 0.0)>,\n",
       "         <gurobi.Var Affectation[1,0,2,2] (value 0.0)>],\n",
       "        [<gurobi.Var Affectation[1,0,3,0] (value 0.0)>,\n",
       "         <gurobi.Var Affectation[1,0,3,1] (value 0.0)>,\n",
       "         <gurobi.Var Affectation[1,0,3,2] (value 0.0)>],\n",
       "        [<gurobi.Var Affectation[1,0,4,0] (value 0.0)>,\n",
       "         <gurobi.Var Affectation[1,0,4,1] (value 0.0)>,\n",
       "         <gurobi.Var Affectation[1,0,4,2] (value 0.0)>]],\n",
       "\n",
       "       [[<gurobi.Var Affectation[1,1,0,0] (value -0.0)>,\n",
       "         <gurobi.Var Affectation[1,1,0,1] (value 1.0)>,\n",
       "         <gurobi.Var Affectation[1,1,0,2] (value 0.0)>],\n",
       "        [<gurobi.Var Affectation[1,1,1,0] (value -0.0)>,\n",
       "         <gurobi.Var Affectation[1,1,1,1] (value -0.0)>,\n",
       "         <gurobi.Var Affectation[1,1,1,2] (value 0.0)>],\n",
       "        [<gurobi.Var Affectation[1,1,2,0] (value 0.0)>,\n",
       "         <gurobi.Var Affectation[1,1,2,1] (value 0.0)>,\n",
       "         <gurobi.Var Affectation[1,1,2,2] (value 0.0)>],\n",
       "        [<gurobi.Var Affectation[1,1,3,0] (value 0.0)>,\n",
       "         <gurobi.Var Affectation[1,1,3,1] (value -0.0)>,\n",
       "         <gurobi.Var Affectation[1,1,3,2] (value 0.0)>],\n",
       "        [<gurobi.Var Affectation[1,1,4,0] (value 0.0)>,\n",
       "         <gurobi.Var Affectation[1,1,4,1] (value 0.0)>,\n",
       "         <gurobi.Var Affectation[1,1,4,2] (value 0.0)>]],\n",
       "\n",
       "       [[<gurobi.Var Affectation[1,2,0,0] (value 0.0)>,\n",
       "         <gurobi.Var Affectation[1,2,0,1] (value -0.0)>,\n",
       "         <gurobi.Var Affectation[1,2,0,2] (value 0.0)>],\n",
       "        [<gurobi.Var Affectation[1,2,1,0] (value 1.0)>,\n",
       "         <gurobi.Var Affectation[1,2,1,1] (value -0.0)>,\n",
       "         <gurobi.Var Affectation[1,2,1,2] (value 0.0)>],\n",
       "        [<gurobi.Var Affectation[1,2,2,0] (value -0.0)>,\n",
       "         <gurobi.Var Affectation[1,2,2,1] (value 0.0)>,\n",
       "         <gurobi.Var Affectation[1,2,2,2] (value 0.0)>],\n",
       "        [<gurobi.Var Affectation[1,2,3,0] (value 0.0)>,\n",
       "         <gurobi.Var Affectation[1,2,3,1] (value -0.0)>,\n",
       "         <gurobi.Var Affectation[1,2,3,2] (value 0.0)>],\n",
       "        [<gurobi.Var Affectation[1,2,4,0] (value 0.0)>,\n",
       "         <gurobi.Var Affectation[1,2,4,1] (value 0.0)>,\n",
       "         <gurobi.Var Affectation[1,2,4,2] (value 0.0)>]],\n",
       "\n",
       "       [[<gurobi.Var Affectation[1,3,0,0] (value 1.0)>,\n",
       "         <gurobi.Var Affectation[1,3,0,1] (value -0.0)>,\n",
       "         <gurobi.Var Affectation[1,3,0,2] (value 0.0)>],\n",
       "        [<gurobi.Var Affectation[1,3,1,0] (value -0.0)>,\n",
       "         <gurobi.Var Affectation[1,3,1,1] (value 0.0)>,\n",
       "         <gurobi.Var Affectation[1,3,1,2] (value 0.0)>],\n",
       "        [<gurobi.Var Affectation[1,3,2,0] (value -0.0)>,\n",
       "         <gurobi.Var Affectation[1,3,2,1] (value 0.0)>,\n",
       "         <gurobi.Var Affectation[1,3,2,2] (value 0.0)>],\n",
       "        [<gurobi.Var Affectation[1,3,3,0] (value 0.0)>,\n",
       "         <gurobi.Var Affectation[1,3,3,1] (value -0.0)>,\n",
       "         <gurobi.Var Affectation[1,3,3,2] (value 0.0)>],\n",
       "        [<gurobi.Var Affectation[1,3,4,0] (value 0.0)>,\n",
       "         <gurobi.Var Affectation[1,3,4,1] (value 0.0)>,\n",
       "         <gurobi.Var Affectation[1,3,4,2] (value 0.0)>]],\n",
       "\n",
       "       [[<gurobi.Var Affectation[1,4,0,0] (value -0.0)>,\n",
       "         <gurobi.Var Affectation[1,4,0,1] (value -0.0)>,\n",
       "         <gurobi.Var Affectation[1,4,0,2] (value 0.0)>],\n",
       "        [<gurobi.Var Affectation[1,4,1,0] (value -0.0)>,\n",
       "         <gurobi.Var Affectation[1,4,1,1] (value 1.0)>,\n",
       "         <gurobi.Var Affectation[1,4,1,2] (value 0.0)>],\n",
       "        [<gurobi.Var Affectation[1,4,2,0] (value -0.0)>,\n",
       "         <gurobi.Var Affectation[1,4,2,1] (value 0.0)>,\n",
       "         <gurobi.Var Affectation[1,4,2,2] (value 0.0)>],\n",
       "        [<gurobi.Var Affectation[1,4,3,0] (value 0.0)>,\n",
       "         <gurobi.Var Affectation[1,4,3,1] (value -0.0)>,\n",
       "         <gurobi.Var Affectation[1,4,3,2] (value 0.0)>],\n",
       "        [<gurobi.Var Affectation[1,4,4,0] (value 0.0)>,\n",
       "         <gurobi.Var Affectation[1,4,4,1] (value 0.0)>,\n",
       "         <gurobi.Var Affectation[1,4,4,2] (value 0.0)>]]])"
      ]
     },
     "execution_count": 14,
     "metadata": {},
     "output_type": "execute_result"
    }
   ],
   "source": [
    "Affectation[1]"
   ]
  },
  {
   "cell_type": "code",
   "execution_count": 15,
   "id": "c08ebcd5",
   "metadata": {},
   "outputs": [
    {
     "name": "stdout",
     "output_type": "stream",
     "text": [
      "Affectation[0,0,0,0] -0\n",
      "Affectation[0,0,0,1] -0\n",
      "Affectation[0,0,0,2] -0\n",
      "Affectation[0,0,1,0] -0\n",
      "Affectation[0,0,1,1] -0\n",
      "Affectation[0,0,1,2] 0\n",
      "Affectation[0,0,2,0] -0\n",
      "Affectation[0,0,2,1] 0\n",
      "Affectation[0,0,2,2] 0\n",
      "Affectation[0,0,3,0] 0\n",
      "Affectation[0,0,3,1] 1\n",
      "Affectation[0,0,3,2] -0\n",
      "Affectation[0,0,4,0] 0\n",
      "Affectation[0,0,4,1] 0\n",
      "Affectation[0,0,4,2] -0\n",
      "Affectation[0,1,0,0] -0\n",
      "Affectation[0,1,0,1] -0\n",
      "Affectation[0,1,0,2] -0\n",
      "Affectation[0,1,1,0] -0\n",
      "Affectation[0,1,1,1] -0\n",
      "Affectation[0,1,1,2] 0\n",
      "Affectation[0,1,2,0] -0\n",
      "Affectation[0,1,2,1] 0\n",
      "Affectation[0,1,2,2] 0\n",
      "Affectation[0,1,3,0] 0\n",
      "Affectation[0,1,3,1] 1\n",
      "Affectation[0,1,3,2] -0\n",
      "Affectation[0,1,4,0] 0\n",
      "Affectation[0,1,4,1] 0\n",
      "Affectation[0,1,4,2] -0\n",
      "Affectation[0,2,0,0] -0\n",
      "Affectation[0,2,0,1] -0\n",
      "Affectation[0,2,0,2] -0\n",
      "Affectation[0,2,1,0] -0\n",
      "Affectation[0,2,1,1] 1\n",
      "Affectation[0,2,1,2] 0\n",
      "Affectation[0,2,2,0] -0\n",
      "Affectation[0,2,2,1] 0\n",
      "Affectation[0,2,2,2] -0\n",
      "Affectation[0,2,3,0] 0\n",
      "Affectation[0,2,3,1] 0\n",
      "Affectation[0,2,3,2] -0\n",
      "Affectation[0,2,4,0] 0\n",
      "Affectation[0,2,4,1] 0\n",
      "Affectation[0,2,4,2] -0\n",
      "Affectation[0,3,0,0] -0\n",
      "Affectation[0,3,0,1] -0\n",
      "Affectation[0,3,0,2] -0\n",
      "Affectation[0,3,1,0] -0\n",
      "Affectation[0,3,1,1] 0\n",
      "Affectation[0,3,1,2] 0\n",
      "Affectation[0,3,2,0] -0\n",
      "Affectation[0,3,2,1] 0\n",
      "Affectation[0,3,2,2] 1\n",
      "Affectation[0,3,3,0] 0\n",
      "Affectation[0,3,3,1] -0\n",
      "Affectation[0,3,3,2] -0\n",
      "Affectation[0,3,4,0] 0\n",
      "Affectation[0,3,4,1] 0\n",
      "Affectation[0,3,4,2] -0\n",
      "Affectation[0,4,0,0] -0\n",
      "Affectation[0,4,0,1] -0\n",
      "Affectation[0,4,0,2] -0\n",
      "Affectation[0,4,1,0] -0\n",
      "Affectation[0,4,1,1] -0\n",
      "Affectation[0,4,1,2] 0\n",
      "Affectation[0,4,2,0] 1\n",
      "Affectation[0,4,2,1] 0\n",
      "Affectation[0,4,2,2] -0\n",
      "Affectation[0,4,3,0] 0\n",
      "Affectation[0,4,3,1] -0\n",
      "Affectation[0,4,3,2] 0\n",
      "Affectation[0,4,4,0] 0\n",
      "Affectation[0,4,4,1] 0\n",
      "Affectation[0,4,4,2] 0\n",
      "Affectation[1,0,0,0] 0\n",
      "Affectation[1,0,0,1] 0\n",
      "Affectation[1,0,0,2] 0\n",
      "Affectation[1,0,1,0] 0\n",
      "Affectation[1,0,1,1] 0\n",
      "Affectation[1,0,1,2] 0\n",
      "Affectation[1,0,2,0] 0\n",
      "Affectation[1,0,2,1] 0\n",
      "Affectation[1,0,2,2] 0\n",
      "Affectation[1,0,3,0] 0\n",
      "Affectation[1,0,3,1] 0\n",
      "Affectation[1,0,3,2] 0\n",
      "Affectation[1,0,4,0] 0\n",
      "Affectation[1,0,4,1] 0\n",
      "Affectation[1,0,4,2] 0\n",
      "Affectation[1,1,0,0] -0\n",
      "Affectation[1,1,0,1] 1\n",
      "Affectation[1,1,0,2] 0\n",
      "Affectation[1,1,1,0] -0\n",
      "Affectation[1,1,1,1] -0\n",
      "Affectation[1,1,1,2] 0\n",
      "Affectation[1,1,2,0] 0\n",
      "Affectation[1,1,2,1] 0\n",
      "Affectation[1,1,2,2] 0\n",
      "Affectation[1,1,3,0] 0\n",
      "Affectation[1,1,3,1] -0\n",
      "Affectation[1,1,3,2] 0\n",
      "Affectation[1,1,4,0] 0\n",
      "Affectation[1,1,4,1] 0\n",
      "Affectation[1,1,4,2] 0\n",
      "Affectation[1,2,0,0] 0\n",
      "Affectation[1,2,0,1] -0\n",
      "Affectation[1,2,0,2] 0\n",
      "Affectation[1,2,1,0] 1\n",
      "Affectation[1,2,1,1] -0\n",
      "Affectation[1,2,1,2] 0\n",
      "Affectation[1,2,2,0] -0\n",
      "Affectation[1,2,2,1] 0\n",
      "Affectation[1,2,2,2] 0\n",
      "Affectation[1,2,3,0] 0\n",
      "Affectation[1,2,3,1] -0\n",
      "Affectation[1,2,3,2] 0\n",
      "Affectation[1,2,4,0] 0\n",
      "Affectation[1,2,4,1] 0\n",
      "Affectation[1,2,4,2] 0\n",
      "Affectation[1,3,0,0] 1\n",
      "Affectation[1,3,0,1] -0\n",
      "Affectation[1,3,0,2] 0\n",
      "Affectation[1,3,1,0] -0\n",
      "Affectation[1,3,1,1] 0\n",
      "Affectation[1,3,1,2] 0\n",
      "Affectation[1,3,2,0] -0\n",
      "Affectation[1,3,2,1] 0\n",
      "Affectation[1,3,2,2] 0\n",
      "Affectation[1,3,3,0] 0\n",
      "Affectation[1,3,3,1] -0\n",
      "Affectation[1,3,3,2] 0\n",
      "Affectation[1,3,4,0] 0\n",
      "Affectation[1,3,4,1] 0\n",
      "Affectation[1,3,4,2] 0\n",
      "Affectation[1,4,0,0] -0\n",
      "Affectation[1,4,0,1] -0\n",
      "Affectation[1,4,0,2] 0\n",
      "Affectation[1,4,1,0] -0\n",
      "Affectation[1,4,1,1] 1\n",
      "Affectation[1,4,1,2] 0\n",
      "Affectation[1,4,2,0] -0\n",
      "Affectation[1,4,2,1] 0\n",
      "Affectation[1,4,2,2] 0\n",
      "Affectation[1,4,3,0] 0\n",
      "Affectation[1,4,3,1] -0\n",
      "Affectation[1,4,3,2] 0\n",
      "Affectation[1,4,4,0] 0\n",
      "Affectation[1,4,4,1] 0\n",
      "Affectation[1,4,4,2] 0\n",
      "Affectation[2,0,0,0] 0\n",
      "Affectation[2,0,0,1] 0\n",
      "Affectation[2,0,0,2] -0\n",
      "Affectation[2,0,1,0] 0\n",
      "Affectation[2,0,1,1] 0\n",
      "Affectation[2,0,1,2] 0\n",
      "Affectation[2,0,2,0] 0\n",
      "Affectation[2,0,2,1] 0\n",
      "Affectation[2,0,2,2] -0\n",
      "Affectation[2,0,3,0] 0\n",
      "Affectation[2,0,3,1] 0\n",
      "Affectation[2,0,3,2] 0\n",
      "Affectation[2,0,4,0] 0\n",
      "Affectation[2,0,4,1] 0\n",
      "Affectation[2,0,4,2] 1\n",
      "Affectation[2,1,0,0] 0\n",
      "Affectation[2,1,0,1] 0\n",
      "Affectation[2,1,0,2] 0\n",
      "Affectation[2,1,1,0] 0\n",
      "Affectation[2,1,1,1] 0\n",
      "Affectation[2,1,1,2] 0\n",
      "Affectation[2,1,2,0] 0\n",
      "Affectation[2,1,2,1] 0\n",
      "Affectation[2,1,2,2] 0\n",
      "Affectation[2,1,3,0] 0\n",
      "Affectation[2,1,3,1] 0\n",
      "Affectation[2,1,3,2] 0\n",
      "Affectation[2,1,4,0] 0\n",
      "Affectation[2,1,4,1] 0\n",
      "Affectation[2,1,4,2] 0\n",
      "Affectation[2,2,0,0] 0\n",
      "Affectation[2,2,0,1] 0\n",
      "Affectation[2,2,0,2] 1\n",
      "Affectation[2,2,1,0] 0\n",
      "Affectation[2,2,1,1] 0\n",
      "Affectation[2,2,1,2] 0\n",
      "Affectation[2,2,2,0] 0\n",
      "Affectation[2,2,2,1] 0\n",
      "Affectation[2,2,2,2] 0\n",
      "Affectation[2,2,3,0] 0\n",
      "Affectation[2,2,3,1] 0\n",
      "Affectation[2,2,3,2] -0\n",
      "Affectation[2,2,4,0] 0\n",
      "Affectation[2,2,4,1] 0\n",
      "Affectation[2,2,4,2] -0\n",
      "Affectation[2,3,0,0] 0\n",
      "Affectation[2,3,0,1] 0\n",
      "Affectation[2,3,0,2] -0\n",
      "Affectation[2,3,1,0] 0\n",
      "Affectation[2,3,1,1] 0\n",
      "Affectation[2,3,1,2] 0\n",
      "Affectation[2,3,2,0] 0\n",
      "Affectation[2,3,2,1] 0\n",
      "Affectation[2,3,2,2] 1\n",
      "Affectation[2,3,3,0] 0\n",
      "Affectation[2,3,3,1] 0\n",
      "Affectation[2,3,3,2] -0\n",
      "Affectation[2,3,4,0] 0\n",
      "Affectation[2,3,4,1] 0\n",
      "Affectation[2,3,4,2] 0\n",
      "Affectation[2,4,0,0] 0\n",
      "Affectation[2,4,0,1] 0\n",
      "Affectation[2,4,0,2] -0\n",
      "Affectation[2,4,1,0] 0\n",
      "Affectation[2,4,1,1] 0\n",
      "Affectation[2,4,1,2] 0\n",
      "Affectation[2,4,2,0] 0\n",
      "Affectation[2,4,2,1] 0\n",
      "Affectation[2,4,2,2] -0\n",
      "Affectation[2,4,3,0] 0\n",
      "Affectation[2,4,3,1] 0\n",
      "Affectation[2,4,3,2] 1\n",
      "Affectation[2,4,4,0] 0\n",
      "Affectation[2,4,4,1] 0\n",
      "Affectation[2,4,4,2] 0\n",
      "Done_Project[0] 1\n",
      "Done_Project[1] 1\n",
      "Done_Project[2] 1\n",
      "Done_Project[3] 1\n",
      "Done_Project[4] 0\n",
      "Obj: 70\n"
     ]
    }
   ],
   "source": [
    "for v in model.getVars():\n",
    "    print('%s %g' % (v.VarName, v.X))\n",
    "\n",
    "print('Obj: %g' % model.ObjVal)"
   ]
  }
 ],
 "metadata": {
  "kernelspec": {
   "display_name": "Python 3",
   "language": "python",
   "name": "python3"
  },
  "language_info": {
   "codemirror_mode": {
    "name": "ipython",
    "version": 3
   },
   "file_extension": ".py",
   "mimetype": "text/x-python",
   "name": "python",
   "nbconvert_exporter": "python",
   "pygments_lexer": "ipython3",
   "version": "3.10.4"
  },
  "vscode": {
   "interpreter": {
    "hash": "26de051ba29f2982a8de78e945f0abaf191376122a1563185a90213a26c5da77"
   }
  }
 },
 "nbformat": 4,
 "nbformat_minor": 5
}
