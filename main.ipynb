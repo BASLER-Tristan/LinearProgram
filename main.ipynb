{
 "cells": [
  {
   "cell_type": "code",
   "execution_count": 2,
   "id": "4c13e06a",
   "metadata": {},
   "outputs": [],
   "source": [
    "from InstanceClass import *"
   ]
  },
  {
   "cell_type": "code",
   "execution_count": 8,
   "id": "91178104",
   "metadata": {},
   "outputs": [],
   "source": [
    "import gurobipy as gp\n",
    "from gurobipy import GRB\n",
    "import numpy as np"
   ]
  },
  {
   "cell_type": "code",
   "execution_count": 5,
   "id": "9d4216e0",
   "metadata": {},
   "outputs": [],
   "source": [
    "instance = Instance(path=\"toy_instance.json\")\n",
    "instance.build_instance()"
   ]
  },
  {
   "cell_type": "code",
   "execution_count": 7,
   "id": "690f56e6",
   "metadata": {},
   "outputs": [
    {
     "data": {
      "text/plain": [
       "{'NP': 5,\n",
       " 'NC': 3,\n",
       " 'NA': 3,\n",
       " 'H': 5,\n",
       " 'GAIN': [20, 15, 15, 20, 10],\n",
       " 'PENALTIES': array([[0., 0., 0., 3., 6.],\n",
       "        [0., 0., 0., 3., 6.],\n",
       "        [0., 0., 0., 0., 3.],\n",
       "        [0., 0., 0., 3., 6.],\n",
       "        [0., 0., 0., 0., 0.]]),\n",
       " 'STAFF_QUALIFICATIONS': array([[1., 1., 1.],\n",
       "        [1., 1., 0.],\n",
       "        [0., 0., 1.]]),\n",
       " 'COST_PROJECT': array([[1., 1., 1.],\n",
       "        [1., 2., 0.],\n",
       "        [1., 0., 2.],\n",
       "        [0., 2., 1.],\n",
       "        [0., 0., 2.]]),\n",
       " 'CONGES': array([[0., 0., 0., 0., 0.],\n",
       "        [1., 0., 0., 0., 0.],\n",
       "        [0., 1., 0., 0., 0.]])}"
      ]
     },
     "execution_count": 7,
     "metadata": {},
     "output_type": "execute_result"
    }
   ],
   "source": [
    "instance.variables"
   ]
  },
  {
   "cell_type": "markdown",
   "id": "b9685cee",
   "metadata": {},
   "source": [
    "creation of 𝐴 = {𝑎_{𝑖,𝑗,𝑘,l}} : la matrice des affections des collaborateurs de taille 𝑛𝑐 ∗ ℎ  ∗ 𝑛𝑝 ∗ 𝑛"
   ]
  },
  {
   "cell_type": "markdown",
   "id": "ea340ff5",
   "metadata": {},
   "source": [
    "On en extrait une matrice 𝐴𝑝 = {𝑎𝑝𝑗,𝑘} indiquant si à l’instant j le projet vient d’être\n",
    "rendu \n"
   ]
  },
  {
   "cell_type": "code",
   "execution_count": 78,
   "id": "49064873",
   "metadata": {},
   "outputs": [],
   "source": [
    "I=3\n",
    "J=5\n",
    "L=5\n",
    "K=3"
   ]
  },
  {
   "cell_type": "code",
   "execution_count": 93,
   "id": "ee98b2a7",
   "metadata": {},
   "outputs": [],
   "source": [
    "m = gp.Model(\"matrix1\")\n",
    "\n",
    "# Create variables\n",
    "A = m.addMVar(shape=(3, 5, 5, 3), vtype=GRB.BINARY, name=\"A\")"
   ]
  },
  {
   "cell_type": "code",
   "execution_count": 83,
   "id": "d2bb4345",
   "metadata": {},
   "outputs": [
    {
     "data": {
      "text/plain": [
       "{(0, 0, 0, 0): <gurobi.Var *Awaiting Model Update*>,\n",
       " (0, 0, 0, 1): <gurobi.Var *Awaiting Model Update*>,\n",
       " (0, 0, 0, 2): <gurobi.Var *Awaiting Model Update*>,\n",
       " (0, 0, 1, 0): <gurobi.Var *Awaiting Model Update*>,\n",
       " (0, 0, 1, 1): <gurobi.Var *Awaiting Model Update*>,\n",
       " (0, 0, 1, 2): <gurobi.Var *Awaiting Model Update*>,\n",
       " (0, 0, 2, 0): <gurobi.Var *Awaiting Model Update*>,\n",
       " (0, 0, 2, 1): <gurobi.Var *Awaiting Model Update*>,\n",
       " (0, 0, 2, 2): <gurobi.Var *Awaiting Model Update*>,\n",
       " (0, 0, 3, 0): <gurobi.Var *Awaiting Model Update*>,\n",
       " (0, 0, 3, 1): <gurobi.Var *Awaiting Model Update*>,\n",
       " (0, 0, 3, 2): <gurobi.Var *Awaiting Model Update*>,\n",
       " (0, 0, 4, 0): <gurobi.Var *Awaiting Model Update*>,\n",
       " (0, 0, 4, 1): <gurobi.Var *Awaiting Model Update*>,\n",
       " (0, 0, 4, 2): <gurobi.Var *Awaiting Model Update*>,\n",
       " (0, 1, 0, 0): <gurobi.Var *Awaiting Model Update*>,\n",
       " (0, 1, 0, 1): <gurobi.Var *Awaiting Model Update*>,\n",
       " (0, 1, 0, 2): <gurobi.Var *Awaiting Model Update*>,\n",
       " (0, 1, 1, 0): <gurobi.Var *Awaiting Model Update*>,\n",
       " (0, 1, 1, 1): <gurobi.Var *Awaiting Model Update*>,\n",
       " (0, 1, 1, 2): <gurobi.Var *Awaiting Model Update*>,\n",
       " (0, 1, 2, 0): <gurobi.Var *Awaiting Model Update*>,\n",
       " (0, 1, 2, 1): <gurobi.Var *Awaiting Model Update*>,\n",
       " (0, 1, 2, 2): <gurobi.Var *Awaiting Model Update*>,\n",
       " (0, 1, 3, 0): <gurobi.Var *Awaiting Model Update*>,\n",
       " (0, 1, 3, 1): <gurobi.Var *Awaiting Model Update*>,\n",
       " (0, 1, 3, 2): <gurobi.Var *Awaiting Model Update*>,\n",
       " (0, 1, 4, 0): <gurobi.Var *Awaiting Model Update*>,\n",
       " (0, 1, 4, 1): <gurobi.Var *Awaiting Model Update*>,\n",
       " (0, 1, 4, 2): <gurobi.Var *Awaiting Model Update*>,\n",
       " (0, 2, 0, 0): <gurobi.Var *Awaiting Model Update*>,\n",
       " (0, 2, 0, 1): <gurobi.Var *Awaiting Model Update*>,\n",
       " (0, 2, 0, 2): <gurobi.Var *Awaiting Model Update*>,\n",
       " (0, 2, 1, 0): <gurobi.Var *Awaiting Model Update*>,\n",
       " (0, 2, 1, 1): <gurobi.Var *Awaiting Model Update*>,\n",
       " (0, 2, 1, 2): <gurobi.Var *Awaiting Model Update*>,\n",
       " (0, 2, 2, 0): <gurobi.Var *Awaiting Model Update*>,\n",
       " (0, 2, 2, 1): <gurobi.Var *Awaiting Model Update*>,\n",
       " (0, 2, 2, 2): <gurobi.Var *Awaiting Model Update*>,\n",
       " (0, 2, 3, 0): <gurobi.Var *Awaiting Model Update*>,\n",
       " (0, 2, 3, 1): <gurobi.Var *Awaiting Model Update*>,\n",
       " (0, 2, 3, 2): <gurobi.Var *Awaiting Model Update*>,\n",
       " (0, 2, 4, 0): <gurobi.Var *Awaiting Model Update*>,\n",
       " (0, 2, 4, 1): <gurobi.Var *Awaiting Model Update*>,\n",
       " (0, 2, 4, 2): <gurobi.Var *Awaiting Model Update*>,\n",
       " (0, 3, 0, 0): <gurobi.Var *Awaiting Model Update*>,\n",
       " (0, 3, 0, 1): <gurobi.Var *Awaiting Model Update*>,\n",
       " (0, 3, 0, 2): <gurobi.Var *Awaiting Model Update*>,\n",
       " (0, 3, 1, 0): <gurobi.Var *Awaiting Model Update*>,\n",
       " (0, 3, 1, 1): <gurobi.Var *Awaiting Model Update*>,\n",
       " (0, 3, 1, 2): <gurobi.Var *Awaiting Model Update*>,\n",
       " (0, 3, 2, 0): <gurobi.Var *Awaiting Model Update*>,\n",
       " (0, 3, 2, 1): <gurobi.Var *Awaiting Model Update*>,\n",
       " (0, 3, 2, 2): <gurobi.Var *Awaiting Model Update*>,\n",
       " (0, 3, 3, 0): <gurobi.Var *Awaiting Model Update*>,\n",
       " (0, 3, 3, 1): <gurobi.Var *Awaiting Model Update*>,\n",
       " (0, 3, 3, 2): <gurobi.Var *Awaiting Model Update*>,\n",
       " (0, 3, 4, 0): <gurobi.Var *Awaiting Model Update*>,\n",
       " (0, 3, 4, 1): <gurobi.Var *Awaiting Model Update*>,\n",
       " (0, 3, 4, 2): <gurobi.Var *Awaiting Model Update*>,\n",
       " (0, 4, 0, 0): <gurobi.Var *Awaiting Model Update*>,\n",
       " (0, 4, 0, 1): <gurobi.Var *Awaiting Model Update*>,\n",
       " (0, 4, 0, 2): <gurobi.Var *Awaiting Model Update*>,\n",
       " (0, 4, 1, 0): <gurobi.Var *Awaiting Model Update*>,\n",
       " (0, 4, 1, 1): <gurobi.Var *Awaiting Model Update*>,\n",
       " (0, 4, 1, 2): <gurobi.Var *Awaiting Model Update*>,\n",
       " (0, 4, 2, 0): <gurobi.Var *Awaiting Model Update*>,\n",
       " (0, 4, 2, 1): <gurobi.Var *Awaiting Model Update*>,\n",
       " (0, 4, 2, 2): <gurobi.Var *Awaiting Model Update*>,\n",
       " (0, 4, 3, 0): <gurobi.Var *Awaiting Model Update*>,\n",
       " (0, 4, 3, 1): <gurobi.Var *Awaiting Model Update*>,\n",
       " (0, 4, 3, 2): <gurobi.Var *Awaiting Model Update*>,\n",
       " (0, 4, 4, 0): <gurobi.Var *Awaiting Model Update*>,\n",
       " (0, 4, 4, 1): <gurobi.Var *Awaiting Model Update*>,\n",
       " (0, 4, 4, 2): <gurobi.Var *Awaiting Model Update*>,\n",
       " (1, 0, 0, 0): <gurobi.Var *Awaiting Model Update*>,\n",
       " (1, 0, 0, 1): <gurobi.Var *Awaiting Model Update*>,\n",
       " (1, 0, 0, 2): <gurobi.Var *Awaiting Model Update*>,\n",
       " (1, 0, 1, 0): <gurobi.Var *Awaiting Model Update*>,\n",
       " (1, 0, 1, 1): <gurobi.Var *Awaiting Model Update*>,\n",
       " (1, 0, 1, 2): <gurobi.Var *Awaiting Model Update*>,\n",
       " (1, 0, 2, 0): <gurobi.Var *Awaiting Model Update*>,\n",
       " (1, 0, 2, 1): <gurobi.Var *Awaiting Model Update*>,\n",
       " (1, 0, 2, 2): <gurobi.Var *Awaiting Model Update*>,\n",
       " (1, 0, 3, 0): <gurobi.Var *Awaiting Model Update*>,\n",
       " (1, 0, 3, 1): <gurobi.Var *Awaiting Model Update*>,\n",
       " (1, 0, 3, 2): <gurobi.Var *Awaiting Model Update*>,\n",
       " (1, 0, 4, 0): <gurobi.Var *Awaiting Model Update*>,\n",
       " (1, 0, 4, 1): <gurobi.Var *Awaiting Model Update*>,\n",
       " (1, 0, 4, 2): <gurobi.Var *Awaiting Model Update*>,\n",
       " (1, 1, 0, 0): <gurobi.Var *Awaiting Model Update*>,\n",
       " (1, 1, 0, 1): <gurobi.Var *Awaiting Model Update*>,\n",
       " (1, 1, 0, 2): <gurobi.Var *Awaiting Model Update*>,\n",
       " (1, 1, 1, 0): <gurobi.Var *Awaiting Model Update*>,\n",
       " (1, 1, 1, 1): <gurobi.Var *Awaiting Model Update*>,\n",
       " (1, 1, 1, 2): <gurobi.Var *Awaiting Model Update*>,\n",
       " (1, 1, 2, 0): <gurobi.Var *Awaiting Model Update*>,\n",
       " (1, 1, 2, 1): <gurobi.Var *Awaiting Model Update*>,\n",
       " (1, 1, 2, 2): <gurobi.Var *Awaiting Model Update*>,\n",
       " (1, 1, 3, 0): <gurobi.Var *Awaiting Model Update*>,\n",
       " (1, 1, 3, 1): <gurobi.Var *Awaiting Model Update*>,\n",
       " (1, 1, 3, 2): <gurobi.Var *Awaiting Model Update*>,\n",
       " (1, 1, 4, 0): <gurobi.Var *Awaiting Model Update*>,\n",
       " (1, 1, 4, 1): <gurobi.Var *Awaiting Model Update*>,\n",
       " (1, 1, 4, 2): <gurobi.Var *Awaiting Model Update*>,\n",
       " (1, 2, 0, 0): <gurobi.Var *Awaiting Model Update*>,\n",
       " (1, 2, 0, 1): <gurobi.Var *Awaiting Model Update*>,\n",
       " (1, 2, 0, 2): <gurobi.Var *Awaiting Model Update*>,\n",
       " (1, 2, 1, 0): <gurobi.Var *Awaiting Model Update*>,\n",
       " (1, 2, 1, 1): <gurobi.Var *Awaiting Model Update*>,\n",
       " (1, 2, 1, 2): <gurobi.Var *Awaiting Model Update*>,\n",
       " (1, 2, 2, 0): <gurobi.Var *Awaiting Model Update*>,\n",
       " (1, 2, 2, 1): <gurobi.Var *Awaiting Model Update*>,\n",
       " (1, 2, 2, 2): <gurobi.Var *Awaiting Model Update*>,\n",
       " (1, 2, 3, 0): <gurobi.Var *Awaiting Model Update*>,\n",
       " (1, 2, 3, 1): <gurobi.Var *Awaiting Model Update*>,\n",
       " (1, 2, 3, 2): <gurobi.Var *Awaiting Model Update*>,\n",
       " (1, 2, 4, 0): <gurobi.Var *Awaiting Model Update*>,\n",
       " (1, 2, 4, 1): <gurobi.Var *Awaiting Model Update*>,\n",
       " (1, 2, 4, 2): <gurobi.Var *Awaiting Model Update*>,\n",
       " (1, 3, 0, 0): <gurobi.Var *Awaiting Model Update*>,\n",
       " (1, 3, 0, 1): <gurobi.Var *Awaiting Model Update*>,\n",
       " (1, 3, 0, 2): <gurobi.Var *Awaiting Model Update*>,\n",
       " (1, 3, 1, 0): <gurobi.Var *Awaiting Model Update*>,\n",
       " (1, 3, 1, 1): <gurobi.Var *Awaiting Model Update*>,\n",
       " (1, 3, 1, 2): <gurobi.Var *Awaiting Model Update*>,\n",
       " (1, 3, 2, 0): <gurobi.Var *Awaiting Model Update*>,\n",
       " (1, 3, 2, 1): <gurobi.Var *Awaiting Model Update*>,\n",
       " (1, 3, 2, 2): <gurobi.Var *Awaiting Model Update*>,\n",
       " (1, 3, 3, 0): <gurobi.Var *Awaiting Model Update*>,\n",
       " (1, 3, 3, 1): <gurobi.Var *Awaiting Model Update*>,\n",
       " (1, 3, 3, 2): <gurobi.Var *Awaiting Model Update*>,\n",
       " (1, 3, 4, 0): <gurobi.Var *Awaiting Model Update*>,\n",
       " (1, 3, 4, 1): <gurobi.Var *Awaiting Model Update*>,\n",
       " (1, 3, 4, 2): <gurobi.Var *Awaiting Model Update*>,\n",
       " (1, 4, 0, 0): <gurobi.Var *Awaiting Model Update*>,\n",
       " (1, 4, 0, 1): <gurobi.Var *Awaiting Model Update*>,\n",
       " (1, 4, 0, 2): <gurobi.Var *Awaiting Model Update*>,\n",
       " (1, 4, 1, 0): <gurobi.Var *Awaiting Model Update*>,\n",
       " (1, 4, 1, 1): <gurobi.Var *Awaiting Model Update*>,\n",
       " (1, 4, 1, 2): <gurobi.Var *Awaiting Model Update*>,\n",
       " (1, 4, 2, 0): <gurobi.Var *Awaiting Model Update*>,\n",
       " (1, 4, 2, 1): <gurobi.Var *Awaiting Model Update*>,\n",
       " (1, 4, 2, 2): <gurobi.Var *Awaiting Model Update*>,\n",
       " (1, 4, 3, 0): <gurobi.Var *Awaiting Model Update*>,\n",
       " (1, 4, 3, 1): <gurobi.Var *Awaiting Model Update*>,\n",
       " (1, 4, 3, 2): <gurobi.Var *Awaiting Model Update*>,\n",
       " (1, 4, 4, 0): <gurobi.Var *Awaiting Model Update*>,\n",
       " (1, 4, 4, 1): <gurobi.Var *Awaiting Model Update*>,\n",
       " (1, 4, 4, 2): <gurobi.Var *Awaiting Model Update*>,\n",
       " (2, 0, 0, 0): <gurobi.Var *Awaiting Model Update*>,\n",
       " (2, 0, 0, 1): <gurobi.Var *Awaiting Model Update*>,\n",
       " (2, 0, 0, 2): <gurobi.Var *Awaiting Model Update*>,\n",
       " (2, 0, 1, 0): <gurobi.Var *Awaiting Model Update*>,\n",
       " (2, 0, 1, 1): <gurobi.Var *Awaiting Model Update*>,\n",
       " (2, 0, 1, 2): <gurobi.Var *Awaiting Model Update*>,\n",
       " (2, 0, 2, 0): <gurobi.Var *Awaiting Model Update*>,\n",
       " (2, 0, 2, 1): <gurobi.Var *Awaiting Model Update*>,\n",
       " (2, 0, 2, 2): <gurobi.Var *Awaiting Model Update*>,\n",
       " (2, 0, 3, 0): <gurobi.Var *Awaiting Model Update*>,\n",
       " (2, 0, 3, 1): <gurobi.Var *Awaiting Model Update*>,\n",
       " (2, 0, 3, 2): <gurobi.Var *Awaiting Model Update*>,\n",
       " (2, 0, 4, 0): <gurobi.Var *Awaiting Model Update*>,\n",
       " (2, 0, 4, 1): <gurobi.Var *Awaiting Model Update*>,\n",
       " (2, 0, 4, 2): <gurobi.Var *Awaiting Model Update*>,\n",
       " (2, 1, 0, 0): <gurobi.Var *Awaiting Model Update*>,\n",
       " (2, 1, 0, 1): <gurobi.Var *Awaiting Model Update*>,\n",
       " (2, 1, 0, 2): <gurobi.Var *Awaiting Model Update*>,\n",
       " (2, 1, 1, 0): <gurobi.Var *Awaiting Model Update*>,\n",
       " (2, 1, 1, 1): <gurobi.Var *Awaiting Model Update*>,\n",
       " (2, 1, 1, 2): <gurobi.Var *Awaiting Model Update*>,\n",
       " (2, 1, 2, 0): <gurobi.Var *Awaiting Model Update*>,\n",
       " (2, 1, 2, 1): <gurobi.Var *Awaiting Model Update*>,\n",
       " (2, 1, 2, 2): <gurobi.Var *Awaiting Model Update*>,\n",
       " (2, 1, 3, 0): <gurobi.Var *Awaiting Model Update*>,\n",
       " (2, 1, 3, 1): <gurobi.Var *Awaiting Model Update*>,\n",
       " (2, 1, 3, 2): <gurobi.Var *Awaiting Model Update*>,\n",
       " (2, 1, 4, 0): <gurobi.Var *Awaiting Model Update*>,\n",
       " (2, 1, 4, 1): <gurobi.Var *Awaiting Model Update*>,\n",
       " (2, 1, 4, 2): <gurobi.Var *Awaiting Model Update*>,\n",
       " (2, 2, 0, 0): <gurobi.Var *Awaiting Model Update*>,\n",
       " (2, 2, 0, 1): <gurobi.Var *Awaiting Model Update*>,\n",
       " (2, 2, 0, 2): <gurobi.Var *Awaiting Model Update*>,\n",
       " (2, 2, 1, 0): <gurobi.Var *Awaiting Model Update*>,\n",
       " (2, 2, 1, 1): <gurobi.Var *Awaiting Model Update*>,\n",
       " (2, 2, 1, 2): <gurobi.Var *Awaiting Model Update*>,\n",
       " (2, 2, 2, 0): <gurobi.Var *Awaiting Model Update*>,\n",
       " (2, 2, 2, 1): <gurobi.Var *Awaiting Model Update*>,\n",
       " (2, 2, 2, 2): <gurobi.Var *Awaiting Model Update*>,\n",
       " (2, 2, 3, 0): <gurobi.Var *Awaiting Model Update*>,\n",
       " (2, 2, 3, 1): <gurobi.Var *Awaiting Model Update*>,\n",
       " (2, 2, 3, 2): <gurobi.Var *Awaiting Model Update*>,\n",
       " (2, 2, 4, 0): <gurobi.Var *Awaiting Model Update*>,\n",
       " (2, 2, 4, 1): <gurobi.Var *Awaiting Model Update*>,\n",
       " (2, 2, 4, 2): <gurobi.Var *Awaiting Model Update*>,\n",
       " (2, 3, 0, 0): <gurobi.Var *Awaiting Model Update*>,\n",
       " (2, 3, 0, 1): <gurobi.Var *Awaiting Model Update*>,\n",
       " (2, 3, 0, 2): <gurobi.Var *Awaiting Model Update*>,\n",
       " (2, 3, 1, 0): <gurobi.Var *Awaiting Model Update*>,\n",
       " (2, 3, 1, 1): <gurobi.Var *Awaiting Model Update*>,\n",
       " (2, 3, 1, 2): <gurobi.Var *Awaiting Model Update*>,\n",
       " (2, 3, 2, 0): <gurobi.Var *Awaiting Model Update*>,\n",
       " (2, 3, 2, 1): <gurobi.Var *Awaiting Model Update*>,\n",
       " (2, 3, 2, 2): <gurobi.Var *Awaiting Model Update*>,\n",
       " (2, 3, 3, 0): <gurobi.Var *Awaiting Model Update*>,\n",
       " (2, 3, 3, 1): <gurobi.Var *Awaiting Model Update*>,\n",
       " (2, 3, 3, 2): <gurobi.Var *Awaiting Model Update*>,\n",
       " (2, 3, 4, 0): <gurobi.Var *Awaiting Model Update*>,\n",
       " (2, 3, 4, 1): <gurobi.Var *Awaiting Model Update*>,\n",
       " (2, 3, 4, 2): <gurobi.Var *Awaiting Model Update*>,\n",
       " (2, 4, 0, 0): <gurobi.Var *Awaiting Model Update*>,\n",
       " (2, 4, 0, 1): <gurobi.Var *Awaiting Model Update*>,\n",
       " (2, 4, 0, 2): <gurobi.Var *Awaiting Model Update*>,\n",
       " (2, 4, 1, 0): <gurobi.Var *Awaiting Model Update*>,\n",
       " (2, 4, 1, 1): <gurobi.Var *Awaiting Model Update*>,\n",
       " (2, 4, 1, 2): <gurobi.Var *Awaiting Model Update*>,\n",
       " (2, 4, 2, 0): <gurobi.Var *Awaiting Model Update*>,\n",
       " (2, 4, 2, 1): <gurobi.Var *Awaiting Model Update*>,\n",
       " (2, 4, 2, 2): <gurobi.Var *Awaiting Model Update*>,\n",
       " (2, 4, 3, 0): <gurobi.Var *Awaiting Model Update*>,\n",
       " (2, 4, 3, 1): <gurobi.Var *Awaiting Model Update*>,\n",
       " (2, 4, 3, 2): <gurobi.Var *Awaiting Model Update*>,\n",
       " (2, 4, 4, 0): <gurobi.Var *Awaiting Model Update*>,\n",
       " (2, 4, 4, 1): <gurobi.Var *Awaiting Model Update*>,\n",
       " (2, 4, 4, 2): <gurobi.Var *Awaiting Model Update*>}"
      ]
     },
     "execution_count": 83,
     "metadata": {},
     "output_type": "execute_result"
    }
   ],
   "source": [
    "A"
   ]
  },
  {
   "cell_type": "code",
   "execution_count": 350,
   "id": "73f7683e",
   "metadata": {},
   "outputs": [],
   "source": [
    "def solution_creation(variables):\n",
    "    shape=(variables[\"NC\"],variables[\"H\"],variables[\"NP\"],variables[\"NA\"])\n",
    "    return shape\n",
    "\n",
    "def calcul_work(Affectation):\n",
    "    rep = [np.sum([Affectation[i][j] for i in range(3)],axis=0) for j in range(np.shape(Affectation)[1])]\n",
    "    return np.array(rep)\n",
    "\n",
    "def calcul_temporel_work(work,horizon):\n",
    "    rep = [[gp.quicksum(work_project[0:(i+1)]) for i in range(horizon)] for work_project in work]\n",
    "    return np.array(rep)\n",
    "\n",
    "def calcul_work_final(work):\n",
    "    rep=gp.quicksum(work)  \n",
    "    return rep\n",
    "\n",
    "def calcul_Ap(rep,cost_projet):\n",
    "    X = [[(rep[i][j] >= cost_projet[i]) for j in range(len(rep))] for i in range(len(cost_projet))]\n",
    "    return np.array(X)"
   ]
  },
  {
   "cell_type": "code",
   "execution_count": null,
   "id": "42d31104",
   "metadata": {},
   "outputs": [],
   "source": [
    "model.addConstrs((Affectation[i,j,l,k] <= STAFF_QUALIFICATIONS[i,k] for i in range(I) for j in range(J) for l in range(L) for k in range(K)), name=\"Qualifications_Constraint\")\n",
    "model.addConstrs((Affectation.sum(i,j, '*') <= 1 for i in range(I) for j in range(J)), name=\"Quantity_worked_Constraint\") \n",
    "model.addConstrs((Affectation.sum(i,j, '*') <= 1-CONGES[i][j] for i in range(I) for j in range(J)), name=\"Day_off_Constraint\") \n"
   ]
  },
  {
   "cell_type": "code",
   "execution_count": 353,
   "id": "49a8826a",
   "metadata": {},
   "outputs": [
    {
     "data": {
      "text/plain": [
       "<MLinExpr ()>\n",
       "array( <gurobi.Var *Awaiting Model Update*> + <gurobi.Var *Awaiting Model Update*> + <gurobi.Var *Awaiting Model Update*> + <gurobi.Var *Awaiting Model Update*> + <gurobi.Var *Awaiting Model Update*> + <gurobi.Var *Awaiting Model Update*> + <gurobi.Var *Awaiting Model Update*> + <gurobi.Var *Awaiting Model Update*> + <gurobi.Var *Awaiting Model Update*> + <gurobi.Var *Awaiting Model Update*> + <gurobi.Var *Awaiting Model Update*> + <gurobi.Var *Awaiting Model Update*> + <gurobi.Var *Awaiting Model Update*> + <gurobi.Var *Awaiting Model Update*> + <gurobi.Var *Awaiting Model Update*>)"
      ]
     },
     "execution_count": 353,
     "metadata": {},
     "output_type": "execute_result"
    }
   ],
   "source": [
    "calcul_temporel_work(calcul_work(A),5)[0][4][0]"
   ]
  },
  {
   "cell_type": "code",
   "execution_count": 330,
   "id": "bce9c426",
   "metadata": {},
   "outputs": [
    {
     "data": {
      "text/plain": [
       "<MLinExpr (3,)>\n",
       "array([ <gurobi.Var *Awaiting Model Update*> + <gurobi.Var *Awaiting Model Update*> + <gurobi.Var *Awaiting Model Update*> + <gurobi.Var *Awaiting Model Update*> + <gurobi.Var *Awaiting Model Update*> + <gurobi.Var *Awaiting Model Update*>,\n",
       "        <gurobi.Var *Awaiting Model Update*> + <gurobi.Var *Awaiting Model Update*> + <gurobi.Var *Awaiting Model Update*> + <gurobi.Var *Awaiting Model Update*> + <gurobi.Var *Awaiting Model Update*> + <gurobi.Var *Awaiting Model Update*>,\n",
       "        <gurobi.Var *Awaiting Model Update*> + <gurobi.Var *Awaiting Model Update*> + <gurobi.Var *Awaiting Model Update*> + <gurobi.Var *Awaiting Model Update*> + <gurobi.Var *Awaiting Model Update*> + <gurobi.Var *Awaiting Model Update*>])"
      ]
     },
     "execution_count": 330,
     "metadata": {},
     "output_type": "execute_result"
    }
   ],
   "source": [
    "calcul_work(A)[0][0]+calcul_work(A)[0][1]"
   ]
  },
  {
   "cell_type": "code",
   "execution_count": 339,
   "id": "e2e13b77",
   "metadata": {},
   "outputs": [
    {
     "data": {
      "text/plain": [
       "(5,)"
      ]
     },
     "execution_count": 339,
     "metadata": {},
     "output_type": "execute_result"
    }
   ],
   "source": [
    "np.shape(calcul_work(A))"
   ]
  },
  {
   "cell_type": "code",
   "execution_count": 340,
   "id": "e0e1a31a",
   "metadata": {},
   "outputs": [
    {
     "data": {
      "text/plain": [
       "array([<MLinExpr (5, 3)>\n",
       "       array([[ <gurobi.Var *Awaiting Model Update*> + <gurobi.Var *Awaiting Model Update*> + <gurobi.Var *Awaiting Model Update*>,\n",
       "                <gurobi.Var *Awaiting Model Update*> + <gurobi.Var *Awaiting Model Update*> + <gurobi.Var *Awaiting Model Update*>,\n",
       "                <gurobi.Var *Awaiting Model Update*> + <gurobi.Var *Awaiting Model Update*> + <gurobi.Var *Awaiting Model Update*>],\n",
       "              [ <gurobi.Var *Awaiting Model Update*> + <gurobi.Var *Awaiting Model Update*> + <gurobi.Var *Awaiting Model Update*>,\n",
       "                <gurobi.Var *Awaiting Model Update*> + <gurobi.Var *Awaiting Model Update*> + <gurobi.Var *Awaiting Model Update*>,\n",
       "                <gurobi.Var *Awaiting Model Update*> + <gurobi.Var *Awaiting Model Update*> + <gurobi.Var *Awaiting Model Update*>],\n",
       "              [ <gurobi.Var *Awaiting Model Update*> + <gurobi.Var *Awaiting Model Update*> + <gurobi.Var *Awaiting Model Update*>,\n",
       "                <gurobi.Var *Awaiting Model Update*> + <gurobi.Var *Awaiting Model Update*> + <gurobi.Var *Awaiting Model Update*>,\n",
       "                <gurobi.Var *Awaiting Model Update*> + <gurobi.Var *Awaiting Model Update*> + <gurobi.Var *Awaiting Model Update*>],\n",
       "              [ <gurobi.Var *Awaiting Model Update*> + <gurobi.Var *Awaiting Model Update*> + <gurobi.Var *Awaiting Model Update*>,\n",
       "                <gurobi.Var *Awaiting Model Update*> + <gurobi.Var *Awaiting Model Update*> + <gurobi.Var *Awaiting Model Update*>,\n",
       "                <gurobi.Var *Awaiting Model Update*> + <gurobi.Var *Awaiting Model Update*> + <gurobi.Var *Awaiting Model Update*>],\n",
       "              [ <gurobi.Var *Awaiting Model Update*> + <gurobi.Var *Awaiting Model Update*> + <gurobi.Var *Awaiting Model Update*>,\n",
       "                <gurobi.Var *Awaiting Model Update*> + <gurobi.Var *Awaiting Model Update*> + <gurobi.Var *Awaiting Model Update*>,\n",
       "                <gurobi.Var *Awaiting Model Update*> + <gurobi.Var *Awaiting Model Update*> + <gurobi.Var *Awaiting Model Update*>]]),\n",
       "       <MLinExpr (5, 3)>\n",
       "       array([[ <gurobi.Var *Awaiting Model Update*> + <gurobi.Var *Awaiting Model Update*> + <gurobi.Var *Awaiting Model Update*>,\n",
       "                <gurobi.Var *Awaiting Model Update*> + <gurobi.Var *Awaiting Model Update*> + <gurobi.Var *Awaiting Model Update*>,\n",
       "                <gurobi.Var *Awaiting Model Update*> + <gurobi.Var *Awaiting Model Update*> + <gurobi.Var *Awaiting Model Update*>],\n",
       "              [ <gurobi.Var *Awaiting Model Update*> + <gurobi.Var *Awaiting Model Update*> + <gurobi.Var *Awaiting Model Update*>,\n",
       "                <gurobi.Var *Awaiting Model Update*> + <gurobi.Var *Awaiting Model Update*> + <gurobi.Var *Awaiting Model Update*>,\n",
       "                <gurobi.Var *Awaiting Model Update*> + <gurobi.Var *Awaiting Model Update*> + <gurobi.Var *Awaiting Model Update*>],\n",
       "              [ <gurobi.Var *Awaiting Model Update*> + <gurobi.Var *Awaiting Model Update*> + <gurobi.Var *Awaiting Model Update*>,\n",
       "                <gurobi.Var *Awaiting Model Update*> + <gurobi.Var *Awaiting Model Update*> + <gurobi.Var *Awaiting Model Update*>,\n",
       "                <gurobi.Var *Awaiting Model Update*> + <gurobi.Var *Awaiting Model Update*> + <gurobi.Var *Awaiting Model Update*>],\n",
       "              [ <gurobi.Var *Awaiting Model Update*> + <gurobi.Var *Awaiting Model Update*> + <gurobi.Var *Awaiting Model Update*>,\n",
       "                <gurobi.Var *Awaiting Model Update*> + <gurobi.Var *Awaiting Model Update*> + <gurobi.Var *Awaiting Model Update*>,\n",
       "                <gurobi.Var *Awaiting Model Update*> + <gurobi.Var *Awaiting Model Update*> + <gurobi.Var *Awaiting Model Update*>],\n",
       "              [ <gurobi.Var *Awaiting Model Update*> + <gurobi.Var *Awaiting Model Update*> + <gurobi.Var *Awaiting Model Update*>,\n",
       "                <gurobi.Var *Awaiting Model Update*> + <gurobi.Var *Awaiting Model Update*> + <gurobi.Var *Awaiting Model Update*>,\n",
       "                <gurobi.Var *Awaiting Model Update*> + <gurobi.Var *Awaiting Model Update*> + <gurobi.Var *Awaiting Model Update*>]]),\n",
       "       <MLinExpr (5, 3)>\n",
       "       array([[ <gurobi.Var *Awaiting Model Update*> + <gurobi.Var *Awaiting Model Update*> + <gurobi.Var *Awaiting Model Update*>,\n",
       "                <gurobi.Var *Awaiting Model Update*> + <gurobi.Var *Awaiting Model Update*> + <gurobi.Var *Awaiting Model Update*>,\n",
       "                <gurobi.Var *Awaiting Model Update*> + <gurobi.Var *Awaiting Model Update*> + <gurobi.Var *Awaiting Model Update*>],\n",
       "              [ <gurobi.Var *Awaiting Model Update*> + <gurobi.Var *Awaiting Model Update*> + <gurobi.Var *Awaiting Model Update*>,\n",
       "                <gurobi.Var *Awaiting Model Update*> + <gurobi.Var *Awaiting Model Update*> + <gurobi.Var *Awaiting Model Update*>,\n",
       "                <gurobi.Var *Awaiting Model Update*> + <gurobi.Var *Awaiting Model Update*> + <gurobi.Var *Awaiting Model Update*>],\n",
       "              [ <gurobi.Var *Awaiting Model Update*> + <gurobi.Var *Awaiting Model Update*> + <gurobi.Var *Awaiting Model Update*>,\n",
       "                <gurobi.Var *Awaiting Model Update*> + <gurobi.Var *Awaiting Model Update*> + <gurobi.Var *Awaiting Model Update*>,\n",
       "                <gurobi.Var *Awaiting Model Update*> + <gurobi.Var *Awaiting Model Update*> + <gurobi.Var *Awaiting Model Update*>],\n",
       "              [ <gurobi.Var *Awaiting Model Update*> + <gurobi.Var *Awaiting Model Update*> + <gurobi.Var *Awaiting Model Update*>,\n",
       "                <gurobi.Var *Awaiting Model Update*> + <gurobi.Var *Awaiting Model Update*> + <gurobi.Var *Awaiting Model Update*>,\n",
       "                <gurobi.Var *Awaiting Model Update*> + <gurobi.Var *Awaiting Model Update*> + <gurobi.Var *Awaiting Model Update*>],\n",
       "              [ <gurobi.Var *Awaiting Model Update*> + <gurobi.Var *Awaiting Model Update*> + <gurobi.Var *Awaiting Model Update*>,\n",
       "                <gurobi.Var *Awaiting Model Update*> + <gurobi.Var *Awaiting Model Update*> + <gurobi.Var *Awaiting Model Update*>,\n",
       "                <gurobi.Var *Awaiting Model Update*> + <gurobi.Var *Awaiting Model Update*> + <gurobi.Var *Awaiting Model Update*>]]),\n",
       "       <MLinExpr (5, 3)>\n",
       "       array([[ <gurobi.Var *Awaiting Model Update*> + <gurobi.Var *Awaiting Model Update*> + <gurobi.Var *Awaiting Model Update*>,\n",
       "                <gurobi.Var *Awaiting Model Update*> + <gurobi.Var *Awaiting Model Update*> + <gurobi.Var *Awaiting Model Update*>,\n",
       "                <gurobi.Var *Awaiting Model Update*> + <gurobi.Var *Awaiting Model Update*> + <gurobi.Var *Awaiting Model Update*>],\n",
       "              [ <gurobi.Var *Awaiting Model Update*> + <gurobi.Var *Awaiting Model Update*> + <gurobi.Var *Awaiting Model Update*>,\n",
       "                <gurobi.Var *Awaiting Model Update*> + <gurobi.Var *Awaiting Model Update*> + <gurobi.Var *Awaiting Model Update*>,\n",
       "                <gurobi.Var *Awaiting Model Update*> + <gurobi.Var *Awaiting Model Update*> + <gurobi.Var *Awaiting Model Update*>],\n",
       "              [ <gurobi.Var *Awaiting Model Update*> + <gurobi.Var *Awaiting Model Update*> + <gurobi.Var *Awaiting Model Update*>,\n",
       "                <gurobi.Var *Awaiting Model Update*> + <gurobi.Var *Awaiting Model Update*> + <gurobi.Var *Awaiting Model Update*>,\n",
       "                <gurobi.Var *Awaiting Model Update*> + <gurobi.Var *Awaiting Model Update*> + <gurobi.Var *Awaiting Model Update*>],\n",
       "              [ <gurobi.Var *Awaiting Model Update*> + <gurobi.Var *Awaiting Model Update*> + <gurobi.Var *Awaiting Model Update*>,\n",
       "                <gurobi.Var *Awaiting Model Update*> + <gurobi.Var *Awaiting Model Update*> + <gurobi.Var *Awaiting Model Update*>,\n",
       "                <gurobi.Var *Awaiting Model Update*> + <gurobi.Var *Awaiting Model Update*> + <gurobi.Var *Awaiting Model Update*>],\n",
       "              [ <gurobi.Var *Awaiting Model Update*> + <gurobi.Var *Awaiting Model Update*> + <gurobi.Var *Awaiting Model Update*>,\n",
       "                <gurobi.Var *Awaiting Model Update*> + <gurobi.Var *Awaiting Model Update*> + <gurobi.Var *Awaiting Model Update*>,\n",
       "                <gurobi.Var *Awaiting Model Update*> + <gurobi.Var *Awaiting Model Update*> + <gurobi.Var *Awaiting Model Update*>]]),\n",
       "       <MLinExpr (5, 3)>\n",
       "       array([[ <gurobi.Var *Awaiting Model Update*> + <gurobi.Var *Awaiting Model Update*> + <gurobi.Var *Awaiting Model Update*>,\n",
       "                <gurobi.Var *Awaiting Model Update*> + <gurobi.Var *Awaiting Model Update*> + <gurobi.Var *Awaiting Model Update*>,\n",
       "                <gurobi.Var *Awaiting Model Update*> + <gurobi.Var *Awaiting Model Update*> + <gurobi.Var *Awaiting Model Update*>],\n",
       "              [ <gurobi.Var *Awaiting Model Update*> + <gurobi.Var *Awaiting Model Update*> + <gurobi.Var *Awaiting Model Update*>,\n",
       "                <gurobi.Var *Awaiting Model Update*> + <gurobi.Var *Awaiting Model Update*> + <gurobi.Var *Awaiting Model Update*>,\n",
       "                <gurobi.Var *Awaiting Model Update*> + <gurobi.Var *Awaiting Model Update*> + <gurobi.Var *Awaiting Model Update*>],\n",
       "              [ <gurobi.Var *Awaiting Model Update*> + <gurobi.Var *Awaiting Model Update*> + <gurobi.Var *Awaiting Model Update*>,\n",
       "                <gurobi.Var *Awaiting Model Update*> + <gurobi.Var *Awaiting Model Update*> + <gurobi.Var *Awaiting Model Update*>,\n",
       "                <gurobi.Var *Awaiting Model Update*> + <gurobi.Var *Awaiting Model Update*> + <gurobi.Var *Awaiting Model Update*>],\n",
       "              [ <gurobi.Var *Awaiting Model Update*> + <gurobi.Var *Awaiting Model Update*> + <gurobi.Var *Awaiting Model Update*>,\n",
       "                <gurobi.Var *Awaiting Model Update*> + <gurobi.Var *Awaiting Model Update*> + <gurobi.Var *Awaiting Model Update*>,\n",
       "                <gurobi.Var *Awaiting Model Update*> + <gurobi.Var *Awaiting Model Update*> + <gurobi.Var *Awaiting Model Update*>],\n",
       "              [ <gurobi.Var *Awaiting Model Update*> + <gurobi.Var *Awaiting Model Update*> + <gurobi.Var *Awaiting Model Update*>,\n",
       "                <gurobi.Var *Awaiting Model Update*> + <gurobi.Var *Awaiting Model Update*> + <gurobi.Var *Awaiting Model Update*>,\n",
       "                <gurobi.Var *Awaiting Model Update*> + <gurobi.Var *Awaiting Model Update*> + <gurobi.Var *Awaiting Model Update*>]])],\n",
       "      dtype=object)"
      ]
     },
     "execution_count": 340,
     "metadata": {},
     "output_type": "execute_result"
    }
   ],
   "source": [
    "calcul_work(A)"
   ]
  },
  {
   "cell_type": "code",
   "execution_count": 358,
   "id": "2fc008fc",
   "metadata": {},
   "outputs": [
    {
     "data": {
      "text/plain": [
       "{'NP': 5,\n",
       " 'NC': 3,\n",
       " 'NA': 3,\n",
       " 'H': 5,\n",
       " 'GAIN': [20, 15, 15, 20, 10],\n",
       " 'PENALTIES': array([[0., 0., 0., 3., 6.],\n",
       "        [0., 0., 0., 3., 6.],\n",
       "        [0., 0., 0., 0., 3.],\n",
       "        [0., 0., 0., 3., 6.],\n",
       "        [0., 0., 0., 0., 0.]]),\n",
       " 'STAFF_QUALIFICATIONS': array([[1., 1., 1.],\n",
       "        [1., 1., 0.],\n",
       "        [0., 0., 1.]]),\n",
       " 'COST_PROJECT': array([[1., 1., 1.],\n",
       "        [1., 2., 0.],\n",
       "        [1., 0., 2.],\n",
       "        [0., 2., 1.],\n",
       "        [0., 0., 2.]]),\n",
       " 'CONGES': array([[0., 0., 0., 0., 0.],\n",
       "        [1., 0., 0., 0., 0.],\n",
       "        [0., 1., 0., 0., 0.]])}"
      ]
     },
     "execution_count": 358,
     "metadata": {},
     "output_type": "execute_result"
    }
   ],
   "source": [
    "instance.variables"
   ]
  },
  {
   "cell_type": "code",
   "execution_count": 361,
   "id": "4294d4bb",
   "metadata": {},
   "outputs": [
    {
     "data": {
      "text/plain": [
       "(3, 5, 5, 3)"
      ]
     },
     "execution_count": 361,
     "metadata": {},
     "output_type": "execute_result"
    }
   ],
   "source": [
    "shape"
   ]
  },
  {
   "cell_type": "code",
   "execution_count": 374,
   "id": "94d1b1d8",
   "metadata": {},
   "outputs": [
    {
     "data": {
      "text/plain": [
       "(3, 5, 3, 5)"
      ]
     },
     "execution_count": 374,
     "metadata": {},
     "output_type": "execute_result"
    }
   ],
   "source": [
    "(I,J,K,L)"
   ]
  },
  {
   "cell_type": "code",
   "execution_count": 375,
   "id": "0ff260e6",
   "metadata": {},
   "outputs": [
    {
     "data": {
      "text/plain": [
       "{0: <MConstr () *awaiting model update*>,\n",
       " 1: <MConstr () *awaiting model update*>,\n",
       " 2: <MConstr () *awaiting model update*>,\n",
       " 3: <MConstr () *awaiting model update*>,\n",
       " 4: <MConstr () *awaiting model update*>}"
      ]
     },
     "execution_count": 375,
     "metadata": {},
     "output_type": "execute_result"
    }
   ],
   "source": [
    "shape = solution_creation(instance.variables)\n",
    "COST_PROJECT = instance.variables[\"COST_PROJECT\"]\n",
    "STAFF_QUALIFICATIONS = instance.variables[\"STAFF_QUALIFICATIONS\"]\n",
    "CONGES = instance.variables[\"CONGES\"]\n",
    "I = instance.variables[\"NC\"]\n",
    "J = instance.variables[\"H\"]\n",
    "L = instance.variables[\"NP\"]\n",
    "K = instance.variables[\"NA\"]\n",
    "\n",
    "\n",
    "model = gp.Model(\"matrix1\")\n",
    "\n",
    "# Create variables\n",
    "Affectation = model.addMVar(shape=(I,J,L,K), vtype=GRB.BINARY, name=\"Affectation\")\n",
    "Done_Project = model.addMVar(shape=L, vtype=GRB.BINARY, name=\"Done_Project\")\n",
    "Ap = calcul_Ap(calcul_work(Affectation),COST_PROJECT)\n",
    "final_work = calcul_work_final(calcul_work(Affectation))\n",
    "temp_work = calcul_temporel_work(calcul_work(Affectation),instance.variables[\"H\"])\n",
    "\n",
    "model.addConstrs((Affectation[i,j,l,k] <= STAFF_QUALIFICATIONS[i,k] for i in range(I) for j in range(J) for l in range(L) for k in range(K)), name=\"Qualifications_Constraint\")\n",
    "model.addConstrs((gp.quicksum(Affectation[i][j]) <= 1 for i in range(I) for j in range(J)), name=\"Quantity_worked_Constraint\") \n",
    "model.addConstrs((gp.quicksum(Affectation[i][j]) <= 1-CONGES[i][j] for i in range(I) for j in range(J)), name=\"Day_off_Constraint\") \n",
    "\n",
    "model.addConstrs((Done_Project[i] <= 1 for i in range(L)), name=\"Only_Done_One_Time\") \n"
   ]
  },
  {
   "cell_type": "code",
   "execution_count": 387,
   "id": "427a4740",
   "metadata": {},
   "outputs": [
    {
     "ename": "ValueError",
     "evalue": "can only convert an array of size 1 to a Python scalar",
     "output_type": "error",
     "traceback": [
      "\u001b[1;31m---------------------------------------------------------------------------\u001b[0m",
      "\u001b[1;31mValueError\u001b[0m                                Traceback (most recent call last)",
      "\u001b[1;32m<ipython-input-387-662ec69802b5>\u001b[0m in \u001b[0;36m<module>\u001b[1;34m\u001b[0m\n\u001b[1;32m----> 1\u001b[1;33m \u001b[0mmodel\u001b[0m\u001b[1;33m.\u001b[0m\u001b[0maddGenConstrIndicator\u001b[0m\u001b[1;33m(\u001b[0m\u001b[0mDone_Project\u001b[0m\u001b[1;33m[\u001b[0m\u001b[0mi\u001b[0m\u001b[1;33m]\u001b[0m\u001b[1;33m,\u001b[0m \u001b[1;36m1\u001b[0m\u001b[1;33m,\u001b[0m \u001b[0mfinal_work\u001b[0m\u001b[1;33m[\u001b[0m\u001b[0mi\u001b[0m\u001b[1;33m]\u001b[0m\u001b[1;33m,\u001b[0m \u001b[0mGRB\u001b[0m\u001b[1;33m.\u001b[0m\u001b[0mEQUAL\u001b[0m\u001b[1;33m,\u001b[0m \u001b[1;36m1\u001b[0m\u001b[1;33m,\u001b[0m \u001b[0mname\u001b[0m\u001b[1;33m=\u001b[0m\u001b[1;34m\"Only_Done_One_Time\"\u001b[0m\u001b[1;33m)\u001b[0m\u001b[1;33m\u001b[0m\u001b[1;33m\u001b[0m\u001b[0m\n\u001b[0m",
      "\u001b[1;32msrc\\gurobipy\\model.pxi\u001b[0m in \u001b[0;36mgurobipy.Model.addGenConstrIndicator\u001b[1;34m()\u001b[0m\n",
      "\u001b[1;32msrc\\gurobipy\\mlinexpr.pxi\u001b[0m in \u001b[0;36mgurobipy.MLinExpr.item\u001b[1;34m()\u001b[0m\n",
      "\u001b[1;31mValueError\u001b[0m: can only convert an array of size 1 to a Python scalar"
     ]
    }
   ],
   "source": [
    "model.addGenConstrIndicator(Done_Project[i], 1, final_work[i], GRB.S, 1, name=\"Only_Done_One_Time\") \n"
   ]
  },
  {
   "cell_type": "code",
   "execution_count": 383,
   "id": "dcdc5a2f",
   "metadata": {},
   "outputs": [
    {
     "ename": "SyntaxError",
     "evalue": "invalid syntax (<ipython-input-383-1410d1cee77f>, line 1)",
     "output_type": "error",
     "traceback": [
      "\u001b[1;36m  File \u001b[1;32m\"<ipython-input-383-1410d1cee77f>\"\u001b[1;36m, line \u001b[1;32m1\u001b[0m\n\u001b[1;33m    model.addGenConstrIndicator(Done_Project[i], 1, final_work[i], GRB.EQUAL, 1, name=\"Implication_Constraint\") for i in range(L)\u001b[0m\n\u001b[1;37m                                                                                                                ^\u001b[0m\n\u001b[1;31mSyntaxError\u001b[0m\u001b[1;31m:\u001b[0m invalid syntax\n"
     ]
    }
   ],
   "source": [
    "model.addGenConstrIndicator((Done_Project[i], 1, final_work[i], GRB.EQUAL, 1 for i in range(L)), name=\"Implication_Constraint\")\n"
   ]
  },
  {
   "cell_type": "code",
   "execution_count": 377,
   "id": "61bf7ba8",
   "metadata": {},
   "outputs": [
    {
     "data": {
      "text/plain": [
       "<MLinExpr (5, 3)>\n",
       "array([[ <gurobi.Var *Awaiting Model Update*> + <gurobi.Var *Awaiting Model Update*> + <gurobi.Var *Awaiting Model Update*> + <gurobi.Var *Awaiting Model Update*> + <gurobi.Var *Awaiting Model Update*> + <gurobi.Var *Awaiting Model Update*> + <gurobi.Var *Awaiting Model Update*> + <gurobi.Var *Awaiting Model Update*> + <gurobi.Var *Awaiting Model Update*> + <gurobi.Var *Awaiting Model Update*> + <gurobi.Var *Awaiting Model Update*> + <gurobi.Var *Awaiting Model Update*> + <gurobi.Var *Awaiting Model Update*> + <gurobi.Var *Awaiting Model Update*> + <gurobi.Var *Awaiting Model Update*>,\n",
       "         <gurobi.Var *Awaiting Model Update*> + <gurobi.Var *Awaiting Model Update*> + <gurobi.Var *Awaiting Model Update*> + <gurobi.Var *Awaiting Model Update*> + <gurobi.Var *Awaiting Model Update*> + <gurobi.Var *Awaiting Model Update*> + <gurobi.Var *Awaiting Model Update*> + <gurobi.Var *Awaiting Model Update*> + <gurobi.Var *Awaiting Model Update*> + <gurobi.Var *Awaiting Model Update*> + <gurobi.Var *Awaiting Model Update*> + <gurobi.Var *Awaiting Model Update*> + <gurobi.Var *Awaiting Model Update*> + <gurobi.Var *Awaiting Model Update*> + <gurobi.Var *Awaiting Model Update*>,\n",
       "         <gurobi.Var *Awaiting Model Update*> + <gurobi.Var *Awaiting Model Update*> + <gurobi.Var *Awaiting Model Update*> + <gurobi.Var *Awaiting Model Update*> + <gurobi.Var *Awaiting Model Update*> + <gurobi.Var *Awaiting Model Update*> + <gurobi.Var *Awaiting Model Update*> + <gurobi.Var *Awaiting Model Update*> + <gurobi.Var *Awaiting Model Update*> + <gurobi.Var *Awaiting Model Update*> + <gurobi.Var *Awaiting Model Update*> + <gurobi.Var *Awaiting Model Update*> + <gurobi.Var *Awaiting Model Update*> + <gurobi.Var *Awaiting Model Update*> + <gurobi.Var *Awaiting Model Update*>],\n",
       "       [ <gurobi.Var *Awaiting Model Update*> + <gurobi.Var *Awaiting Model Update*> + <gurobi.Var *Awaiting Model Update*> + <gurobi.Var *Awaiting Model Update*> + <gurobi.Var *Awaiting Model Update*> + <gurobi.Var *Awaiting Model Update*> + <gurobi.Var *Awaiting Model Update*> + <gurobi.Var *Awaiting Model Update*> + <gurobi.Var *Awaiting Model Update*> + <gurobi.Var *Awaiting Model Update*> + <gurobi.Var *Awaiting Model Update*> + <gurobi.Var *Awaiting Model Update*> + <gurobi.Var *Awaiting Model Update*> + <gurobi.Var *Awaiting Model Update*> + <gurobi.Var *Awaiting Model Update*>,\n",
       "         <gurobi.Var *Awaiting Model Update*> + <gurobi.Var *Awaiting Model Update*> + <gurobi.Var *Awaiting Model Update*> + <gurobi.Var *Awaiting Model Update*> + <gurobi.Var *Awaiting Model Update*> + <gurobi.Var *Awaiting Model Update*> + <gurobi.Var *Awaiting Model Update*> + <gurobi.Var *Awaiting Model Update*> + <gurobi.Var *Awaiting Model Update*> + <gurobi.Var *Awaiting Model Update*> + <gurobi.Var *Awaiting Model Update*> + <gurobi.Var *Awaiting Model Update*> + <gurobi.Var *Awaiting Model Update*> + <gurobi.Var *Awaiting Model Update*> + <gurobi.Var *Awaiting Model Update*>,\n",
       "         <gurobi.Var *Awaiting Model Update*> + <gurobi.Var *Awaiting Model Update*> + <gurobi.Var *Awaiting Model Update*> + <gurobi.Var *Awaiting Model Update*> + <gurobi.Var *Awaiting Model Update*> + <gurobi.Var *Awaiting Model Update*> + <gurobi.Var *Awaiting Model Update*> + <gurobi.Var *Awaiting Model Update*> + <gurobi.Var *Awaiting Model Update*> + <gurobi.Var *Awaiting Model Update*> + <gurobi.Var *Awaiting Model Update*> + <gurobi.Var *Awaiting Model Update*> + <gurobi.Var *Awaiting Model Update*> + <gurobi.Var *Awaiting Model Update*> + <gurobi.Var *Awaiting Model Update*>],\n",
       "       [ <gurobi.Var *Awaiting Model Update*> + <gurobi.Var *Awaiting Model Update*> + <gurobi.Var *Awaiting Model Update*> + <gurobi.Var *Awaiting Model Update*> + <gurobi.Var *Awaiting Model Update*> + <gurobi.Var *Awaiting Model Update*> + <gurobi.Var *Awaiting Model Update*> + <gurobi.Var *Awaiting Model Update*> + <gurobi.Var *Awaiting Model Update*> + <gurobi.Var *Awaiting Model Update*> + <gurobi.Var *Awaiting Model Update*> + <gurobi.Var *Awaiting Model Update*> + <gurobi.Var *Awaiting Model Update*> + <gurobi.Var *Awaiting Model Update*> + <gurobi.Var *Awaiting Model Update*>,\n",
       "         <gurobi.Var *Awaiting Model Update*> + <gurobi.Var *Awaiting Model Update*> + <gurobi.Var *Awaiting Model Update*> + <gurobi.Var *Awaiting Model Update*> + <gurobi.Var *Awaiting Model Update*> + <gurobi.Var *Awaiting Model Update*> + <gurobi.Var *Awaiting Model Update*> + <gurobi.Var *Awaiting Model Update*> + <gurobi.Var *Awaiting Model Update*> + <gurobi.Var *Awaiting Model Update*> + <gurobi.Var *Awaiting Model Update*> + <gurobi.Var *Awaiting Model Update*> + <gurobi.Var *Awaiting Model Update*> + <gurobi.Var *Awaiting Model Update*> + <gurobi.Var *Awaiting Model Update*>,\n",
       "         <gurobi.Var *Awaiting Model Update*> + <gurobi.Var *Awaiting Model Update*> + <gurobi.Var *Awaiting Model Update*> + <gurobi.Var *Awaiting Model Update*> + <gurobi.Var *Awaiting Model Update*> + <gurobi.Var *Awaiting Model Update*> + <gurobi.Var *Awaiting Model Update*> + <gurobi.Var *Awaiting Model Update*> + <gurobi.Var *Awaiting Model Update*> + <gurobi.Var *Awaiting Model Update*> + <gurobi.Var *Awaiting Model Update*> + <gurobi.Var *Awaiting Model Update*> + <gurobi.Var *Awaiting Model Update*> + <gurobi.Var *Awaiting Model Update*> + <gurobi.Var *Awaiting Model Update*>],\n",
       "       [ <gurobi.Var *Awaiting Model Update*> + <gurobi.Var *Awaiting Model Update*> + <gurobi.Var *Awaiting Model Update*> + <gurobi.Var *Awaiting Model Update*> + <gurobi.Var *Awaiting Model Update*> + <gurobi.Var *Awaiting Model Update*> + <gurobi.Var *Awaiting Model Update*> + <gurobi.Var *Awaiting Model Update*> + <gurobi.Var *Awaiting Model Update*> + <gurobi.Var *Awaiting Model Update*> + <gurobi.Var *Awaiting Model Update*> + <gurobi.Var *Awaiting Model Update*> + <gurobi.Var *Awaiting Model Update*> + <gurobi.Var *Awaiting Model Update*> + <gurobi.Var *Awaiting Model Update*>,\n",
       "         <gurobi.Var *Awaiting Model Update*> + <gurobi.Var *Awaiting Model Update*> + <gurobi.Var *Awaiting Model Update*> + <gurobi.Var *Awaiting Model Update*> + <gurobi.Var *Awaiting Model Update*> + <gurobi.Var *Awaiting Model Update*> + <gurobi.Var *Awaiting Model Update*> + <gurobi.Var *Awaiting Model Update*> + <gurobi.Var *Awaiting Model Update*> + <gurobi.Var *Awaiting Model Update*> + <gurobi.Var *Awaiting Model Update*> + <gurobi.Var *Awaiting Model Update*> + <gurobi.Var *Awaiting Model Update*> + <gurobi.Var *Awaiting Model Update*> + <gurobi.Var *Awaiting Model Update*>,\n",
       "         <gurobi.Var *Awaiting Model Update*> + <gurobi.Var *Awaiting Model Update*> + <gurobi.Var *Awaiting Model Update*> + <gurobi.Var *Awaiting Model Update*> + <gurobi.Var *Awaiting Model Update*> + <gurobi.Var *Awaiting Model Update*> + <gurobi.Var *Awaiting Model Update*> + <gurobi.Var *Awaiting Model Update*> + <gurobi.Var *Awaiting Model Update*> + <gurobi.Var *Awaiting Model Update*> + <gurobi.Var *Awaiting Model Update*> + <gurobi.Var *Awaiting Model Update*> + <gurobi.Var *Awaiting Model Update*> + <gurobi.Var *Awaiting Model Update*> + <gurobi.Var *Awaiting Model Update*>],\n",
       "       [ <gurobi.Var *Awaiting Model Update*> + <gurobi.Var *Awaiting Model Update*> + <gurobi.Var *Awaiting Model Update*> + <gurobi.Var *Awaiting Model Update*> + <gurobi.Var *Awaiting Model Update*> + <gurobi.Var *Awaiting Model Update*> + <gurobi.Var *Awaiting Model Update*> + <gurobi.Var *Awaiting Model Update*> + <gurobi.Var *Awaiting Model Update*> + <gurobi.Var *Awaiting Model Update*> + <gurobi.Var *Awaiting Model Update*> + <gurobi.Var *Awaiting Model Update*> + <gurobi.Var *Awaiting Model Update*> + <gurobi.Var *Awaiting Model Update*> + <gurobi.Var *Awaiting Model Update*>,\n",
       "         <gurobi.Var *Awaiting Model Update*> + <gurobi.Var *Awaiting Model Update*> + <gurobi.Var *Awaiting Model Update*> + <gurobi.Var *Awaiting Model Update*> + <gurobi.Var *Awaiting Model Update*> + <gurobi.Var *Awaiting Model Update*> + <gurobi.Var *Awaiting Model Update*> + <gurobi.Var *Awaiting Model Update*> + <gurobi.Var *Awaiting Model Update*> + <gurobi.Var *Awaiting Model Update*> + <gurobi.Var *Awaiting Model Update*> + <gurobi.Var *Awaiting Model Update*> + <gurobi.Var *Awaiting Model Update*> + <gurobi.Var *Awaiting Model Update*> + <gurobi.Var *Awaiting Model Update*>,\n",
       "         <gurobi.Var *Awaiting Model Update*> + <gurobi.Var *Awaiting Model Update*> + <gurobi.Var *Awaiting Model Update*> + <gurobi.Var *Awaiting Model Update*> + <gurobi.Var *Awaiting Model Update*> + <gurobi.Var *Awaiting Model Update*> + <gurobi.Var *Awaiting Model Update*> + <gurobi.Var *Awaiting Model Update*> + <gurobi.Var *Awaiting Model Update*> + <gurobi.Var *Awaiting Model Update*> + <gurobi.Var *Awaiting Model Update*> + <gurobi.Var *Awaiting Model Update*> + <gurobi.Var *Awaiting Model Update*> + <gurobi.Var *Awaiting Model Update*> + <gurobi.Var *Awaiting Model Update*>]])"
      ]
     },
     "execution_count": 377,
     "metadata": {},
     "output_type": "execute_result"
    }
   ],
   "source": [
    "final_work"
   ]
  },
  {
   "cell_type": "code",
   "execution_count": 376,
   "id": "0458011a",
   "metadata": {},
   "outputs": [
    {
     "data": {
      "text/plain": [
       "<MVar (5,)>\n",
       "array([<gurobi.Var *Awaiting Model Update*>,\n",
       "       <gurobi.Var *Awaiting Model Update*>,\n",
       "       <gurobi.Var *Awaiting Model Update*>,\n",
       "       <gurobi.Var *Awaiting Model Update*>,\n",
       "       <gurobi.Var *Awaiting Model Update*>])"
      ]
     },
     "execution_count": 376,
     "metadata": {},
     "output_type": "execute_result"
    }
   ],
   "source": [
    "Done_Project"
   ]
  },
  {
   "cell_type": "code",
   "execution_count": 363,
   "id": "98eb58eb",
   "metadata": {},
   "outputs": [
    {
     "ename": "TypeError",
     "evalue": "sum() takes at most 2 positional arguments (4 given)",
     "output_type": "error",
     "traceback": [
      "\u001b[1;31m---------------------------------------------------------------------------\u001b[0m",
      "\u001b[1;31mTypeError\u001b[0m                                 Traceback (most recent call last)",
      "\u001b[1;32m<ipython-input-363-37a6ccf6b649>\u001b[0m in \u001b[0;36m<module>\u001b[1;34m\u001b[0m\n\u001b[1;32m----> 1\u001b[1;33m \u001b[0mmodel\u001b[0m\u001b[1;33m.\u001b[0m\u001b[0maddConstrs\u001b[0m\u001b[1;33m(\u001b[0m\u001b[1;33m(\u001b[0m\u001b[0mAffectation\u001b[0m\u001b[1;33m.\u001b[0m\u001b[0msum\u001b[0m\u001b[1;33m(\u001b[0m\u001b[0mi\u001b[0m\u001b[1;33m,\u001b[0m\u001b[0mj\u001b[0m\u001b[1;33m,\u001b[0m \u001b[1;34m'*'\u001b[0m\u001b[1;33m)\u001b[0m \u001b[1;33m<=\u001b[0m \u001b[1;36m1\u001b[0m \u001b[1;32mfor\u001b[0m \u001b[0mi\u001b[0m \u001b[1;32min\u001b[0m \u001b[0mrange\u001b[0m\u001b[1;33m(\u001b[0m\u001b[0mI\u001b[0m\u001b[1;33m)\u001b[0m \u001b[1;32mfor\u001b[0m \u001b[0mj\u001b[0m \u001b[1;32min\u001b[0m \u001b[0mrange\u001b[0m\u001b[1;33m(\u001b[0m\u001b[0mJ\u001b[0m\u001b[1;33m)\u001b[0m\u001b[1;33m)\u001b[0m\u001b[1;33m,\u001b[0m \u001b[0mname\u001b[0m\u001b[1;33m=\u001b[0m\u001b[1;34m\"Quantity_worked_Constraint\"\u001b[0m\u001b[1;33m)\u001b[0m\u001b[1;33m\u001b[0m\u001b[1;33m\u001b[0m\u001b[0m\n\u001b[0m",
      "\u001b[1;32msrc\\gurobipy\\model.pxi\u001b[0m in \u001b[0;36mgurobipy.Model.addConstrs\u001b[1;34m()\u001b[0m\n",
      "\u001b[1;32m<ipython-input-363-37a6ccf6b649>\u001b[0m in \u001b[0;36m<genexpr>\u001b[1;34m(.0)\u001b[0m\n\u001b[1;32m----> 1\u001b[1;33m \u001b[0mmodel\u001b[0m\u001b[1;33m.\u001b[0m\u001b[0maddConstrs\u001b[0m\u001b[1;33m(\u001b[0m\u001b[1;33m(\u001b[0m\u001b[0mAffectation\u001b[0m\u001b[1;33m.\u001b[0m\u001b[0msum\u001b[0m\u001b[1;33m(\u001b[0m\u001b[0mi\u001b[0m\u001b[1;33m,\u001b[0m\u001b[0mj\u001b[0m\u001b[1;33m,\u001b[0m \u001b[1;34m'*'\u001b[0m\u001b[1;33m)\u001b[0m \u001b[1;33m<=\u001b[0m \u001b[1;36m1\u001b[0m \u001b[1;32mfor\u001b[0m \u001b[0mi\u001b[0m \u001b[1;32min\u001b[0m \u001b[0mrange\u001b[0m\u001b[1;33m(\u001b[0m\u001b[0mI\u001b[0m\u001b[1;33m)\u001b[0m \u001b[1;32mfor\u001b[0m \u001b[0mj\u001b[0m \u001b[1;32min\u001b[0m \u001b[0mrange\u001b[0m\u001b[1;33m(\u001b[0m\u001b[0mJ\u001b[0m\u001b[1;33m)\u001b[0m\u001b[1;33m)\u001b[0m\u001b[1;33m,\u001b[0m \u001b[0mname\u001b[0m\u001b[1;33m=\u001b[0m\u001b[1;34m\"Quantity_worked_Constraint\"\u001b[0m\u001b[1;33m)\u001b[0m\u001b[1;33m\u001b[0m\u001b[1;33m\u001b[0m\u001b[0m\n\u001b[0m",
      "\u001b[1;32msrc\\gurobipy\\mvar.pxi\u001b[0m in \u001b[0;36mgurobipy.MVar.sum\u001b[1;34m()\u001b[0m\n",
      "\u001b[1;31mTypeError\u001b[0m: sum() takes at most 2 positional arguments (4 given)"
     ]
    }
   ],
   "source": [
    "model.addConstrs((Affectation.sum(i,j, '*') <= 1 for i in range(I) for j in range(J)), name=\"Quantity_worked_Constraint\")\n"
   ]
  },
  {
   "cell_type": "code",
   "execution_count": 357,
   "id": "273b8fb8",
   "metadata": {},
   "outputs": [
    {
     "data": {
      "text/plain": [
       "(5, 5)"
      ]
     },
     "execution_count": 357,
     "metadata": {},
     "output_type": "execute_result"
    }
   ],
   "source": [
    "np.shape(temp_work)"
   ]
  },
  {
   "cell_type": "code",
   "execution_count": 314,
   "id": "60a439c7",
   "metadata": {},
   "outputs": [
    {
     "data": {
      "text/plain": [
       "<MLinExpr (5, 3)>\n",
       "array([[ <gurobi.Var *Awaiting Model Update*> + <gurobi.Var *Awaiting Model Update*> + <gurobi.Var *Awaiting Model Update*> + <gurobi.Var *Awaiting Model Update*> + <gurobi.Var *Awaiting Model Update*> + <gurobi.Var *Awaiting Model Update*> + <gurobi.Var *Awaiting Model Update*> + <gurobi.Var *Awaiting Model Update*> + <gurobi.Var *Awaiting Model Update*> + <gurobi.Var *Awaiting Model Update*> + <gurobi.Var *Awaiting Model Update*> + <gurobi.Var *Awaiting Model Update*> + <gurobi.Var *Awaiting Model Update*> + <gurobi.Var *Awaiting Model Update*> + <gurobi.Var *Awaiting Model Update*>,\n",
       "         <gurobi.Var *Awaiting Model Update*> + <gurobi.Var *Awaiting Model Update*> + <gurobi.Var *Awaiting Model Update*> + <gurobi.Var *Awaiting Model Update*> + <gurobi.Var *Awaiting Model Update*> + <gurobi.Var *Awaiting Model Update*> + <gurobi.Var *Awaiting Model Update*> + <gurobi.Var *Awaiting Model Update*> + <gurobi.Var *Awaiting Model Update*> + <gurobi.Var *Awaiting Model Update*> + <gurobi.Var *Awaiting Model Update*> + <gurobi.Var *Awaiting Model Update*> + <gurobi.Var *Awaiting Model Update*> + <gurobi.Var *Awaiting Model Update*> + <gurobi.Var *Awaiting Model Update*>,\n",
       "         <gurobi.Var *Awaiting Model Update*> + <gurobi.Var *Awaiting Model Update*> + <gurobi.Var *Awaiting Model Update*> + <gurobi.Var *Awaiting Model Update*> + <gurobi.Var *Awaiting Model Update*> + <gurobi.Var *Awaiting Model Update*> + <gurobi.Var *Awaiting Model Update*> + <gurobi.Var *Awaiting Model Update*> + <gurobi.Var *Awaiting Model Update*> + <gurobi.Var *Awaiting Model Update*> + <gurobi.Var *Awaiting Model Update*> + <gurobi.Var *Awaiting Model Update*> + <gurobi.Var *Awaiting Model Update*> + <gurobi.Var *Awaiting Model Update*> + <gurobi.Var *Awaiting Model Update*>],\n",
       "       [ <gurobi.Var *Awaiting Model Update*> + <gurobi.Var *Awaiting Model Update*> + <gurobi.Var *Awaiting Model Update*> + <gurobi.Var *Awaiting Model Update*> + <gurobi.Var *Awaiting Model Update*> + <gurobi.Var *Awaiting Model Update*> + <gurobi.Var *Awaiting Model Update*> + <gurobi.Var *Awaiting Model Update*> + <gurobi.Var *Awaiting Model Update*> + <gurobi.Var *Awaiting Model Update*> + <gurobi.Var *Awaiting Model Update*> + <gurobi.Var *Awaiting Model Update*> + <gurobi.Var *Awaiting Model Update*> + <gurobi.Var *Awaiting Model Update*> + <gurobi.Var *Awaiting Model Update*>,\n",
       "         <gurobi.Var *Awaiting Model Update*> + <gurobi.Var *Awaiting Model Update*> + <gurobi.Var *Awaiting Model Update*> + <gurobi.Var *Awaiting Model Update*> + <gurobi.Var *Awaiting Model Update*> + <gurobi.Var *Awaiting Model Update*> + <gurobi.Var *Awaiting Model Update*> + <gurobi.Var *Awaiting Model Update*> + <gurobi.Var *Awaiting Model Update*> + <gurobi.Var *Awaiting Model Update*> + <gurobi.Var *Awaiting Model Update*> + <gurobi.Var *Awaiting Model Update*> + <gurobi.Var *Awaiting Model Update*> + <gurobi.Var *Awaiting Model Update*> + <gurobi.Var *Awaiting Model Update*>,\n",
       "         <gurobi.Var *Awaiting Model Update*> + <gurobi.Var *Awaiting Model Update*> + <gurobi.Var *Awaiting Model Update*> + <gurobi.Var *Awaiting Model Update*> + <gurobi.Var *Awaiting Model Update*> + <gurobi.Var *Awaiting Model Update*> + <gurobi.Var *Awaiting Model Update*> + <gurobi.Var *Awaiting Model Update*> + <gurobi.Var *Awaiting Model Update*> + <gurobi.Var *Awaiting Model Update*> + <gurobi.Var *Awaiting Model Update*> + <gurobi.Var *Awaiting Model Update*> + <gurobi.Var *Awaiting Model Update*> + <gurobi.Var *Awaiting Model Update*> + <gurobi.Var *Awaiting Model Update*>],\n",
       "       [ <gurobi.Var *Awaiting Model Update*> + <gurobi.Var *Awaiting Model Update*> + <gurobi.Var *Awaiting Model Update*> + <gurobi.Var *Awaiting Model Update*> + <gurobi.Var *Awaiting Model Update*> + <gurobi.Var *Awaiting Model Update*> + <gurobi.Var *Awaiting Model Update*> + <gurobi.Var *Awaiting Model Update*> + <gurobi.Var *Awaiting Model Update*> + <gurobi.Var *Awaiting Model Update*> + <gurobi.Var *Awaiting Model Update*> + <gurobi.Var *Awaiting Model Update*> + <gurobi.Var *Awaiting Model Update*> + <gurobi.Var *Awaiting Model Update*> + <gurobi.Var *Awaiting Model Update*>,\n",
       "         <gurobi.Var *Awaiting Model Update*> + <gurobi.Var *Awaiting Model Update*> + <gurobi.Var *Awaiting Model Update*> + <gurobi.Var *Awaiting Model Update*> + <gurobi.Var *Awaiting Model Update*> + <gurobi.Var *Awaiting Model Update*> + <gurobi.Var *Awaiting Model Update*> + <gurobi.Var *Awaiting Model Update*> + <gurobi.Var *Awaiting Model Update*> + <gurobi.Var *Awaiting Model Update*> + <gurobi.Var *Awaiting Model Update*> + <gurobi.Var *Awaiting Model Update*> + <gurobi.Var *Awaiting Model Update*> + <gurobi.Var *Awaiting Model Update*> + <gurobi.Var *Awaiting Model Update*>,\n",
       "         <gurobi.Var *Awaiting Model Update*> + <gurobi.Var *Awaiting Model Update*> + <gurobi.Var *Awaiting Model Update*> + <gurobi.Var *Awaiting Model Update*> + <gurobi.Var *Awaiting Model Update*> + <gurobi.Var *Awaiting Model Update*> + <gurobi.Var *Awaiting Model Update*> + <gurobi.Var *Awaiting Model Update*> + <gurobi.Var *Awaiting Model Update*> + <gurobi.Var *Awaiting Model Update*> + <gurobi.Var *Awaiting Model Update*> + <gurobi.Var *Awaiting Model Update*> + <gurobi.Var *Awaiting Model Update*> + <gurobi.Var *Awaiting Model Update*> + <gurobi.Var *Awaiting Model Update*>],\n",
       "       [ <gurobi.Var *Awaiting Model Update*> + <gurobi.Var *Awaiting Model Update*> + <gurobi.Var *Awaiting Model Update*> + <gurobi.Var *Awaiting Model Update*> + <gurobi.Var *Awaiting Model Update*> + <gurobi.Var *Awaiting Model Update*> + <gurobi.Var *Awaiting Model Update*> + <gurobi.Var *Awaiting Model Update*> + <gurobi.Var *Awaiting Model Update*> + <gurobi.Var *Awaiting Model Update*> + <gurobi.Var *Awaiting Model Update*> + <gurobi.Var *Awaiting Model Update*> + <gurobi.Var *Awaiting Model Update*> + <gurobi.Var *Awaiting Model Update*> + <gurobi.Var *Awaiting Model Update*>,\n",
       "         <gurobi.Var *Awaiting Model Update*> + <gurobi.Var *Awaiting Model Update*> + <gurobi.Var *Awaiting Model Update*> + <gurobi.Var *Awaiting Model Update*> + <gurobi.Var *Awaiting Model Update*> + <gurobi.Var *Awaiting Model Update*> + <gurobi.Var *Awaiting Model Update*> + <gurobi.Var *Awaiting Model Update*> + <gurobi.Var *Awaiting Model Update*> + <gurobi.Var *Awaiting Model Update*> + <gurobi.Var *Awaiting Model Update*> + <gurobi.Var *Awaiting Model Update*> + <gurobi.Var *Awaiting Model Update*> + <gurobi.Var *Awaiting Model Update*> + <gurobi.Var *Awaiting Model Update*>,\n",
       "         <gurobi.Var *Awaiting Model Update*> + <gurobi.Var *Awaiting Model Update*> + <gurobi.Var *Awaiting Model Update*> + <gurobi.Var *Awaiting Model Update*> + <gurobi.Var *Awaiting Model Update*> + <gurobi.Var *Awaiting Model Update*> + <gurobi.Var *Awaiting Model Update*> + <gurobi.Var *Awaiting Model Update*> + <gurobi.Var *Awaiting Model Update*> + <gurobi.Var *Awaiting Model Update*> + <gurobi.Var *Awaiting Model Update*> + <gurobi.Var *Awaiting Model Update*> + <gurobi.Var *Awaiting Model Update*> + <gurobi.Var *Awaiting Model Update*> + <gurobi.Var *Awaiting Model Update*>],\n",
       "       [ <gurobi.Var *Awaiting Model Update*> + <gurobi.Var *Awaiting Model Update*> + <gurobi.Var *Awaiting Model Update*> + <gurobi.Var *Awaiting Model Update*> + <gurobi.Var *Awaiting Model Update*> + <gurobi.Var *Awaiting Model Update*> + <gurobi.Var *Awaiting Model Update*> + <gurobi.Var *Awaiting Model Update*> + <gurobi.Var *Awaiting Model Update*> + <gurobi.Var *Awaiting Model Update*> + <gurobi.Var *Awaiting Model Update*> + <gurobi.Var *Awaiting Model Update*> + <gurobi.Var *Awaiting Model Update*> + <gurobi.Var *Awaiting Model Update*> + <gurobi.Var *Awaiting Model Update*>,\n",
       "         <gurobi.Var *Awaiting Model Update*> + <gurobi.Var *Awaiting Model Update*> + <gurobi.Var *Awaiting Model Update*> + <gurobi.Var *Awaiting Model Update*> + <gurobi.Var *Awaiting Model Update*> + <gurobi.Var *Awaiting Model Update*> + <gurobi.Var *Awaiting Model Update*> + <gurobi.Var *Awaiting Model Update*> + <gurobi.Var *Awaiting Model Update*> + <gurobi.Var *Awaiting Model Update*> + <gurobi.Var *Awaiting Model Update*> + <gurobi.Var *Awaiting Model Update*> + <gurobi.Var *Awaiting Model Update*> + <gurobi.Var *Awaiting Model Update*> + <gurobi.Var *Awaiting Model Update*>,\n",
       "         <gurobi.Var *Awaiting Model Update*> + <gurobi.Var *Awaiting Model Update*> + <gurobi.Var *Awaiting Model Update*> + <gurobi.Var *Awaiting Model Update*> + <gurobi.Var *Awaiting Model Update*> + <gurobi.Var *Awaiting Model Update*> + <gurobi.Var *Awaiting Model Update*> + <gurobi.Var *Awaiting Model Update*> + <gurobi.Var *Awaiting Model Update*> + <gurobi.Var *Awaiting Model Update*> + <gurobi.Var *Awaiting Model Update*> + <gurobi.Var *Awaiting Model Update*> + <gurobi.Var *Awaiting Model Update*> + <gurobi.Var *Awaiting Model Update*> + <gurobi.Var *Awaiting Model Update*>]])"
      ]
     },
     "execution_count": 314,
     "metadata": {},
     "output_type": "execute_result"
    }
   ],
   "source": [
    "work = calcul_work(A)\n",
    "gp.quicksum(work)"
   ]
  },
  {
   "cell_type": "code",
   "execution_count": 303,
   "id": "88dd5a7f",
   "metadata": {},
   "outputs": [
    {
     "ename": "GurobiError",
     "evalue": "Constraint has no bool value (are you trying \"lb <= expr <= ub\"?)",
     "output_type": "error",
     "traceback": [
      "\u001b[1;31m---------------------------------------------------------------------------\u001b[0m",
      "\u001b[1;31mGurobiError\u001b[0m                               Traceback (most recent call last)",
      "\u001b[1;32m<ipython-input-303-33837a97ec4f>\u001b[0m in \u001b[0;36m<module>\u001b[1;34m\u001b[0m\n\u001b[1;32m----> 1\u001b[1;33m \u001b[1;33m[\u001b[0m\u001b[1;33m[\u001b[0m\u001b[1;36m1\u001b[0m \u001b[1;32mif\u001b[0m \u001b[1;33m(\u001b[0m\u001b[0mwork\u001b[0m\u001b[1;33m[\u001b[0m\u001b[0mi\u001b[0m\u001b[1;33m]\u001b[0m\u001b[1;33m[\u001b[0m\u001b[0mj\u001b[0m\u001b[1;33m]\u001b[0m \u001b[1;33m-\u001b[0m \u001b[0mCOST_PROJECT\u001b[0m\u001b[1;33m[\u001b[0m\u001b[0mi\u001b[0m\u001b[1;33m]\u001b[0m\u001b[1;33m)\u001b[0m\u001b[1;33m>=\u001b[0m\u001b[1;36m0\u001b[0m \u001b[1;32melse\u001b[0m \u001b[1;36m0\u001b[0m \u001b[1;32mfor\u001b[0m \u001b[0mj\u001b[0m \u001b[1;32min\u001b[0m \u001b[0mrange\u001b[0m\u001b[1;33m(\u001b[0m\u001b[0mlen\u001b[0m\u001b[1;33m(\u001b[0m\u001b[0mwork\u001b[0m\u001b[1;33m)\u001b[0m\u001b[1;33m)\u001b[0m\u001b[1;33m]\u001b[0m \u001b[1;32mfor\u001b[0m \u001b[0mi\u001b[0m \u001b[1;32min\u001b[0m \u001b[0mrange\u001b[0m\u001b[1;33m(\u001b[0m\u001b[0mlen\u001b[0m\u001b[1;33m(\u001b[0m\u001b[0mCOST_PROJECT\u001b[0m\u001b[1;33m)\u001b[0m\u001b[1;33m)\u001b[0m\u001b[1;33m]\u001b[0m\u001b[1;33m\u001b[0m\u001b[1;33m\u001b[0m\u001b[0m\n\u001b[0m",
      "\u001b[1;32m<ipython-input-303-33837a97ec4f>\u001b[0m in \u001b[0;36m<listcomp>\u001b[1;34m(.0)\u001b[0m\n\u001b[1;32m----> 1\u001b[1;33m \u001b[1;33m[\u001b[0m\u001b[1;33m[\u001b[0m\u001b[1;36m1\u001b[0m \u001b[1;32mif\u001b[0m \u001b[1;33m(\u001b[0m\u001b[0mwork\u001b[0m\u001b[1;33m[\u001b[0m\u001b[0mi\u001b[0m\u001b[1;33m]\u001b[0m\u001b[1;33m[\u001b[0m\u001b[0mj\u001b[0m\u001b[1;33m]\u001b[0m \u001b[1;33m-\u001b[0m \u001b[0mCOST_PROJECT\u001b[0m\u001b[1;33m[\u001b[0m\u001b[0mi\u001b[0m\u001b[1;33m]\u001b[0m\u001b[1;33m)\u001b[0m\u001b[1;33m>=\u001b[0m\u001b[1;36m0\u001b[0m \u001b[1;32melse\u001b[0m \u001b[1;36m0\u001b[0m \u001b[1;32mfor\u001b[0m \u001b[0mj\u001b[0m \u001b[1;32min\u001b[0m \u001b[0mrange\u001b[0m\u001b[1;33m(\u001b[0m\u001b[0mlen\u001b[0m\u001b[1;33m(\u001b[0m\u001b[0mwork\u001b[0m\u001b[1;33m)\u001b[0m\u001b[1;33m)\u001b[0m\u001b[1;33m]\u001b[0m \u001b[1;32mfor\u001b[0m \u001b[0mi\u001b[0m \u001b[1;32min\u001b[0m \u001b[0mrange\u001b[0m\u001b[1;33m(\u001b[0m\u001b[0mlen\u001b[0m\u001b[1;33m(\u001b[0m\u001b[0mCOST_PROJECT\u001b[0m\u001b[1;33m)\u001b[0m\u001b[1;33m)\u001b[0m\u001b[1;33m]\u001b[0m\u001b[1;33m\u001b[0m\u001b[1;33m\u001b[0m\u001b[0m\n\u001b[0m",
      "\u001b[1;32m<ipython-input-303-33837a97ec4f>\u001b[0m in \u001b[0;36m<listcomp>\u001b[1;34m(.0)\u001b[0m\n\u001b[1;32m----> 1\u001b[1;33m \u001b[1;33m[\u001b[0m\u001b[1;33m[\u001b[0m\u001b[1;36m1\u001b[0m \u001b[1;32mif\u001b[0m \u001b[1;33m(\u001b[0m\u001b[0mwork\u001b[0m\u001b[1;33m[\u001b[0m\u001b[0mi\u001b[0m\u001b[1;33m]\u001b[0m\u001b[1;33m[\u001b[0m\u001b[0mj\u001b[0m\u001b[1;33m]\u001b[0m \u001b[1;33m-\u001b[0m \u001b[0mCOST_PROJECT\u001b[0m\u001b[1;33m[\u001b[0m\u001b[0mi\u001b[0m\u001b[1;33m]\u001b[0m\u001b[1;33m)\u001b[0m\u001b[1;33m>=\u001b[0m\u001b[1;36m0\u001b[0m \u001b[1;32melse\u001b[0m \u001b[1;36m0\u001b[0m \u001b[1;32mfor\u001b[0m \u001b[0mj\u001b[0m \u001b[1;32min\u001b[0m \u001b[0mrange\u001b[0m\u001b[1;33m(\u001b[0m\u001b[0mlen\u001b[0m\u001b[1;33m(\u001b[0m\u001b[0mwork\u001b[0m\u001b[1;33m)\u001b[0m\u001b[1;33m)\u001b[0m\u001b[1;33m]\u001b[0m \u001b[1;32mfor\u001b[0m \u001b[0mi\u001b[0m \u001b[1;32min\u001b[0m \u001b[0mrange\u001b[0m\u001b[1;33m(\u001b[0m\u001b[0mlen\u001b[0m\u001b[1;33m(\u001b[0m\u001b[0mCOST_PROJECT\u001b[0m\u001b[1;33m)\u001b[0m\u001b[1;33m)\u001b[0m\u001b[1;33m]\u001b[0m\u001b[1;33m\u001b[0m\u001b[1;33m\u001b[0m\u001b[0m\n\u001b[0m",
      "\u001b[1;32msrc\\gurobipy\\tempconstr.pxi\u001b[0m in \u001b[0;36mgurobipy.TempConstr.__bool__\u001b[1;34m()\u001b[0m\n",
      "\u001b[1;31mGurobiError\u001b[0m: Constraint has no bool value (are you trying \"lb <= expr <= ub\"?)"
     ]
    }
   ],
   "source": [
    "[[1 if (work[i][j] - COST_PROJECT[i])>=0 else 0 for j in range(len(work))] for i in range(len(COST_PROJECT))]\n"
   ]
  },
  {
   "cell_type": "code",
   "execution_count": 283,
   "id": "acf8f186",
   "metadata": {},
   "outputs": [
    {
     "data": {
      "text/plain": [
       "(3, 5, 5, 3)"
      ]
     },
     "execution_count": 283,
     "metadata": {},
     "output_type": "execute_result"
    }
   ],
   "source": [
    "shape"
   ]
  },
  {
   "cell_type": "markdown",
   "id": "11788c11",
   "metadata": {},
   "source": [
    "Constraint 1"
   ]
  },
  {
   "cell_type": "code",
   "execution_count": null,
   "id": "f002e4e4",
   "metadata": {},
   "outputs": [],
   "source": [
    "model.addConstrs((Affectation[i,j,l,k] <= STAFF_QUALIFICATIONS[i,k] for i in range(I) for j in range(J) for l in range(L) for k in range(K)), name=\"Qualifications_Constraint\")\n",
    "model.addConstrs((Affectation.sum(i,j, '*') <= 1 for i in range(I) for j in range(J)), name=\"Quantity_worked_Constraint\") \n",
    "model.addConstrs((Affectation.sum(i,j, '*') <= 1-CONGES[i][j] for i in range(I) for j in range(J)), name=\"Day_off_Constraint\") \n"
   ]
  },
  {
   "cell_type": "code",
   "execution_count": null,
   "id": "10f1558c",
   "metadata": {},
   "outputs": [],
   "source": [
    "model.addConstrs((Affectation.sum(i,j, '*') <= 1-CONGES[i][j] for i in range(I) for j in range(J)), name=\"Day_off_Constraint\") \n"
   ]
  },
  {
   "cell_type": "markdown",
   "id": "55072930",
   "metadata": {},
   "source": [
    "Constraint 2"
   ]
  },
  {
   "cell_type": "code",
   "execution_count": null,
   "id": "b3ba9492",
   "metadata": {},
   "outputs": [],
   "source": [
    "model.addConstrs((A.sum(i,j, '*') <= 1 for i in range(I) for j in range(J)), name=\"Quantity_worked_Constraint\") "
   ]
  },
  {
   "cell_type": "code",
   "execution_count": null,
   "id": "e0dd572d",
   "metadata": {},
   "outputs": [],
   "source": []
  },
  {
   "cell_type": "code",
   "execution_count": null,
   "id": "8f9b5b2e",
   "metadata": {},
   "outputs": [],
   "source": []
  },
  {
   "cell_type": "code",
   "execution_count": 47,
   "id": "211b546e",
   "metadata": {},
   "outputs": [
    {
     "data": {
      "text/plain": [
       "array([1., 1., 1.])"
      ]
     },
     "execution_count": 47,
     "metadata": {},
     "output_type": "execute_result"
    }
   ],
   "source": [
    "STAFF_QUALIFICATIONS[0]"
   ]
  },
  {
   "cell_type": "code",
   "execution_count": null,
   "id": "e1199879",
   "metadata": {},
   "outputs": [],
   "source": []
  },
  {
   "cell_type": "code",
   "execution_count": 57,
   "id": "ddee97d3",
   "metadata": {},
   "outputs": [
    {
     "data": {
      "text/plain": [
       "array([[0., 0., 0.],\n",
       "       [0., 0., 0.],\n",
       "       [0., 0., 0.],\n",
       "       [0., 0., 0.],\n",
       "       [0., 0., 0.]])"
      ]
     },
     "execution_count": 57,
     "metadata": {},
     "output_type": "execute_result"
    }
   ],
   "source": [
    "Affectation[0][0]"
   ]
  },
  {
   "cell_type": "code",
   "execution_count": null,
   "id": "7d2849ae",
   "metadata": {},
   "outputs": [],
   "source": [
    "H"
   ]
  },
  {
   "cell_type": "code",
   "execution_count": 56,
   "id": "61539512",
   "metadata": {},
   "outputs": [
    {
     "data": {
      "text/plain": [
       "array([0., 0., 0.])"
      ]
     },
     "execution_count": 56,
     "metadata": {},
     "output_type": "execute_result"
    }
   ],
   "source": [
    "Affectation[0][0][0]"
   ]
  }
 ],
 "metadata": {
  "kernelspec": {
   "display_name": "Python 3",
   "language": "python",
   "name": "python3"
  },
  "language_info": {
   "codemirror_mode": {
    "name": "ipython",
    "version": 3
   },
   "file_extension": ".py",
   "mimetype": "text/x-python",
   "name": "python",
   "nbconvert_exporter": "python",
   "pygments_lexer": "ipython3",
   "version": "3.10.4 (tags/v3.10.4:9d38120, Mar 23 2022, 23:13:41) [MSC v.1929 64 bit (AMD64)]"
  },
  "vscode": {
   "interpreter": {
    "hash": "26de051ba29f2982a8de78e945f0abaf191376122a1563185a90213a26c5da77"
   }
  }
 },
 "nbformat": 4,
 "nbformat_minor": 5
}
