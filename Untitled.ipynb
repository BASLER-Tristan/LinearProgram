{
 "cells": [
  {
   "cell_type": "code",
   "execution_count": 1,
   "id": "34a22646",
   "metadata": {},
   "outputs": [
    {
     "name": "stdout",
     "output_type": "stream",
     "text": [
      "Set parameter Username\n",
      "Academic license - for non-commercial use only - expires 2023-12-29\n",
      "Gurobi Optimizer version 10.0.0 build v10.0.0rc2 (win64)\n",
      "\n",
      "CPU model: Intel(R) Core(TM) i7-8550U CPU @ 1.80GHz, instruction set [SSE2|AVX|AVX2]\n",
      "Thread count: 4 physical cores, 8 logical processors, using up to 8 threads\n",
      "\n",
      "Optimize a model with 2 rows, 3 columns and 5 nonzeros\n",
      "Model fingerprint: 0x8d4960d3\n",
      "Variable types: 0 continuous, 3 integer (3 binary)\n",
      "Coefficient statistics:\n",
      "  Matrix range     [1e+00, 3e+00]\n",
      "  Objective range  [1e+00, 2e+00]\n",
      "  Bounds range     [1e+00, 1e+00]\n",
      "  RHS range        [1e+00, 4e+00]\n",
      "Found heuristic solution: objective 2.0000000\n",
      "Presolve removed 2 rows and 3 columns\n",
      "Presolve time: 0.02s\n",
      "Presolve: All rows and columns removed\n",
      "\n",
      "Explored 0 nodes (0 simplex iterations) in 0.05 seconds (0.00 work units)\n",
      "Thread count was 1 (of 8 available processors)\n",
      "\n",
      "Solution count 2: 3 2 \n",
      "\n",
      "Optimal solution found (tolerance 1.00e-04)\n",
      "Best objective 3.000000000000e+00, best bound 3.000000000000e+00, gap 0.0000%\n",
      "[1. 0. 1.]\n",
      "Obj: 3\n"
     ]
    }
   ],
   "source": [
    "import gurobipy as gp\n",
    "from gurobipy import GRB\n",
    "import numpy as np\n",
    "import scipy.sparse as sp\n",
    "\n",
    "try:\n",
    "\n",
    "    # Create a new model\n",
    "    m = gp.Model(\"matrix1\")\n",
    "\n",
    "    # Create variables\n",
    "    x = m.addMVar(shape=3, vtype=GRB.BINARY, name=\"x\")\n",
    "\n",
    "    # Set objective\n",
    "    obj = np.array([1.0, 1.0, 2.0])\n",
    "    m.setObjective(obj @ x, GRB.MAXIMIZE)\n",
    "\n",
    "    # Build (sparse) constraint matrix\n",
    "    val = np.array([1.0, 2.0, 3.0, -1.0, -1.0])\n",
    "    row = np.array([0, 0, 0, 1, 1])\n",
    "    col = np.array([0, 1, 2, 0, 1])\n",
    "\n",
    "    A = sp.csr_matrix((val, (row, col)), shape=(2, 3))\n",
    "\n",
    "    # Build rhs vector\n",
    "    rhs = np.array([4.0, -1.0])\n",
    "\n",
    "    # Add constraints\n",
    "    m.addConstr(A @ x <= rhs, name=\"c\")\n",
    "\n",
    "    # Optimize model\n",
    "    m.optimize()\n",
    "\n",
    "    print(x.X)\n",
    "    print('Obj: %g' % m.ObjVal)\n",
    "\n",
    "except gp.GurobiError as e:\n",
    "    print('Error code ' + str(e.errno) + \": \" + str(e))\n",
    "\n",
    "except AttributeError:\n",
    "    print('Encountered an attribute error')"
   ]
  },
  {
   "cell_type": "code",
   "execution_count": 2,
   "id": "ea597924",
   "metadata": {},
   "outputs": [],
   "source": [
    "val = np.array([1.0, 2.0, 3.0, -1.0, -1.0])\n",
    "row = np.array([0, 0, 0, 1, 1])\n",
    "col = np.array([0, 1, 2, 0, 1])\n",
    "\n",
    "A = sp.csr_matrix((val, (row, col)), shape=(2, 3))"
   ]
  },
  {
   "cell_type": "code",
   "execution_count": 7,
   "id": "b98d0e9b",
   "metadata": {},
   "outputs": [],
   "source": [
    "import json"
   ]
  },
  {
   "cell_type": "code",
   "execution_count": 12,
   "id": "13a3bb77",
   "metadata": {},
   "outputs": [],
   "source": [
    "path =\"toy_instance.json\""
   ]
  },
  {
   "cell_type": "code",
   "execution_count": 79,
   "id": "6726d113",
   "metadata": {},
   "outputs": [],
   "source": [
    "file = open(path)\n",
    "instance = json.load(file)"
   ]
  },
  {
   "cell_type": "code",
   "execution_count": 80,
   "id": "7856f546",
   "metadata": {},
   "outputs": [],
   "source": [
    "def init(instance):\n",
    "    def jobs_init(instance):\n",
    "        for job in instance[\"jobs\"]:\n",
    "            job[\"due_date\"]=job[\"due_date\"]-1\n",
    "            \n",
    "    def conges_init(instance):\n",
    "        for staff in instance[\"staff\"]:\n",
    "            staff[\"vacations\"]=list(np.array(staff[\"vacations\"])-1)\n",
    "\n",
    "    jobs_init(instance)\n",
    "    conges_init(instance)"
   ]
  },
  {
   "cell_type": "code",
   "execution_count": 83,
   "id": "f74613f6",
   "metadata": {},
   "outputs": [],
   "source": [
    "def extract_projets(instance):\n",
    "    jobs = instance[\"jobs\"]\n",
    "    return jobs\n",
    "\n",
    "def extract_collaborators(instance):\n",
    "    staff = instance[\"staff\"]\n",
    "    return staff\n",
    "\n",
    "def extract_qualifications(instance):\n",
    "    qualifications = instance[\"qualifications\"]\n",
    "    return qualifications\n",
    "\n",
    "def extract_gain(instance):\n",
    "    jobs = instance[\"jobs\"]\n",
    "    gains = []\n",
    "    for job in jobs:\n",
    "        gains.append([int(job[\"name\"][-1]),job[\"gain\"]])\n",
    "    gains = [y for x,y in sorted(gains)]\n",
    "    return gains\n",
    "\n",
    "def extract_penality(instance):\n",
    "    Penalties = []\n",
    "    for jobs in instance[\"jobs\"]:\n",
    "        row = np.zeros(instance[\"horizon\"])\n",
    "        for i in range(instance[\"horizon\"]):\n",
    "            if i > jobs[\"due_date\"]:\n",
    "                row[i] = (i-jobs[\"due_date\"])*jobs[\"daily_penalty\"]\n",
    "        Penalties.append(row)\n",
    "    Penalties=np.array(Penalties)\n",
    "    return Penalties\n",
    "\n",
    "def extract_staff_qualifications(instance):\n",
    "    R_qualifications = []\n",
    "    qualifications = extract_qualifications(instance)\n",
    "    for staff in instance[\"staff\"]:\n",
    "        row = np.zeros(len(qualifications))\n",
    "        for x in staff[\"qualifications\"]:\n",
    "            row[qualifications.index(x)]=1\n",
    "        R_qualifications.append(row)\n",
    "    R_qualifications=np.array(R_qualifications)\n",
    "    return R_qualifications\n",
    "\n",
    "def extract_projets_qualifications(instance):\n",
    "    projets_qualifications = []\n",
    "    qualifications = extract_qualifications(instance)\n",
    "    for job in instance[\"jobs\"]:\n",
    "        row = np.zeros(len(qualifications))\n",
    "        for x in job[\"working_days_per_qualification\"]:\n",
    "            row[qualifications.index(x)]=job[\"working_days_per_qualification\"][x]\n",
    "        projets_qualifications.append(row)\n",
    "    projets_qualifications=np.array(projets_qualifications)\n",
    "    return projets_qualifications\n",
    "\n",
    "def extract_staff_conges(instance):\n",
    "    conges = []\n",
    "    for staff in instance[\"staff\"]:\n",
    "        row = np.zeros(instance['horizon'])\n",
    "        for x in staff[\"vacations\"]:\n",
    "            row[x]=1\n",
    "        conges.append(row)\n",
    "    conges=np.array(conges)\n",
    "    return conges"
   ]
  },
  {
   "cell_type": "code",
   "execution_count": 85,
   "id": "92ad7139",
   "metadata": {},
   "outputs": [
    {
     "name": "stdout",
     "output_type": "stream",
     "text": [
      "JOBS [{'name': 'Job1', 'gain': 20, 'due_date': 2, 'daily_penalty': 3, 'working_days_per_qualification': {'A': 1, 'B': 1, 'C': 1}}, {'name': 'Job2', 'gain': 15, 'due_date': 2, 'daily_penalty': 3, 'working_days_per_qualification': {'A': 1, 'B': 2}}, {'name': 'Job3', 'gain': 15, 'due_date': 3, 'daily_penalty': 3, 'working_days_per_qualification': {'A': 1, 'C': 2}}, {'name': 'Job4', 'gain': 20, 'due_date': 2, 'daily_penalty': 3, 'working_days_per_qualification': {'B': 2, 'C': 1}}, {'name': 'Job5', 'gain': 10, 'due_date': 4, 'daily_penalty': 3, 'working_days_per_qualification': {'C': 2}}]\n",
      "STAFF [{'name': 'Olivia', 'qualifications': ['A', 'B', 'C'], 'vacations': []}, {'name': 'Liam', 'qualifications': ['A', 'B'], 'vacations': [0]}, {'name': 'Emma', 'qualifications': ['C'], 'vacations': [1]}]\n",
      "QUALIFICATIONS ['A', 'B', 'C']\n",
      "GAIN [20, 15, 15, 20, 10]\n",
      "PENALTIES [[0. 0. 0. 3. 6.]\n",
      " [0. 0. 0. 3. 6.]\n",
      " [0. 0. 0. 0. 3.]\n",
      " [0. 0. 0. 3. 6.]\n",
      " [0. 0. 0. 0. 0.]]\n",
      "STAFF_QUALIFICATIONS [[1. 1. 1.]\n",
      " [1. 1. 0.]\n",
      " [0. 0. 1.]]\n",
      "COST PROJECT [[1. 1. 1.]\n",
      " [1. 2. 0.]\n",
      " [1. 0. 2.]\n",
      " [0. 2. 1.]\n",
      " [0. 0. 2.]]\n",
      "CONGES [[0. 0. 0. 0. 0.]\n",
      " [1. 0. 0. 0. 0.]\n",
      " [0. 1. 0. 0. 0.]]\n"
     ]
    }
   ],
   "source": [
    "print(\"JOBS\",extract_projets(instance))\n",
    "print(\"STAFF\",extract_collaborators(instance))\n",
    "print(\"QUALIFICATIONS\",extract_qualifications(instance))\n",
    "print(\"GAIN\",extract_gain(instance))\n",
    "print(\"PENALTIES\",extract_penality(instance))\n",
    "print(\"STAFF_QUALIFICATIONS\",extract_staff_qualifications(instance))\n",
    "print(\"COST PROJECT\",extract_projets_qualifications(instance))\n",
    "print(\"CONGES\",extract_staff_conges(instance))"
   ]
  },
  {
   "cell_type": "code",
   "execution_count": null,
   "id": "545d51ac",
   "metadata": {},
   "outputs": [],
   "source": []
  },
  {
   "cell_type": "code",
   "execution_count": 24,
   "id": "6c9b7701",
   "metadata": {},
   "outputs": [
    {
     "name": "stdout",
     "output_type": "stream",
     "text": [
      "5\n",
      "[20, 15, 15, 20, 10]\n"
     ]
    }
   ],
   "source": [
    "print(extract_nb_projets(instance))\n",
    "print(extract_gain(instance))"
   ]
  },
  {
   "cell_type": "code",
   "execution_count": 4,
   "id": "57730f2b",
   "metadata": {},
   "outputs": [
    {
     "name": "stdout",
     "output_type": "stream",
     "text": [
      "  (0, 0)\t1.0\n",
      "  (0, 1)\t2.0\n",
      "  (0, 2)\t3.0\n",
      "  (1, 0)\t-1.0\n",
      "  (1, 1)\t-1.0\n"
     ]
    }
   ],
   "source": [
    "print(A)"
   ]
  }
 ],
 "metadata": {
  "kernelspec": {
   "display_name": "Python 3",
   "language": "python",
   "name": "python3"
  },
  "language_info": {
   "codemirror_mode": {
    "name": "ipython",
    "version": 3
   },
   "file_extension": ".py",
   "mimetype": "text/x-python",
   "name": "python",
   "nbconvert_exporter": "python",
   "pygments_lexer": "ipython3",
   "version": "3.8.8"
  }
 },
 "nbformat": 4,
 "nbformat_minor": 5
}
