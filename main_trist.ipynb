{
 "cells": [
  {
   "cell_type": "markdown",
   "id": "e6dff554",
   "metadata": {},
   "source": [
    "## Notebook principal\n",
    "<br>\n",
    "Implémentation du modèle (fonctions objectifs, contraintes et résolution/optimisation)."
   ]
  },
  {
   "cell_type": "markdown",
   "id": "039515a3",
   "metadata": {},
   "source": [
    "### Importations"
   ]
  },
  {
   "cell_type": "code",
   "execution_count": 1,
   "id": "c13e1304",
   "metadata": {},
   "outputs": [],
   "source": [
    "import gurobipy as gp # solver\n",
    "from gurobipy import GRB\n",
    "import numpy as np"
   ]
  },
  {
   "cell_type": "code",
   "execution_count": 2,
   "id": "59dd0fd3",
   "metadata": {},
   "outputs": [],
   "source": [
    "from InstanceClass import Instance # custom class built to load and encode .json files (instances)"
   ]
  },
  {
   "cell_type": "markdown",
   "id": "02819be1",
   "metadata": {},
   "source": [
    "### Loading the data"
   ]
  },
  {
   "cell_type": "code",
   "execution_count": 3,
   "id": "3fa85ee8",
   "metadata": {},
   "outputs": [],
   "source": [
    "instance = Instance(path=\"data/large_instance.json\")\n",
    "instance.build_instance()"
   ]
  },
  {
   "cell_type": "code",
   "execution_count": 4,
   "id": "d9017d62",
   "metadata": {},
   "outputs": [
    {
     "data": {
      "text/plain": [
       "{'NP': 25,\n",
       " 'NC': 6,\n",
       " 'NA': 10,\n",
       " 'H': 36,\n",
       " 'GAIN': [15,\n",
       "  30,\n",
       "  30,\n",
       "  30,\n",
       "  70,\n",
       "  50,\n",
       "  50,\n",
       "  80,\n",
       "  80,\n",
       "  20,\n",
       "  20,\n",
       "  40,\n",
       "  20,\n",
       "  20,\n",
       "  20,\n",
       "  80,\n",
       "  25,\n",
       "  20,\n",
       "  25,\n",
       "  60,\n",
       "  50,\n",
       "  50,\n",
       "  45,\n",
       "  40,\n",
       "  50],\n",
       " 'PENALTIES': array([[ 0.,  0.,  0.,  0.,  0.,  0.,  0.,  0.,  0.,  0.,  0.,  0.,  0.,\n",
       "          0.,  0.,  0.,  0.,  0.,  0.,  0.,  0.,  0.,  0.,  0.,  0.,  0.,\n",
       "          3.,  6.,  9., 12., 15., 18., 21., 24., 27., 30.],\n",
       "        [ 0.,  0.,  0.,  0.,  0.,  0.,  0.,  0.,  0.,  0.,  0.,  0.,  0.,\n",
       "          0.,  0.,  0.,  0.,  0.,  0.,  0.,  0.,  0.,  3.,  6.,  9., 12.,\n",
       "         15., 18., 21., 24., 27., 30., 33., 36., 39., 42.],\n",
       "        [ 0.,  0.,  0.,  0.,  0.,  0.,  0.,  0.,  0.,  0.,  0.,  0.,  0.,\n",
       "          0.,  0.,  0.,  3.,  6.,  9., 12., 15., 18., 21., 24., 27., 30.,\n",
       "         33., 36., 39., 42., 45., 48., 51., 54., 57., 60.],\n",
       "        [ 0.,  0.,  0.,  0.,  0.,  0.,  0.,  0.,  0.,  0.,  0.,  0.,  0.,\n",
       "          0.,  0.,  0.,  0.,  0.,  3.,  6.,  9., 12., 15., 18., 21., 24.,\n",
       "         27., 30., 33., 36., 39., 42., 45., 48., 51., 54.],\n",
       "        [ 0.,  0.,  0.,  0.,  0.,  0.,  0.,  0.,  0.,  0.,  0.,  0.,  0.,\n",
       "          0.,  3.,  6.,  9., 12., 15., 18., 21., 24., 27., 30., 33., 36.,\n",
       "         39., 42., 45., 48., 51., 54., 57., 60., 63., 66.],\n",
       "        [ 0.,  0.,  0.,  0.,  0.,  0.,  0.,  0.,  0.,  0.,  0.,  0.,  0.,\n",
       "          0.,  0.,  0.,  0.,  0.,  0.,  0.,  0.,  0.,  0.,  0.,  0.,  0.,\n",
       "          0.,  0.,  0.,  0.,  0.,  0.,  3.,  6.,  9., 12.],\n",
       "        [ 0.,  0.,  0.,  0.,  0.,  0.,  0.,  0.,  0.,  0.,  0.,  0.,  0.,\n",
       "          0.,  0.,  0.,  0.,  0.,  3.,  6.,  9., 12., 15., 18., 21., 24.,\n",
       "         27., 30., 33., 36., 39., 42., 45., 48., 51., 54.],\n",
       "        [ 0.,  0.,  0.,  0.,  0.,  0.,  0.,  0.,  0.,  0.,  0.,  0.,  0.,\n",
       "          0.,  0.,  0.,  0.,  0.,  0.,  0.,  0.,  0.,  0.,  0.,  0.,  0.,\n",
       "          0.,  0.,  0.,  0.,  3.,  6.,  9., 12., 15., 18.],\n",
       "        [ 0.,  0.,  0.,  0.,  0.,  0.,  0.,  0.,  0.,  0.,  0.,  0.,  0.,\n",
       "          0.,  0.,  0.,  0.,  0.,  0.,  0.,  3.,  6.,  9., 12., 15., 18.,\n",
       "         21., 24., 27., 30., 33., 36., 39., 42., 45., 48.],\n",
       "        [ 0.,  0.,  0.,  0.,  0.,  0.,  0.,  0.,  0.,  0.,  0.,  0.,  0.,\n",
       "          0.,  0.,  0.,  0.,  0.,  0.,  0.,  0.,  0.,  0.,  0.,  0.,  0.,\n",
       "          0.,  0.,  0.,  0.,  0.,  0.,  3.,  6.,  9., 12.],\n",
       "        [ 0.,  0.,  0.,  0.,  0.,  0.,  0.,  0.,  0.,  0.,  0.,  0.,  0.,\n",
       "          0.,  0.,  0.,  0.,  0.,  0.,  0.,  0.,  0.,  0.,  0.,  0.,  0.,\n",
       "          0.,  0.,  0.,  0.,  0.,  0.,  3.,  6.,  9., 12.],\n",
       "        [ 0.,  0.,  0.,  0.,  0.,  0.,  0.,  0.,  0.,  0.,  0.,  0.,  0.,\n",
       "          0.,  0.,  0.,  0.,  0.,  0.,  0.,  0.,  0.,  0.,  0.,  0.,  0.,\n",
       "          3.,  6.,  9., 12., 15., 18., 21., 24., 27., 30.],\n",
       "        [ 0.,  0.,  0.,  0.,  0.,  0.,  0.,  0.,  0.,  0.,  0.,  0.,  0.,\n",
       "          0.,  0.,  0.,  0.,  0.,  0.,  0.,  0.,  0.,  0.,  0.,  0.,  0.,\n",
       "          0.,  0.,  0.,  0.,  3.,  6.,  9., 12., 15., 18.],\n",
       "        [ 0.,  0.,  0.,  0.,  0.,  0.,  0.,  0.,  0.,  0.,  0.,  0.,  0.,\n",
       "          0.,  0.,  0.,  0.,  0.,  0.,  0.,  0.,  0.,  0.,  0.,  0.,  0.,\n",
       "          3.,  6.,  9., 12., 15., 18., 21., 24., 27., 30.],\n",
       "        [ 0.,  0.,  0.,  0.,  0.,  0.,  0.,  0.,  0.,  0.,  0.,  0.,  0.,\n",
       "          0.,  0.,  0.,  0.,  0.,  0.,  0.,  0.,  0.,  0.,  0.,  0.,  0.,\n",
       "          0.,  0.,  0.,  0.,  0.,  0.,  0.,  0.,  0.,  0.],\n",
       "        [ 0.,  0.,  0.,  0.,  0.,  0.,  0.,  0.,  0.,  0.,  0.,  0.,  0.,\n",
       "          0.,  0.,  0.,  0.,  0.,  3.,  6.,  9., 12., 15., 18., 21., 24.,\n",
       "         27., 30., 33., 36., 39., 42., 45., 48., 51., 54.],\n",
       "        [ 0.,  0.,  0.,  0.,  0.,  0.,  0.,  0.,  0.,  0.,  0.,  0.,  0.,\n",
       "          0.,  0.,  0.,  0.,  0.,  3.,  6.,  9., 12., 15., 18., 21., 24.,\n",
       "         27., 30., 33., 36., 39., 42., 45., 48., 51., 54.],\n",
       "        [ 0.,  0.,  0.,  0.,  0.,  0.,  0.,  0.,  0.,  0.,  0.,  0.,  0.,\n",
       "          0.,  0.,  0.,  0.,  0.,  0.,  0.,  0.,  0.,  0.,  0.,  0.,  0.,\n",
       "          3.,  6.,  9., 12., 15., 18., 21., 24., 27., 30.],\n",
       "        [ 0.,  0.,  0.,  0.,  0.,  0.,  0.,  0.,  0.,  0.,  0.,  0.,  0.,\n",
       "          0.,  0.,  0.,  0.,  0.,  3.,  6.,  9., 12., 15., 18., 21., 24.,\n",
       "         27., 30., 33., 36., 39., 42., 45., 48., 51., 54.],\n",
       "        [ 0.,  0.,  0.,  0.,  0.,  0.,  0.,  0.,  0.,  0.,  0.,  0.,  3.,\n",
       "          6.,  9., 12., 15., 18., 21., 24., 27., 30., 33., 36., 39., 42.,\n",
       "         45., 48., 51., 54., 57., 60., 63., 66., 69., 72.],\n",
       "        [ 0.,  0.,  0.,  0.,  0.,  0.,  0.,  0.,  0.,  0.,  0.,  0.,  0.,\n",
       "          0.,  0.,  0.,  0.,  0.,  0.,  0.,  0.,  0.,  0.,  0.,  0.,  0.,\n",
       "          0.,  0.,  3.,  6.,  9., 12., 15., 18., 21., 24.],\n",
       "        [ 0.,  0.,  0.,  0.,  0.,  0.,  0.,  0.,  0.,  0.,  0.,  0.,  0.,\n",
       "          0.,  0.,  0.,  0.,  0.,  0.,  0.,  0.,  0.,  0.,  0.,  0.,  0.,\n",
       "          3.,  6.,  9., 12., 15., 18., 21., 24., 27., 30.],\n",
       "        [ 0.,  0.,  0.,  0.,  0.,  0.,  0.,  0.,  0.,  0.,  0.,  0.,  3.,\n",
       "          6.,  9., 12., 15., 18., 21., 24., 27., 30., 33., 36., 39., 42.,\n",
       "         45., 48., 51., 54., 57., 60., 63., 66., 69., 72.],\n",
       "        [ 0.,  0.,  0.,  0.,  0.,  0.,  0.,  0.,  0.,  0.,  0.,  0.,  0.,\n",
       "          0.,  3.,  6.,  9., 12., 15., 18., 21., 24., 27., 30., 33., 36.,\n",
       "         39., 42., 45., 48., 51., 54., 57., 60., 63., 66.],\n",
       "        [ 0.,  0.,  0.,  0.,  0.,  0.,  0.,  0.,  0.,  0.,  0.,  0.,  0.,\n",
       "          0.,  3.,  6.,  9., 12., 15., 18., 21., 24., 27., 30., 33., 36.,\n",
       "         39., 42., 45., 48., 51., 54., 57., 60., 63., 66.]]),\n",
       " 'STAFF_QUALIFICATIONS': array([[0., 0., 0., 1., 1., 0., 0., 0., 1., 0.],\n",
       "        [1., 0., 0., 1., 0., 0., 0., 1., 0., 0.],\n",
       "        [0., 0., 0., 0., 0., 1., 0., 0., 1., 0.],\n",
       "        [0., 0., 0., 0., 1., 1., 1., 1., 0., 0.],\n",
       "        [1., 1., 1., 0., 0., 0., 1., 0., 0., 1.],\n",
       "        [0., 0., 1., 0., 0., 0., 1., 0., 0., 1.]]),\n",
       " 'COST_PROJECT': array([[ 0.,  0.,  0.,  4.,  0.,  0.,  0.,  0.,  4.,  0.],\n",
       "        [ 0.,  0.,  0.,  4.,  1.,  0.,  0.,  4.,  2.,  0.],\n",
       "        [ 0.,  0.,  0.,  4.,  1.,  0.,  0.,  0.,  0.,  0.],\n",
       "        [ 0.,  0.,  0.,  6.,  0.,  0.,  0.,  0.,  0.,  0.],\n",
       "        [ 0.,  0.,  0.,  0.,  4.,  0.,  0.,  8.,  3.,  0.],\n",
       "        [ 4.,  0.,  0.,  0.,  0.,  7.,  0.,  0.,  3.,  0.],\n",
       "        [ 0.,  4.,  0.,  0.,  0.,  0.,  0.,  0.,  3.,  0.],\n",
       "        [ 0.,  0.,  0.,  0.,  5.,  0.,  8.,  5.,  0.,  0.],\n",
       "        [ 0.,  0.,  0.,  0.,  7.,  8.,  0.,  0.,  0.,  5.],\n",
       "        [ 0.,  5.,  0.,  0.,  4.,  0.,  0.,  0.,  0.,  0.],\n",
       "        [ 0.,  0.,  4.,  0.,  8.,  0.,  0.,  0.,  0.,  0.],\n",
       "        [ 5.,  0.,  0.,  0.,  0.,  0.,  0.,  4.,  0.,  0.],\n",
       "        [ 5.,  0.,  0.,  0.,  0.,  0.,  0.,  5.,  0.,  1.],\n",
       "        [ 0.,  0.,  3.,  0.,  0.,  0.,  5.,  5.,  0.,  0.],\n",
       "        [ 0.,  0.,  2.,  0.,  0.,  5.,  0.,  5.,  0.,  0.],\n",
       "        [ 3.,  8.,  0.,  0.,  0.,  0.,  0.,  0.,  0.,  6.],\n",
       "        [ 4.,  0.,  0.,  0.,  0.,  2.,  3.,  0.,  0.,  0.],\n",
       "        [ 0.,  0.,  0.,  0.,  0.,  0.,  0.,  0.,  0.,  6.],\n",
       "        [ 0.,  0.,  0.,  0.,  0.,  1.,  2.,  0.,  0.,  6.],\n",
       "        [ 0.,  0.,  0.,  0.,  0.,  4.,  4.,  0.,  0.,  0.],\n",
       "        [ 0.,  6.,  4.,  0.,  0.,  0.,  4.,  0.,  0.,  0.],\n",
       "        [ 0.,  0.,  4.,  0.,  0.,  0.,  4.,  0.,  0.,  0.],\n",
       "        [ 0.,  3.,  0.,  0.,  0.,  6.,  0.,  0.,  0.,  0.],\n",
       "        [ 0.,  4.,  8.,  0.,  0.,  0.,  0.,  0.,  0.,  0.],\n",
       "        [ 0.,  0., 10.,  0.,  0.,  0.,  0.,  0.,  0.,  0.]]),\n",
       " 'CONGES': array([[1., 1., 1., 1., 1., 0., 0., 0., 0., 0., 0., 0., 0., 0., 0., 0.,\n",
       "         0., 0., 0., 0., 0., 0., 0., 0., 0., 0., 0., 0., 0., 0., 0., 0.,\n",
       "         0., 0., 0., 0.],\n",
       "        [0., 0., 0., 0., 0., 1., 1., 1., 1., 1., 0., 0., 0., 0., 0., 0.,\n",
       "         0., 0., 0., 0., 0., 0., 0., 0., 0., 0., 0., 0., 0., 0., 0., 0.,\n",
       "         0., 0., 0., 0.],\n",
       "        [0., 0., 0., 0., 0., 0., 0., 0., 0., 0., 0., 0., 0., 0., 0., 0.,\n",
       "         0., 0., 0., 0., 1., 1., 1., 1., 1., 0., 0., 0., 0., 0., 0., 0.,\n",
       "         0., 0., 0., 0.],\n",
       "        [0., 0., 0., 0., 0., 0., 0., 0., 0., 0., 0., 0., 0., 0., 0., 0.,\n",
       "         0., 0., 0., 0., 0., 0., 0., 0., 0., 1., 1., 1., 1., 1., 0., 0.,\n",
       "         0., 0., 0., 0.],\n",
       "        [0., 0., 0., 0., 0., 0., 0., 0., 0., 0., 0., 0., 0., 0., 0., 0.,\n",
       "         0., 0., 0., 0., 0., 0., 0., 0., 0., 0., 0., 0., 0., 0., 0., 0.,\n",
       "         0., 0., 0., 0.],\n",
       "        [0., 0., 0., 0., 0., 0., 0., 0., 0., 0., 0., 0., 0., 0., 0., 0.,\n",
       "         0., 0., 0., 0., 0., 0., 0., 0., 0., 0., 0., 0., 0., 0., 1., 1.,\n",
       "         1., 0., 0., 0.]])}"
      ]
     },
     "execution_count": 4,
     "metadata": {},
     "output_type": "execute_result"
    }
   ],
   "source": [
    "instance.variables # check that everything works as expected"
   ]
  },
  {
   "cell_type": "markdown",
   "id": "cb528e64",
   "metadata": {},
   "source": [
    "### Création de la matrice des affectations\n",
    "<br>\n",
    "On définit la matrice A des affections des collaborateurs sur les projets (de taille n_c ∗ h  ∗ n_p ∗ n): \n",
    "<br>\n",
    "$\n",
    "𝐴 = {𝑎_{𝑖,𝑗,𝑘,l}}\n",
    "$\n",
    "<br>\n"
   ]
  },
  {
   "cell_type": "markdown",
   "id": "bd6795e5",
   "metadata": {},
   "source": [
    "On en extrait une matrice 𝐴𝑝 = {𝑎𝑝𝑗,𝑘} indiquant si à l’instant j le projet vient d’être\n",
    "rendu \n"
   ]
  },
  {
   "cell_type": "code",
   "execution_count": 5,
   "id": "476ab324",
   "metadata": {},
   "outputs": [],
   "source": [
    "def solution_creation(variables):\n",
    "    shape=(variables[\"NC\"],variables[\"H\"],variables[\"NP\"],variables[\"NA\"])\n",
    "    return shape\n",
    "\n",
    "def calcul_work(Affectation):\n",
    "    rep = [np.sum([Affectation[i][j] for i in range(3)],axis=0) for j in range(np.shape(Affectation)[1])]\n",
    "    return np.array(rep)\n",
    "\n",
    "def calcul_temporel_work(work,horizon,nb_projet):\n",
    "    rep = [[gp.quicksum(work[0:i])[j] for i in range(1,horizon+1)] for j in range(nb_projet)]\n",
    "    return np.array(rep)\n",
    "\n",
    "def calcul_work_final(work):\n",
    "    rep=gp.quicksum(work)  \n",
    "    return rep\n"
   ]
  },
  {
   "cell_type": "code",
   "execution_count": 6,
   "id": "0459b94b",
   "metadata": {},
   "outputs": [],
   "source": [
    "# données propres au problème que l'on va modéliser\n",
    "shape = solution_creation(instance.variables)\n",
    "GAIN = instance.variables[\"GAIN\"]\n",
    "PENALTIES = instance.variables[\"PENALTIES\"]\n",
    "COST_PROJECT = instance.variables[\"COST_PROJECT\"]\n",
    "STAFF_QUALIFICATIONS = instance.variables[\"STAFF_QUALIFICATIONS\"]\n",
    "CONGES = instance.variables[\"CONGES\"]\n",
    "I = instance.variables[\"NC\"]\n",
    "J = instance.variables[\"H\"]\n",
    "L = instance.variables[\"NP\"]\n",
    "K = instance.variables[\"NA\"]\n",
    "BENEFICES = np.array([GAIN[i]-PENALTIES[i] for i in range(L)])\n",
    "MAX_COST = np.max(COST_PROJECT)"
   ]
  },
  {
   "cell_type": "code",
   "execution_count": 7,
   "id": "7b69737b",
   "metadata": {},
   "outputs": [
    {
     "name": "stdout",
     "output_type": "stream",
     "text": [
      "6 36 25 10\n"
     ]
    }
   ],
   "source": [
    "print(I,J,L,K)"
   ]
  },
  {
   "cell_type": "markdown",
   "id": "0b53ae05",
   "metadata": {},
   "source": [
    "### Instanciation du modèle"
   ]
  },
  {
   "cell_type": "code",
   "execution_count": 8,
   "id": "a9726f74",
   "metadata": {},
   "outputs": [
    {
     "name": "stdout",
     "output_type": "stream",
     "text": [
      "Set parameter Username\n",
      "Academic license - for non-commercial use only - expires 2023-12-29\n"
     ]
    }
   ],
   "source": [
    "model = gp.Model(\"matrix1\") # instanciation du modèle"
   ]
  },
  {
   "cell_type": "markdown",
   "id": "2d798594",
   "metadata": {},
   "source": [
    "### Définition des variables"
   ]
  },
  {
   "cell_type": "code",
   "execution_count": 9,
   "id": "e0636056",
   "metadata": {},
   "outputs": [],
   "source": [
    "# Create variables\n",
    "Affectation = model.addMVar(shape=(I,J,L,K), vtype=GRB.BINARY, name=\"Affectation\") # matrice personnes/jours/projet/compétence (tous les projets)\n",
    "Done_Project = model.addMVar(shape=(L,J), vtype=GRB.BINARY, name=\"Done_Project\") # matrice projets/temps (tous les projets)\n"
   ]
  },
  {
   "cell_type": "code",
   "execution_count": 10,
   "id": "92135e62",
   "metadata": {},
   "outputs": [],
   "source": [
    "z_fo2 = model.addVar(vtype=GRB.INTEGER,name=\"Max_Projet\")\n",
    "delta = model.addMVar(shape=(L,I),vtype=GRB.INTEGER,name=\"Contrainte2\")"
   ]
  },
  {
   "cell_type": "code",
   "execution_count": 11,
   "id": "25d02522",
   "metadata": {},
   "outputs": [],
   "source": [
    "z_fo3 = model.addVar(vtype=GRB.INTEGER,name=\"Duree_Max_Projet\")\n",
    "Begin_Project = model.addMVar(shape=(L,J), vtype=GRB.BINARY, name=\"Begin_Project\") # matrice projets/temps (tous les projets)\n",
    "u = np.arange(J)+1"
   ]
  },
  {
   "cell_type": "code",
   "execution_count": 12,
   "id": "827812b8",
   "metadata": {},
   "outputs": [],
   "source": [
    "final_work = calcul_work_final(calcul_work(Affectation)) # somme des travaux menés par projet (sert à vérifier qu'un projet est complété)\n",
    "# dimension de final_work : matrice projets/compétences (somme sur les employés par compétence et par projet, au temps final)\n",
    "temp_work = calcul_temporel_work(calcul_work(Affectation),instance.variables[\"H\"],L) # somme cumulée dans le temps du travail effectué par projet et \n",
    "# par compétence (on veut l'utiliser plutôt que final_work à terme) ; temp_work[-1] = finl_work"
   ]
  },
  {
   "cell_type": "markdown",
   "id": "17f67d6c",
   "metadata": {},
   "source": [
    "### Définition des fonctions objectifs"
   ]
  },
  {
   "cell_type": "code",
   "execution_count": 13,
   "id": "7f3d5ff7",
   "metadata": {},
   "outputs": [],
   "source": [
    "# définition des objectifs\n",
    "model.setObjective(gp.quicksum(gp.quicksum(Done_Project*BENEFICES)), GRB.MAXIMIZE)\n",
    "# model.setObjective(z_fo2, GRB.MINIMIZE)\n",
    "# model.setObjective(z_fo3, GRB.MINIMIZE)\n"
   ]
  },
  {
   "cell_type": "markdown",
   "id": "868d9bc5",
   "metadata": {},
   "source": [
    "### Définition des contraintes"
   ]
  },
  {
   "cell_type": "code",
   "execution_count": 14,
   "id": "4a0aaa0c",
   "metadata": {},
   "outputs": [
    {
     "data": {
      "text/plain": [
       "{0: <MConstr () *awaiting model update*>,\n",
       " 1: <MConstr () *awaiting model update*>,\n",
       " 2: <MConstr () *awaiting model update*>,\n",
       " 3: <MConstr () *awaiting model update*>,\n",
       " 4: <MConstr () *awaiting model update*>,\n",
       " 5: <MConstr () *awaiting model update*>,\n",
       " 6: <MConstr () *awaiting model update*>,\n",
       " 7: <MConstr () *awaiting model update*>,\n",
       " 8: <MConstr () *awaiting model update*>,\n",
       " 9: <MConstr () *awaiting model update*>,\n",
       " 10: <MConstr () *awaiting model update*>,\n",
       " 11: <MConstr () *awaiting model update*>,\n",
       " 12: <MConstr () *awaiting model update*>,\n",
       " 13: <MConstr () *awaiting model update*>,\n",
       " 14: <MConstr () *awaiting model update*>,\n",
       " 15: <MConstr () *awaiting model update*>,\n",
       " 16: <MConstr () *awaiting model update*>,\n",
       " 17: <MConstr () *awaiting model update*>,\n",
       " 18: <MConstr () *awaiting model update*>,\n",
       " 19: <MConstr () *awaiting model update*>,\n",
       " 20: <MConstr () *awaiting model update*>,\n",
       " 21: <MConstr () *awaiting model update*>,\n",
       " 22: <MConstr () *awaiting model update*>,\n",
       " 23: <MConstr () *awaiting model update*>,\n",
       " 24: <MConstr () *awaiting model update*>}"
      ]
     },
     "execution_count": 14,
     "metadata": {},
     "output_type": "execute_result"
    }
   ],
   "source": [
    "model.addConstrs((Affectation[i,j,l,k] <= STAFF_QUALIFICATIONS[i,k] for i in range(I) for j in range(J) for l in range(L) for k in range(K)), name=\"Qualifications_Constraint\")\n",
    "model.addConstrs((gp.quicksum(Affectation[i][j] @ np.transpose(np.array([1]*K))) <= 1-CONGES[i][j] for i in range(I) for j in range(J) for l in range(L)), name=\"Day_off_Constraint\") \n",
    "model.addConstrs((temp_work[i][j] >= COST_PROJECT[i]*Done_Project[i][j] for i in range(L) for j in range(J)), name=\"Done\") \n",
    "model.addConstrs((gp.quicksum(Done_Project[i]) <= 1 for i in range(L)), name=\"Only_Done_One_Time\") "
   ]
  },
  {
   "cell_type": "code",
   "execution_count": 15,
   "id": "24f61d84",
   "metadata": {},
   "outputs": [],
   "source": [
    "epsilon=0.0001"
   ]
  },
  {
   "cell_type": "code",
   "execution_count": 16,
   "id": "3dab37aa",
   "metadata": {},
   "outputs": [
    {
     "data": {
      "text/plain": [
       "{(0, 0): <MConstr () *awaiting model update*>,\n",
       " (0, 1): <MConstr () *awaiting model update*>,\n",
       " (0, 2): <MConstr () *awaiting model update*>,\n",
       " (0, 3): <MConstr () *awaiting model update*>,\n",
       " (0, 4): <MConstr () *awaiting model update*>,\n",
       " (0, 5): <MConstr () *awaiting model update*>,\n",
       " (0, 6): <MConstr () *awaiting model update*>,\n",
       " (0, 7): <MConstr () *awaiting model update*>,\n",
       " (0, 8): <MConstr () *awaiting model update*>,\n",
       " (0, 9): <MConstr () *awaiting model update*>,\n",
       " (0, 10): <MConstr () *awaiting model update*>,\n",
       " (0, 11): <MConstr () *awaiting model update*>,\n",
       " (0, 12): <MConstr () *awaiting model update*>,\n",
       " (0, 13): <MConstr () *awaiting model update*>,\n",
       " (0, 14): <MConstr () *awaiting model update*>,\n",
       " (0, 15): <MConstr () *awaiting model update*>,\n",
       " (0, 16): <MConstr () *awaiting model update*>,\n",
       " (0, 17): <MConstr () *awaiting model update*>,\n",
       " (0, 18): <MConstr () *awaiting model update*>,\n",
       " (0, 19): <MConstr () *awaiting model update*>,\n",
       " (0, 20): <MConstr () *awaiting model update*>,\n",
       " (0, 21): <MConstr () *awaiting model update*>,\n",
       " (0, 22): <MConstr () *awaiting model update*>,\n",
       " (0, 23): <MConstr () *awaiting model update*>,\n",
       " (0, 24): <MConstr () *awaiting model update*>,\n",
       " (1, 0): <MConstr () *awaiting model update*>,\n",
       " (1, 1): <MConstr () *awaiting model update*>,\n",
       " (1, 2): <MConstr () *awaiting model update*>,\n",
       " (1, 3): <MConstr () *awaiting model update*>,\n",
       " (1, 4): <MConstr () *awaiting model update*>,\n",
       " (1, 5): <MConstr () *awaiting model update*>,\n",
       " (1, 6): <MConstr () *awaiting model update*>,\n",
       " (1, 7): <MConstr () *awaiting model update*>,\n",
       " (1, 8): <MConstr () *awaiting model update*>,\n",
       " (1, 9): <MConstr () *awaiting model update*>,\n",
       " (1, 10): <MConstr () *awaiting model update*>,\n",
       " (1, 11): <MConstr () *awaiting model update*>,\n",
       " (1, 12): <MConstr () *awaiting model update*>,\n",
       " (1, 13): <MConstr () *awaiting model update*>,\n",
       " (1, 14): <MConstr () *awaiting model update*>,\n",
       " (1, 15): <MConstr () *awaiting model update*>,\n",
       " (1, 16): <MConstr () *awaiting model update*>,\n",
       " (1, 17): <MConstr () *awaiting model update*>,\n",
       " (1, 18): <MConstr () *awaiting model update*>,\n",
       " (1, 19): <MConstr () *awaiting model update*>,\n",
       " (1, 20): <MConstr () *awaiting model update*>,\n",
       " (1, 21): <MConstr () *awaiting model update*>,\n",
       " (1, 22): <MConstr () *awaiting model update*>,\n",
       " (1, 23): <MConstr () *awaiting model update*>,\n",
       " (1, 24): <MConstr () *awaiting model update*>,\n",
       " (2, 0): <MConstr () *awaiting model update*>,\n",
       " (2, 1): <MConstr () *awaiting model update*>,\n",
       " (2, 2): <MConstr () *awaiting model update*>,\n",
       " (2, 3): <MConstr () *awaiting model update*>,\n",
       " (2, 4): <MConstr () *awaiting model update*>,\n",
       " (2, 5): <MConstr () *awaiting model update*>,\n",
       " (2, 6): <MConstr () *awaiting model update*>,\n",
       " (2, 7): <MConstr () *awaiting model update*>,\n",
       " (2, 8): <MConstr () *awaiting model update*>,\n",
       " (2, 9): <MConstr () *awaiting model update*>,\n",
       " (2, 10): <MConstr () *awaiting model update*>,\n",
       " (2, 11): <MConstr () *awaiting model update*>,\n",
       " (2, 12): <MConstr () *awaiting model update*>,\n",
       " (2, 13): <MConstr () *awaiting model update*>,\n",
       " (2, 14): <MConstr () *awaiting model update*>,\n",
       " (2, 15): <MConstr () *awaiting model update*>,\n",
       " (2, 16): <MConstr () *awaiting model update*>,\n",
       " (2, 17): <MConstr () *awaiting model update*>,\n",
       " (2, 18): <MConstr () *awaiting model update*>,\n",
       " (2, 19): <MConstr () *awaiting model update*>,\n",
       " (2, 20): <MConstr () *awaiting model update*>,\n",
       " (2, 21): <MConstr () *awaiting model update*>,\n",
       " (2, 22): <MConstr () *awaiting model update*>,\n",
       " (2, 23): <MConstr () *awaiting model update*>,\n",
       " (2, 24): <MConstr () *awaiting model update*>,\n",
       " (3, 0): <MConstr () *awaiting model update*>,\n",
       " (3, 1): <MConstr () *awaiting model update*>,\n",
       " (3, 2): <MConstr () *awaiting model update*>,\n",
       " (3, 3): <MConstr () *awaiting model update*>,\n",
       " (3, 4): <MConstr () *awaiting model update*>,\n",
       " (3, 5): <MConstr () *awaiting model update*>,\n",
       " (3, 6): <MConstr () *awaiting model update*>,\n",
       " (3, 7): <MConstr () *awaiting model update*>,\n",
       " (3, 8): <MConstr () *awaiting model update*>,\n",
       " (3, 9): <MConstr () *awaiting model update*>,\n",
       " (3, 10): <MConstr () *awaiting model update*>,\n",
       " (3, 11): <MConstr () *awaiting model update*>,\n",
       " (3, 12): <MConstr () *awaiting model update*>,\n",
       " (3, 13): <MConstr () *awaiting model update*>,\n",
       " (3, 14): <MConstr () *awaiting model update*>,\n",
       " (3, 15): <MConstr () *awaiting model update*>,\n",
       " (3, 16): <MConstr () *awaiting model update*>,\n",
       " (3, 17): <MConstr () *awaiting model update*>,\n",
       " (3, 18): <MConstr () *awaiting model update*>,\n",
       " (3, 19): <MConstr () *awaiting model update*>,\n",
       " (3, 20): <MConstr () *awaiting model update*>,\n",
       " (3, 21): <MConstr () *awaiting model update*>,\n",
       " (3, 22): <MConstr () *awaiting model update*>,\n",
       " (3, 23): <MConstr () *awaiting model update*>,\n",
       " (3, 24): <MConstr () *awaiting model update*>,\n",
       " (4, 0): <MConstr () *awaiting model update*>,\n",
       " (4, 1): <MConstr () *awaiting model update*>,\n",
       " (4, 2): <MConstr () *awaiting model update*>,\n",
       " (4, 3): <MConstr () *awaiting model update*>,\n",
       " (4, 4): <MConstr () *awaiting model update*>,\n",
       " (4, 5): <MConstr () *awaiting model update*>,\n",
       " (4, 6): <MConstr () *awaiting model update*>,\n",
       " (4, 7): <MConstr () *awaiting model update*>,\n",
       " (4, 8): <MConstr () *awaiting model update*>,\n",
       " (4, 9): <MConstr () *awaiting model update*>,\n",
       " (4, 10): <MConstr () *awaiting model update*>,\n",
       " (4, 11): <MConstr () *awaiting model update*>,\n",
       " (4, 12): <MConstr () *awaiting model update*>,\n",
       " (4, 13): <MConstr () *awaiting model update*>,\n",
       " (4, 14): <MConstr () *awaiting model update*>,\n",
       " (4, 15): <MConstr () *awaiting model update*>,\n",
       " (4, 16): <MConstr () *awaiting model update*>,\n",
       " (4, 17): <MConstr () *awaiting model update*>,\n",
       " (4, 18): <MConstr () *awaiting model update*>,\n",
       " (4, 19): <MConstr () *awaiting model update*>,\n",
       " (4, 20): <MConstr () *awaiting model update*>,\n",
       " (4, 21): <MConstr () *awaiting model update*>,\n",
       " (4, 22): <MConstr () *awaiting model update*>,\n",
       " (4, 23): <MConstr () *awaiting model update*>,\n",
       " (4, 24): <MConstr () *awaiting model update*>,\n",
       " (5, 0): <MConstr () *awaiting model update*>,\n",
       " (5, 1): <MConstr () *awaiting model update*>,\n",
       " (5, 2): <MConstr () *awaiting model update*>,\n",
       " (5, 3): <MConstr () *awaiting model update*>,\n",
       " (5, 4): <MConstr () *awaiting model update*>,\n",
       " (5, 5): <MConstr () *awaiting model update*>,\n",
       " (5, 6): <MConstr () *awaiting model update*>,\n",
       " (5, 7): <MConstr () *awaiting model update*>,\n",
       " (5, 8): <MConstr () *awaiting model update*>,\n",
       " (5, 9): <MConstr () *awaiting model update*>,\n",
       " (5, 10): <MConstr () *awaiting model update*>,\n",
       " (5, 11): <MConstr () *awaiting model update*>,\n",
       " (5, 12): <MConstr () *awaiting model update*>,\n",
       " (5, 13): <MConstr () *awaiting model update*>,\n",
       " (5, 14): <MConstr () *awaiting model update*>,\n",
       " (5, 15): <MConstr () *awaiting model update*>,\n",
       " (5, 16): <MConstr () *awaiting model update*>,\n",
       " (5, 17): <MConstr () *awaiting model update*>,\n",
       " (5, 18): <MConstr () *awaiting model update*>,\n",
       " (5, 19): <MConstr () *awaiting model update*>,\n",
       " (5, 20): <MConstr () *awaiting model update*>,\n",
       " (5, 21): <MConstr () *awaiting model update*>,\n",
       " (5, 22): <MConstr () *awaiting model update*>,\n",
       " (5, 23): <MConstr () *awaiting model update*>,\n",
       " (5, 24): <MConstr () *awaiting model update*>}"
      ]
     },
     "execution_count": 16,
     "metadata": {},
     "output_type": "execute_result"
    }
   ],
   "source": [
    "model.addConstrs((gp.quicksum(delta)[i] <= z_fo2 for i in range(I)), name=\"C2.1\") \n",
    "model.addConstrs(((J*(1-delta[l][i]))<=gp.quicksum(gp.quicksum(Affectation[i])[l]) for i in range(I) for l in range(L)), name=\"C2.2\")\n",
    "model.addConstrs((gp.quicksum(gp.quicksum(Affectation[i])[l])+epsilon<=(J*delta[l][i]) for i in range(I) for l in range(L)), name=\"C2.3\") "
   ]
  },
  {
   "cell_type": "code",
   "execution_count": 17,
   "id": "833435ae",
   "metadata": {},
   "outputs": [
    {
     "data": {
      "text/plain": [
       "{(0, 0, 0): <MConstr () *awaiting model update*>,\n",
       " (0, 0, 1): <MConstr () *awaiting model update*>,\n",
       " (0, 0, 2): <MConstr () *awaiting model update*>,\n",
       " (0, 0, 3): <MConstr () *awaiting model update*>,\n",
       " (0, 0, 4): <MConstr () *awaiting model update*>,\n",
       " (0, 0, 5): <MConstr () *awaiting model update*>,\n",
       " (0, 0, 6): <MConstr () *awaiting model update*>,\n",
       " (0, 0, 7): <MConstr () *awaiting model update*>,\n",
       " (0, 0, 8): <MConstr () *awaiting model update*>,\n",
       " (0, 0, 9): <MConstr () *awaiting model update*>,\n",
       " (0, 1, 0): <MConstr () *awaiting model update*>,\n",
       " (0, 1, 1): <MConstr () *awaiting model update*>,\n",
       " (0, 1, 2): <MConstr () *awaiting model update*>,\n",
       " (0, 1, 3): <MConstr () *awaiting model update*>,\n",
       " (0, 1, 4): <MConstr () *awaiting model update*>,\n",
       " (0, 1, 5): <MConstr () *awaiting model update*>,\n",
       " (0, 1, 6): <MConstr () *awaiting model update*>,\n",
       " (0, 1, 7): <MConstr () *awaiting model update*>,\n",
       " (0, 1, 8): <MConstr () *awaiting model update*>,\n",
       " (0, 1, 9): <MConstr () *awaiting model update*>,\n",
       " (0, 2, 0): <MConstr () *awaiting model update*>,\n",
       " (0, 2, 1): <MConstr () *awaiting model update*>,\n",
       " (0, 2, 2): <MConstr () *awaiting model update*>,\n",
       " (0, 2, 3): <MConstr () *awaiting model update*>,\n",
       " (0, 2, 4): <MConstr () *awaiting model update*>,\n",
       " (0, 2, 5): <MConstr () *awaiting model update*>,\n",
       " (0, 2, 6): <MConstr () *awaiting model update*>,\n",
       " (0, 2, 7): <MConstr () *awaiting model update*>,\n",
       " (0, 2, 8): <MConstr () *awaiting model update*>,\n",
       " (0, 2, 9): <MConstr () *awaiting model update*>,\n",
       " (0, 3, 0): <MConstr () *awaiting model update*>,\n",
       " (0, 3, 1): <MConstr () *awaiting model update*>,\n",
       " (0, 3, 2): <MConstr () *awaiting model update*>,\n",
       " (0, 3, 3): <MConstr () *awaiting model update*>,\n",
       " (0, 3, 4): <MConstr () *awaiting model update*>,\n",
       " (0, 3, 5): <MConstr () *awaiting model update*>,\n",
       " (0, 3, 6): <MConstr () *awaiting model update*>,\n",
       " (0, 3, 7): <MConstr () *awaiting model update*>,\n",
       " (0, 3, 8): <MConstr () *awaiting model update*>,\n",
       " (0, 3, 9): <MConstr () *awaiting model update*>,\n",
       " (0, 4, 0): <MConstr () *awaiting model update*>,\n",
       " (0, 4, 1): <MConstr () *awaiting model update*>,\n",
       " (0, 4, 2): <MConstr () *awaiting model update*>,\n",
       " (0, 4, 3): <MConstr () *awaiting model update*>,\n",
       " (0, 4, 4): <MConstr () *awaiting model update*>,\n",
       " (0, 4, 5): <MConstr () *awaiting model update*>,\n",
       " (0, 4, 6): <MConstr () *awaiting model update*>,\n",
       " (0, 4, 7): <MConstr () *awaiting model update*>,\n",
       " (0, 4, 8): <MConstr () *awaiting model update*>,\n",
       " (0, 4, 9): <MConstr () *awaiting model update*>,\n",
       " (0, 5, 0): <MConstr () *awaiting model update*>,\n",
       " (0, 5, 1): <MConstr () *awaiting model update*>,\n",
       " (0, 5, 2): <MConstr () *awaiting model update*>,\n",
       " (0, 5, 3): <MConstr () *awaiting model update*>,\n",
       " (0, 5, 4): <MConstr () *awaiting model update*>,\n",
       " (0, 5, 5): <MConstr () *awaiting model update*>,\n",
       " (0, 5, 6): <MConstr () *awaiting model update*>,\n",
       " (0, 5, 7): <MConstr () *awaiting model update*>,\n",
       " (0, 5, 8): <MConstr () *awaiting model update*>,\n",
       " (0, 5, 9): <MConstr () *awaiting model update*>,\n",
       " (0, 6, 0): <MConstr () *awaiting model update*>,\n",
       " (0, 6, 1): <MConstr () *awaiting model update*>,\n",
       " (0, 6, 2): <MConstr () *awaiting model update*>,\n",
       " (0, 6, 3): <MConstr () *awaiting model update*>,\n",
       " (0, 6, 4): <MConstr () *awaiting model update*>,\n",
       " (0, 6, 5): <MConstr () *awaiting model update*>,\n",
       " (0, 6, 6): <MConstr () *awaiting model update*>,\n",
       " (0, 6, 7): <MConstr () *awaiting model update*>,\n",
       " (0, 6, 8): <MConstr () *awaiting model update*>,\n",
       " (0, 6, 9): <MConstr () *awaiting model update*>,\n",
       " (0, 7, 0): <MConstr () *awaiting model update*>,\n",
       " (0, 7, 1): <MConstr () *awaiting model update*>,\n",
       " (0, 7, 2): <MConstr () *awaiting model update*>,\n",
       " (0, 7, 3): <MConstr () *awaiting model update*>,\n",
       " (0, 7, 4): <MConstr () *awaiting model update*>,\n",
       " (0, 7, 5): <MConstr () *awaiting model update*>,\n",
       " (0, 7, 6): <MConstr () *awaiting model update*>,\n",
       " (0, 7, 7): <MConstr () *awaiting model update*>,\n",
       " (0, 7, 8): <MConstr () *awaiting model update*>,\n",
       " (0, 7, 9): <MConstr () *awaiting model update*>,\n",
       " (0, 8, 0): <MConstr () *awaiting model update*>,\n",
       " (0, 8, 1): <MConstr () *awaiting model update*>,\n",
       " (0, 8, 2): <MConstr () *awaiting model update*>,\n",
       " (0, 8, 3): <MConstr () *awaiting model update*>,\n",
       " (0, 8, 4): <MConstr () *awaiting model update*>,\n",
       " (0, 8, 5): <MConstr () *awaiting model update*>,\n",
       " (0, 8, 6): <MConstr () *awaiting model update*>,\n",
       " (0, 8, 7): <MConstr () *awaiting model update*>,\n",
       " (0, 8, 8): <MConstr () *awaiting model update*>,\n",
       " (0, 8, 9): <MConstr () *awaiting model update*>,\n",
       " (0, 9, 0): <MConstr () *awaiting model update*>,\n",
       " (0, 9, 1): <MConstr () *awaiting model update*>,\n",
       " (0, 9, 2): <MConstr () *awaiting model update*>,\n",
       " (0, 9, 3): <MConstr () *awaiting model update*>,\n",
       " (0, 9, 4): <MConstr () *awaiting model update*>,\n",
       " (0, 9, 5): <MConstr () *awaiting model update*>,\n",
       " (0, 9, 6): <MConstr () *awaiting model update*>,\n",
       " (0, 9, 7): <MConstr () *awaiting model update*>,\n",
       " (0, 9, 8): <MConstr () *awaiting model update*>,\n",
       " (0, 9, 9): <MConstr () *awaiting model update*>,\n",
       " (0, 10, 0): <MConstr () *awaiting model update*>,\n",
       " (0, 10, 1): <MConstr () *awaiting model update*>,\n",
       " (0, 10, 2): <MConstr () *awaiting model update*>,\n",
       " (0, 10, 3): <MConstr () *awaiting model update*>,\n",
       " (0, 10, 4): <MConstr () *awaiting model update*>,\n",
       " (0, 10, 5): <MConstr () *awaiting model update*>,\n",
       " (0, 10, 6): <MConstr () *awaiting model update*>,\n",
       " (0, 10, 7): <MConstr () *awaiting model update*>,\n",
       " (0, 10, 8): <MConstr () *awaiting model update*>,\n",
       " (0, 10, 9): <MConstr () *awaiting model update*>,\n",
       " (0, 11, 0): <MConstr () *awaiting model update*>,\n",
       " (0, 11, 1): <MConstr () *awaiting model update*>,\n",
       " (0, 11, 2): <MConstr () *awaiting model update*>,\n",
       " (0, 11, 3): <MConstr () *awaiting model update*>,\n",
       " (0, 11, 4): <MConstr () *awaiting model update*>,\n",
       " (0, 11, 5): <MConstr () *awaiting model update*>,\n",
       " (0, 11, 6): <MConstr () *awaiting model update*>,\n",
       " (0, 11, 7): <MConstr () *awaiting model update*>,\n",
       " (0, 11, 8): <MConstr () *awaiting model update*>,\n",
       " (0, 11, 9): <MConstr () *awaiting model update*>,\n",
       " (0, 12, 0): <MConstr () *awaiting model update*>,\n",
       " (0, 12, 1): <MConstr () *awaiting model update*>,\n",
       " (0, 12, 2): <MConstr () *awaiting model update*>,\n",
       " (0, 12, 3): <MConstr () *awaiting model update*>,\n",
       " (0, 12, 4): <MConstr () *awaiting model update*>,\n",
       " (0, 12, 5): <MConstr () *awaiting model update*>,\n",
       " (0, 12, 6): <MConstr () *awaiting model update*>,\n",
       " (0, 12, 7): <MConstr () *awaiting model update*>,\n",
       " (0, 12, 8): <MConstr () *awaiting model update*>,\n",
       " (0, 12, 9): <MConstr () *awaiting model update*>,\n",
       " (0, 13, 0): <MConstr () *awaiting model update*>,\n",
       " (0, 13, 1): <MConstr () *awaiting model update*>,\n",
       " (0, 13, 2): <MConstr () *awaiting model update*>,\n",
       " (0, 13, 3): <MConstr () *awaiting model update*>,\n",
       " (0, 13, 4): <MConstr () *awaiting model update*>,\n",
       " (0, 13, 5): <MConstr () *awaiting model update*>,\n",
       " (0, 13, 6): <MConstr () *awaiting model update*>,\n",
       " (0, 13, 7): <MConstr () *awaiting model update*>,\n",
       " (0, 13, 8): <MConstr () *awaiting model update*>,\n",
       " (0, 13, 9): <MConstr () *awaiting model update*>,\n",
       " (0, 14, 0): <MConstr () *awaiting model update*>,\n",
       " (0, 14, 1): <MConstr () *awaiting model update*>,\n",
       " (0, 14, 2): <MConstr () *awaiting model update*>,\n",
       " (0, 14, 3): <MConstr () *awaiting model update*>,\n",
       " (0, 14, 4): <MConstr () *awaiting model update*>,\n",
       " (0, 14, 5): <MConstr () *awaiting model update*>,\n",
       " (0, 14, 6): <MConstr () *awaiting model update*>,\n",
       " (0, 14, 7): <MConstr () *awaiting model update*>,\n",
       " (0, 14, 8): <MConstr () *awaiting model update*>,\n",
       " (0, 14, 9): <MConstr () *awaiting model update*>,\n",
       " (0, 15, 0): <MConstr () *awaiting model update*>,\n",
       " (0, 15, 1): <MConstr () *awaiting model update*>,\n",
       " (0, 15, 2): <MConstr () *awaiting model update*>,\n",
       " (0, 15, 3): <MConstr () *awaiting model update*>,\n",
       " (0, 15, 4): <MConstr () *awaiting model update*>,\n",
       " (0, 15, 5): <MConstr () *awaiting model update*>,\n",
       " (0, 15, 6): <MConstr () *awaiting model update*>,\n",
       " (0, 15, 7): <MConstr () *awaiting model update*>,\n",
       " (0, 15, 8): <MConstr () *awaiting model update*>,\n",
       " (0, 15, 9): <MConstr () *awaiting model update*>,\n",
       " (0, 16, 0): <MConstr () *awaiting model update*>,\n",
       " (0, 16, 1): <MConstr () *awaiting model update*>,\n",
       " (0, 16, 2): <MConstr () *awaiting model update*>,\n",
       " (0, 16, 3): <MConstr () *awaiting model update*>,\n",
       " (0, 16, 4): <MConstr () *awaiting model update*>,\n",
       " (0, 16, 5): <MConstr () *awaiting model update*>,\n",
       " (0, 16, 6): <MConstr () *awaiting model update*>,\n",
       " (0, 16, 7): <MConstr () *awaiting model update*>,\n",
       " (0, 16, 8): <MConstr () *awaiting model update*>,\n",
       " (0, 16, 9): <MConstr () *awaiting model update*>,\n",
       " (0, 17, 0): <MConstr () *awaiting model update*>,\n",
       " (0, 17, 1): <MConstr () *awaiting model update*>,\n",
       " (0, 17, 2): <MConstr () *awaiting model update*>,\n",
       " (0, 17, 3): <MConstr () *awaiting model update*>,\n",
       " (0, 17, 4): <MConstr () *awaiting model update*>,\n",
       " (0, 17, 5): <MConstr () *awaiting model update*>,\n",
       " (0, 17, 6): <MConstr () *awaiting model update*>,\n",
       " (0, 17, 7): <MConstr () *awaiting model update*>,\n",
       " (0, 17, 8): <MConstr () *awaiting model update*>,\n",
       " (0, 17, 9): <MConstr () *awaiting model update*>,\n",
       " (0, 18, 0): <MConstr () *awaiting model update*>,\n",
       " (0, 18, 1): <MConstr () *awaiting model update*>,\n",
       " (0, 18, 2): <MConstr () *awaiting model update*>,\n",
       " (0, 18, 3): <MConstr () *awaiting model update*>,\n",
       " (0, 18, 4): <MConstr () *awaiting model update*>,\n",
       " (0, 18, 5): <MConstr () *awaiting model update*>,\n",
       " (0, 18, 6): <MConstr () *awaiting model update*>,\n",
       " (0, 18, 7): <MConstr () *awaiting model update*>,\n",
       " (0, 18, 8): <MConstr () *awaiting model update*>,\n",
       " (0, 18, 9): <MConstr () *awaiting model update*>,\n",
       " (0, 19, 0): <MConstr () *awaiting model update*>,\n",
       " (0, 19, 1): <MConstr () *awaiting model update*>,\n",
       " (0, 19, 2): <MConstr () *awaiting model update*>,\n",
       " (0, 19, 3): <MConstr () *awaiting model update*>,\n",
       " (0, 19, 4): <MConstr () *awaiting model update*>,\n",
       " (0, 19, 5): <MConstr () *awaiting model update*>,\n",
       " (0, 19, 6): <MConstr () *awaiting model update*>,\n",
       " (0, 19, 7): <MConstr () *awaiting model update*>,\n",
       " (0, 19, 8): <MConstr () *awaiting model update*>,\n",
       " (0, 19, 9): <MConstr () *awaiting model update*>,\n",
       " (0, 20, 0): <MConstr () *awaiting model update*>,\n",
       " (0, 20, 1): <MConstr () *awaiting model update*>,\n",
       " (0, 20, 2): <MConstr () *awaiting model update*>,\n",
       " (0, 20, 3): <MConstr () *awaiting model update*>,\n",
       " (0, 20, 4): <MConstr () *awaiting model update*>,\n",
       " (0, 20, 5): <MConstr () *awaiting model update*>,\n",
       " (0, 20, 6): <MConstr () *awaiting model update*>,\n",
       " (0, 20, 7): <MConstr () *awaiting model update*>,\n",
       " (0, 20, 8): <MConstr () *awaiting model update*>,\n",
       " (0, 20, 9): <MConstr () *awaiting model update*>,\n",
       " (0, 21, 0): <MConstr () *awaiting model update*>,\n",
       " (0, 21, 1): <MConstr () *awaiting model update*>,\n",
       " (0, 21, 2): <MConstr () *awaiting model update*>,\n",
       " (0, 21, 3): <MConstr () *awaiting model update*>,\n",
       " (0, 21, 4): <MConstr () *awaiting model update*>,\n",
       " (0, 21, 5): <MConstr () *awaiting model update*>,\n",
       " (0, 21, 6): <MConstr () *awaiting model update*>,\n",
       " (0, 21, 7): <MConstr () *awaiting model update*>,\n",
       " (0, 21, 8): <MConstr () *awaiting model update*>,\n",
       " (0, 21, 9): <MConstr () *awaiting model update*>,\n",
       " (0, 22, 0): <MConstr () *awaiting model update*>,\n",
       " (0, 22, 1): <MConstr () *awaiting model update*>,\n",
       " (0, 22, 2): <MConstr () *awaiting model update*>,\n",
       " (0, 22, 3): <MConstr () *awaiting model update*>,\n",
       " (0, 22, 4): <MConstr () *awaiting model update*>,\n",
       " (0, 22, 5): <MConstr () *awaiting model update*>,\n",
       " (0, 22, 6): <MConstr () *awaiting model update*>,\n",
       " (0, 22, 7): <MConstr () *awaiting model update*>,\n",
       " (0, 22, 8): <MConstr () *awaiting model update*>,\n",
       " (0, 22, 9): <MConstr () *awaiting model update*>,\n",
       " (0, 23, 0): <MConstr () *awaiting model update*>,\n",
       " (0, 23, 1): <MConstr () *awaiting model update*>,\n",
       " (0, 23, 2): <MConstr () *awaiting model update*>,\n",
       " (0, 23, 3): <MConstr () *awaiting model update*>,\n",
       " (0, 23, 4): <MConstr () *awaiting model update*>,\n",
       " (0, 23, 5): <MConstr () *awaiting model update*>,\n",
       " (0, 23, 6): <MConstr () *awaiting model update*>,\n",
       " (0, 23, 7): <MConstr () *awaiting model update*>,\n",
       " (0, 23, 8): <MConstr () *awaiting model update*>,\n",
       " (0, 23, 9): <MConstr () *awaiting model update*>,\n",
       " (0, 24, 0): <MConstr () *awaiting model update*>,\n",
       " (0, 24, 1): <MConstr () *awaiting model update*>,\n",
       " (0, 24, 2): <MConstr () *awaiting model update*>,\n",
       " (0, 24, 3): <MConstr () *awaiting model update*>,\n",
       " (0, 24, 4): <MConstr () *awaiting model update*>,\n",
       " (0, 24, 5): <MConstr () *awaiting model update*>,\n",
       " (0, 24, 6): <MConstr () *awaiting model update*>,\n",
       " (0, 24, 7): <MConstr () *awaiting model update*>,\n",
       " (0, 24, 8): <MConstr () *awaiting model update*>,\n",
       " (0, 24, 9): <MConstr () *awaiting model update*>,\n",
       " (0, 25, 0): <MConstr () *awaiting model update*>,\n",
       " (0, 25, 1): <MConstr () *awaiting model update*>,\n",
       " (0, 25, 2): <MConstr () *awaiting model update*>,\n",
       " (0, 25, 3): <MConstr () *awaiting model update*>,\n",
       " (0, 25, 4): <MConstr () *awaiting model update*>,\n",
       " (0, 25, 5): <MConstr () *awaiting model update*>,\n",
       " (0, 25, 6): <MConstr () *awaiting model update*>,\n",
       " (0, 25, 7): <MConstr () *awaiting model update*>,\n",
       " (0, 25, 8): <MConstr () *awaiting model update*>,\n",
       " (0, 25, 9): <MConstr () *awaiting model update*>,\n",
       " (0, 26, 0): <MConstr () *awaiting model update*>,\n",
       " (0, 26, 1): <MConstr () *awaiting model update*>,\n",
       " (0, 26, 2): <MConstr () *awaiting model update*>,\n",
       " (0, 26, 3): <MConstr () *awaiting model update*>,\n",
       " (0, 26, 4): <MConstr () *awaiting model update*>,\n",
       " (0, 26, 5): <MConstr () *awaiting model update*>,\n",
       " (0, 26, 6): <MConstr () *awaiting model update*>,\n",
       " (0, 26, 7): <MConstr () *awaiting model update*>,\n",
       " (0, 26, 8): <MConstr () *awaiting model update*>,\n",
       " (0, 26, 9): <MConstr () *awaiting model update*>,\n",
       " (0, 27, 0): <MConstr () *awaiting model update*>,\n",
       " (0, 27, 1): <MConstr () *awaiting model update*>,\n",
       " (0, 27, 2): <MConstr () *awaiting model update*>,\n",
       " (0, 27, 3): <MConstr () *awaiting model update*>,\n",
       " (0, 27, 4): <MConstr () *awaiting model update*>,\n",
       " (0, 27, 5): <MConstr () *awaiting model update*>,\n",
       " (0, 27, 6): <MConstr () *awaiting model update*>,\n",
       " (0, 27, 7): <MConstr () *awaiting model update*>,\n",
       " (0, 27, 8): <MConstr () *awaiting model update*>,\n",
       " (0, 27, 9): <MConstr () *awaiting model update*>,\n",
       " (0, 28, 0): <MConstr () *awaiting model update*>,\n",
       " (0, 28, 1): <MConstr () *awaiting model update*>,\n",
       " (0, 28, 2): <MConstr () *awaiting model update*>,\n",
       " (0, 28, 3): <MConstr () *awaiting model update*>,\n",
       " (0, 28, 4): <MConstr () *awaiting model update*>,\n",
       " (0, 28, 5): <MConstr () *awaiting model update*>,\n",
       " (0, 28, 6): <MConstr () *awaiting model update*>,\n",
       " (0, 28, 7): <MConstr () *awaiting model update*>,\n",
       " (0, 28, 8): <MConstr () *awaiting model update*>,\n",
       " (0, 28, 9): <MConstr () *awaiting model update*>,\n",
       " (0, 29, 0): <MConstr () *awaiting model update*>,\n",
       " (0, 29, 1): <MConstr () *awaiting model update*>,\n",
       " (0, 29, 2): <MConstr () *awaiting model update*>,\n",
       " (0, 29, 3): <MConstr () *awaiting model update*>,\n",
       " (0, 29, 4): <MConstr () *awaiting model update*>,\n",
       " (0, 29, 5): <MConstr () *awaiting model update*>,\n",
       " (0, 29, 6): <MConstr () *awaiting model update*>,\n",
       " (0, 29, 7): <MConstr () *awaiting model update*>,\n",
       " (0, 29, 8): <MConstr () *awaiting model update*>,\n",
       " (0, 29, 9): <MConstr () *awaiting model update*>,\n",
       " (0, 30, 0): <MConstr () *awaiting model update*>,\n",
       " (0, 30, 1): <MConstr () *awaiting model update*>,\n",
       " (0, 30, 2): <MConstr () *awaiting model update*>,\n",
       " (0, 30, 3): <MConstr () *awaiting model update*>,\n",
       " (0, 30, 4): <MConstr () *awaiting model update*>,\n",
       " (0, 30, 5): <MConstr () *awaiting model update*>,\n",
       " (0, 30, 6): <MConstr () *awaiting model update*>,\n",
       " (0, 30, 7): <MConstr () *awaiting model update*>,\n",
       " (0, 30, 8): <MConstr () *awaiting model update*>,\n",
       " (0, 30, 9): <MConstr () *awaiting model update*>,\n",
       " (0, 31, 0): <MConstr () *awaiting model update*>,\n",
       " (0, 31, 1): <MConstr () *awaiting model update*>,\n",
       " (0, 31, 2): <MConstr () *awaiting model update*>,\n",
       " (0, 31, 3): <MConstr () *awaiting model update*>,\n",
       " (0, 31, 4): <MConstr () *awaiting model update*>,\n",
       " (0, 31, 5): <MConstr () *awaiting model update*>,\n",
       " (0, 31, 6): <MConstr () *awaiting model update*>,\n",
       " (0, 31, 7): <MConstr () *awaiting model update*>,\n",
       " (0, 31, 8): <MConstr () *awaiting model update*>,\n",
       " (0, 31, 9): <MConstr () *awaiting model update*>,\n",
       " (0, 32, 0): <MConstr () *awaiting model update*>,\n",
       " (0, 32, 1): <MConstr () *awaiting model update*>,\n",
       " (0, 32, 2): <MConstr () *awaiting model update*>,\n",
       " (0, 32, 3): <MConstr () *awaiting model update*>,\n",
       " (0, 32, 4): <MConstr () *awaiting model update*>,\n",
       " (0, 32, 5): <MConstr () *awaiting model update*>,\n",
       " (0, 32, 6): <MConstr () *awaiting model update*>,\n",
       " (0, 32, 7): <MConstr () *awaiting model update*>,\n",
       " (0, 32, 8): <MConstr () *awaiting model update*>,\n",
       " (0, 32, 9): <MConstr () *awaiting model update*>,\n",
       " (0, 33, 0): <MConstr () *awaiting model update*>,\n",
       " (0, 33, 1): <MConstr () *awaiting model update*>,\n",
       " (0, 33, 2): <MConstr () *awaiting model update*>,\n",
       " (0, 33, 3): <MConstr () *awaiting model update*>,\n",
       " (0, 33, 4): <MConstr () *awaiting model update*>,\n",
       " (0, 33, 5): <MConstr () *awaiting model update*>,\n",
       " (0, 33, 6): <MConstr () *awaiting model update*>,\n",
       " (0, 33, 7): <MConstr () *awaiting model update*>,\n",
       " (0, 33, 8): <MConstr () *awaiting model update*>,\n",
       " (0, 33, 9): <MConstr () *awaiting model update*>,\n",
       " (0, 34, 0): <MConstr () *awaiting model update*>,\n",
       " (0, 34, 1): <MConstr () *awaiting model update*>,\n",
       " (0, 34, 2): <MConstr () *awaiting model update*>,\n",
       " (0, 34, 3): <MConstr () *awaiting model update*>,\n",
       " (0, 34, 4): <MConstr () *awaiting model update*>,\n",
       " (0, 34, 5): <MConstr () *awaiting model update*>,\n",
       " (0, 34, 6): <MConstr () *awaiting model update*>,\n",
       " (0, 34, 7): <MConstr () *awaiting model update*>,\n",
       " (0, 34, 8): <MConstr () *awaiting model update*>,\n",
       " (0, 34, 9): <MConstr () *awaiting model update*>,\n",
       " (0, 35, 0): <MConstr () *awaiting model update*>,\n",
       " (0, 35, 1): <MConstr () *awaiting model update*>,\n",
       " (0, 35, 2): <MConstr () *awaiting model update*>,\n",
       " (0, 35, 3): <MConstr () *awaiting model update*>,\n",
       " (0, 35, 4): <MConstr () *awaiting model update*>,\n",
       " (0, 35, 5): <MConstr () *awaiting model update*>,\n",
       " (0, 35, 6): <MConstr () *awaiting model update*>,\n",
       " (0, 35, 7): <MConstr () *awaiting model update*>,\n",
       " (0, 35, 8): <MConstr () *awaiting model update*>,\n",
       " (0, 35, 9): <MConstr () *awaiting model update*>,\n",
       " (1, 0, 0): <MConstr () *awaiting model update*>,\n",
       " (1, 0, 1): <MConstr () *awaiting model update*>,\n",
       " (1, 0, 2): <MConstr () *awaiting model update*>,\n",
       " (1, 0, 3): <MConstr () *awaiting model update*>,\n",
       " (1, 0, 4): <MConstr () *awaiting model update*>,\n",
       " (1, 0, 5): <MConstr () *awaiting model update*>,\n",
       " (1, 0, 6): <MConstr () *awaiting model update*>,\n",
       " (1, 0, 7): <MConstr () *awaiting model update*>,\n",
       " (1, 0, 8): <MConstr () *awaiting model update*>,\n",
       " (1, 0, 9): <MConstr () *awaiting model update*>,\n",
       " (1, 1, 0): <MConstr () *awaiting model update*>,\n",
       " (1, 1, 1): <MConstr () *awaiting model update*>,\n",
       " (1, 1, 2): <MConstr () *awaiting model update*>,\n",
       " (1, 1, 3): <MConstr () *awaiting model update*>,\n",
       " (1, 1, 4): <MConstr () *awaiting model update*>,\n",
       " (1, 1, 5): <MConstr () *awaiting model update*>,\n",
       " (1, 1, 6): <MConstr () *awaiting model update*>,\n",
       " (1, 1, 7): <MConstr () *awaiting model update*>,\n",
       " (1, 1, 8): <MConstr () *awaiting model update*>,\n",
       " (1, 1, 9): <MConstr () *awaiting model update*>,\n",
       " (1, 2, 0): <MConstr () *awaiting model update*>,\n",
       " (1, 2, 1): <MConstr () *awaiting model update*>,\n",
       " (1, 2, 2): <MConstr () *awaiting model update*>,\n",
       " (1, 2, 3): <MConstr () *awaiting model update*>,\n",
       " (1, 2, 4): <MConstr () *awaiting model update*>,\n",
       " (1, 2, 5): <MConstr () *awaiting model update*>,\n",
       " (1, 2, 6): <MConstr () *awaiting model update*>,\n",
       " (1, 2, 7): <MConstr () *awaiting model update*>,\n",
       " (1, 2, 8): <MConstr () *awaiting model update*>,\n",
       " (1, 2, 9): <MConstr () *awaiting model update*>,\n",
       " (1, 3, 0): <MConstr () *awaiting model update*>,\n",
       " (1, 3, 1): <MConstr () *awaiting model update*>,\n",
       " (1, 3, 2): <MConstr () *awaiting model update*>,\n",
       " (1, 3, 3): <MConstr () *awaiting model update*>,\n",
       " (1, 3, 4): <MConstr () *awaiting model update*>,\n",
       " (1, 3, 5): <MConstr () *awaiting model update*>,\n",
       " (1, 3, 6): <MConstr () *awaiting model update*>,\n",
       " (1, 3, 7): <MConstr () *awaiting model update*>,\n",
       " (1, 3, 8): <MConstr () *awaiting model update*>,\n",
       " (1, 3, 9): <MConstr () *awaiting model update*>,\n",
       " (1, 4, 0): <MConstr () *awaiting model update*>,\n",
       " (1, 4, 1): <MConstr () *awaiting model update*>,\n",
       " (1, 4, 2): <MConstr () *awaiting model update*>,\n",
       " (1, 4, 3): <MConstr () *awaiting model update*>,\n",
       " (1, 4, 4): <MConstr () *awaiting model update*>,\n",
       " (1, 4, 5): <MConstr () *awaiting model update*>,\n",
       " (1, 4, 6): <MConstr () *awaiting model update*>,\n",
       " (1, 4, 7): <MConstr () *awaiting model update*>,\n",
       " (1, 4, 8): <MConstr () *awaiting model update*>,\n",
       " (1, 4, 9): <MConstr () *awaiting model update*>,\n",
       " (1, 5, 0): <MConstr () *awaiting model update*>,\n",
       " (1, 5, 1): <MConstr () *awaiting model update*>,\n",
       " (1, 5, 2): <MConstr () *awaiting model update*>,\n",
       " (1, 5, 3): <MConstr () *awaiting model update*>,\n",
       " (1, 5, 4): <MConstr () *awaiting model update*>,\n",
       " (1, 5, 5): <MConstr () *awaiting model update*>,\n",
       " (1, 5, 6): <MConstr () *awaiting model update*>,\n",
       " (1, 5, 7): <MConstr () *awaiting model update*>,\n",
       " (1, 5, 8): <MConstr () *awaiting model update*>,\n",
       " (1, 5, 9): <MConstr () *awaiting model update*>,\n",
       " (1, 6, 0): <MConstr () *awaiting model update*>,\n",
       " (1, 6, 1): <MConstr () *awaiting model update*>,\n",
       " (1, 6, 2): <MConstr () *awaiting model update*>,\n",
       " (1, 6, 3): <MConstr () *awaiting model update*>,\n",
       " (1, 6, 4): <MConstr () *awaiting model update*>,\n",
       " (1, 6, 5): <MConstr () *awaiting model update*>,\n",
       " (1, 6, 6): <MConstr () *awaiting model update*>,\n",
       " (1, 6, 7): <MConstr () *awaiting model update*>,\n",
       " (1, 6, 8): <MConstr () *awaiting model update*>,\n",
       " (1, 6, 9): <MConstr () *awaiting model update*>,\n",
       " (1, 7, 0): <MConstr () *awaiting model update*>,\n",
       " (1, 7, 1): <MConstr () *awaiting model update*>,\n",
       " (1, 7, 2): <MConstr () *awaiting model update*>,\n",
       " (1, 7, 3): <MConstr () *awaiting model update*>,\n",
       " (1, 7, 4): <MConstr () *awaiting model update*>,\n",
       " (1, 7, 5): <MConstr () *awaiting model update*>,\n",
       " (1, 7, 6): <MConstr () *awaiting model update*>,\n",
       " (1, 7, 7): <MConstr () *awaiting model update*>,\n",
       " (1, 7, 8): <MConstr () *awaiting model update*>,\n",
       " (1, 7, 9): <MConstr () *awaiting model update*>,\n",
       " (1, 8, 0): <MConstr () *awaiting model update*>,\n",
       " (1, 8, 1): <MConstr () *awaiting model update*>,\n",
       " (1, 8, 2): <MConstr () *awaiting model update*>,\n",
       " (1, 8, 3): <MConstr () *awaiting model update*>,\n",
       " (1, 8, 4): <MConstr () *awaiting model update*>,\n",
       " (1, 8, 5): <MConstr () *awaiting model update*>,\n",
       " (1, 8, 6): <MConstr () *awaiting model update*>,\n",
       " (1, 8, 7): <MConstr () *awaiting model update*>,\n",
       " (1, 8, 8): <MConstr () *awaiting model update*>,\n",
       " (1, 8, 9): <MConstr () *awaiting model update*>,\n",
       " (1, 9, 0): <MConstr () *awaiting model update*>,\n",
       " (1, 9, 1): <MConstr () *awaiting model update*>,\n",
       " (1, 9, 2): <MConstr () *awaiting model update*>,\n",
       " (1, 9, 3): <MConstr () *awaiting model update*>,\n",
       " (1, 9, 4): <MConstr () *awaiting model update*>,\n",
       " (1, 9, 5): <MConstr () *awaiting model update*>,\n",
       " (1, 9, 6): <MConstr () *awaiting model update*>,\n",
       " (1, 9, 7): <MConstr () *awaiting model update*>,\n",
       " (1, 9, 8): <MConstr () *awaiting model update*>,\n",
       " (1, 9, 9): <MConstr () *awaiting model update*>,\n",
       " (1, 10, 0): <MConstr () *awaiting model update*>,\n",
       " (1, 10, 1): <MConstr () *awaiting model update*>,\n",
       " (1, 10, 2): <MConstr () *awaiting model update*>,\n",
       " (1, 10, 3): <MConstr () *awaiting model update*>,\n",
       " (1, 10, 4): <MConstr () *awaiting model update*>,\n",
       " (1, 10, 5): <MConstr () *awaiting model update*>,\n",
       " (1, 10, 6): <MConstr () *awaiting model update*>,\n",
       " (1, 10, 7): <MConstr () *awaiting model update*>,\n",
       " (1, 10, 8): <MConstr () *awaiting model update*>,\n",
       " (1, 10, 9): <MConstr () *awaiting model update*>,\n",
       " (1, 11, 0): <MConstr () *awaiting model update*>,\n",
       " (1, 11, 1): <MConstr () *awaiting model update*>,\n",
       " (1, 11, 2): <MConstr () *awaiting model update*>,\n",
       " (1, 11, 3): <MConstr () *awaiting model update*>,\n",
       " (1, 11, 4): <MConstr () *awaiting model update*>,\n",
       " (1, 11, 5): <MConstr () *awaiting model update*>,\n",
       " (1, 11, 6): <MConstr () *awaiting model update*>,\n",
       " (1, 11, 7): <MConstr () *awaiting model update*>,\n",
       " (1, 11, 8): <MConstr () *awaiting model update*>,\n",
       " (1, 11, 9): <MConstr () *awaiting model update*>,\n",
       " (1, 12, 0): <MConstr () *awaiting model update*>,\n",
       " (1, 12, 1): <MConstr () *awaiting model update*>,\n",
       " (1, 12, 2): <MConstr () *awaiting model update*>,\n",
       " (1, 12, 3): <MConstr () *awaiting model update*>,\n",
       " (1, 12, 4): <MConstr () *awaiting model update*>,\n",
       " (1, 12, 5): <MConstr () *awaiting model update*>,\n",
       " (1, 12, 6): <MConstr () *awaiting model update*>,\n",
       " (1, 12, 7): <MConstr () *awaiting model update*>,\n",
       " (1, 12, 8): <MConstr () *awaiting model update*>,\n",
       " (1, 12, 9): <MConstr () *awaiting model update*>,\n",
       " (1, 13, 0): <MConstr () *awaiting model update*>,\n",
       " (1, 13, 1): <MConstr () *awaiting model update*>,\n",
       " (1, 13, 2): <MConstr () *awaiting model update*>,\n",
       " (1, 13, 3): <MConstr () *awaiting model update*>,\n",
       " (1, 13, 4): <MConstr () *awaiting model update*>,\n",
       " (1, 13, 5): <MConstr () *awaiting model update*>,\n",
       " (1, 13, 6): <MConstr () *awaiting model update*>,\n",
       " (1, 13, 7): <MConstr () *awaiting model update*>,\n",
       " (1, 13, 8): <MConstr () *awaiting model update*>,\n",
       " (1, 13, 9): <MConstr () *awaiting model update*>,\n",
       " (1, 14, 0): <MConstr () *awaiting model update*>,\n",
       " (1, 14, 1): <MConstr () *awaiting model update*>,\n",
       " (1, 14, 2): <MConstr () *awaiting model update*>,\n",
       " (1, 14, 3): <MConstr () *awaiting model update*>,\n",
       " (1, 14, 4): <MConstr () *awaiting model update*>,\n",
       " (1, 14, 5): <MConstr () *awaiting model update*>,\n",
       " (1, 14, 6): <MConstr () *awaiting model update*>,\n",
       " (1, 14, 7): <MConstr () *awaiting model update*>,\n",
       " (1, 14, 8): <MConstr () *awaiting model update*>,\n",
       " (1, 14, 9): <MConstr () *awaiting model update*>,\n",
       " (1, 15, 0): <MConstr () *awaiting model update*>,\n",
       " (1, 15, 1): <MConstr () *awaiting model update*>,\n",
       " (1, 15, 2): <MConstr () *awaiting model update*>,\n",
       " (1, 15, 3): <MConstr () *awaiting model update*>,\n",
       " (1, 15, 4): <MConstr () *awaiting model update*>,\n",
       " (1, 15, 5): <MConstr () *awaiting model update*>,\n",
       " (1, 15, 6): <MConstr () *awaiting model update*>,\n",
       " (1, 15, 7): <MConstr () *awaiting model update*>,\n",
       " (1, 15, 8): <MConstr () *awaiting model update*>,\n",
       " (1, 15, 9): <MConstr () *awaiting model update*>,\n",
       " (1, 16, 0): <MConstr () *awaiting model update*>,\n",
       " (1, 16, 1): <MConstr () *awaiting model update*>,\n",
       " (1, 16, 2): <MConstr () *awaiting model update*>,\n",
       " (1, 16, 3): <MConstr () *awaiting model update*>,\n",
       " (1, 16, 4): <MConstr () *awaiting model update*>,\n",
       " (1, 16, 5): <MConstr () *awaiting model update*>,\n",
       " (1, 16, 6): <MConstr () *awaiting model update*>,\n",
       " (1, 16, 7): <MConstr () *awaiting model update*>,\n",
       " (1, 16, 8): <MConstr () *awaiting model update*>,\n",
       " (1, 16, 9): <MConstr () *awaiting model update*>,\n",
       " (1, 17, 0): <MConstr () *awaiting model update*>,\n",
       " (1, 17, 1): <MConstr () *awaiting model update*>,\n",
       " (1, 17, 2): <MConstr () *awaiting model update*>,\n",
       " (1, 17, 3): <MConstr () *awaiting model update*>,\n",
       " (1, 17, 4): <MConstr () *awaiting model update*>,\n",
       " (1, 17, 5): <MConstr () *awaiting model update*>,\n",
       " (1, 17, 6): <MConstr () *awaiting model update*>,\n",
       " (1, 17, 7): <MConstr () *awaiting model update*>,\n",
       " (1, 17, 8): <MConstr () *awaiting model update*>,\n",
       " (1, 17, 9): <MConstr () *awaiting model update*>,\n",
       " (1, 18, 0): <MConstr () *awaiting model update*>,\n",
       " (1, 18, 1): <MConstr () *awaiting model update*>,\n",
       " (1, 18, 2): <MConstr () *awaiting model update*>,\n",
       " (1, 18, 3): <MConstr () *awaiting model update*>,\n",
       " (1, 18, 4): <MConstr () *awaiting model update*>,\n",
       " (1, 18, 5): <MConstr () *awaiting model update*>,\n",
       " (1, 18, 6): <MConstr () *awaiting model update*>,\n",
       " (1, 18, 7): <MConstr () *awaiting model update*>,\n",
       " (1, 18, 8): <MConstr () *awaiting model update*>,\n",
       " (1, 18, 9): <MConstr () *awaiting model update*>,\n",
       " (1, 19, 0): <MConstr () *awaiting model update*>,\n",
       " (1, 19, 1): <MConstr () *awaiting model update*>,\n",
       " (1, 19, 2): <MConstr () *awaiting model update*>,\n",
       " (1, 19, 3): <MConstr () *awaiting model update*>,\n",
       " (1, 19, 4): <MConstr () *awaiting model update*>,\n",
       " (1, 19, 5): <MConstr () *awaiting model update*>,\n",
       " (1, 19, 6): <MConstr () *awaiting model update*>,\n",
       " (1, 19, 7): <MConstr () *awaiting model update*>,\n",
       " (1, 19, 8): <MConstr () *awaiting model update*>,\n",
       " (1, 19, 9): <MConstr () *awaiting model update*>,\n",
       " (1, 20, 0): <MConstr () *awaiting model update*>,\n",
       " (1, 20, 1): <MConstr () *awaiting model update*>,\n",
       " (1, 20, 2): <MConstr () *awaiting model update*>,\n",
       " (1, 20, 3): <MConstr () *awaiting model update*>,\n",
       " (1, 20, 4): <MConstr () *awaiting model update*>,\n",
       " (1, 20, 5): <MConstr () *awaiting model update*>,\n",
       " (1, 20, 6): <MConstr () *awaiting model update*>,\n",
       " (1, 20, 7): <MConstr () *awaiting model update*>,\n",
       " (1, 20, 8): <MConstr () *awaiting model update*>,\n",
       " (1, 20, 9): <MConstr () *awaiting model update*>,\n",
       " (1, 21, 0): <MConstr () *awaiting model update*>,\n",
       " (1, 21, 1): <MConstr () *awaiting model update*>,\n",
       " (1, 21, 2): <MConstr () *awaiting model update*>,\n",
       " (1, 21, 3): <MConstr () *awaiting model update*>,\n",
       " (1, 21, 4): <MConstr () *awaiting model update*>,\n",
       " (1, 21, 5): <MConstr () *awaiting model update*>,\n",
       " (1, 21, 6): <MConstr () *awaiting model update*>,\n",
       " (1, 21, 7): <MConstr () *awaiting model update*>,\n",
       " (1, 21, 8): <MConstr () *awaiting model update*>,\n",
       " (1, 21, 9): <MConstr () *awaiting model update*>,\n",
       " (1, 22, 0): <MConstr () *awaiting model update*>,\n",
       " (1, 22, 1): <MConstr () *awaiting model update*>,\n",
       " (1, 22, 2): <MConstr () *awaiting model update*>,\n",
       " (1, 22, 3): <MConstr () *awaiting model update*>,\n",
       " (1, 22, 4): <MConstr () *awaiting model update*>,\n",
       " (1, 22, 5): <MConstr () *awaiting model update*>,\n",
       " (1, 22, 6): <MConstr () *awaiting model update*>,\n",
       " (1, 22, 7): <MConstr () *awaiting model update*>,\n",
       " (1, 22, 8): <MConstr () *awaiting model update*>,\n",
       " (1, 22, 9): <MConstr () *awaiting model update*>,\n",
       " (1, 23, 0): <MConstr () *awaiting model update*>,\n",
       " (1, 23, 1): <MConstr () *awaiting model update*>,\n",
       " (1, 23, 2): <MConstr () *awaiting model update*>,\n",
       " (1, 23, 3): <MConstr () *awaiting model update*>,\n",
       " (1, 23, 4): <MConstr () *awaiting model update*>,\n",
       " (1, 23, 5): <MConstr () *awaiting model update*>,\n",
       " (1, 23, 6): <MConstr () *awaiting model update*>,\n",
       " (1, 23, 7): <MConstr () *awaiting model update*>,\n",
       " (1, 23, 8): <MConstr () *awaiting model update*>,\n",
       " (1, 23, 9): <MConstr () *awaiting model update*>,\n",
       " (1, 24, 0): <MConstr () *awaiting model update*>,\n",
       " (1, 24, 1): <MConstr () *awaiting model update*>,\n",
       " (1, 24, 2): <MConstr () *awaiting model update*>,\n",
       " (1, 24, 3): <MConstr () *awaiting model update*>,\n",
       " (1, 24, 4): <MConstr () *awaiting model update*>,\n",
       " (1, 24, 5): <MConstr () *awaiting model update*>,\n",
       " (1, 24, 6): <MConstr () *awaiting model update*>,\n",
       " (1, 24, 7): <MConstr () *awaiting model update*>,\n",
       " (1, 24, 8): <MConstr () *awaiting model update*>,\n",
       " (1, 24, 9): <MConstr () *awaiting model update*>,\n",
       " (1, 25, 0): <MConstr () *awaiting model update*>,\n",
       " (1, 25, 1): <MConstr () *awaiting model update*>,\n",
       " (1, 25, 2): <MConstr () *awaiting model update*>,\n",
       " (1, 25, 3): <MConstr () *awaiting model update*>,\n",
       " (1, 25, 4): <MConstr () *awaiting model update*>,\n",
       " (1, 25, 5): <MConstr () *awaiting model update*>,\n",
       " (1, 25, 6): <MConstr () *awaiting model update*>,\n",
       " (1, 25, 7): <MConstr () *awaiting model update*>,\n",
       " (1, 25, 8): <MConstr () *awaiting model update*>,\n",
       " (1, 25, 9): <MConstr () *awaiting model update*>,\n",
       " (1, 26, 0): <MConstr () *awaiting model update*>,\n",
       " (1, 26, 1): <MConstr () *awaiting model update*>,\n",
       " (1, 26, 2): <MConstr () *awaiting model update*>,\n",
       " (1, 26, 3): <MConstr () *awaiting model update*>,\n",
       " (1, 26, 4): <MConstr () *awaiting model update*>,\n",
       " (1, 26, 5): <MConstr () *awaiting model update*>,\n",
       " (1, 26, 6): <MConstr () *awaiting model update*>,\n",
       " (1, 26, 7): <MConstr () *awaiting model update*>,\n",
       " (1, 26, 8): <MConstr () *awaiting model update*>,\n",
       " (1, 26, 9): <MConstr () *awaiting model update*>,\n",
       " (1, 27, 0): <MConstr () *awaiting model update*>,\n",
       " (1, 27, 1): <MConstr () *awaiting model update*>,\n",
       " (1, 27, 2): <MConstr () *awaiting model update*>,\n",
       " (1, 27, 3): <MConstr () *awaiting model update*>,\n",
       " (1, 27, 4): <MConstr () *awaiting model update*>,\n",
       " (1, 27, 5): <MConstr () *awaiting model update*>,\n",
       " (1, 27, 6): <MConstr () *awaiting model update*>,\n",
       " (1, 27, 7): <MConstr () *awaiting model update*>,\n",
       " (1, 27, 8): <MConstr () *awaiting model update*>,\n",
       " (1, 27, 9): <MConstr () *awaiting model update*>,\n",
       " (1, 28, 0): <MConstr () *awaiting model update*>,\n",
       " (1, 28, 1): <MConstr () *awaiting model update*>,\n",
       " (1, 28, 2): <MConstr () *awaiting model update*>,\n",
       " (1, 28, 3): <MConstr () *awaiting model update*>,\n",
       " (1, 28, 4): <MConstr () *awaiting model update*>,\n",
       " (1, 28, 5): <MConstr () *awaiting model update*>,\n",
       " (1, 28, 6): <MConstr () *awaiting model update*>,\n",
       " (1, 28, 7): <MConstr () *awaiting model update*>,\n",
       " (1, 28, 8): <MConstr () *awaiting model update*>,\n",
       " (1, 28, 9): <MConstr () *awaiting model update*>,\n",
       " (1, 29, 0): <MConstr () *awaiting model update*>,\n",
       " (1, 29, 1): <MConstr () *awaiting model update*>,\n",
       " (1, 29, 2): <MConstr () *awaiting model update*>,\n",
       " (1, 29, 3): <MConstr () *awaiting model update*>,\n",
       " (1, 29, 4): <MConstr () *awaiting model update*>,\n",
       " (1, 29, 5): <MConstr () *awaiting model update*>,\n",
       " (1, 29, 6): <MConstr () *awaiting model update*>,\n",
       " (1, 29, 7): <MConstr () *awaiting model update*>,\n",
       " (1, 29, 8): <MConstr () *awaiting model update*>,\n",
       " (1, 29, 9): <MConstr () *awaiting model update*>,\n",
       " (1, 30, 0): <MConstr () *awaiting model update*>,\n",
       " (1, 30, 1): <MConstr () *awaiting model update*>,\n",
       " (1, 30, 2): <MConstr () *awaiting model update*>,\n",
       " (1, 30, 3): <MConstr () *awaiting model update*>,\n",
       " (1, 30, 4): <MConstr () *awaiting model update*>,\n",
       " (1, 30, 5): <MConstr () *awaiting model update*>,\n",
       " (1, 30, 6): <MConstr () *awaiting model update*>,\n",
       " (1, 30, 7): <MConstr () *awaiting model update*>,\n",
       " (1, 30, 8): <MConstr () *awaiting model update*>,\n",
       " (1, 30, 9): <MConstr () *awaiting model update*>,\n",
       " (1, 31, 0): <MConstr () *awaiting model update*>,\n",
       " (1, 31, 1): <MConstr () *awaiting model update*>,\n",
       " (1, 31, 2): <MConstr () *awaiting model update*>,\n",
       " (1, 31, 3): <MConstr () *awaiting model update*>,\n",
       " (1, 31, 4): <MConstr () *awaiting model update*>,\n",
       " (1, 31, 5): <MConstr () *awaiting model update*>,\n",
       " (1, 31, 6): <MConstr () *awaiting model update*>,\n",
       " (1, 31, 7): <MConstr () *awaiting model update*>,\n",
       " (1, 31, 8): <MConstr () *awaiting model update*>,\n",
       " (1, 31, 9): <MConstr () *awaiting model update*>,\n",
       " (1, 32, 0): <MConstr () *awaiting model update*>,\n",
       " (1, 32, 1): <MConstr () *awaiting model update*>,\n",
       " (1, 32, 2): <MConstr () *awaiting model update*>,\n",
       " (1, 32, 3): <MConstr () *awaiting model update*>,\n",
       " (1, 32, 4): <MConstr () *awaiting model update*>,\n",
       " (1, 32, 5): <MConstr () *awaiting model update*>,\n",
       " (1, 32, 6): <MConstr () *awaiting model update*>,\n",
       " (1, 32, 7): <MConstr () *awaiting model update*>,\n",
       " (1, 32, 8): <MConstr () *awaiting model update*>,\n",
       " (1, 32, 9): <MConstr () *awaiting model update*>,\n",
       " (1, 33, 0): <MConstr () *awaiting model update*>,\n",
       " (1, 33, 1): <MConstr () *awaiting model update*>,\n",
       " (1, 33, 2): <MConstr () *awaiting model update*>,\n",
       " (1, 33, 3): <MConstr () *awaiting model update*>,\n",
       " (1, 33, 4): <MConstr () *awaiting model update*>,\n",
       " (1, 33, 5): <MConstr () *awaiting model update*>,\n",
       " (1, 33, 6): <MConstr () *awaiting model update*>,\n",
       " (1, 33, 7): <MConstr () *awaiting model update*>,\n",
       " (1, 33, 8): <MConstr () *awaiting model update*>,\n",
       " (1, 33, 9): <MConstr () *awaiting model update*>,\n",
       " (1, 34, 0): <MConstr () *awaiting model update*>,\n",
       " (1, 34, 1): <MConstr () *awaiting model update*>,\n",
       " (1, 34, 2): <MConstr () *awaiting model update*>,\n",
       " (1, 34, 3): <MConstr () *awaiting model update*>,\n",
       " (1, 34, 4): <MConstr () *awaiting model update*>,\n",
       " (1, 34, 5): <MConstr () *awaiting model update*>,\n",
       " (1, 34, 6): <MConstr () *awaiting model update*>,\n",
       " (1, 34, 7): <MConstr () *awaiting model update*>,\n",
       " (1, 34, 8): <MConstr () *awaiting model update*>,\n",
       " (1, 34, 9): <MConstr () *awaiting model update*>,\n",
       " (1, 35, 0): <MConstr () *awaiting model update*>,\n",
       " (1, 35, 1): <MConstr () *awaiting model update*>,\n",
       " (1, 35, 2): <MConstr () *awaiting model update*>,\n",
       " (1, 35, 3): <MConstr () *awaiting model update*>,\n",
       " (1, 35, 4): <MConstr () *awaiting model update*>,\n",
       " (1, 35, 5): <MConstr () *awaiting model update*>,\n",
       " (1, 35, 6): <MConstr () *awaiting model update*>,\n",
       " (1, 35, 7): <MConstr () *awaiting model update*>,\n",
       " (1, 35, 8): <MConstr () *awaiting model update*>,\n",
       " (1, 35, 9): <MConstr () *awaiting model update*>,\n",
       " (2, 0, 0): <MConstr () *awaiting model update*>,\n",
       " (2, 0, 1): <MConstr () *awaiting model update*>,\n",
       " (2, 0, 2): <MConstr () *awaiting model update*>,\n",
       " (2, 0, 3): <MConstr () *awaiting model update*>,\n",
       " (2, 0, 4): <MConstr () *awaiting model update*>,\n",
       " (2, 0, 5): <MConstr () *awaiting model update*>,\n",
       " (2, 0, 6): <MConstr () *awaiting model update*>,\n",
       " (2, 0, 7): <MConstr () *awaiting model update*>,\n",
       " (2, 0, 8): <MConstr () *awaiting model update*>,\n",
       " (2, 0, 9): <MConstr () *awaiting model update*>,\n",
       " (2, 1, 0): <MConstr () *awaiting model update*>,\n",
       " (2, 1, 1): <MConstr () *awaiting model update*>,\n",
       " (2, 1, 2): <MConstr () *awaiting model update*>,\n",
       " (2, 1, 3): <MConstr () *awaiting model update*>,\n",
       " (2, 1, 4): <MConstr () *awaiting model update*>,\n",
       " (2, 1, 5): <MConstr () *awaiting model update*>,\n",
       " (2, 1, 6): <MConstr () *awaiting model update*>,\n",
       " (2, 1, 7): <MConstr () *awaiting model update*>,\n",
       " (2, 1, 8): <MConstr () *awaiting model update*>,\n",
       " (2, 1, 9): <MConstr () *awaiting model update*>,\n",
       " (2, 2, 0): <MConstr () *awaiting model update*>,\n",
       " (2, 2, 1): <MConstr () *awaiting model update*>,\n",
       " (2, 2, 2): <MConstr () *awaiting model update*>,\n",
       " (2, 2, 3): <MConstr () *awaiting model update*>,\n",
       " (2, 2, 4): <MConstr () *awaiting model update*>,\n",
       " (2, 2, 5): <MConstr () *awaiting model update*>,\n",
       " (2, 2, 6): <MConstr () *awaiting model update*>,\n",
       " (2, 2, 7): <MConstr () *awaiting model update*>,\n",
       " (2, 2, 8): <MConstr () *awaiting model update*>,\n",
       " (2, 2, 9): <MConstr () *awaiting model update*>,\n",
       " (2, 3, 0): <MConstr () *awaiting model update*>,\n",
       " (2, 3, 1): <MConstr () *awaiting model update*>,\n",
       " (2, 3, 2): <MConstr () *awaiting model update*>,\n",
       " (2, 3, 3): <MConstr () *awaiting model update*>,\n",
       " (2, 3, 4): <MConstr () *awaiting model update*>,\n",
       " (2, 3, 5): <MConstr () *awaiting model update*>,\n",
       " (2, 3, 6): <MConstr () *awaiting model update*>,\n",
       " (2, 3, 7): <MConstr () *awaiting model update*>,\n",
       " (2, 3, 8): <MConstr () *awaiting model update*>,\n",
       " (2, 3, 9): <MConstr () *awaiting model update*>,\n",
       " (2, 4, 0): <MConstr () *awaiting model update*>,\n",
       " (2, 4, 1): <MConstr () *awaiting model update*>,\n",
       " (2, 4, 2): <MConstr () *awaiting model update*>,\n",
       " (2, 4, 3): <MConstr () *awaiting model update*>,\n",
       " (2, 4, 4): <MConstr () *awaiting model update*>,\n",
       " (2, 4, 5): <MConstr () *awaiting model update*>,\n",
       " (2, 4, 6): <MConstr () *awaiting model update*>,\n",
       " (2, 4, 7): <MConstr () *awaiting model update*>,\n",
       " (2, 4, 8): <MConstr () *awaiting model update*>,\n",
       " (2, 4, 9): <MConstr () *awaiting model update*>,\n",
       " (2, 5, 0): <MConstr () *awaiting model update*>,\n",
       " (2, 5, 1): <MConstr () *awaiting model update*>,\n",
       " (2, 5, 2): <MConstr () *awaiting model update*>,\n",
       " (2, 5, 3): <MConstr () *awaiting model update*>,\n",
       " (2, 5, 4): <MConstr () *awaiting model update*>,\n",
       " (2, 5, 5): <MConstr () *awaiting model update*>,\n",
       " (2, 5, 6): <MConstr () *awaiting model update*>,\n",
       " (2, 5, 7): <MConstr () *awaiting model update*>,\n",
       " (2, 5, 8): <MConstr () *awaiting model update*>,\n",
       " (2, 5, 9): <MConstr () *awaiting model update*>,\n",
       " (2, 6, 0): <MConstr () *awaiting model update*>,\n",
       " (2, 6, 1): <MConstr () *awaiting model update*>,\n",
       " (2, 6, 2): <MConstr () *awaiting model update*>,\n",
       " (2, 6, 3): <MConstr () *awaiting model update*>,\n",
       " (2, 6, 4): <MConstr () *awaiting model update*>,\n",
       " (2, 6, 5): <MConstr () *awaiting model update*>,\n",
       " (2, 6, 6): <MConstr () *awaiting model update*>,\n",
       " (2, 6, 7): <MConstr () *awaiting model update*>,\n",
       " (2, 6, 8): <MConstr () *awaiting model update*>,\n",
       " (2, 6, 9): <MConstr () *awaiting model update*>,\n",
       " (2, 7, 0): <MConstr () *awaiting model update*>,\n",
       " (2, 7, 1): <MConstr () *awaiting model update*>,\n",
       " (2, 7, 2): <MConstr () *awaiting model update*>,\n",
       " (2, 7, 3): <MConstr () *awaiting model update*>,\n",
       " (2, 7, 4): <MConstr () *awaiting model update*>,\n",
       " (2, 7, 5): <MConstr () *awaiting model update*>,\n",
       " (2, 7, 6): <MConstr () *awaiting model update*>,\n",
       " (2, 7, 7): <MConstr () *awaiting model update*>,\n",
       " (2, 7, 8): <MConstr () *awaiting model update*>,\n",
       " (2, 7, 9): <MConstr () *awaiting model update*>,\n",
       " (2, 8, 0): <MConstr () *awaiting model update*>,\n",
       " (2, 8, 1): <MConstr () *awaiting model update*>,\n",
       " (2, 8, 2): <MConstr () *awaiting model update*>,\n",
       " (2, 8, 3): <MConstr () *awaiting model update*>,\n",
       " (2, 8, 4): <MConstr () *awaiting model update*>,\n",
       " (2, 8, 5): <MConstr () *awaiting model update*>,\n",
       " (2, 8, 6): <MConstr () *awaiting model update*>,\n",
       " (2, 8, 7): <MConstr () *awaiting model update*>,\n",
       " (2, 8, 8): <MConstr () *awaiting model update*>,\n",
       " (2, 8, 9): <MConstr () *awaiting model update*>,\n",
       " (2, 9, 0): <MConstr () *awaiting model update*>,\n",
       " (2, 9, 1): <MConstr () *awaiting model update*>,\n",
       " (2, 9, 2): <MConstr () *awaiting model update*>,\n",
       " (2, 9, 3): <MConstr () *awaiting model update*>,\n",
       " (2, 9, 4): <MConstr () *awaiting model update*>,\n",
       " (2, 9, 5): <MConstr () *awaiting model update*>,\n",
       " (2, 9, 6): <MConstr () *awaiting model update*>,\n",
       " (2, 9, 7): <MConstr () *awaiting model update*>,\n",
       " (2, 9, 8): <MConstr () *awaiting model update*>,\n",
       " (2, 9, 9): <MConstr () *awaiting model update*>,\n",
       " (2, 10, 0): <MConstr () *awaiting model update*>,\n",
       " (2, 10, 1): <MConstr () *awaiting model update*>,\n",
       " (2, 10, 2): <MConstr () *awaiting model update*>,\n",
       " (2, 10, 3): <MConstr () *awaiting model update*>,\n",
       " (2, 10, 4): <MConstr () *awaiting model update*>,\n",
       " (2, 10, 5): <MConstr () *awaiting model update*>,\n",
       " (2, 10, 6): <MConstr () *awaiting model update*>,\n",
       " (2, 10, 7): <MConstr () *awaiting model update*>,\n",
       " (2, 10, 8): <MConstr () *awaiting model update*>,\n",
       " (2, 10, 9): <MConstr () *awaiting model update*>,\n",
       " (2, 11, 0): <MConstr () *awaiting model update*>,\n",
       " (2, 11, 1): <MConstr () *awaiting model update*>,\n",
       " (2, 11, 2): <MConstr () *awaiting model update*>,\n",
       " (2, 11, 3): <MConstr () *awaiting model update*>,\n",
       " (2, 11, 4): <MConstr () *awaiting model update*>,\n",
       " (2, 11, 5): <MConstr () *awaiting model update*>,\n",
       " (2, 11, 6): <MConstr () *awaiting model update*>,\n",
       " (2, 11, 7): <MConstr () *awaiting model update*>,\n",
       " (2, 11, 8): <MConstr () *awaiting model update*>,\n",
       " (2, 11, 9): <MConstr () *awaiting model update*>,\n",
       " (2, 12, 0): <MConstr () *awaiting model update*>,\n",
       " (2, 12, 1): <MConstr () *awaiting model update*>,\n",
       " (2, 12, 2): <MConstr () *awaiting model update*>,\n",
       " (2, 12, 3): <MConstr () *awaiting model update*>,\n",
       " (2, 12, 4): <MConstr () *awaiting model update*>,\n",
       " (2, 12, 5): <MConstr () *awaiting model update*>,\n",
       " (2, 12, 6): <MConstr () *awaiting model update*>,\n",
       " (2, 12, 7): <MConstr () *awaiting model update*>,\n",
       " (2, 12, 8): <MConstr () *awaiting model update*>,\n",
       " (2, 12, 9): <MConstr () *awaiting model update*>,\n",
       " (2, 13, 0): <MConstr () *awaiting model update*>,\n",
       " (2, 13, 1): <MConstr () *awaiting model update*>,\n",
       " (2, 13, 2): <MConstr () *awaiting model update*>,\n",
       " (2, 13, 3): <MConstr () *awaiting model update*>,\n",
       " (2, 13, 4): <MConstr () *awaiting model update*>,\n",
       " (2, 13, 5): <MConstr () *awaiting model update*>,\n",
       " (2, 13, 6): <MConstr () *awaiting model update*>,\n",
       " (2, 13, 7): <MConstr () *awaiting model update*>,\n",
       " (2, 13, 8): <MConstr () *awaiting model update*>,\n",
       " (2, 13, 9): <MConstr () *awaiting model update*>,\n",
       " (2, 14, 0): <MConstr () *awaiting model update*>,\n",
       " (2, 14, 1): <MConstr () *awaiting model update*>,\n",
       " (2, 14, 2): <MConstr () *awaiting model update*>,\n",
       " (2, 14, 3): <MConstr () *awaiting model update*>,\n",
       " (2, 14, 4): <MConstr () *awaiting model update*>,\n",
       " (2, 14, 5): <MConstr () *awaiting model update*>,\n",
       " (2, 14, 6): <MConstr () *awaiting model update*>,\n",
       " (2, 14, 7): <MConstr () *awaiting model update*>,\n",
       " (2, 14, 8): <MConstr () *awaiting model update*>,\n",
       " (2, 14, 9): <MConstr () *awaiting model update*>,\n",
       " (2, 15, 0): <MConstr () *awaiting model update*>,\n",
       " (2, 15, 1): <MConstr () *awaiting model update*>,\n",
       " (2, 15, 2): <MConstr () *awaiting model update*>,\n",
       " (2, 15, 3): <MConstr () *awaiting model update*>,\n",
       " (2, 15, 4): <MConstr () *awaiting model update*>,\n",
       " (2, 15, 5): <MConstr () *awaiting model update*>,\n",
       " (2, 15, 6): <MConstr () *awaiting model update*>,\n",
       " (2, 15, 7): <MConstr () *awaiting model update*>,\n",
       " (2, 15, 8): <MConstr () *awaiting model update*>,\n",
       " (2, 15, 9): <MConstr () *awaiting model update*>,\n",
       " (2, 16, 0): <MConstr () *awaiting model update*>,\n",
       " (2, 16, 1): <MConstr () *awaiting model update*>,\n",
       " (2, 16, 2): <MConstr () *awaiting model update*>,\n",
       " (2, 16, 3): <MConstr () *awaiting model update*>,\n",
       " (2, 16, 4): <MConstr () *awaiting model update*>,\n",
       " (2, 16, 5): <MConstr () *awaiting model update*>,\n",
       " (2, 16, 6): <MConstr () *awaiting model update*>,\n",
       " (2, 16, 7): <MConstr () *awaiting model update*>,\n",
       " (2, 16, 8): <MConstr () *awaiting model update*>,\n",
       " (2, 16, 9): <MConstr () *awaiting model update*>,\n",
       " (2, 17, 0): <MConstr () *awaiting model update*>,\n",
       " (2, 17, 1): <MConstr () *awaiting model update*>,\n",
       " (2, 17, 2): <MConstr () *awaiting model update*>,\n",
       " (2, 17, 3): <MConstr () *awaiting model update*>,\n",
       " (2, 17, 4): <MConstr () *awaiting model update*>,\n",
       " (2, 17, 5): <MConstr () *awaiting model update*>,\n",
       " (2, 17, 6): <MConstr () *awaiting model update*>,\n",
       " (2, 17, 7): <MConstr () *awaiting model update*>,\n",
       " (2, 17, 8): <MConstr () *awaiting model update*>,\n",
       " (2, 17, 9): <MConstr () *awaiting model update*>,\n",
       " (2, 18, 0): <MConstr () *awaiting model update*>,\n",
       " (2, 18, 1): <MConstr () *awaiting model update*>,\n",
       " (2, 18, 2): <MConstr () *awaiting model update*>,\n",
       " (2, 18, 3): <MConstr () *awaiting model update*>,\n",
       " (2, 18, 4): <MConstr () *awaiting model update*>,\n",
       " (2, 18, 5): <MConstr () *awaiting model update*>,\n",
       " (2, 18, 6): <MConstr () *awaiting model update*>,\n",
       " (2, 18, 7): <MConstr () *awaiting model update*>,\n",
       " (2, 18, 8): <MConstr () *awaiting model update*>,\n",
       " (2, 18, 9): <MConstr () *awaiting model update*>,\n",
       " (2, 19, 0): <MConstr () *awaiting model update*>,\n",
       " (2, 19, 1): <MConstr () *awaiting model update*>,\n",
       " (2, 19, 2): <MConstr () *awaiting model update*>,\n",
       " (2, 19, 3): <MConstr () *awaiting model update*>,\n",
       " (2, 19, 4): <MConstr () *awaiting model update*>,\n",
       " (2, 19, 5): <MConstr () *awaiting model update*>,\n",
       " (2, 19, 6): <MConstr () *awaiting model update*>,\n",
       " (2, 19, 7): <MConstr () *awaiting model update*>,\n",
       " (2, 19, 8): <MConstr () *awaiting model update*>,\n",
       " (2, 19, 9): <MConstr () *awaiting model update*>,\n",
       " (2, 20, 0): <MConstr () *awaiting model update*>,\n",
       " (2, 20, 1): <MConstr () *awaiting model update*>,\n",
       " (2, 20, 2): <MConstr () *awaiting model update*>,\n",
       " (2, 20, 3): <MConstr () *awaiting model update*>,\n",
       " (2, 20, 4): <MConstr () *awaiting model update*>,\n",
       " (2, 20, 5): <MConstr () *awaiting model update*>,\n",
       " (2, 20, 6): <MConstr () *awaiting model update*>,\n",
       " (2, 20, 7): <MConstr () *awaiting model update*>,\n",
       " (2, 20, 8): <MConstr () *awaiting model update*>,\n",
       " (2, 20, 9): <MConstr () *awaiting model update*>,\n",
       " (2, 21, 0): <MConstr () *awaiting model update*>,\n",
       " (2, 21, 1): <MConstr () *awaiting model update*>,\n",
       " (2, 21, 2): <MConstr () *awaiting model update*>,\n",
       " (2, 21, 3): <MConstr () *awaiting model update*>,\n",
       " (2, 21, 4): <MConstr () *awaiting model update*>,\n",
       " (2, 21, 5): <MConstr () *awaiting model update*>,\n",
       " (2, 21, 6): <MConstr () *awaiting model update*>,\n",
       " (2, 21, 7): <MConstr () *awaiting model update*>,\n",
       " (2, 21, 8): <MConstr () *awaiting model update*>,\n",
       " (2, 21, 9): <MConstr () *awaiting model update*>,\n",
       " (2, 22, 0): <MConstr () *awaiting model update*>,\n",
       " (2, 22, 1): <MConstr () *awaiting model update*>,\n",
       " (2, 22, 2): <MConstr () *awaiting model update*>,\n",
       " (2, 22, 3): <MConstr () *awaiting model update*>,\n",
       " (2, 22, 4): <MConstr () *awaiting model update*>,\n",
       " (2, 22, 5): <MConstr () *awaiting model update*>,\n",
       " (2, 22, 6): <MConstr () *awaiting model update*>,\n",
       " (2, 22, 7): <MConstr () *awaiting model update*>,\n",
       " (2, 22, 8): <MConstr () *awaiting model update*>,\n",
       " (2, 22, 9): <MConstr () *awaiting model update*>,\n",
       " (2, 23, 0): <MConstr () *awaiting model update*>,\n",
       " (2, 23, 1): <MConstr () *awaiting model update*>,\n",
       " (2, 23, 2): <MConstr () *awaiting model update*>,\n",
       " (2, 23, 3): <MConstr () *awaiting model update*>,\n",
       " (2, 23, 4): <MConstr () *awaiting model update*>,\n",
       " (2, 23, 5): <MConstr () *awaiting model update*>,\n",
       " (2, 23, 6): <MConstr () *awaiting model update*>,\n",
       " (2, 23, 7): <MConstr () *awaiting model update*>,\n",
       " (2, 23, 8): <MConstr () *awaiting model update*>,\n",
       " (2, 23, 9): <MConstr () *awaiting model update*>,\n",
       " (2, 24, 0): <MConstr () *awaiting model update*>,\n",
       " (2, 24, 1): <MConstr () *awaiting model update*>,\n",
       " (2, 24, 2): <MConstr () *awaiting model update*>,\n",
       " (2, 24, 3): <MConstr () *awaiting model update*>,\n",
       " (2, 24, 4): <MConstr () *awaiting model update*>,\n",
       " (2, 24, 5): <MConstr () *awaiting model update*>,\n",
       " (2, 24, 6): <MConstr () *awaiting model update*>,\n",
       " (2, 24, 7): <MConstr () *awaiting model update*>,\n",
       " (2, 24, 8): <MConstr () *awaiting model update*>,\n",
       " (2, 24, 9): <MConstr () *awaiting model update*>,\n",
       " (2, 25, 0): <MConstr () *awaiting model update*>,\n",
       " (2, 25, 1): <MConstr () *awaiting model update*>,\n",
       " (2, 25, 2): <MConstr () *awaiting model update*>,\n",
       " (2, 25, 3): <MConstr () *awaiting model update*>,\n",
       " (2, 25, 4): <MConstr () *awaiting model update*>,\n",
       " (2, 25, 5): <MConstr () *awaiting model update*>,\n",
       " (2, 25, 6): <MConstr () *awaiting model update*>,\n",
       " (2, 25, 7): <MConstr () *awaiting model update*>,\n",
       " (2, 25, 8): <MConstr () *awaiting model update*>,\n",
       " (2, 25, 9): <MConstr () *awaiting model update*>,\n",
       " (2, 26, 0): <MConstr () *awaiting model update*>,\n",
       " (2, 26, 1): <MConstr () *awaiting model update*>,\n",
       " (2, 26, 2): <MConstr () *awaiting model update*>,\n",
       " (2, 26, 3): <MConstr () *awaiting model update*>,\n",
       " (2, 26, 4): <MConstr () *awaiting model update*>,\n",
       " (2, 26, 5): <MConstr () *awaiting model update*>,\n",
       " (2, 26, 6): <MConstr () *awaiting model update*>,\n",
       " (2, 26, 7): <MConstr () *awaiting model update*>,\n",
       " (2, 26, 8): <MConstr () *awaiting model update*>,\n",
       " (2, 26, 9): <MConstr () *awaiting model update*>,\n",
       " (2, 27, 0): <MConstr () *awaiting model update*>,\n",
       " (2, 27, 1): <MConstr () *awaiting model update*>,\n",
       " (2, 27, 2): <MConstr () *awaiting model update*>,\n",
       " (2, 27, 3): <MConstr () *awaiting model update*>,\n",
       " (2, 27, 4): <MConstr () *awaiting model update*>,\n",
       " (2, 27, 5): <MConstr () *awaiting model update*>,\n",
       " (2, 27, 6): <MConstr () *awaiting model update*>,\n",
       " (2, 27, 7): <MConstr () *awaiting model update*>,\n",
       " (2, 27, 8): <MConstr () *awaiting model update*>,\n",
       " (2, 27, 9): <MConstr () *awaiting model update*>,\n",
       " ...}"
      ]
     },
     "execution_count": 17,
     "metadata": {},
     "output_type": "execute_result"
    }
   ],
   "source": [
    "model.addConstrs((gp.quicksum(Begin_Project[i])<= 1 for i in range(L)), name=\"Only_Begin_One_Time\") \n",
    "model.addConstrs((gp.quicksum(Begin_Project[i]) == gp.quicksum(Done_Project[i]) for i in range(L)), name=\"Begin_Done\") \n",
    "model.addConstrs((gp.quicksum((Done_Project[i]-Begin_Project[i])*u)+1<=z_fo3 for i in range(L)), name=\"Duration\") \n",
    "model.addConstrs((temp_work[i][j][k]/MAX_COST <= gp.quicksum(Begin_Project[i][0:(j+1)]) for i in range(L) for j in range(J) for k in range(K)), name=\"Cant_begin_without_work\") \n"
   ]
  },
  {
   "cell_type": "code",
   "execution_count": 18,
   "id": "7a3f0393",
   "metadata": {},
   "outputs": [
    {
     "name": "stdout",
     "output_type": "stream",
     "text": [
      "Gurobi Optimizer version 10.0.0 build v10.0.0rc2 (win64)\n",
      "\n",
      "CPU model: Intel(R) Core(TM) i3-6006U CPU @ 2.00GHz, instruction set [SSE2|AVX|AVX2]\n",
      "Thread count: 2 physical cores, 4 logical processors, using up to 4 threads\n",
      "\n",
      "Optimize a model with 77806 rows, 55952 columns and 2685541 nonzeros\n",
      "Model fingerprint: 0x9e05b106\n",
      "Variable types: 0 continuous, 55952 integer (55800 binary)\n",
      "Coefficient statistics:\n",
      "  Matrix range     [1e-01, 4e+01]\n",
      "  Objective range  [1e+00, 8e+01]\n",
      "  Bounds range     [1e+00, 1e+00]\n",
      "  RHS range        [1e-04, 4e+01]\n",
      "Found heuristic solution: objective -0.0000000\n",
      "Presolve removed 77053 rows and 54957 columns\n",
      "Presolve time: 2.55s\n",
      "Presolved: 753 rows, 995 columns, 13978 nonzeros\n",
      "Variable types: 0 continuous, 995 integer (987 binary)\n",
      "\n",
      "Root relaxation: objective 2.650000e+02, 159 iterations, 0.02 seconds (0.00 work units)\n",
      "\n",
      "    Nodes    |    Current Node    |     Objective Bounds      |     Work\n",
      " Expl Unexpl |  Obj  Depth IntInf | Incumbent    BestBd   Gap | It/Node Time\n",
      "\n",
      "     0     0  265.00000    0    5   -0.00000  265.00000      -     -    3s\n",
      "H    0     0                     163.0000000  265.00000  62.6%     -    3s\n",
      "     0     0  265.00000    0   10  163.00000  265.00000  62.6%     -    3s\n",
      "H    0     0                     193.0000000  265.00000  37.3%     -    3s\n",
      "     0     0  265.00000    0   20  193.00000  265.00000  37.3%     -    3s\n",
      "     0     0  265.00000    0   33  193.00000  265.00000  37.3%     -    3s\n",
      "     0     0  265.00000    0    6  193.00000  265.00000  37.3%     -    3s\n",
      "     0     0  265.00000    0   17  193.00000  265.00000  37.3%     -    3s\n",
      "     0     0  265.00000    0    4  193.00000  265.00000  37.3%     -    3s\n",
      "H    0     0                     202.0000000  265.00000  31.2%     -    3s\n",
      "     0     0  265.00000    0   12  202.00000  265.00000  31.2%     -    3s\n",
      "     0     0  265.00000    0   11  202.00000  265.00000  31.2%     -    3s\n",
      "     0     0  265.00000    0   16  202.00000  265.00000  31.2%     -    3s\n",
      "     0     0  265.00000    0    4  202.00000  265.00000  31.2%     -    3s\n",
      "     0     0  265.00000    0   11  202.00000  265.00000  31.2%     -    3s\n",
      "     0     0  265.00000    0    8  202.00000  265.00000  31.2%     -    3s\n",
      "     0     0  265.00000    0    8  202.00000  265.00000  31.2%     -    3s\n",
      "H    0     2                     205.0000000  265.00000  29.3%     -    3s\n",
      "     0     2  265.00000    0    8  205.00000  265.00000  29.3%     -    3s\n",
      "H   26    30                     208.0000000  265.00000  27.4%   7.3    4s\n",
      "H   27    30                     223.0000000  265.00000  18.8%   7.2    4s\n",
      "*   64    48              27     235.0000000  265.00000  12.8%   8.5    4s\n",
      "*  270   160              37     241.0000000  265.00000  10.0%  10.2    4s\n",
      "H  463   174                     244.0000000  265.00000  8.61%  11.7    4s\n",
      "   470   208  262.60000   16   17  244.00000  265.00000  8.61%  12.5    5s\n",
      "H  496   192                     247.0000000  265.00000  7.29%  12.3    5s\n",
      "* 1879   683              47     250.0000000  265.00000  6.00%   4.1    8s\n",
      "* 1964   625              49     253.0000000  265.00000  4.74%   4.4    8s\n",
      "  2886   728  259.00000   33   23  253.00000  265.00000  4.74%   7.5   10s\n",
      "  7799  1256  262.00000   36    6  253.00000  263.50000  4.15%  13.2   15s\n",
      " 14510   330  256.00000   38   24  253.00000  256.00000  1.19%  14.8   20s\n",
      "\n",
      "Cutting planes:\n",
      "  Gomory: 2\n",
      "  Lift-and-project: 1\n",
      "  Cover: 11\n",
      "  Flow cover: 10\n",
      "  RLT: 1\n",
      "\n",
      "Explored 15768 nodes (259707 simplex iterations) in 21.36 seconds (6.24 work units)\n",
      "Thread count was 4 (of 4 available processors)\n",
      "\n",
      "Solution count 10: 253 250 247 ... 202\n",
      "\n",
      "Optimal solution found (tolerance 1.00e-04)\n",
      "Best objective 2.530000000000e+02, best bound 2.530000000000e+02, gap 0.0000%\n"
     ]
    }
   ],
   "source": [
    "model.optimize()"
   ]
  },
  {
   "cell_type": "markdown",
   "id": "30112a37",
   "metadata": {},
   "source": [
    "### Vérification du respect des contraintes"
   ]
  },
  {
   "cell_type": "code",
   "execution_count": 19,
   "id": "0943288f",
   "metadata": {},
   "outputs": [],
   "source": [
    "Affectation_solution = Affectation.X\n",
    "Done_Project_solution = Done_Project.X\n",
    "Begin_Project_solution = Begin_Project.X\n",
    "NB_Project_solution = z_fo2.X\n",
    "Duration_solution = z_fo3.X"
   ]
  },
  {
   "cell_type": "code",
   "execution_count": 20,
   "id": "30e59294",
   "metadata": {},
   "outputs": [],
   "source": [
    "cumul_work = np.cumsum(np.sum(Affectation_solution,axis=0),axis=0)"
   ]
  },
  {
   "cell_type": "code",
   "execution_count": 21,
   "id": "0dc70789",
   "metadata": {},
   "outputs": [],
   "source": [
    "# Qualifications\n",
    "for i in range(I):\n",
    "    for j in range(J):\n",
    "        for l in range(L):\n",
    "            for k in range(K):\n",
    "                assert Affectation_solution[i,j,l,k] <= STAFF_QUALIFICATIONS[i,k] \n",
    "\n",
    "# One day One work\n",
    "for i in range(I):\n",
    "    for j in range(J):\n",
    "        assert np.sum(Affectation_solution[i][j])<= 1- CONGES[i][j]\n",
    "        \n",
    "# Project Done one time\n",
    "assert (np.sum(Done_Project_solution,axis=1)<=1).all()\n",
    "\n",
    "# Assert Project done\n",
    "for l in range(L):\n",
    "    if np.sum(Done_Project_solution[l])==1:\n",
    "        assert(\n",
    "                (cumul_work[\n",
    "                    np.where(Done_Project_solution[l] == 1)[0][0]\n",
    "                ][l] >= COST_PROJECT[l]).all()\n",
    "            )\n",
    "        \n",
    "# Project Done & Begin\n",
    "assert((\n",
    "np.sum(Done_Project_solution,axis=1)==np.sum(Begin_Project_solution,axis=1)\n",
    ").all())\n",
    "\n",
    "# Project are begin before\n",
    "assert((\n",
    "Done_Project_solution<=np.cumsum(Begin_Project_solution,axis=1)\n",
    ").all())\n",
    "\n",
    "# Assert Duration Project\n",
    "for l in range(L):\n",
    "    if np.sum(Done_Project_solution[l])==1:\n",
    "        assert(\n",
    "            (np.where(Done_Project_solution[l] == 1)[0][0] - np.where(Begin_Project_solution[l] == 1)[0][0])+1 <= Duration_solution\n",
    "            )\n",
    "        \n",
    "# Assert Nb project worked\n",
    "for i in range(i):\n",
    "    assert np.sum(np.sum(np.sum(Affectation_solution,axis=1)[i],axis=1)>=1)<=NB_Project_solution\n",
    "    \n",
    "# Working imply Beginned\n",
    "for l in range(L):\n",
    "    if np.sum(Done_Project_solution[l])==1:\n",
    "        assert np.where(np.sum(cumul_work,axis=2).transpose()[l]>=1)[0][0] >= np.where(Begin_Project_solution[l]>=1)[0][0]"
   ]
  },
  {
   "cell_type": "markdown",
   "id": "dca2c274",
   "metadata": {},
   "source": [
    "### Plot "
   ]
  },
  {
   "cell_type": "code",
   "execution_count": 22,
   "id": "22aa9626",
   "metadata": {},
   "outputs": [
    {
     "name": "stdout",
     "output_type": "stream",
     "text": [
      "The project Job1 is selected in the solution and done during the day 26 and beginned during the day 1.\n",
      "The project Job2 is selected in the solution and done during the day 22 and beginned during the day 1.\n",
      "The project Job3 is selected in the solution and done during the day 15 and beginned during the day 1.\n",
      "The project Job4 is selected in the solution and done during the day 17 and beginned during the day 1.\n",
      "The project Job5 is selected in the solution and done during the day 14 and beginned during the day 1.\n",
      "The project Job6 is selected in the solution and done during the day 33 and beginned during the day 1.\n",
      "The project Job7 isn't selected in the solution.\n",
      "The project Job8 isn't selected in the solution.\n",
      "The project Job9 isn't selected in the solution.\n",
      "The project Job10 isn't selected in the solution.\n",
      "The project Job11 isn't selected in the solution.\n",
      "The project Job12 is selected in the solution and done during the day 29 and beginned during the day 1.\n",
      "The project Job13 isn't selected in the solution.\n",
      "The project Job14 isn't selected in the solution.\n",
      "The project Job15 isn't selected in the solution.\n",
      "The project Job16 isn't selected in the solution.\n",
      "The project Job17 isn't selected in the solution.\n",
      "The project Job18 isn't selected in the solution.\n",
      "The project Job19 isn't selected in the solution.\n",
      "The project Job20 isn't selected in the solution.\n",
      "The project Job21 isn't selected in the solution.\n",
      "The project Job22 isn't selected in the solution.\n",
      "The project Job23 isn't selected in the solution.\n",
      "The project Job24 isn't selected in the solution.\n",
      "The project Job25 isn't selected in the solution.\n",
      "\n",
      "The gain is 253.0.\n",
      "The maximum of project for a worker is 25.0.\n",
      "The maximum of duration of a project is 33.0.\n"
     ]
    }
   ],
   "source": [
    "instance.load_solution(model,Affectation,Done_Project,Begin_Project,z_fo2,z_fo3)\n",
    "instance.save_solution(path=\"medium_instance/\")\n",
    "instance.print_kpi()"
   ]
  },
  {
   "cell_type": "code",
   "execution_count": 23,
   "id": "261b7ec6",
   "metadata": {},
   "outputs": [
    {
     "data": {
      "text/plain": [
       "8"
      ]
     },
     "execution_count": 23,
     "metadata": {},
     "output_type": "execute_result"
    }
   ],
   "source": [
    "np.sum(np.sum(np.sum(Affectation_solution,axis=1),axis=1)>=1)"
   ]
  },
  {
   "cell_type": "code",
   "execution_count": 24,
   "id": "cde12723",
   "metadata": {},
   "outputs": [],
   "source": [
    "x = np.transpose(np.sum(np.sum(Affectation_solution,axis=0),axis=2)>=1)"
   ]
  },
  {
   "cell_type": "code",
   "execution_count": 25,
   "id": "defe95cb",
   "metadata": {},
   "outputs": [
    {
     "data": {
      "text/plain": [
       "12"
      ]
     },
     "execution_count": 25,
     "metadata": {},
     "output_type": "execute_result"
    }
   ],
   "source": [
    "np.max(np.cumsum(x,axis=1))"
   ]
  },
  {
   "cell_type": "code",
   "execution_count": 26,
   "id": "b6b7df47",
   "metadata": {},
   "outputs": [
    {
     "name": "stdout",
     "output_type": "stream",
     "text": [
      "y1 0.8125\n",
      "y2 0.6\n",
      "y3 0.6\n"
     ]
    }
   ],
   "source": [
    "# Toy\n",
    "# quand on maximise le gain y\n",
    "print(\"y1\",65/80)\n",
    "print(\"y2\",3/5)\n",
    "print(\"y3\",3/5)\n"
   ]
  },
  {
   "cell_type": "code",
   "execution_count": 27,
   "id": "42db1b81",
   "metadata": {},
   "outputs": [
    {
     "name": "stdout",
     "output_type": "stream",
     "text": [
      "y1 0.34509803921568627\n",
      "y2 0.4\n",
      "y3 0.4090909090909091\n"
     ]
    }
   ],
   "source": [
    "# Medium\n",
    "print(\"y1\",176/510)\n",
    "print(\"y2\",6/15)\n",
    "print(\"y3\",9/22)"
   ]
  },
  {
   "cell_type": "code",
   "execution_count": 36,
   "id": "ebf999a6",
   "metadata": {},
   "outputs": [
    {
     "name": "stdout",
     "output_type": "stream",
     "text": [
      "y1 0.24803921568627452\n",
      "y2 0.32\n",
      "y3 0.3333333333333333\n"
     ]
    }
   ],
   "source": [
    "# Large\n",
    "print(\"y1\",253/1020)\n",
    "print(\"y2\",8/25)\n",
    "print(\"y3\",12/36)"
   ]
  },
  {
   "cell_type": "code",
   "execution_count": 38,
   "id": "253a48de",
   "metadata": {},
   "outputs": [],
   "source": [
    "p1=(1,0.6,0.6)"
   ]
  },
  {
   "cell_type": "code",
   "execution_count": 39,
   "id": "2cf9e414",
   "metadata": {},
   "outputs": [],
   "source": [
    "p2=(0.1875,0,0)"
   ]
  },
  {
   "cell_type": "code",
   "execution_count": 41,
   "id": "9c6d2847",
   "metadata": {},
   "outputs": [
    {
     "ename": "TypeError",
     "evalue": "tuple indices must be integers or slices, not tuple",
     "output_type": "error",
     "traceback": [
      "\u001b[1;31m---------------------------------------------------------------------------\u001b[0m",
      "\u001b[1;31mTypeError\u001b[0m                                 Traceback (most recent call last)",
      "\u001b[1;32m<ipython-input-41-9cafe3764edb>\u001b[0m in \u001b[0;36m<module>\u001b[1;34m\u001b[0m\n\u001b[1;32m----> 1\u001b[1;33m \u001b[0mp1\u001b[0m\u001b[1;33m[\u001b[0m\u001b[1;36m0\u001b[0m\u001b[1;33m,\u001b[0m \u001b[1;36m0\u001b[0m\u001b[1;33m,\u001b[0m \u001b[1;36m1\u001b[0m\u001b[1;33m,\u001b[0m \u001b[1;36m1\u001b[0m\u001b[1;33m,\u001b[0m \u001b[1;36m0\u001b[0m\u001b[1;33m,\u001b[0m \u001b[1;36m0\u001b[0m\u001b[1;33m,\u001b[0m \u001b[1;36m1\u001b[0m\u001b[1;33m,\u001b[0m \u001b[1;36m1\u001b[0m\u001b[1;33m]\u001b[0m\u001b[1;33m\u001b[0m\u001b[1;33m\u001b[0m\u001b[0m\n\u001b[0m",
      "\u001b[1;31mTypeError\u001b[0m: tuple indices must be integers or slices, not tuple"
     ]
    }
   ],
   "source": [
    "p1"
   ]
  },
  {
   "cell_type": "code",
   "execution_count": 52,
   "id": "016bc940",
   "metadata": {},
   "outputs": [
    {
     "data": {
      "application/vnd.plotly.v1+json": {
       "config": {
        "plotlyServerURL": "https://plot.ly"
       },
       "data": [
        {
         "i": [
          7,
          0,
          0,
          0,
          4,
          4,
          6,
          6,
          4,
          0,
          3,
          2
         ],
         "j": [
          3,
          4,
          1,
          2,
          5,
          6,
          5,
          2,
          0,
          1,
          6,
          3
         ],
         "k": [
          0,
          7,
          2,
          3,
          6,
          7,
          1,
          1,
          5,
          5,
          7,
          6
         ],
         "name": "y",
         "opacity": 0.5,
         "type": "mesh3d",
         "x": [
          1,
          1,
          0.1875,
          0.1875,
          1,
          1,
          0.1875,
          0.1875
         ],
         "y": [
          0.6,
          0,
          0,
          0.6,
          0.6,
          0,
          0,
          0.6
         ],
         "z": [
          0.6,
          0.6,
          0.6,
          0.6,
          0,
          0,
          0,
          0
         ]
        }
       ],
       "layout": {
        "margin": {
         "b": 10,
         "l": 10,
         "r": 20,
         "t": 10
        },
        "scene": {
         "xaxis": {
          "nticks": 10,
          "range": [
           0,
           1
          ],
          "title": {
           "text": "GAIN"
          }
         },
         "yaxis": {
          "nticks": 10,
          "range": [
           0,
           1
          ],
          "title": {
           "text": "Maximum Project by worker"
          }
         },
         "zaxis": {
          "nticks": 10,
          "range": [
           0,
           1
          ],
          "title": {
           "text": "Maximum duration project"
          }
         }
        },
        "template": {
         "data": {
          "bar": [
           {
            "error_x": {
             "color": "#2a3f5f"
            },
            "error_y": {
             "color": "#2a3f5f"
            },
            "marker": {
             "line": {
              "color": "#E5ECF6",
              "width": 0.5
             },
             "pattern": {
              "fillmode": "overlay",
              "size": 10,
              "solidity": 0.2
             }
            },
            "type": "bar"
           }
          ],
          "barpolar": [
           {
            "marker": {
             "line": {
              "color": "#E5ECF6",
              "width": 0.5
             },
             "pattern": {
              "fillmode": "overlay",
              "size": 10,
              "solidity": 0.2
             }
            },
            "type": "barpolar"
           }
          ],
          "carpet": [
           {
            "aaxis": {
             "endlinecolor": "#2a3f5f",
             "gridcolor": "white",
             "linecolor": "white",
             "minorgridcolor": "white",
             "startlinecolor": "#2a3f5f"
            },
            "baxis": {
             "endlinecolor": "#2a3f5f",
             "gridcolor": "white",
             "linecolor": "white",
             "minorgridcolor": "white",
             "startlinecolor": "#2a3f5f"
            },
            "type": "carpet"
           }
          ],
          "choropleth": [
           {
            "colorbar": {
             "outlinewidth": 0,
             "ticks": ""
            },
            "type": "choropleth"
           }
          ],
          "contour": [
           {
            "colorbar": {
             "outlinewidth": 0,
             "ticks": ""
            },
            "colorscale": [
             [
              0,
              "#0d0887"
             ],
             [
              0.1111111111111111,
              "#46039f"
             ],
             [
              0.2222222222222222,
              "#7201a8"
             ],
             [
              0.3333333333333333,
              "#9c179e"
             ],
             [
              0.4444444444444444,
              "#bd3786"
             ],
             [
              0.5555555555555556,
              "#d8576b"
             ],
             [
              0.6666666666666666,
              "#ed7953"
             ],
             [
              0.7777777777777778,
              "#fb9f3a"
             ],
             [
              0.8888888888888888,
              "#fdca26"
             ],
             [
              1,
              "#f0f921"
             ]
            ],
            "type": "contour"
           }
          ],
          "contourcarpet": [
           {
            "colorbar": {
             "outlinewidth": 0,
             "ticks": ""
            },
            "type": "contourcarpet"
           }
          ],
          "heatmap": [
           {
            "colorbar": {
             "outlinewidth": 0,
             "ticks": ""
            },
            "colorscale": [
             [
              0,
              "#0d0887"
             ],
             [
              0.1111111111111111,
              "#46039f"
             ],
             [
              0.2222222222222222,
              "#7201a8"
             ],
             [
              0.3333333333333333,
              "#9c179e"
             ],
             [
              0.4444444444444444,
              "#bd3786"
             ],
             [
              0.5555555555555556,
              "#d8576b"
             ],
             [
              0.6666666666666666,
              "#ed7953"
             ],
             [
              0.7777777777777778,
              "#fb9f3a"
             ],
             [
              0.8888888888888888,
              "#fdca26"
             ],
             [
              1,
              "#f0f921"
             ]
            ],
            "type": "heatmap"
           }
          ],
          "heatmapgl": [
           {
            "colorbar": {
             "outlinewidth": 0,
             "ticks": ""
            },
            "colorscale": [
             [
              0,
              "#0d0887"
             ],
             [
              0.1111111111111111,
              "#46039f"
             ],
             [
              0.2222222222222222,
              "#7201a8"
             ],
             [
              0.3333333333333333,
              "#9c179e"
             ],
             [
              0.4444444444444444,
              "#bd3786"
             ],
             [
              0.5555555555555556,
              "#d8576b"
             ],
             [
              0.6666666666666666,
              "#ed7953"
             ],
             [
              0.7777777777777778,
              "#fb9f3a"
             ],
             [
              0.8888888888888888,
              "#fdca26"
             ],
             [
              1,
              "#f0f921"
             ]
            ],
            "type": "heatmapgl"
           }
          ],
          "histogram": [
           {
            "marker": {
             "pattern": {
              "fillmode": "overlay",
              "size": 10,
              "solidity": 0.2
             }
            },
            "type": "histogram"
           }
          ],
          "histogram2d": [
           {
            "colorbar": {
             "outlinewidth": 0,
             "ticks": ""
            },
            "colorscale": [
             [
              0,
              "#0d0887"
             ],
             [
              0.1111111111111111,
              "#46039f"
             ],
             [
              0.2222222222222222,
              "#7201a8"
             ],
             [
              0.3333333333333333,
              "#9c179e"
             ],
             [
              0.4444444444444444,
              "#bd3786"
             ],
             [
              0.5555555555555556,
              "#d8576b"
             ],
             [
              0.6666666666666666,
              "#ed7953"
             ],
             [
              0.7777777777777778,
              "#fb9f3a"
             ],
             [
              0.8888888888888888,
              "#fdca26"
             ],
             [
              1,
              "#f0f921"
             ]
            ],
            "type": "histogram2d"
           }
          ],
          "histogram2dcontour": [
           {
            "colorbar": {
             "outlinewidth": 0,
             "ticks": ""
            },
            "colorscale": [
             [
              0,
              "#0d0887"
             ],
             [
              0.1111111111111111,
              "#46039f"
             ],
             [
              0.2222222222222222,
              "#7201a8"
             ],
             [
              0.3333333333333333,
              "#9c179e"
             ],
             [
              0.4444444444444444,
              "#bd3786"
             ],
             [
              0.5555555555555556,
              "#d8576b"
             ],
             [
              0.6666666666666666,
              "#ed7953"
             ],
             [
              0.7777777777777778,
              "#fb9f3a"
             ],
             [
              0.8888888888888888,
              "#fdca26"
             ],
             [
              1,
              "#f0f921"
             ]
            ],
            "type": "histogram2dcontour"
           }
          ],
          "mesh3d": [
           {
            "colorbar": {
             "outlinewidth": 0,
             "ticks": ""
            },
            "type": "mesh3d"
           }
          ],
          "parcoords": [
           {
            "line": {
             "colorbar": {
              "outlinewidth": 0,
              "ticks": ""
             }
            },
            "type": "parcoords"
           }
          ],
          "pie": [
           {
            "automargin": true,
            "type": "pie"
           }
          ],
          "scatter": [
           {
            "fillpattern": {
             "fillmode": "overlay",
             "size": 10,
             "solidity": 0.2
            },
            "type": "scatter"
           }
          ],
          "scatter3d": [
           {
            "line": {
             "colorbar": {
              "outlinewidth": 0,
              "ticks": ""
             }
            },
            "marker": {
             "colorbar": {
              "outlinewidth": 0,
              "ticks": ""
             }
            },
            "type": "scatter3d"
           }
          ],
          "scattercarpet": [
           {
            "marker": {
             "colorbar": {
              "outlinewidth": 0,
              "ticks": ""
             }
            },
            "type": "scattercarpet"
           }
          ],
          "scattergeo": [
           {
            "marker": {
             "colorbar": {
              "outlinewidth": 0,
              "ticks": ""
             }
            },
            "type": "scattergeo"
           }
          ],
          "scattergl": [
           {
            "marker": {
             "colorbar": {
              "outlinewidth": 0,
              "ticks": ""
             }
            },
            "type": "scattergl"
           }
          ],
          "scattermapbox": [
           {
            "marker": {
             "colorbar": {
              "outlinewidth": 0,
              "ticks": ""
             }
            },
            "type": "scattermapbox"
           }
          ],
          "scatterpolar": [
           {
            "marker": {
             "colorbar": {
              "outlinewidth": 0,
              "ticks": ""
             }
            },
            "type": "scatterpolar"
           }
          ],
          "scatterpolargl": [
           {
            "marker": {
             "colorbar": {
              "outlinewidth": 0,
              "ticks": ""
             }
            },
            "type": "scatterpolargl"
           }
          ],
          "scatterternary": [
           {
            "marker": {
             "colorbar": {
              "outlinewidth": 0,
              "ticks": ""
             }
            },
            "type": "scatterternary"
           }
          ],
          "surface": [
           {
            "colorbar": {
             "outlinewidth": 0,
             "ticks": ""
            },
            "colorscale": [
             [
              0,
              "#0d0887"
             ],
             [
              0.1111111111111111,
              "#46039f"
             ],
             [
              0.2222222222222222,
              "#7201a8"
             ],
             [
              0.3333333333333333,
              "#9c179e"
             ],
             [
              0.4444444444444444,
              "#bd3786"
             ],
             [
              0.5555555555555556,
              "#d8576b"
             ],
             [
              0.6666666666666666,
              "#ed7953"
             ],
             [
              0.7777777777777778,
              "#fb9f3a"
             ],
             [
              0.8888888888888888,
              "#fdca26"
             ],
             [
              1,
              "#f0f921"
             ]
            ],
            "type": "surface"
           }
          ],
          "table": [
           {
            "cells": {
             "fill": {
              "color": "#EBF0F8"
             },
             "line": {
              "color": "white"
             }
            },
            "header": {
             "fill": {
              "color": "#C8D4E3"
             },
             "line": {
              "color": "white"
             }
            },
            "type": "table"
           }
          ]
         },
         "layout": {
          "annotationdefaults": {
           "arrowcolor": "#2a3f5f",
           "arrowhead": 0,
           "arrowwidth": 1
          },
          "autotypenumbers": "strict",
          "coloraxis": {
           "colorbar": {
            "outlinewidth": 0,
            "ticks": ""
           }
          },
          "colorscale": {
           "diverging": [
            [
             0,
             "#8e0152"
            ],
            [
             0.1,
             "#c51b7d"
            ],
            [
             0.2,
             "#de77ae"
            ],
            [
             0.3,
             "#f1b6da"
            ],
            [
             0.4,
             "#fde0ef"
            ],
            [
             0.5,
             "#f7f7f7"
            ],
            [
             0.6,
             "#e6f5d0"
            ],
            [
             0.7,
             "#b8e186"
            ],
            [
             0.8,
             "#7fbc41"
            ],
            [
             0.9,
             "#4d9221"
            ],
            [
             1,
             "#276419"
            ]
           ],
           "sequential": [
            [
             0,
             "#0d0887"
            ],
            [
             0.1111111111111111,
             "#46039f"
            ],
            [
             0.2222222222222222,
             "#7201a8"
            ],
            [
             0.3333333333333333,
             "#9c179e"
            ],
            [
             0.4444444444444444,
             "#bd3786"
            ],
            [
             0.5555555555555556,
             "#d8576b"
            ],
            [
             0.6666666666666666,
             "#ed7953"
            ],
            [
             0.7777777777777778,
             "#fb9f3a"
            ],
            [
             0.8888888888888888,
             "#fdca26"
            ],
            [
             1,
             "#f0f921"
            ]
           ],
           "sequentialminus": [
            [
             0,
             "#0d0887"
            ],
            [
             0.1111111111111111,
             "#46039f"
            ],
            [
             0.2222222222222222,
             "#7201a8"
            ],
            [
             0.3333333333333333,
             "#9c179e"
            ],
            [
             0.4444444444444444,
             "#bd3786"
            ],
            [
             0.5555555555555556,
             "#d8576b"
            ],
            [
             0.6666666666666666,
             "#ed7953"
            ],
            [
             0.7777777777777778,
             "#fb9f3a"
            ],
            [
             0.8888888888888888,
             "#fdca26"
            ],
            [
             1,
             "#f0f921"
            ]
           ]
          },
          "colorway": [
           "#636efa",
           "#EF553B",
           "#00cc96",
           "#ab63fa",
           "#FFA15A",
           "#19d3f3",
           "#FF6692",
           "#B6E880",
           "#FF97FF",
           "#FECB52"
          ],
          "font": {
           "color": "#2a3f5f"
          },
          "geo": {
           "bgcolor": "white",
           "lakecolor": "white",
           "landcolor": "#E5ECF6",
           "showlakes": true,
           "showland": true,
           "subunitcolor": "white"
          },
          "hoverlabel": {
           "align": "left"
          },
          "hovermode": "closest",
          "mapbox": {
           "style": "light"
          },
          "paper_bgcolor": "white",
          "plot_bgcolor": "#E5ECF6",
          "polar": {
           "angularaxis": {
            "gridcolor": "white",
            "linecolor": "white",
            "ticks": ""
           },
           "bgcolor": "#E5ECF6",
           "radialaxis": {
            "gridcolor": "white",
            "linecolor": "white",
            "ticks": ""
           }
          },
          "scene": {
           "xaxis": {
            "backgroundcolor": "#E5ECF6",
            "gridcolor": "white",
            "gridwidth": 2,
            "linecolor": "white",
            "showbackground": true,
            "ticks": "",
            "zerolinecolor": "white"
           },
           "yaxis": {
            "backgroundcolor": "#E5ECF6",
            "gridcolor": "white",
            "gridwidth": 2,
            "linecolor": "white",
            "showbackground": true,
            "ticks": "",
            "zerolinecolor": "white"
           },
           "zaxis": {
            "backgroundcolor": "#E5ECF6",
            "gridcolor": "white",
            "gridwidth": 2,
            "linecolor": "white",
            "showbackground": true,
            "ticks": "",
            "zerolinecolor": "white"
           }
          },
          "shapedefaults": {
           "line": {
            "color": "#2a3f5f"
           }
          },
          "ternary": {
           "aaxis": {
            "gridcolor": "white",
            "linecolor": "white",
            "ticks": ""
           },
           "baxis": {
            "gridcolor": "white",
            "linecolor": "white",
            "ticks": ""
           },
           "bgcolor": "#E5ECF6",
           "caxis": {
            "gridcolor": "white",
            "linecolor": "white",
            "ticks": ""
           }
          },
          "title": {
           "x": 0.05
          },
          "xaxis": {
           "automargin": true,
           "gridcolor": "white",
           "linecolor": "white",
           "ticks": "",
           "title": {
            "standoff": 15
           },
           "zerolinecolor": "white",
           "zerolinewidth": 2
          },
          "yaxis": {
           "automargin": true,
           "gridcolor": "white",
           "linecolor": "white",
           "ticks": "",
           "title": {
            "standoff": 15
           },
           "zerolinecolor": "white",
           "zerolinewidth": 2
          }
         }
        },
        "width": 700
       }
      },
      "text/html": [
       "<div>                            <div id=\"fa0a03d9-353c-46dc-b43a-fcbd129d5f1e\" class=\"plotly-graph-div\" style=\"height:525px; width:700px;\"></div>            <script type=\"text/javascript\">                require([\"plotly\"], function(Plotly) {                    window.PLOTLYENV=window.PLOTLYENV || {};                                    if (document.getElementById(\"fa0a03d9-353c-46dc-b43a-fcbd129d5f1e\")) {                    Plotly.newPlot(                        \"fa0a03d9-353c-46dc-b43a-fcbd129d5f1e\",                        [{\"i\":[7,0,0,0,4,4,6,6,4,0,3,2],\"j\":[3,4,1,2,5,6,5,2,0,1,6,3],\"k\":[0,7,2,3,6,7,1,1,5,5,7,6],\"name\":\"y\",\"opacity\":0.5,\"x\":[1,1,0.1875,0.1875,1,1,0.1875,0.1875],\"y\":[0.6,0,0,0.6,0.6,0,0,0.6],\"z\":[0.6,0.6,0.6,0.6,0,0,0,0],\"type\":\"mesh3d\"}],                        {\"template\":{\"data\":{\"histogram2dcontour\":[{\"type\":\"histogram2dcontour\",\"colorbar\":{\"outlinewidth\":0,\"ticks\":\"\"},\"colorscale\":[[0.0,\"#0d0887\"],[0.1111111111111111,\"#46039f\"],[0.2222222222222222,\"#7201a8\"],[0.3333333333333333,\"#9c179e\"],[0.4444444444444444,\"#bd3786\"],[0.5555555555555556,\"#d8576b\"],[0.6666666666666666,\"#ed7953\"],[0.7777777777777778,\"#fb9f3a\"],[0.8888888888888888,\"#fdca26\"],[1.0,\"#f0f921\"]]}],\"choropleth\":[{\"type\":\"choropleth\",\"colorbar\":{\"outlinewidth\":0,\"ticks\":\"\"}}],\"histogram2d\":[{\"type\":\"histogram2d\",\"colorbar\":{\"outlinewidth\":0,\"ticks\":\"\"},\"colorscale\":[[0.0,\"#0d0887\"],[0.1111111111111111,\"#46039f\"],[0.2222222222222222,\"#7201a8\"],[0.3333333333333333,\"#9c179e\"],[0.4444444444444444,\"#bd3786\"],[0.5555555555555556,\"#d8576b\"],[0.6666666666666666,\"#ed7953\"],[0.7777777777777778,\"#fb9f3a\"],[0.8888888888888888,\"#fdca26\"],[1.0,\"#f0f921\"]]}],\"heatmap\":[{\"type\":\"heatmap\",\"colorbar\":{\"outlinewidth\":0,\"ticks\":\"\"},\"colorscale\":[[0.0,\"#0d0887\"],[0.1111111111111111,\"#46039f\"],[0.2222222222222222,\"#7201a8\"],[0.3333333333333333,\"#9c179e\"],[0.4444444444444444,\"#bd3786\"],[0.5555555555555556,\"#d8576b\"],[0.6666666666666666,\"#ed7953\"],[0.7777777777777778,\"#fb9f3a\"],[0.8888888888888888,\"#fdca26\"],[1.0,\"#f0f921\"]]}],\"heatmapgl\":[{\"type\":\"heatmapgl\",\"colorbar\":{\"outlinewidth\":0,\"ticks\":\"\"},\"colorscale\":[[0.0,\"#0d0887\"],[0.1111111111111111,\"#46039f\"],[0.2222222222222222,\"#7201a8\"],[0.3333333333333333,\"#9c179e\"],[0.4444444444444444,\"#bd3786\"],[0.5555555555555556,\"#d8576b\"],[0.6666666666666666,\"#ed7953\"],[0.7777777777777778,\"#fb9f3a\"],[0.8888888888888888,\"#fdca26\"],[1.0,\"#f0f921\"]]}],\"contourcarpet\":[{\"type\":\"contourcarpet\",\"colorbar\":{\"outlinewidth\":0,\"ticks\":\"\"}}],\"contour\":[{\"type\":\"contour\",\"colorbar\":{\"outlinewidth\":0,\"ticks\":\"\"},\"colorscale\":[[0.0,\"#0d0887\"],[0.1111111111111111,\"#46039f\"],[0.2222222222222222,\"#7201a8\"],[0.3333333333333333,\"#9c179e\"],[0.4444444444444444,\"#bd3786\"],[0.5555555555555556,\"#d8576b\"],[0.6666666666666666,\"#ed7953\"],[0.7777777777777778,\"#fb9f3a\"],[0.8888888888888888,\"#fdca26\"],[1.0,\"#f0f921\"]]}],\"surface\":[{\"type\":\"surface\",\"colorbar\":{\"outlinewidth\":0,\"ticks\":\"\"},\"colorscale\":[[0.0,\"#0d0887\"],[0.1111111111111111,\"#46039f\"],[0.2222222222222222,\"#7201a8\"],[0.3333333333333333,\"#9c179e\"],[0.4444444444444444,\"#bd3786\"],[0.5555555555555556,\"#d8576b\"],[0.6666666666666666,\"#ed7953\"],[0.7777777777777778,\"#fb9f3a\"],[0.8888888888888888,\"#fdca26\"],[1.0,\"#f0f921\"]]}],\"mesh3d\":[{\"type\":\"mesh3d\",\"colorbar\":{\"outlinewidth\":0,\"ticks\":\"\"}}],\"scatter\":[{\"fillpattern\":{\"fillmode\":\"overlay\",\"size\":10,\"solidity\":0.2},\"type\":\"scatter\"}],\"parcoords\":[{\"type\":\"parcoords\",\"line\":{\"colorbar\":{\"outlinewidth\":0,\"ticks\":\"\"}}}],\"scatterpolargl\":[{\"type\":\"scatterpolargl\",\"marker\":{\"colorbar\":{\"outlinewidth\":0,\"ticks\":\"\"}}}],\"bar\":[{\"error_x\":{\"color\":\"#2a3f5f\"},\"error_y\":{\"color\":\"#2a3f5f\"},\"marker\":{\"line\":{\"color\":\"#E5ECF6\",\"width\":0.5},\"pattern\":{\"fillmode\":\"overlay\",\"size\":10,\"solidity\":0.2}},\"type\":\"bar\"}],\"scattergeo\":[{\"type\":\"scattergeo\",\"marker\":{\"colorbar\":{\"outlinewidth\":0,\"ticks\":\"\"}}}],\"scatterpolar\":[{\"type\":\"scatterpolar\",\"marker\":{\"colorbar\":{\"outlinewidth\":0,\"ticks\":\"\"}}}],\"histogram\":[{\"marker\":{\"pattern\":{\"fillmode\":\"overlay\",\"size\":10,\"solidity\":0.2}},\"type\":\"histogram\"}],\"scattergl\":[{\"type\":\"scattergl\",\"marker\":{\"colorbar\":{\"outlinewidth\":0,\"ticks\":\"\"}}}],\"scatter3d\":[{\"type\":\"scatter3d\",\"line\":{\"colorbar\":{\"outlinewidth\":0,\"ticks\":\"\"}},\"marker\":{\"colorbar\":{\"outlinewidth\":0,\"ticks\":\"\"}}}],\"scattermapbox\":[{\"type\":\"scattermapbox\",\"marker\":{\"colorbar\":{\"outlinewidth\":0,\"ticks\":\"\"}}}],\"scatterternary\":[{\"type\":\"scatterternary\",\"marker\":{\"colorbar\":{\"outlinewidth\":0,\"ticks\":\"\"}}}],\"scattercarpet\":[{\"type\":\"scattercarpet\",\"marker\":{\"colorbar\":{\"outlinewidth\":0,\"ticks\":\"\"}}}],\"carpet\":[{\"aaxis\":{\"endlinecolor\":\"#2a3f5f\",\"gridcolor\":\"white\",\"linecolor\":\"white\",\"minorgridcolor\":\"white\",\"startlinecolor\":\"#2a3f5f\"},\"baxis\":{\"endlinecolor\":\"#2a3f5f\",\"gridcolor\":\"white\",\"linecolor\":\"white\",\"minorgridcolor\":\"white\",\"startlinecolor\":\"#2a3f5f\"},\"type\":\"carpet\"}],\"table\":[{\"cells\":{\"fill\":{\"color\":\"#EBF0F8\"},\"line\":{\"color\":\"white\"}},\"header\":{\"fill\":{\"color\":\"#C8D4E3\"},\"line\":{\"color\":\"white\"}},\"type\":\"table\"}],\"barpolar\":[{\"marker\":{\"line\":{\"color\":\"#E5ECF6\",\"width\":0.5},\"pattern\":{\"fillmode\":\"overlay\",\"size\":10,\"solidity\":0.2}},\"type\":\"barpolar\"}],\"pie\":[{\"automargin\":true,\"type\":\"pie\"}]},\"layout\":{\"autotypenumbers\":\"strict\",\"colorway\":[\"#636efa\",\"#EF553B\",\"#00cc96\",\"#ab63fa\",\"#FFA15A\",\"#19d3f3\",\"#FF6692\",\"#B6E880\",\"#FF97FF\",\"#FECB52\"],\"font\":{\"color\":\"#2a3f5f\"},\"hovermode\":\"closest\",\"hoverlabel\":{\"align\":\"left\"},\"paper_bgcolor\":\"white\",\"plot_bgcolor\":\"#E5ECF6\",\"polar\":{\"bgcolor\":\"#E5ECF6\",\"angularaxis\":{\"gridcolor\":\"white\",\"linecolor\":\"white\",\"ticks\":\"\"},\"radialaxis\":{\"gridcolor\":\"white\",\"linecolor\":\"white\",\"ticks\":\"\"}},\"ternary\":{\"bgcolor\":\"#E5ECF6\",\"aaxis\":{\"gridcolor\":\"white\",\"linecolor\":\"white\",\"ticks\":\"\"},\"baxis\":{\"gridcolor\":\"white\",\"linecolor\":\"white\",\"ticks\":\"\"},\"caxis\":{\"gridcolor\":\"white\",\"linecolor\":\"white\",\"ticks\":\"\"}},\"coloraxis\":{\"colorbar\":{\"outlinewidth\":0,\"ticks\":\"\"}},\"colorscale\":{\"sequential\":[[0.0,\"#0d0887\"],[0.1111111111111111,\"#46039f\"],[0.2222222222222222,\"#7201a8\"],[0.3333333333333333,\"#9c179e\"],[0.4444444444444444,\"#bd3786\"],[0.5555555555555556,\"#d8576b\"],[0.6666666666666666,\"#ed7953\"],[0.7777777777777778,\"#fb9f3a\"],[0.8888888888888888,\"#fdca26\"],[1.0,\"#f0f921\"]],\"sequentialminus\":[[0.0,\"#0d0887\"],[0.1111111111111111,\"#46039f\"],[0.2222222222222222,\"#7201a8\"],[0.3333333333333333,\"#9c179e\"],[0.4444444444444444,\"#bd3786\"],[0.5555555555555556,\"#d8576b\"],[0.6666666666666666,\"#ed7953\"],[0.7777777777777778,\"#fb9f3a\"],[0.8888888888888888,\"#fdca26\"],[1.0,\"#f0f921\"]],\"diverging\":[[0,\"#8e0152\"],[0.1,\"#c51b7d\"],[0.2,\"#de77ae\"],[0.3,\"#f1b6da\"],[0.4,\"#fde0ef\"],[0.5,\"#f7f7f7\"],[0.6,\"#e6f5d0\"],[0.7,\"#b8e186\"],[0.8,\"#7fbc41\"],[0.9,\"#4d9221\"],[1,\"#276419\"]]},\"xaxis\":{\"gridcolor\":\"white\",\"linecolor\":\"white\",\"ticks\":\"\",\"title\":{\"standoff\":15},\"zerolinecolor\":\"white\",\"automargin\":true,\"zerolinewidth\":2},\"yaxis\":{\"gridcolor\":\"white\",\"linecolor\":\"white\",\"ticks\":\"\",\"title\":{\"standoff\":15},\"zerolinecolor\":\"white\",\"automargin\":true,\"zerolinewidth\":2},\"scene\":{\"xaxis\":{\"backgroundcolor\":\"#E5ECF6\",\"gridcolor\":\"white\",\"linecolor\":\"white\",\"showbackground\":true,\"ticks\":\"\",\"zerolinecolor\":\"white\",\"gridwidth\":2},\"yaxis\":{\"backgroundcolor\":\"#E5ECF6\",\"gridcolor\":\"white\",\"linecolor\":\"white\",\"showbackground\":true,\"ticks\":\"\",\"zerolinecolor\":\"white\",\"gridwidth\":2},\"zaxis\":{\"backgroundcolor\":\"#E5ECF6\",\"gridcolor\":\"white\",\"linecolor\":\"white\",\"showbackground\":true,\"ticks\":\"\",\"zerolinecolor\":\"white\",\"gridwidth\":2}},\"shapedefaults\":{\"line\":{\"color\":\"#2a3f5f\"}},\"annotationdefaults\":{\"arrowcolor\":\"#2a3f5f\",\"arrowhead\":0,\"arrowwidth\":1},\"geo\":{\"bgcolor\":\"white\",\"landcolor\":\"#E5ECF6\",\"subunitcolor\":\"white\",\"showland\":true,\"showlakes\":true,\"lakecolor\":\"white\"},\"title\":{\"x\":0.05},\"mapbox\":{\"style\":\"light\"}}},\"scene\":{\"xaxis\":{\"nticks\":10,\"range\":[0,1],\"title\":{\"text\":\"GAIN\"}},\"yaxis\":{\"nticks\":10,\"range\":[0,1],\"title\":{\"text\":\"Maximum Project by worker\"}},\"zaxis\":{\"nticks\":10,\"range\":[0,1],\"title\":{\"text\":\"Maximum duration project\"}}},\"margin\":{\"r\":20,\"l\":10,\"b\":10,\"t\":10},\"width\":700},                        {\"responsive\": true}                    ).then(function(){\n",
       "                            \n",
       "var gd = document.getElementById('fa0a03d9-353c-46dc-b43a-fcbd129d5f1e');\n",
       "var x = new MutationObserver(function (mutations, observer) {{\n",
       "        var display = window.getComputedStyle(gd).display;\n",
       "        if (!display || display === 'none') {{\n",
       "            console.log([gd, 'removed!']);\n",
       "            Plotly.purge(gd);\n",
       "            observer.disconnect();\n",
       "        }}\n",
       "}});\n",
       "\n",
       "// Listen for the removal of the full notebook cells\n",
       "var notebookContainer = gd.closest('#notebook-container');\n",
       "if (notebookContainer) {{\n",
       "    x.observe(notebookContainer, {childList: true});\n",
       "}}\n",
       "\n",
       "// Listen for the clearing of the current output cell\n",
       "var outputEl = gd.closest('.output');\n",
       "if (outputEl) {{\n",
       "    x.observe(outputEl, {childList: true});\n",
       "}}\n",
       "\n",
       "                        })                };                });            </script>        </div>"
      ]
     },
     "metadata": {},
     "output_type": "display_data"
    }
   ],
   "source": [
    "import plotly.graph_objects as go\n",
    "import numpy as np\n",
    "\n",
    "fig = go.Figure(data=[\n",
    "    go.Mesh3d(\n",
    "        # 8 vertices of a cube\n",
    "        x=[p1[0], p1[0], p2[0], p2[0], p1[0], p1[0], p2[0], p2[0]],\n",
    "        y=[p1[1], p2[1], p2[1], p1[1], p1[1], p2[1], p2[1], p1[1]],\n",
    "        z=[p1[2], p1[2], p1[2], p1[2], p2[2], p2[2], p2[2], p2[2]],\n",
    "\n",
    "        # i, j and k give the vertices of triangles\n",
    "        i = [7, 0, 0, 0, 4, 4, 6, 6, 4, 0, 3, 2],\n",
    "        j = [3, 4, 1, 2, 5, 6, 5, 2, 0, 1, 6, 3],\n",
    "        k = [0, 7, 2, 3, 6, 7, 1, 1, 5, 5, 7, 6],\n",
    "        name='y',\n",
    "        opacity=0.50\n",
    "    )\n",
    "])\n",
    "fig.update_layout(\n",
    "    scene = dict(\n",
    "                xaxis = dict(nticks=10, range=[0,1],),\n",
    "                yaxis = dict(nticks=10, range=[0,1],),\n",
    "                zaxis = dict(nticks=10, range=[0,1],),\n",
    "                xaxis_title='GAIN',\n",
    "                yaxis_title='Maximum Project by worker',\n",
    "                zaxis_title='Maximum duration project',\n",
    "    ),\n",
    "    width=700,\n",
    "    margin=dict(r=20, l=10, b=10, t=10))\n",
    "fig.show()"
   ]
  }
 ],
 "metadata": {
  "kernelspec": {
   "display_name": "Python 3",
   "language": "python",
   "name": "python3"
  },
  "language_info": {
   "codemirror_mode": {
    "name": "ipython",
    "version": 3
   },
   "file_extension": ".py",
   "mimetype": "text/x-python",
   "name": "python",
   "nbconvert_exporter": "python",
   "pygments_lexer": "ipython3",
   "version": "3.10.4 (tags/v3.10.4:9d38120, Mar 23 2022, 23:13:41) [MSC v.1929 64 bit (AMD64)]"
  },
  "vscode": {
   "interpreter": {
    "hash": "26de051ba29f2982a8de78e945f0abaf191376122a1563185a90213a26c5da77"
   }
  }
 },
 "nbformat": 4,
 "nbformat_minor": 5
}
