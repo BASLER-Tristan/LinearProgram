{
 "cells": [
  {
   "cell_type": "markdown",
   "id": "e6dff554",
   "metadata": {},
   "source": [
    "## Notebook principal\n",
    "<br>\n",
    "Implémentation du modèle (fonctions objectifs, contraintes et résolution/optimisation)."
   ]
  },
  {
   "cell_type": "markdown",
   "id": "039515a3",
   "metadata": {},
   "source": [
    "### Importations"
   ]
  },
  {
   "cell_type": "code",
   "execution_count": 1,
   "id": "c13e1304",
   "metadata": {},
   "outputs": [],
   "source": [
    "import gurobipy as gp # solver\n",
    "from gurobipy import GRB\n",
    "import numpy as np"
   ]
  },
  {
   "cell_type": "code",
   "execution_count": 2,
   "id": "59dd0fd3",
   "metadata": {},
   "outputs": [],
   "source": [
    "from InstanceClass import Instance # custom class built to load and encode .json files (instances)"
   ]
  },
  {
   "cell_type": "markdown",
   "id": "02819be1",
   "metadata": {},
   "source": [
    "### Loading the data"
   ]
  },
  {
   "cell_type": "code",
   "execution_count": 3,
   "id": "3fa85ee8",
   "metadata": {},
   "outputs": [],
   "source": [
    "try:\n",
    "    instance = Instance(path=\"toy_instance.json\")\n",
    "    instance.build_instance()\n",
    "except FileNotFoundError:\n",
    "    instance = Instance(path=\"data/toy_instance.json\")\n",
    "    instance.build_instance()"
   ]
  },
  {
   "cell_type": "code",
   "execution_count": 4,
   "id": "d9017d62",
   "metadata": {},
   "outputs": [
    {
     "data": {
      "text/plain": [
       "{'NP': 5,\n",
       " 'NC': 3,\n",
       " 'NA': 3,\n",
       " 'H': 5,\n",
       " 'GAIN': [20, 15, 15, 20, 10],\n",
       " 'PENALTIES': array([[0., 0., 0., 3., 6.],\n",
       "        [0., 0., 0., 3., 6.],\n",
       "        [0., 0., 0., 0., 3.],\n",
       "        [0., 0., 0., 3., 6.],\n",
       "        [0., 0., 0., 0., 0.]]),\n",
       " 'STAFF_QUALIFICATIONS': array([[1., 1., 1.],\n",
       "        [1., 1., 0.],\n",
       "        [0., 0., 1.]]),\n",
       " 'COST_PROJECT': array([[1., 1., 1.],\n",
       "        [1., 2., 0.],\n",
       "        [1., 0., 2.],\n",
       "        [0., 2., 1.],\n",
       "        [0., 0., 2.]]),\n",
       " 'CONGES': array([[0., 0., 0., 0., 0.],\n",
       "        [1., 0., 0., 0., 0.],\n",
       "        [0., 1., 0., 0., 0.]])}"
      ]
     },
     "execution_count": 4,
     "metadata": {},
     "output_type": "execute_result"
    }
   ],
   "source": [
    "instance.variables # check that everything works as expected"
   ]
  },
  {
   "cell_type": "markdown",
   "id": "cb528e64",
   "metadata": {},
   "source": [
    "### Création de la matrice des affectations\n",
    "<br>\n",
    "On définit la matrice A des affections des collaborateurs sur les projets (de taille n_c ∗ h  ∗ n_p ∗ n): \n",
    "<br>\n",
    "$\n",
    "𝐴 = {𝑎_{𝑖,𝑗,𝑘,l}}\n",
    "$\n",
    "<br>\n"
   ]
  },
  {
   "cell_type": "markdown",
   "id": "bd6795e5",
   "metadata": {},
   "source": [
    "On en extrait une matrice 𝐴𝑝 = {𝑎𝑝𝑗,𝑘} indiquant si à l’instant j le projet vient d’être\n",
    "rendu \n"
   ]
  },
  {
   "cell_type": "code",
   "execution_count": 5,
   "id": "b741ff0b",
   "metadata": {},
   "outputs": [],
   "source": [
    "I=3\n",
    "J=5\n",
    "L=5\n",
    "K=3"
   ]
  },
  {
   "cell_type": "code",
   "execution_count": 6,
   "id": "476ab324",
   "metadata": {},
   "outputs": [],
   "source": [
    "def solution_creation(variables):\n",
    "    shape=(variables[\"NC\"],variables[\"H\"],variables[\"NP\"],variables[\"NA\"])\n",
    "    return shape\n",
    "\n",
    "def calcul_work(Affectation):\n",
    "    rep = [np.sum([Affectation[i][j] for i in range(3)],axis=0) for j in range(np.shape(Affectation)[1])]\n",
    "    return np.array(rep)\n",
    "\n",
    "def calcul_temporel_work(work,horizon):\n",
    "    rep = [[gp.quicksum(work_project[0:(i+1)]) for i in range(horizon)] for work_project in work]\n",
    "    return np.array(rep)\n",
    "\n",
    "def calcul_work_final(work):\n",
    "    rep=gp.quicksum(work)  \n",
    "    return rep\n",
    "\n",
    "def calcul_Ap(rep,cost_projet):\n",
    "    X = [[(rep[i][j] >= cost_projet[i]) for j in range(len(rep))] for i in range(len(cost_projet))]\n",
    "    return np.array(X)"
   ]
  },
  {
   "cell_type": "code",
   "execution_count": 18,
   "id": "0459b94b",
   "metadata": {},
   "outputs": [],
   "source": [
    "# données propres au problème que l'on va modéliser\n",
    "shape = solution_creation(instance.variables)\n",
    "GAIN = instance.variables[\"GAIN\"]\n",
    "PENALTIES = instance.variables[\"PENALTIES\"]\n",
    "COST_PROJECT = instance.variables[\"COST_PROJECT\"]\n",
    "STAFF_QUALIFICATIONS = instance.variables[\"STAFF_QUALIFICATIONS\"]\n",
    "CONGES = instance.variables[\"CONGES\"]\n",
    "I = instance.variables[\"NC\"]\n",
    "J = instance.variables[\"H\"]\n",
    "L = instance.variables[\"NP\"]\n",
    "K = instance.variables[\"NA\"]\n"
   ]
  },
  {
   "cell_type": "code",
   "execution_count": 19,
   "id": "0e72b7b1",
   "metadata": {},
   "outputs": [],
   "source": [
    "BENEFICES = np.array([GAIN[i]-PENALTIES[i] for i in range(L)])"
   ]
  },
  {
   "cell_type": "markdown",
   "id": "0b53ae05",
   "metadata": {},
   "source": [
    "### Instanciation du modèle"
   ]
  },
  {
   "cell_type": "code",
   "execution_count": 122,
   "id": "a9726f74",
   "metadata": {},
   "outputs": [],
   "source": [
    "model = gp.Model(\"matrix1\") # instanciation du modèle"
   ]
  },
  {
   "cell_type": "markdown",
   "id": "2d798594",
   "metadata": {},
   "source": [
    "### Définition des variables"
   ]
  },
  {
   "cell_type": "code",
   "execution_count": 123,
   "id": "e0636056",
   "metadata": {},
   "outputs": [],
   "source": [
    "# Create variables\n",
    "Affectation = model.addMVar(shape=(I,J,L,K), vtype=GRB.BINARY, name=\"Affectation\") # matrice personnes/jours/projet/compétence (tous les projets)\n",
    "Done_Project = model.addMVar(shape=(L,J), vtype=GRB.BINARY, name=\"Done_Project\") # matrice projets/temps (tous les projets)\n"
   ]
  },
  {
   "cell_type": "code",
   "execution_count": 124,
   "id": "7a29e653",
   "metadata": {},
   "outputs": [],
   "source": [
    "z_fo2 = model.addVar(vtype=GRB.INTEGER,name=\"Max_Projet\")\n",
    "delta = model.addMVar(shape=(L,I),vtype=GRB.INTEGER,name=\"Contrainte2\")"
   ]
  },
  {
   "cell_type": "code",
   "execution_count": 125,
   "id": "fc09c119",
   "metadata": {},
   "outputs": [],
   "source": [
    "z_fo3 = model.addVar(vtype=GRB.INTEGER,name=\"Duree_Max_Projet\")\n",
    "Begin_Project = model.addMVar(shape=(L,J), vtype=GRB.BINARY, name=\"Begin_Project\") # matrice projets/temps (tous les projets)\n",
    "u = np.arange(J)+1"
   ]
  },
  {
   "cell_type": "code",
   "execution_count": 126,
   "id": "ff8ece40",
   "metadata": {},
   "outputs": [],
   "source": [
    "Ap = calcul_Ap(calcul_work(Affectation),COST_PROJECT) # pas utilisé pour le moment\n",
    "final_work = calcul_work_final(calcul_work(Affectation)) # somme des travaux menés par projet (sert à vérifier qu'un projet est complété)\n",
    "# dimension de final_work : matrice projets/compétences (somme sur les employés par compétence et par projet, au temps final)\n",
    "temp_work = calcul_temporel_work(calcul_work(Affectation),instance.variables[\"H\"]) # somme cumulée dans le temps du travail effectué par projet et \n",
    "# par compétence (on veut l'utiliser plutôt que final_work à terme) ; temp_work[-1] = finl_work"
   ]
  },
  {
   "cell_type": "markdown",
   "id": "17f67d6c",
   "metadata": {},
   "source": [
    "### Définition des fonctions objectifs"
   ]
  },
  {
   "cell_type": "code",
   "execution_count": 127,
   "id": "7f3d5ff7",
   "metadata": {},
   "outputs": [],
   "source": [
    "# définition des objectifs\n",
    "model.setObjective(gp.quicksum(gp.quicksum(Done_Project*BENEFICES)), GRB.MAXIMIZE)\n",
    "#model.setObjective(z_fo2, GRB.MINIMIZE)\n",
    "#model.setObjective(z_fo3, GRB.MINIMIZE)\n"
   ]
  },
  {
   "cell_type": "markdown",
   "id": "0f50ab1d",
   "metadata": {},
   "source": [
    "### Définition des contraintes"
   ]
  },
  {
   "cell_type": "code",
   "execution_count": 128,
   "id": "4a85f42c",
   "metadata": {},
   "outputs": [
    {
     "data": {
      "text/plain": [
       "{0: <MConstr () *awaiting model update*>,\n",
       " 1: <MConstr () *awaiting model update*>,\n",
       " 2: <MConstr () *awaiting model update*>,\n",
       " 3: <MConstr () *awaiting model update*>,\n",
       " 4: <MConstr () *awaiting model update*>}"
      ]
     },
     "execution_count": 128,
     "metadata": {},
     "output_type": "execute_result"
    }
   ],
   "source": [
    "model.addConstrs((Affectation[i,j,l,k] <= STAFF_QUALIFICATIONS[i,k] for i in range(I) for j in range(J) for l in range(L) for k in range(K)), name=\"Qualifications_Constraint\")\n",
    "model.addConstrs((gp.quicksum(Affectation[i][j] @ np.transpose(np.array([1,1,1]))) <= 1-CONGES[i][j] for i in range(I) for j in range(J) for l in range(L)), name=\"Day_off_Constraint\") \n",
    "model.addConstrs((temp_work[i][j] >= COST_PROJECT[i]*Done_Project[i][j] for i in range(L) for j in range(J)), name=\"Done\") \n",
    "model.addConstrs((gp.quicksum(Done_Project)[i] <= 1 for i in range(L)), name=\"Only_Done_One_Time\") "
   ]
  },
  {
   "cell_type": "code",
   "execution_count": 129,
   "id": "bd730c22",
   "metadata": {},
   "outputs": [],
   "source": [
    "epsilon=0.0001"
   ]
  },
  {
   "cell_type": "code",
   "execution_count": 130,
   "id": "9b48cb99",
   "metadata": {},
   "outputs": [
    {
     "data": {
      "text/plain": [
       "{(0, 0): <MConstr () *awaiting model update*>,\n",
       " (0, 1): <MConstr () *awaiting model update*>,\n",
       " (0, 2): <MConstr () *awaiting model update*>,\n",
       " (0, 3): <MConstr () *awaiting model update*>,\n",
       " (0, 4): <MConstr () *awaiting model update*>,\n",
       " (1, 0): <MConstr () *awaiting model update*>,\n",
       " (1, 1): <MConstr () *awaiting model update*>,\n",
       " (1, 2): <MConstr () *awaiting model update*>,\n",
       " (1, 3): <MConstr () *awaiting model update*>,\n",
       " (1, 4): <MConstr () *awaiting model update*>,\n",
       " (2, 0): <MConstr () *awaiting model update*>,\n",
       " (2, 1): <MConstr () *awaiting model update*>,\n",
       " (2, 2): <MConstr () *awaiting model update*>,\n",
       " (2, 3): <MConstr () *awaiting model update*>,\n",
       " (2, 4): <MConstr () *awaiting model update*>}"
      ]
     },
     "execution_count": 130,
     "metadata": {},
     "output_type": "execute_result"
    }
   ],
   "source": [
    "model.addConstrs((gp.quicksum(delta)[i] <= z_fo2 for i in range(I)), name=\"C2.1\") \n",
    "model.addConstrs(((J*(1-delta[l][i]))<=gp.quicksum(gp.quicksum(Affectation[i])[l]) for i in range(I) for l in range(L)), name=\"C2.2\")\n",
    "model.addConstrs((gp.quicksum(gp.quicksum(Affectation[i])[l])+epsilon<=(J*delta[l][i]) for i in range(I) for l in range(L)), name=\"C2.3\") "
   ]
  },
  {
   "cell_type": "code",
   "execution_count": 131,
   "id": "e766001d",
   "metadata": {},
   "outputs": [
    {
     "data": {
      "text/plain": [
       "{0: <MConstr () *awaiting model update*>,\n",
       " 1: <MConstr () *awaiting model update*>,\n",
       " 2: <MConstr () *awaiting model update*>,\n",
       " 3: <MConstr () *awaiting model update*>,\n",
       " 4: <MConstr () *awaiting model update*>}"
      ]
     },
     "execution_count": 131,
     "metadata": {},
     "output_type": "execute_result"
    }
   ],
   "source": [
    "model.addConstrs((gp.quicksum(Begin_Project)[i] <= 1 for i in range(L)), name=\"Only_Begin_One_Time\") \n",
    "model.addConstrs((temp_work[i][j] >= Begin_Project[i][j] for i in range(L) for j in range(J)), name=\"Cant_begin_without_work\") \n",
    "model.addConstrs((gp.quicksum((Done_Project[i]-Begin_Project[i])*u)+1<=z_fo3 for i in range(L)), name=\"Only_Begin_One_Time\") \n"
   ]
  },
  {
   "cell_type": "code",
   "execution_count": 132,
   "id": "7a3f0393",
   "metadata": {},
   "outputs": [
    {
     "name": "stdout",
     "output_type": "stream",
     "text": [
      "Gurobi Optimizer version 10.0.0 build v10.0.0rc2 (win64)\n",
      "\n",
      "CPU model: Intel(R) Core(TM) i7-8550U CPU @ 1.80GHz, instruction set [SSE2|AVX|AVX2]\n",
      "Thread count: 4 physical cores, 8 logical processors, using up to 8 threads\n",
      "\n",
      "Optimize a model with 498 rows, 292 columns and 3428 nonzeros\n",
      "Model fingerprint: 0xa3f713c4\n",
      "Variable types: 0 continuous, 292 integer (275 binary)\n",
      "Coefficient statistics:\n",
      "  Matrix range     [1e+00, 5e+00]\n",
      "  Objective range  [9e+00, 2e+01]\n",
      "  Bounds range     [1e+00, 1e+00]\n",
      "  RHS range        [1e-04, 5e+00]\n",
      "Found heuristic solution: objective -0.0000000\n",
      "Presolve removed 498 rows and 292 columns\n",
      "Presolve time: 0.03s\n",
      "Presolve: All rows and columns removed\n",
      "\n",
      "Explored 0 nodes (0 simplex iterations) in 0.09 seconds (0.00 work units)\n",
      "Thread count was 1 (of 8 available processors)\n",
      "\n",
      "Solution count 2: 91 -0 \n",
      "\n",
      "Optimal solution found (tolerance 1.00e-04)\n",
      "Best objective 9.100000000000e+01, best bound 9.100000000000e+01, gap 0.0000%\n"
     ]
    }
   ],
   "source": [
    "model.optimize()"
   ]
  },
  {
   "cell_type": "markdown",
   "id": "30112a37",
   "metadata": {},
   "source": [
    "### Vérification du respect des contraintes"
   ]
  },
  {
   "cell_type": "code",
   "execution_count": 51,
   "id": "934427b7",
   "metadata": {},
   "outputs": [
    {
     "data": {
      "text/plain": [
       "<MLinExpr ()>\n",
       "array( Affectation[0,0,0,0] + Affectation[0,0,0,1] + Affectation[0,0,0,2] + Affectation[0,0,1,0] + Affectation[0,0,1,1] + Affectation[0,0,1,2] + Affectation[0,0,2,0] + Affectation[0,0,2,1] + Affectation[0,0,2,2] + Affectation[0,0,3,0] + Affectation[0,0,3,1] + Affectation[0,0,3,2] + Affectation[0,0,4,0] + Affectation[0,0,4,1] + Affectation[0,0,4,2])"
      ]
     },
     "execution_count": 51,
     "metadata": {},
     "output_type": "execute_result"
    }
   ],
   "source": [
    "gp.quicksum(Affectation[0][0] @ np.transpose(np.array([1,1,1])))"
   ]
  },
  {
   "cell_type": "code",
   "execution_count": 52,
   "id": "e45ca3cd",
   "metadata": {},
   "outputs": [
    {
     "data": {
      "text/plain": [
       "<MVar (5, 3)>\n",
       "array([[<gurobi.Var Affectation[0,0,0,0] (value 1.0)>,\n",
       "        <gurobi.Var Affectation[0,0,0,1] (value 0.0)>,\n",
       "        <gurobi.Var Affectation[0,0,0,2] (value 0.0)>],\n",
       "       [<gurobi.Var Affectation[0,0,1,0] (value 0.0)>,\n",
       "        <gurobi.Var Affectation[0,0,1,1] (value 0.0)>,\n",
       "        <gurobi.Var Affectation[0,0,1,2] (value 0.0)>],\n",
       "       [<gurobi.Var Affectation[0,0,2,0] (value 0.0)>,\n",
       "        <gurobi.Var Affectation[0,0,2,1] (value 0.0)>,\n",
       "        <gurobi.Var Affectation[0,0,2,2] (value 0.0)>],\n",
       "       [<gurobi.Var Affectation[0,0,3,0] (value 0.0)>,\n",
       "        <gurobi.Var Affectation[0,0,3,1] (value 0.0)>,\n",
       "        <gurobi.Var Affectation[0,0,3,2] (value 0.0)>],\n",
       "       [<gurobi.Var Affectation[0,0,4,0] (value 0.0)>,\n",
       "        <gurobi.Var Affectation[0,0,4,1] (value 0.0)>,\n",
       "        <gurobi.Var Affectation[0,0,4,2] (value 0.0)>]])"
      ]
     },
     "execution_count": 52,
     "metadata": {},
     "output_type": "execute_result"
    }
   ],
   "source": [
    "Affectation[0][0]"
   ]
  },
  {
   "cell_type": "code",
   "execution_count": 10,
   "id": "4f1aa123",
   "metadata": {},
   "outputs": [],
   "source": [
    "i = 2"
   ]
  },
  {
   "cell_type": "code",
   "execution_count": 11,
   "id": "fe3307e1",
   "metadata": {},
   "outputs": [
    {
     "data": {
      "text/plain": [
       "<MLinExpr (3,)  >\n",
       "array([ Done_Project[2],  0.0 Done_Project[2],  2.0 Done_Project[2]])"
      ]
     },
     "execution_count": 11,
     "metadata": {},
     "output_type": "execute_result"
    }
   ],
   "source": [
    "COST_PROJECT[i]*Done_Project[i]"
   ]
  },
  {
   "cell_type": "code",
   "execution_count": 12,
   "id": "46cca010",
   "metadata": {},
   "outputs": [
    {
     "data": {
      "text/plain": [
       "<MLinExpr (3,)  >\n",
       "array([ Done_Project[2],  0.0 Done_Project[2],  2.0 Done_Project[2]])"
      ]
     },
     "execution_count": 12,
     "metadata": {},
     "output_type": "execute_result"
    }
   ],
   "source": [
    "COST_PROJECT[i]*Done_Project[i]"
   ]
  },
  {
   "cell_type": "code",
   "execution_count": 14,
   "id": "321c0ceb",
   "metadata": {},
   "outputs": [
    {
     "data": {
      "text/plain": [
       "<MVar (5, 5, 3)>\n",
       "array([[[<gurobi.Var Affectation[1,0,0,0] (value 0.0)>,\n",
       "         <gurobi.Var Affectation[1,0,0,1] (value 0.0)>,\n",
       "         <gurobi.Var Affectation[1,0,0,2] (value 0.0)>],\n",
       "        [<gurobi.Var Affectation[1,0,1,0] (value 0.0)>,\n",
       "         <gurobi.Var Affectation[1,0,1,1] (value 0.0)>,\n",
       "         <gurobi.Var Affectation[1,0,1,2] (value 0.0)>],\n",
       "        [<gurobi.Var Affectation[1,0,2,0] (value 0.0)>,\n",
       "         <gurobi.Var Affectation[1,0,2,1] (value 0.0)>,\n",
       "         <gurobi.Var Affectation[1,0,2,2] (value 0.0)>],\n",
       "        [<gurobi.Var Affectation[1,0,3,0] (value 0.0)>,\n",
       "         <gurobi.Var Affectation[1,0,3,1] (value 0.0)>,\n",
       "         <gurobi.Var Affectation[1,0,3,2] (value 0.0)>],\n",
       "        [<gurobi.Var Affectation[1,0,4,0] (value 0.0)>,\n",
       "         <gurobi.Var Affectation[1,0,4,1] (value 0.0)>,\n",
       "         <gurobi.Var Affectation[1,0,4,2] (value 0.0)>]],\n",
       "\n",
       "       [[<gurobi.Var Affectation[1,1,0,0] (value -0.0)>,\n",
       "         <gurobi.Var Affectation[1,1,0,1] (value 1.0)>,\n",
       "         <gurobi.Var Affectation[1,1,0,2] (value 0.0)>],\n",
       "        [<gurobi.Var Affectation[1,1,1,0] (value -0.0)>,\n",
       "         <gurobi.Var Affectation[1,1,1,1] (value -0.0)>,\n",
       "         <gurobi.Var Affectation[1,1,1,2] (value 0.0)>],\n",
       "        [<gurobi.Var Affectation[1,1,2,0] (value 0.0)>,\n",
       "         <gurobi.Var Affectation[1,1,2,1] (value 0.0)>,\n",
       "         <gurobi.Var Affectation[1,1,2,2] (value 0.0)>],\n",
       "        [<gurobi.Var Affectation[1,1,3,0] (value 0.0)>,\n",
       "         <gurobi.Var Affectation[1,1,3,1] (value -0.0)>,\n",
       "         <gurobi.Var Affectation[1,1,3,2] (value 0.0)>],\n",
       "        [<gurobi.Var Affectation[1,1,4,0] (value 0.0)>,\n",
       "         <gurobi.Var Affectation[1,1,4,1] (value 0.0)>,\n",
       "         <gurobi.Var Affectation[1,1,4,2] (value 0.0)>]],\n",
       "\n",
       "       [[<gurobi.Var Affectation[1,2,0,0] (value 0.0)>,\n",
       "         <gurobi.Var Affectation[1,2,0,1] (value -0.0)>,\n",
       "         <gurobi.Var Affectation[1,2,0,2] (value 0.0)>],\n",
       "        [<gurobi.Var Affectation[1,2,1,0] (value 1.0)>,\n",
       "         <gurobi.Var Affectation[1,2,1,1] (value -0.0)>,\n",
       "         <gurobi.Var Affectation[1,2,1,2] (value 0.0)>],\n",
       "        [<gurobi.Var Affectation[1,2,2,0] (value -0.0)>,\n",
       "         <gurobi.Var Affectation[1,2,2,1] (value 0.0)>,\n",
       "         <gurobi.Var Affectation[1,2,2,2] (value 0.0)>],\n",
       "        [<gurobi.Var Affectation[1,2,3,0] (value 0.0)>,\n",
       "         <gurobi.Var Affectation[1,2,3,1] (value -0.0)>,\n",
       "         <gurobi.Var Affectation[1,2,3,2] (value 0.0)>],\n",
       "        [<gurobi.Var Affectation[1,2,4,0] (value 0.0)>,\n",
       "         <gurobi.Var Affectation[1,2,4,1] (value 0.0)>,\n",
       "         <gurobi.Var Affectation[1,2,4,2] (value 0.0)>]],\n",
       "\n",
       "       [[<gurobi.Var Affectation[1,3,0,0] (value 1.0)>,\n",
       "         <gurobi.Var Affectation[1,3,0,1] (value -0.0)>,\n",
       "         <gurobi.Var Affectation[1,3,0,2] (value 0.0)>],\n",
       "        [<gurobi.Var Affectation[1,3,1,0] (value -0.0)>,\n",
       "         <gurobi.Var Affectation[1,3,1,1] (value 0.0)>,\n",
       "         <gurobi.Var Affectation[1,3,1,2] (value 0.0)>],\n",
       "        [<gurobi.Var Affectation[1,3,2,0] (value -0.0)>,\n",
       "         <gurobi.Var Affectation[1,3,2,1] (value 0.0)>,\n",
       "         <gurobi.Var Affectation[1,3,2,2] (value 0.0)>],\n",
       "        [<gurobi.Var Affectation[1,3,3,0] (value 0.0)>,\n",
       "         <gurobi.Var Affectation[1,3,3,1] (value -0.0)>,\n",
       "         <gurobi.Var Affectation[1,3,3,2] (value 0.0)>],\n",
       "        [<gurobi.Var Affectation[1,3,4,0] (value 0.0)>,\n",
       "         <gurobi.Var Affectation[1,3,4,1] (value 0.0)>,\n",
       "         <gurobi.Var Affectation[1,3,4,2] (value 0.0)>]],\n",
       "\n",
       "       [[<gurobi.Var Affectation[1,4,0,0] (value -0.0)>,\n",
       "         <gurobi.Var Affectation[1,4,0,1] (value -0.0)>,\n",
       "         <gurobi.Var Affectation[1,4,0,2] (value 0.0)>],\n",
       "        [<gurobi.Var Affectation[1,4,1,0] (value -0.0)>,\n",
       "         <gurobi.Var Affectation[1,4,1,1] (value 1.0)>,\n",
       "         <gurobi.Var Affectation[1,4,1,2] (value 0.0)>],\n",
       "        [<gurobi.Var Affectation[1,4,2,0] (value -0.0)>,\n",
       "         <gurobi.Var Affectation[1,4,2,1] (value 0.0)>,\n",
       "         <gurobi.Var Affectation[1,4,2,2] (value 0.0)>],\n",
       "        [<gurobi.Var Affectation[1,4,3,0] (value 0.0)>,\n",
       "         <gurobi.Var Affectation[1,4,3,1] (value -0.0)>,\n",
       "         <gurobi.Var Affectation[1,4,3,2] (value 0.0)>],\n",
       "        [<gurobi.Var Affectation[1,4,4,0] (value 0.0)>,\n",
       "         <gurobi.Var Affectation[1,4,4,1] (value 0.0)>,\n",
       "         <gurobi.Var Affectation[1,4,4,2] (value 0.0)>]]])"
      ]
     },
     "execution_count": 14,
     "metadata": {},
     "output_type": "execute_result"
    }
   ],
   "source": [
    "Affectation[1]"
   ]
  },
  {
   "cell_type": "code",
   "execution_count": 15,
   "id": "c08ebcd5",
   "metadata": {},
   "outputs": [
    {
     "name": "stdout",
     "output_type": "stream",
     "text": [
      "Affectation[0,0,0,0] -0\n",
      "Affectation[0,0,0,1] -0\n",
      "Affectation[0,0,0,2] -0\n",
      "Affectation[0,0,1,0] -0\n",
      "Affectation[0,0,1,1] -0\n",
      "Affectation[0,0,1,2] 0\n",
      "Affectation[0,0,2,0] -0\n",
      "Affectation[0,0,2,1] 0\n",
      "Affectation[0,0,2,2] 0\n",
      "Affectation[0,0,3,0] 0\n",
      "Affectation[0,0,3,1] 1\n",
      "Affectation[0,0,3,2] -0\n",
      "Affectation[0,0,4,0] 0\n",
      "Affectation[0,0,4,1] 0\n",
      "Affectation[0,0,4,2] -0\n",
      "Affectation[0,1,0,0] -0\n",
      "Affectation[0,1,0,1] -0\n",
      "Affectation[0,1,0,2] -0\n",
      "Affectation[0,1,1,0] -0\n",
      "Affectation[0,1,1,1] -0\n",
      "Affectation[0,1,1,2] 0\n",
      "Affectation[0,1,2,0] -0\n",
      "Affectation[0,1,2,1] 0\n",
      "Affectation[0,1,2,2] 0\n",
      "Affectation[0,1,3,0] 0\n",
      "Affectation[0,1,3,1] 1\n",
      "Affectation[0,1,3,2] -0\n",
      "Affectation[0,1,4,0] 0\n",
      "Affectation[0,1,4,1] 0\n",
      "Affectation[0,1,4,2] -0\n",
      "Affectation[0,2,0,0] -0\n",
      "Affectation[0,2,0,1] -0\n",
      "Affectation[0,2,0,2] -0\n",
      "Affectation[0,2,1,0] -0\n",
      "Affectation[0,2,1,1] 1\n",
      "Affectation[0,2,1,2] 0\n",
      "Affectation[0,2,2,0] -0\n",
      "Affectation[0,2,2,1] 0\n",
      "Affectation[0,2,2,2] -0\n",
      "Affectation[0,2,3,0] 0\n",
      "Affectation[0,2,3,1] 0\n",
      "Affectation[0,2,3,2] -0\n",
      "Affectation[0,2,4,0] 0\n",
      "Affectation[0,2,4,1] 0\n",
      "Affectation[0,2,4,2] -0\n",
      "Affectation[0,3,0,0] -0\n",
      "Affectation[0,3,0,1] -0\n",
      "Affectation[0,3,0,2] -0\n",
      "Affectation[0,3,1,0] -0\n",
      "Affectation[0,3,1,1] 0\n",
      "Affectation[0,3,1,2] 0\n",
      "Affectation[0,3,2,0] -0\n",
      "Affectation[0,3,2,1] 0\n",
      "Affectation[0,3,2,2] 1\n",
      "Affectation[0,3,3,0] 0\n",
      "Affectation[0,3,3,1] -0\n",
      "Affectation[0,3,3,2] -0\n",
      "Affectation[0,3,4,0] 0\n",
      "Affectation[0,3,4,1] 0\n",
      "Affectation[0,3,4,2] -0\n",
      "Affectation[0,4,0,0] -0\n",
      "Affectation[0,4,0,1] -0\n",
      "Affectation[0,4,0,2] -0\n",
      "Affectation[0,4,1,0] -0\n",
      "Affectation[0,4,1,1] -0\n",
      "Affectation[0,4,1,2] 0\n",
      "Affectation[0,4,2,0] 1\n",
      "Affectation[0,4,2,1] 0\n",
      "Affectation[0,4,2,2] -0\n",
      "Affectation[0,4,3,0] 0\n",
      "Affectation[0,4,3,1] -0\n",
      "Affectation[0,4,3,2] 0\n",
      "Affectation[0,4,4,0] 0\n",
      "Affectation[0,4,4,1] 0\n",
      "Affectation[0,4,4,2] 0\n",
      "Affectation[1,0,0,0] 0\n",
      "Affectation[1,0,0,1] 0\n",
      "Affectation[1,0,0,2] 0\n",
      "Affectation[1,0,1,0] 0\n",
      "Affectation[1,0,1,1] 0\n",
      "Affectation[1,0,1,2] 0\n",
      "Affectation[1,0,2,0] 0\n",
      "Affectation[1,0,2,1] 0\n",
      "Affectation[1,0,2,2] 0\n",
      "Affectation[1,0,3,0] 0\n",
      "Affectation[1,0,3,1] 0\n",
      "Affectation[1,0,3,2] 0\n",
      "Affectation[1,0,4,0] 0\n",
      "Affectation[1,0,4,1] 0\n",
      "Affectation[1,0,4,2] 0\n",
      "Affectation[1,1,0,0] -0\n",
      "Affectation[1,1,0,1] 1\n",
      "Affectation[1,1,0,2] 0\n",
      "Affectation[1,1,1,0] -0\n",
      "Affectation[1,1,1,1] -0\n",
      "Affectation[1,1,1,2] 0\n",
      "Affectation[1,1,2,0] 0\n",
      "Affectation[1,1,2,1] 0\n",
      "Affectation[1,1,2,2] 0\n",
      "Affectation[1,1,3,0] 0\n",
      "Affectation[1,1,3,1] -0\n",
      "Affectation[1,1,3,2] 0\n",
      "Affectation[1,1,4,0] 0\n",
      "Affectation[1,1,4,1] 0\n",
      "Affectation[1,1,4,2] 0\n",
      "Affectation[1,2,0,0] 0\n",
      "Affectation[1,2,0,1] -0\n",
      "Affectation[1,2,0,2] 0\n",
      "Affectation[1,2,1,0] 1\n",
      "Affectation[1,2,1,1] -0\n",
      "Affectation[1,2,1,2] 0\n",
      "Affectation[1,2,2,0] -0\n",
      "Affectation[1,2,2,1] 0\n",
      "Affectation[1,2,2,2] 0\n",
      "Affectation[1,2,3,0] 0\n",
      "Affectation[1,2,3,1] -0\n",
      "Affectation[1,2,3,2] 0\n",
      "Affectation[1,2,4,0] 0\n",
      "Affectation[1,2,4,1] 0\n",
      "Affectation[1,2,4,2] 0\n",
      "Affectation[1,3,0,0] 1\n",
      "Affectation[1,3,0,1] -0\n",
      "Affectation[1,3,0,2] 0\n",
      "Affectation[1,3,1,0] -0\n",
      "Affectation[1,3,1,1] 0\n",
      "Affectation[1,3,1,2] 0\n",
      "Affectation[1,3,2,0] -0\n",
      "Affectation[1,3,2,1] 0\n",
      "Affectation[1,3,2,2] 0\n",
      "Affectation[1,3,3,0] 0\n",
      "Affectation[1,3,3,1] -0\n",
      "Affectation[1,3,3,2] 0\n",
      "Affectation[1,3,4,0] 0\n",
      "Affectation[1,3,4,1] 0\n",
      "Affectation[1,3,4,2] 0\n",
      "Affectation[1,4,0,0] -0\n",
      "Affectation[1,4,0,1] -0\n",
      "Affectation[1,4,0,2] 0\n",
      "Affectation[1,4,1,0] -0\n",
      "Affectation[1,4,1,1] 1\n",
      "Affectation[1,4,1,2] 0\n",
      "Affectation[1,4,2,0] -0\n",
      "Affectation[1,4,2,1] 0\n",
      "Affectation[1,4,2,2] 0\n",
      "Affectation[1,4,3,0] 0\n",
      "Affectation[1,4,3,1] -0\n",
      "Affectation[1,4,3,2] 0\n",
      "Affectation[1,4,4,0] 0\n",
      "Affectation[1,4,4,1] 0\n",
      "Affectation[1,4,4,2] 0\n",
      "Affectation[2,0,0,0] 0\n",
      "Affectation[2,0,0,1] 0\n",
      "Affectation[2,0,0,2] -0\n",
      "Affectation[2,0,1,0] 0\n",
      "Affectation[2,0,1,1] 0\n",
      "Affectation[2,0,1,2] 0\n",
      "Affectation[2,0,2,0] 0\n",
      "Affectation[2,0,2,1] 0\n",
      "Affectation[2,0,2,2] -0\n",
      "Affectation[2,0,3,0] 0\n",
      "Affectation[2,0,3,1] 0\n",
      "Affectation[2,0,3,2] 0\n",
      "Affectation[2,0,4,0] 0\n",
      "Affectation[2,0,4,1] 0\n",
      "Affectation[2,0,4,2] 1\n",
      "Affectation[2,1,0,0] 0\n",
      "Affectation[2,1,0,1] 0\n",
      "Affectation[2,1,0,2] 0\n",
      "Affectation[2,1,1,0] 0\n",
      "Affectation[2,1,1,1] 0\n",
      "Affectation[2,1,1,2] 0\n",
      "Affectation[2,1,2,0] 0\n",
      "Affectation[2,1,2,1] 0\n",
      "Affectation[2,1,2,2] 0\n",
      "Affectation[2,1,3,0] 0\n",
      "Affectation[2,1,3,1] 0\n",
      "Affectation[2,1,3,2] 0\n",
      "Affectation[2,1,4,0] 0\n",
      "Affectation[2,1,4,1] 0\n",
      "Affectation[2,1,4,2] 0\n",
      "Affectation[2,2,0,0] 0\n",
      "Affectation[2,2,0,1] 0\n",
      "Affectation[2,2,0,2] 1\n",
      "Affectation[2,2,1,0] 0\n",
      "Affectation[2,2,1,1] 0\n",
      "Affectation[2,2,1,2] 0\n",
      "Affectation[2,2,2,0] 0\n",
      "Affectation[2,2,2,1] 0\n",
      "Affectation[2,2,2,2] 0\n",
      "Affectation[2,2,3,0] 0\n",
      "Affectation[2,2,3,1] 0\n",
      "Affectation[2,2,3,2] -0\n",
      "Affectation[2,2,4,0] 0\n",
      "Affectation[2,2,4,1] 0\n",
      "Affectation[2,2,4,2] -0\n",
      "Affectation[2,3,0,0] 0\n",
      "Affectation[2,3,0,1] 0\n",
      "Affectation[2,3,0,2] -0\n",
      "Affectation[2,3,1,0] 0\n",
      "Affectation[2,3,1,1] 0\n",
      "Affectation[2,3,1,2] 0\n",
      "Affectation[2,3,2,0] 0\n",
      "Affectation[2,3,2,1] 0\n",
      "Affectation[2,3,2,2] 1\n",
      "Affectation[2,3,3,0] 0\n",
      "Affectation[2,3,3,1] 0\n",
      "Affectation[2,3,3,2] -0\n",
      "Affectation[2,3,4,0] 0\n",
      "Affectation[2,3,4,1] 0\n",
      "Affectation[2,3,4,2] 0\n",
      "Affectation[2,4,0,0] 0\n",
      "Affectation[2,4,0,1] 0\n",
      "Affectation[2,4,0,2] -0\n",
      "Affectation[2,4,1,0] 0\n",
      "Affectation[2,4,1,1] 0\n",
      "Affectation[2,4,1,2] 0\n",
      "Affectation[2,4,2,0] 0\n",
      "Affectation[2,4,2,1] 0\n",
      "Affectation[2,4,2,2] -0\n",
      "Affectation[2,4,3,0] 0\n",
      "Affectation[2,4,3,1] 0\n",
      "Affectation[2,4,3,2] 1\n",
      "Affectation[2,4,4,0] 0\n",
      "Affectation[2,4,4,1] 0\n",
      "Affectation[2,4,4,2] 0\n",
      "Done_Project[0] 1\n",
      "Done_Project[1] 1\n",
      "Done_Project[2] 1\n",
      "Done_Project[3] 1\n",
      "Done_Project[4] 0\n",
      "Obj: 70\n"
     ]
    }
   ],
   "source": [
    "for v in model.getVars():\n",
    "    print('%s %g' % (v.VarName, v.X))\n",
    "\n",
    "print('Obj: %g' % model.ObjVal)"
   ]
  }
 ],
 "metadata": {
  "kernelspec": {
   "display_name": "Python 3",
   "language": "python",
   "name": "python3"
  },
  "language_info": {
   "codemirror_mode": {
    "name": "ipython",
    "version": 3
   },
   "file_extension": ".py",
   "mimetype": "text/x-python",
   "name": "python",
   "nbconvert_exporter": "python",
   "pygments_lexer": "ipython3",
   "version": "3.8.8"
  },
  "vscode": {
   "interpreter": {
    "hash": "26de051ba29f2982a8de78e945f0abaf191376122a1563185a90213a26c5da77"
   }
  }
 },
 "nbformat": 4,
 "nbformat_minor": 5
}
